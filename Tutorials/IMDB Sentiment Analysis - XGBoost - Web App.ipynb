{
 "cells": [
  {
   "cell_type": "markdown",
   "metadata": {},
   "source": [
    "# Sentiment Analysis Web App\n",
    "\n",
    "_Deep Learning Nanodegree Program | Deployment_\n",
    "\n",
    "---\n",
    "\n",
    "In this notebook we will use Amazon's SageMaker service to construct a random tree model to predict the sentiment of a movie review. In addition, we will deploy this model to an endpoint and construct a very simple web app which will interact with our model's deployed endpoint.\n",
    "\n",
    "## General Outline\n",
    "\n",
    "Typically, when using a notebook instance with SageMaker, you will proceed through the following steps. Of course, not every step will need to be done with each project. Also, there is quite a lot of room for variation in many of the steps, as you will see throughout these lessons.\n",
    "\n",
    "1. Download or otherwise retrieve the data.\n",
    "2. Process / Prepare the data.\n",
    "3. Upload the processed data to S3.\n",
    "4. Train a chosen model.\n",
    "5. Test the trained model (typically using a batch transform job).\n",
    "6. Deploy the trained model.\n",
    "7. Use the deployed model.\n",
    "\n",
    "In this notebook we will progress through each of the steps above. We will also see that the final step, using the deployed model, can be quite challenging."
   ]
  },
  {
   "cell_type": "markdown",
   "metadata": {},
   "source": [
    "## Step 1: Downloading the data\n",
    "\n",
    "The dataset we are going to use is very popular among researchers in Natural Language Processing, usually referred to as the [IMDb dataset](http://ai.stanford.edu/~amaas/data/sentiment/). It consists of movie reviews from the website [imdb.com](http://www.imdb.com/), each labeled as either '**pos**itive', if the reviewer enjoyed the film, or '**neg**ative' otherwise.\n",
    "\n",
    "> Maas, Andrew L., et al. [Learning Word Vectors for Sentiment Analysis](http://ai.stanford.edu/~amaas/data/sentiment/). In _Proceedings of the 49th Annual Meeting of the Association for Computational Linguistics: Human Language Technologies_. Association for Computational Linguistics, 2011.\n",
    "\n",
    "We begin by using some Jupyter Notebook magic to download and extract the dataset."
   ]
  },
  {
   "cell_type": "code",
   "execution_count": 1,
   "metadata": {},
   "outputs": [
    {
     "name": "stdout",
     "output_type": "stream",
     "text": [
      "mkdir: cannot create directory ‘../data’: File exists\n",
      "--2020-06-10 14:45:52--  http://ai.stanford.edu/~amaas/data/sentiment/aclImdb_v1.tar.gz\n",
      "Resolving ai.stanford.edu (ai.stanford.edu)... 171.64.68.10\n",
      "Connecting to ai.stanford.edu (ai.stanford.edu)|171.64.68.10|:80... connected.\n",
      "HTTP request sent, awaiting response... 200 OK\n",
      "Length: 84125825 (80M) [application/x-gzip]\n",
      "Saving to: ‘../data/aclImdb_v1.tar.gz’\n",
      "\n",
      "../data/aclImdb_v1. 100%[===================>]  80.23M  23.3MB/s    in 4.6s    \n",
      "\n",
      "2020-06-10 14:45:57 (17.6 MB/s) - ‘../data/aclImdb_v1.tar.gz’ saved [84125825/84125825]\n",
      "\n"
     ]
    }
   ],
   "source": [
    "%mkdir ../data\n",
    "!wget -O ../data/aclImdb_v1.tar.gz http://ai.stanford.edu/~amaas/data/sentiment/aclImdb_v1.tar.gz\n",
    "!tar -zxf ../data/aclImdb_v1.tar.gz -C ../data"
   ]
  },
  {
   "cell_type": "markdown",
   "metadata": {},
   "source": [
    "## Step 2: Preparing and Processing the data\n",
    "\n",
    "The data we have downloaded is split into various files, each of which contains a single review. It will be much easier going forward if we combine these individual files into two large files, one for training and one for testing."
   ]
  },
  {
   "cell_type": "code",
   "execution_count": 2,
   "metadata": {},
   "outputs": [],
   "source": [
    "import os\n",
    "import glob\n",
    "\n",
    "def read_imdb_data(data_dir='../data/aclImdb'):\n",
    "    data = {}\n",
    "    labels = {}\n",
    "    \n",
    "    for data_type in ['train', 'test']:\n",
    "        data[data_type] = {}\n",
    "        labels[data_type] = {}\n",
    "        \n",
    "        for sentiment in ['pos', 'neg']:\n",
    "            data[data_type][sentiment] = []\n",
    "            labels[data_type][sentiment] = []\n",
    "            \n",
    "            path = os.path.join(data_dir, data_type, sentiment, '*.txt')\n",
    "            files = glob.glob(path)\n",
    "            \n",
    "            for f in files:\n",
    "                with open(f) as review:\n",
    "                    data[data_type][sentiment].append(review.read())\n",
    "                    # Here we represent a positive review by '1' and a negative review by '0'\n",
    "                    labels[data_type][sentiment].append(1 if sentiment == 'pos' else 0)\n",
    "                    \n",
    "            assert len(data[data_type][sentiment]) == len(labels[data_type][sentiment]), \\\n",
    "                    \"{}/{} data size does not match labels size\".format(data_type, sentiment)\n",
    "                \n",
    "    return data, labels"
   ]
  },
  {
   "cell_type": "code",
   "execution_count": 3,
   "metadata": {},
   "outputs": [
    {
     "name": "stdout",
     "output_type": "stream",
     "text": [
      "IMDB reviews: train = 12500 pos / 12500 neg, test = 12500 pos / 12500 neg\n"
     ]
    }
   ],
   "source": [
    "data, labels = read_imdb_data()\n",
    "print(\"IMDB reviews: train = {} pos / {} neg, test = {} pos / {} neg\".format(\n",
    "            len(data['train']['pos']), len(data['train']['neg']),\n",
    "            len(data['test']['pos']), len(data['test']['neg'])))"
   ]
  },
  {
   "cell_type": "code",
   "execution_count": 4,
   "metadata": {},
   "outputs": [],
   "source": [
    "from sklearn.utils import shuffle\n",
    "\n",
    "def prepare_imdb_data(data, labels):\n",
    "    \"\"\"Prepare training and test sets from IMDb movie reviews.\"\"\"\n",
    "    \n",
    "    #Combine positive and negative reviews and labels\n",
    "    data_train = data['train']['pos'] + data['train']['neg']\n",
    "    data_test = data['test']['pos'] + data['test']['neg']\n",
    "    labels_train = labels['train']['pos'] + labels['train']['neg']\n",
    "    labels_test = labels['test']['pos'] + labels['test']['neg']\n",
    "    \n",
    "    #Shuffle reviews and corresponding labels within training and test sets\n",
    "    data_train, labels_train = shuffle(data_train, labels_train)\n",
    "    data_test, labels_test = shuffle(data_test, labels_test)\n",
    "    \n",
    "    # Return a unified training data, test data, training labels, test labets\n",
    "    return data_train, data_test, labels_train, labels_test"
   ]
  },
  {
   "cell_type": "code",
   "execution_count": 5,
   "metadata": {},
   "outputs": [
    {
     "name": "stdout",
     "output_type": "stream",
     "text": [
      "IMDb reviews (combined): train = 25000, test = 25000\n"
     ]
    }
   ],
   "source": [
    "train_X, test_X, train_y, test_y = prepare_imdb_data(data, labels)\n",
    "print(\"IMDb reviews (combined): train = {}, test = {}\".format(len(train_X), len(test_X)))"
   ]
  },
  {
   "cell_type": "code",
   "execution_count": 6,
   "metadata": {},
   "outputs": [
    {
     "data": {
      "text/plain": [
       "'This movie is just crap. Even though the directors claim to be part of that oi-culture, it\\'s still a very, very bad directorial debut. The topic itself is very interesting and I accept the bad acting due to the fact, that they are all amateurs and never acted before, but the worst thing about this film are the dialogs and very unexperienced and naive directing. There\\'s no timing at all in that movie. I felt like the directors were so exited to do that movie (it\\'s their first feature), that they actually never really asked themselves, what story they wanna tell. I met Ben (one of the directors) on several occasions and he\\'s a nice and thoughtful guy, but that doesn\\'t make him a director. I think, that \"American History X\" is full of clichés, but somehow manages to transport a story. \"Oi!Warning\" is full of clichés, doesn\\'t tell anything new or provocative and (-that\\'s the sad thing about this movie) it\\'s far from any Oi!-Reality.<br /><br />If you wanna see weird but great German films, watch the movies of Michael Haneke, Christoph Schlingensief, Oskar Roehler, Hans Weingartner or Oliver Hirschbiegel:<br /><br />Benny\\'s Video Funny Games Die Unberührbare Mein Letzter Film Das Experiment Das Weisse Rauschen Muxmäuschenstill ...<br /><br />*** out of ten, because of the topic and the photography'"
      ]
     },
     "execution_count": 6,
     "metadata": {},
     "output_type": "execute_result"
    }
   ],
   "source": [
    "train_X[100]"
   ]
  },
  {
   "cell_type": "markdown",
   "metadata": {},
   "source": [
    "## Processing the data\n",
    "\n",
    "Now that we have our training and testing datasets merged and ready to use, we need to start processing the raw data into something that will be useable by our machine learning algorithm. To begin with, we remove any html formatting and any non-alpha numeric characters that may appear in the reviews. We will do this in a very simplistic way using Python's regular expression module. We will discuss the reason for this rather simplistic pre-processing later on."
   ]
  },
  {
   "cell_type": "code",
   "execution_count": 7,
   "metadata": {},
   "outputs": [],
   "source": [
    "import re\n",
    "\n",
    "REPLACE_NO_SPACE = re.compile(\"(\\.)|(\\;)|(\\:)|(\\!)|(\\')|(\\?)|(\\,)|(\\\")|(\\()|(\\))|(\\[)|(\\])\")\n",
    "REPLACE_WITH_SPACE = re.compile(\"(<br\\s*/><br\\s*/>)|(\\-)|(\\/)\")\n",
    "\n",
    "def review_to_words(review):\n",
    "    words = REPLACE_NO_SPACE.sub(\"\", review.lower())\n",
    "    words = REPLACE_WITH_SPACE.sub(\" \", words)\n",
    "    return words"
   ]
  },
  {
   "cell_type": "code",
   "execution_count": 8,
   "metadata": {},
   "outputs": [
    {
     "data": {
      "text/plain": [
       "'this movie is just crap even though the directors claim to be part of that oi culture its still a very very bad directorial debut the topic itself is very interesting and i accept the bad acting due to the fact that they are all amateurs and never acted before but the worst thing about this film are the dialogs and very unexperienced and naive directing theres no timing at all in that movie i felt like the directors were so exited to do that movie its their first feature that they actually never really asked themselves what story they wanna tell i met ben one of the directors on several occasions and hes a nice and thoughtful guy but that doesnt make him a director i think that american history x is full of clichés but somehow manages to transport a story oiwarning is full of clichés doesnt tell anything new or provocative and  thats the sad thing about this movie its far from any oi reality if you wanna see weird but great german films watch the movies of michael haneke christoph schlingensief oskar roehler hans weingartner or oliver hirschbiegel bennys video funny games die unberührbare mein letzter film das experiment das weisse rauschen muxmäuschenstill  *** out of ten because of the topic and the photography'"
      ]
     },
     "execution_count": 8,
     "metadata": {},
     "output_type": "execute_result"
    }
   ],
   "source": [
    "review_to_words(train_X[100])"
   ]
  },
  {
   "cell_type": "code",
   "execution_count": 9,
   "metadata": {},
   "outputs": [],
   "source": [
    "import pickle\n",
    "\n",
    "cache_dir = os.path.join(\"../cache\", \"sentiment_web_app\")  # where to store cache files\n",
    "os.makedirs(cache_dir, exist_ok=True)  # ensure cache directory exists\n",
    "\n",
    "def preprocess_data(data_train, data_test, labels_train, labels_test,\n",
    "                    cache_dir=cache_dir, cache_file=\"preprocessed_data.pkl\"):\n",
    "    \"\"\"Convert each review to words; read from cache if available.\"\"\"\n",
    "\n",
    "    # If cache_file is not None, try to read from it first\n",
    "    cache_data = None\n",
    "    if cache_file is not None:\n",
    "        try:\n",
    "            with open(os.path.join(cache_dir, cache_file), \"rb\") as f:\n",
    "                cache_data = pickle.load(f)\n",
    "            print(\"Read preprocessed data from cache file:\", cache_file)\n",
    "        except:\n",
    "            pass  # unable to read from cache, but that's okay\n",
    "    \n",
    "    # If cache is missing, then do the heavy lifting\n",
    "    if cache_data is None:\n",
    "        # Preprocess training and test data to obtain words for each review\n",
    "        #words_train = list(map(review_to_words, data_train))\n",
    "        #words_test = list(map(review_to_words, data_test))\n",
    "        words_train = [review_to_words(review) for review in data_train]\n",
    "        words_test = [review_to_words(review) for review in data_test]\n",
    "        \n",
    "        # Write to cache file for future runs\n",
    "        if cache_file is not None:\n",
    "            cache_data = dict(words_train=words_train, words_test=words_test,\n",
    "                              labels_train=labels_train, labels_test=labels_test)\n",
    "            with open(os.path.join(cache_dir, cache_file), \"wb\") as f:\n",
    "                pickle.dump(cache_data, f)\n",
    "            print(\"Wrote preprocessed data to cache file:\", cache_file)\n",
    "    else:\n",
    "        # Unpack data loaded from cache file\n",
    "        words_train, words_test, labels_train, labels_test = (cache_data['words_train'],\n",
    "                cache_data['words_test'], cache_data['labels_train'], cache_data['labels_test'])\n",
    "    \n",
    "    return words_train, words_test, labels_train, labels_test"
   ]
  },
  {
   "cell_type": "code",
   "execution_count": 10,
   "metadata": {},
   "outputs": [
    {
     "name": "stdout",
     "output_type": "stream",
     "text": [
      "Wrote preprocessed data to cache file: preprocessed_data.pkl\n"
     ]
    }
   ],
   "source": [
    "# Preprocess data\n",
    "train_X, test_X, train_y, test_y = preprocess_data(train_X, test_X, train_y, test_y)"
   ]
  },
  {
   "cell_type": "markdown",
   "metadata": {},
   "source": [
    "### Extract Bag-of-Words features\n",
    "\n",
    "For the model we will be implementing, rather than using the reviews directly, we are going to transform each review into a Bag-of-Words feature representation. Keep in mind that 'in the wild' we will only have access to the training set so our transformer can only use the training set to construct a representation."
   ]
  },
  {
   "cell_type": "code",
   "execution_count": 11,
   "metadata": {},
   "outputs": [],
   "source": [
    "import numpy as np\n",
    "from sklearn.feature_extraction.text import CountVectorizer\n",
    "from sklearn.externals import joblib\n",
    "# joblib is an enhanced version of pickle that is more efficient for storing NumPy arrays\n",
    "\n",
    "def extract_BoW_features(words_train, words_test, vocabulary_size=5000,\n",
    "                         cache_dir=cache_dir, cache_file=\"bow_features.pkl\"):\n",
    "    \"\"\"Extract Bag-of-Words for a given set of documents, already preprocessed into words.\"\"\"\n",
    "    \n",
    "    # If cache_file is not None, try to read from it first\n",
    "    cache_data = None\n",
    "    if cache_file is not None:\n",
    "        try:\n",
    "            with open(os.path.join(cache_dir, cache_file), \"rb\") as f:\n",
    "                cache_data = joblib.load(f)\n",
    "            print(\"Read features from cache file:\", cache_file)\n",
    "        except:\n",
    "            pass  # unable to read from cache, but that's okay\n",
    "    \n",
    "    # If cache is missing, then do the heavy lifting\n",
    "    if cache_data is None:\n",
    "        # Fit a vectorizer to training documents and use it to transform them\n",
    "        # NOTE: Training documents have already been preprocessed and tokenized into words;\n",
    "        #       pass in dummy functions to skip those steps, e.g. preprocessor=lambda x: x\n",
    "        vectorizer = CountVectorizer(max_features=vocabulary_size)\n",
    "        features_train = vectorizer.fit_transform(words_train).toarray()\n",
    "\n",
    "        # Apply the same vectorizer to transform the test documents (ignore unknown words)\n",
    "        features_test = vectorizer.transform(words_test).toarray()\n",
    "        \n",
    "        # NOTE: Remember to convert the features using .toarray() for a compact representation\n",
    "        \n",
    "        # Write to cache file for future runs (store vocabulary as well)\n",
    "        if cache_file is not None:\n",
    "            vocabulary = vectorizer.vocabulary_\n",
    "            cache_data = dict(features_train=features_train, features_test=features_test,\n",
    "                             vocabulary=vocabulary)\n",
    "            with open(os.path.join(cache_dir, cache_file), \"wb\") as f:\n",
    "                joblib.dump(cache_data, f)\n",
    "            print(\"Wrote features to cache file:\", cache_file)\n",
    "    else:\n",
    "        # Unpack data loaded from cache file\n",
    "        features_train, features_test, vocabulary = (cache_data['features_train'],\n",
    "                cache_data['features_test'], cache_data['vocabulary'])\n",
    "    \n",
    "    # Return both the extracted features as well as the vocabulary\n",
    "    return features_train, features_test, vocabulary"
   ]
  },
  {
   "cell_type": "code",
   "execution_count": 12,
   "metadata": {},
   "outputs": [
    {
     "name": "stdout",
     "output_type": "stream",
     "text": [
      "Wrote features to cache file: bow_features.pkl\n"
     ]
    }
   ],
   "source": [
    "# Extract Bag of Words features for both training and test datasets\n",
    "train_X, test_X, vocabulary = extract_BoW_features(train_X, test_X)"
   ]
  },
  {
   "cell_type": "code",
   "execution_count": 13,
   "metadata": {},
   "outputs": [
    {
     "data": {
      "text/plain": [
       "5000"
      ]
     },
     "execution_count": 13,
     "metadata": {},
     "output_type": "execute_result"
    }
   ],
   "source": [
    "len(train_X[100])"
   ]
  },
  {
   "cell_type": "code",
   "execution_count": 36,
   "metadata": {
    "scrolled": true
   },
   "outputs": [
    {
     "name": "stdout",
     "output_type": "stream",
     "text": [
      "{'almost': 193, 'called': 652, 'hbo': 2055, 'and': 226, 'my': 2951, 'money': 2888, 'back': 378, 'for': 1784, 'the': 4426, 'month': 2896, 'just': 2437, 'because': 432, 'theyve': 4446, 'been': 438, 'this': 4457, 'movie': 2926, 'can': 665, 'see': 3855, 'sitting': 4007, 'around': 297, 'going': 1931, 'okay': 3099, 'we': 4823, 'need': 2987, 'to': 4507, 'come': 886, 'up': 4683, 'with': 4911, 'something': 4066, 'thats': 4425, 'like': 2599, 'home': 2142, 'alone': 194, 'only': 3110, 'well': 4843, 'add': 115, 'bunch': 623, 'of': 3083, 'cash': 709, 'kid': 2464, 'hire': 2116, 'cut': 1089, 'rate': 3526, 'actors': 104, 'oh': 3096, 'yeah': 4977, 'make': 2713, 'it': 2366, 'lot': 2661, 'less': 2575, 'funny': 1852, 'maybe': 2776, 'not': 3040, 'last': 2521, 'part': 3193, 'but': 636, 'basically': 407, 'what': 4858, 'youve': 4995, 'got': 1944, 'here': 2086, 'even': 1533, 'worth': 4953, 'seeing': 3857, 'if': 2222, 'someone': 4064, 'else': 1448, 'as': 311, 'kids': 2467, 'forget': 1793, 'wouldnt': 4958, 'let': 2579, 'necessarily': 2983, 'bad': 382, 'taste': 4369, 'jokes': 2415, 'want': 4788, 'them': 4432, 'say': 3799, 'were': 4848, 'you': 4986, 'thinking': 4453, 'showing': 3958, 'us': 4690, 'that': 4424, 'lame': 2510, 'piece': 3272, 'garbage': 1870, 'dad': 1095, 'came': 656, 'from': 1840, 'playing': 3300, 'in': 2257, 'have': 2052, 'was': 4805, 'very': 4723, 'disappointed': 1273, 'film': 1716, 'is': 2360, 'slow': 4031, 'moving': 2928, 'dont': 1324, 'get': 1899, 'me': 2778, 'wrong': 4973, 'enjoy': 1484, 'films': 1721, 'point': 3316, 'driving': 1368, 'crazy': 1035, 'all': 187, 'hear': 2061, 'heavily': 2069, 'throughout': 4478, 'whole': 4873, 'poorly': 3329, 'made': 2697, 'more': 2904, 'importantly': 2248, 'without': 4913, 'inspiration': 2300, 'felt': 1692, 'nothing': 3047, 'story': 4207, 'or': 3124, 'its': 2370, 'characters': 760, 'sake': 3775, 'making': 2718, 'would': 4957, 'advise': 134, 'pass': 3201, 'on': 3105, 'one': 3107, 'good': 1937, 'look': 2646, 'by': 642, 'great': 1964, 'mystery': 2956, 'goes': 1930, 'down': 1335, 'hill': 2108, 'there': 4438, 'beginning': 443, 'promising': 3433, 'car': 680, 'wreck': 4965, 'woman': 4921, 'her': 2085, 'daughter': 1121, 'being': 448, 'burned': 626, 'alive': 186, 'front': 1841, 'police': 3322, 'officer': 3092, 'edward': 1426, 'he': 2056, 'over': 3148, 'seen': 3865, 'mysterious': 2955, 'letter': 2581, 'turns': 4609, 'an': 223, 'old': 3100, 'girlfriend': 1910, 'asking': 318, 'help': 2079, 'finding': 1727, 'missing': 2869, 'so': 4046, 'ed': 1415, 'travels': 4569, 'island': 2361, 'mainly': 2708, 'they': 4442, 'shown': 3959, 'looking': 2648, 'town': 4541, 'girl': 1909, 'too': 4522, 'long': 2644, 'finally': 1724, 'gets': 1900, 'little': 2624, 'better': 472, 'toward': 4539, 'end': 1468, 'when': 4862, 'learn': 2550, 'perform': 3227, 'sinister': 3998, 'plan': 3287, 'store': 4204, 'overall': 3150, 'written': 4972, 'final': 1722, 'skip': 4016, 'intellectual': 2312, 'christian': 808, 'dollar': 1314, 'stephen': 4176, 'christ': 807, 'personally': 3243, 'thank': 4421, 'those': 4460, 'brilliant': 583, 'casting': 711, 'directors': 1266, 'hard': 2033, 'work': 4940, 'effort': 1432, 'guys': 2001, 'are': 285, 'heres': 2087, 'idea': 2213, 'humble': 2191, 'opinion': 3118, 'public': 3460, 'follows': 1775, 'directly': 1263, 'your': 4991, 'previous': 3387, 'about': 67, 'most': 2909, 'history': 2121, 'cure': 1081, 'ever': 1538, 'known': 2492, 'man': 2721, 'be': 418, 'played': 3297, 'jessica': 2398, 'simpson': 3987, 'paris': 3189, 'knew': 2486, 'love': 2669, 'seriously': 3892, 'though': 4461, 'romance': 3732, 'sat': 3786, 'through': 4477, 'perfect': 3224, 'high': 2100, 'watch': 4811, 'afternoon': 144, 'lying': 2690, 'eating': 1413, 'fact': 1621, 'play': 3296, 'role': 3726, 'reason': 3557, 'able': 66, 'at': 331, 'face': 1616, 'every': 1539, 'scene': 3809, 'his': 2118, 'moves': 2925, 'fast': 1661, 'action': 100, 'show': 3953, 'hands': 2020, 'latin': 2527, 'italian': 2367, 'than': 4420, 'mexican': 2826, 'really': 3556, 'dialog': 1232, 'stiff': 4187, 'wood': 4933, 'unfortunately': 4654, 'no': 3020, 'ripped': 3701, 'hero': 2088, 'mild': 2839, 'warm': 4794, 'world': 4946, 'family': 1645, 'cliche': 843, 'hills': 2109, 'does': 1308, 'matter': 2769, 'irish': 2353, 'fairy': 1632, 'before': 440, 'titles': 4506, 'finished': 1733, 'running': 3756, 'hoped': 2156, 'looked': 2647, 'food': 1778, 'womens': 4924, 'day': 1129, 'magazine': 2701, 'didnt': 1242, 'name': 2960, 'listed': 2618, 'art': 304, 'director': 1264, 'surely': 4309, 'thomas': 4458, 'who': 4871, 'million': 2847, 'literally': 2622, 'rose': 3739, 'pink': 3277, 'blue': 518, 'sky': 4017, 'im': 2232, 'big': 478, 'fan': 1648, 'westerns': 4854, 'do': 1302, 'believe': 454, 'hollywood': 2137, 'capable': 672, 'capturing': 679, 'glory': 1922, 'stewart': 4184, 'which': 4867, 'carries': 699, 'nearly': 2981, 'trite': 4589, 'turned': 4606, 'guy': 2000, 'fallen': 1638, 'must': 2950, 'turn': 4605, 'etc': 1527, 'cant': 671, 'notice': 3048, 'names': 2963, 'writer': 4968, 'young': 4989, 'actor': 103, 'plays': 3301, 'son': 4070, 'any': 256, 'ive': 2372, 'acting': 99, 'school': 3813, 'cartoon': 704, 'characterization': 759, 'reached': 3537, 'words': 4938, 'yet': 4984, 'funniest': 1851, 'movies': 2927, 'don': 1320, 'understand': 4643, 'why': 4878, 'critics': 1064, 'sweet': 4336, 'first': 1736, 'watched': 4813, '11': 2, 'fell': 1690, 'days': 1130, 'later': 2525, 'vhs': 4725, 'till': 4493, 'today': 4508, 'many': 2732, 'friends': 1837, 'liked': 2600, 'nobody': 3022, 'think': 4452, 'problem': 3408, 'knows': 2493, 'never': 3001, 'real': 3547, 'chance': 747, 'sad': 3767, 'has': 2043, 'potential': 3355, 'comedy': 890, 'monsters': 2893, 'ok': 3098, 'enough': 1491, 'wanted': 4789, 'laugh': 2529, 'head': 2057, 'off': 3084, 'mad': 2696, 'watching': 4815, 'earth': 1403, 'within': 4912, 'few': 1700, 'minutes': 2859, 'dutch': 1389, 'thriller': 4472, 'gay': 1876, 'alcoholic': 177, 'tries': 4585, 'steal': 4170, 'news': 3005, 'stand': 4143, 'after': 143, 'meets': 2795, 'train': 4556, 'station': 4164, 'hes': 2093, 'nonsensical': 3031, 'dressed': 1358, 'except': 1556, 'least': 2554, 'nowhere': 3056, 'go': 1924, 'basic': 406, 'plot': 3309, 'simple': 3983, 'dragged': 1343, 'out': 3141, 'two': 4620, 'hours': 2177, 'reaching': 3539, 'pointless': 3318, 'conclusion': 936, 'nice': 3008, 'visual': 4757, 'scenes': 3811, 'wild': 4885, 'symbolism': 4341, 'gratuitous': 1961, 'gore': 1941, 'runs': 3757, 'ideas': 2215, 'know': 2489, 'romantic': 3733, 'genre': 1888, 'ending': 1471, 'already': 197, 'leads': 2548, 'always': 203, 'together': 4511, 'late': 2523, 'third': 4455, 'act': 97, 'trying': 4601, 'figure': 1711, 'how': 2181, 'will': 4886, 'wrap': 4963, 'clue': 864, 'given': 1913, 'right': 3696, 'start': 4156, 'youll': 4988, 'realize': 3552, 'until': 4680, 'hook': 2152, 'works': 4945, 'had': 2003, 'cover': 1022, 'usual': 4699, 'ground': 1979, 'takes': 4351, 'fresh': 1833, 'spin': 4112, 'possible': 3350, 'loved': 2670, 'locations': 2636, 'also': 199, 'find': 1726, 'anything': 260, 'offensive': 3086, 'fashion': 1659, 'then': 4436, 'small': 4033, 'named': 2961, 'magic': 2703, 'ring': 3698, 'uncle': 4636, 'wizard': 4919, 'discovers': 1281, 'ancient': 225, 'creation': 1040, 'evil': 1548, 'dark': 1115, 'lord': 2652, 'should': 3951, 'power': 3359, 'destroy': 1213, 'middle': 2833, 'loyal': 2679, 'set': 3898, 'quest': 3486, 'band': 391, 'warriors': 4803, 'underrated': 4642, 'classic': 835, 'novels': 3053, 'covers': 1024, 'half': 2007, 'regardless': 3590, 'epic': 1506, 'wonderfully': 4929, 'animated': 241, 'animation': 242, 'superbly': 4297, 'done': 1322, 'live': 2625, 'footage': 1782, 'ralph': 3510, 'bakshi': 386, 'worked': 4941, 'low': 2676, 'budget': 610, 'grand': 1953, 'music': 2946, 'score': 3822, 'leonard': 2572, 'fits': 1741, 'holes': 2133, 'script': 3834, 'considering': 952, 'original': 3129, 'deal': 1135, 'book': 535, 'trilogy': 4586, 'into': 2332, 'much': 2934, 'biggest': 480, 'some': 4061, 'character': 758, 'design': 1202, 'bit': 488, 'goofy': 1939, 'while': 4868, 'other': 3135, 'completely': 922, 'normal': 3033, 'actually': 109, 'screen': 3829, 'voice': 4761, 'job': 2405, 'pleased': 3305, 'comical': 894, 'frightening': 1839, 'eerie': 1427, 'another': 250, 'thanks': 4423, 'writers': 4969, 'justice': 2438, 'charming': 768, 'these': 4441, 'stories': 4205, 'suffers': 4278, 'terribly': 4408, 'still': 4188, 'lovers': 2673, 'ages': 152, 'celebrity': 729, 'brother': 598, 'racism': 3502, 'row': 3744, '2007': 37, 'involving': 2349, 'internet': 2327, 'fans': 1650, 'years': 4979, 'racist': 3503, '70s': 56, 'such': 4268, 'thought': 4462, 'said': 3774, 'aint': 163, 'hot': 2174, 'thrown': 4481, 'argument': 291, 'starred': 4153, 'english': 1483, 'yes': 4982, 'michael': 2829, 'lived': 2626, 'india': 2273, 'boy': 557, 'spoke': 4125, 'shows': 3960, 'overlook': 3153, 'reality': 3551, 'brought': 600, 'performance': 3228, 'noted': 3045, 'indian': 2274, 'documentary': 1307, 'perry': 3237, 'upset': 4687, 'heard': 2062, 'added': 116, 'could': 1007, 'indeed': 2271, 'companion': 909, 'army': 295, 'sea': 3838, 'replaced': 3634, 'particularly': 3195, 'place': 3282, 'where': 4864, 'concert': 935, 'party': 3200, 'puts': 3481, 'troops': 4591, 'among': 217, 'george': 1893, 'sitcom': 4004, 'since': 3990, 'doctor': 1304, 'charge': 761, 'camp': 662, 'de': 1131, 'john': 2409, 'christopher': 811, 'mitchell': 2875, 'gang': 1867, 'major': 2711, 'williams': 4888, 'davies': 1125, 'frustration': 1843, 'lead': 2545, 'men': 2805, 'jungle': 2434, 'engage': 1479, 'enemy': 1477, 'combat': 882, 'him': 2110, 'bitter': 491, 'whom': 4875, 'colonel': 876, 'reynolds': 3684, 'donald': 1321, 'captain': 674, 'wise': 4903, 'each': 1395, 'talking': 4360, 'camera': 659, 'closing': 859, 'obscure': 3068, 'regard': 3588, 'himself': 2111, 'practically': 3362, 'british': 589, 'tea': 4373, 'went': 4847, 'mind': 2849, 'language': 2516, 'pulling': 3463, 'indians': 2275, 'featured': 1679, 'ignore': 2224, 'provided': 3449, 'described': 1195, 'credits': 1050, 'similar': 3978, '40s': 49, 'songs': 4072, 'used': 4693, 'edition': 1422, 'closed': 854, 'land': 2511, 'hope': 2155, 'shut': 3961, 'excellent': 1555, 'opening': 3114, 'theme': 4433, 'jimmy': 2403, 'derek': 1192, 'quite': 3495, 'nevertheless': 3002, 'popular': 3333, 'run': 3755, 'total': 4531, 'eight': 1436, 'seasons': 3844, 'version': 4720, 'recorded': 3574, 'entire': 1502, 'album': 175, 'sing': 3992, 'hit': 2122, 'crisis': 1060, 'three': 4469, 'died': 1244, 'rather': 3528, 'forgotten': 1797, 'left': 2561, 'took': 4523, 'providing': 3451, 'source': 4086, 'saw': 3798, 'soldiers': 4054, 'leave': 2555, 'boat': 523, 'sadness': 3770, 'did': 1241, 'viewers': 4739, 'far': 1653, 'between': 475, 'uk': 4626, 'gold': 1932, 'reputation': 3640, 'strange': 4211, 'thing': 4450, 'specifically': 4100, 'white': 4870, 'david': 1124, '1984': 23, 'television': 4394, 'won': 4925, 'oscars': 3134, 'own': 3158, 'experiences': 1582, 'based': 404, 'people': 3221, 'take': 4349, 'view': 4736, 'put': 3480, 'past': 3207, 'might': 2835, 'seem': 3861, 'modern': 2882, 'audiences': 353, 'both': 547, 'dvds': 1392, 'time': 4495, 'stop': 4201, 'review': 3676, 'ill': 2228, 'couldnt': 1008, 'eyes': 1613, 'times': 4497, 'true': 4596, 'billy': 482, 'jeff': 2390, 'tracy': 4546, 'manner': 2729, 'talent': 4354, 'adds': 119, 'style': 4249, 'skin': 4015, 'flick': 1754, 'board': 522, 'alien': 183, 'unique': 4662, 'computer': 927, 'virus': 4752, 'demon': 1177, 'whatever': 4859, 'call': 651, 'sort': 4077, 'four': 1812, 'allowed': 190, 'their': 4431, 'system': 4345, 'interesting': 2325, 'everything': 1544, 'episode': 1507, 'red': 3576, 'classes': 834, 'looks': 2649, 'hed': 2072, 'doing': 1312, 'anywhere': 263, 'ah': 158, 'things': 4451, 'fx': 1858, 'pretty': 3384, 'youd': 4987, 'expect': 1575, 'straight': 4210, 'video': 4733, 'female': 1693, 'nudity': 3059, 'sexual': 3908, 'star': 4150, 'course': 1019, 'best': 469, 'brains': 563, 'check': 777, 'probably': 3407, 'further': 1853, 'morning': 2906, 'stars': 4155, 'lost': 2660, 'space': 4090, 'beautiful': 428, 'sequence': 3887, 'week': 4837, 'ago': 154, 'feel': 1684, 'sir': 4000, 'walter': 4784, 'give': 1912, 'shell': 3927, 'quiet': 3492, 'staff': 4138, 'faith': 1633, 'walk': 4775, 'upon': 4684, 'joy': 2422, 'bottle': 550, 'hopes': 2159, 'thus': 4486, 'lives': 2628, 'thoroughly': 4459, 'having': 2054, 'crafted': 1029, 'wonderful': 4928, 'imagine': 2238, 'facing': 1620, 'trial': 4580, 'during': 1387, 'saying': 3800, 'god': 1926, 'our': 3139, 'lifetime': 2594, 'weve': 4856, 'directed': 1259, 'produced': 3414, 'shoes': 3941, 'obvious': 3071, 'artists': 309, 'duty': 1390, 'nature': 2975, 'may': 2775, 'shot': 3949, 'life': 2592, 'death': 1141, 'peoples': 3222, 'apparent': 269, 'everybody': 1540, 'meaning': 2780, 'theyll': 4444, 'mistaken': 2872, 'either': 1438, 'repeat': 3630, 'beauty': 430, 'forever': 1792, 'ben': 463, 'dry': 1377, 'predictable': 3367, 'points': 3319, 'connected': 945, 'explaining': 1588, 'mean': 2779, 'torture': 4529, 'lasted': 2522, 'longer': 2645, 'exception': 1557, 'contrived': 976, 'believable': 453, 'trip': 4588, 'memory': 2804, 'lane': 2515, 'price': 3389, 'told': 4513, 'quickly': 3491, 'ranks': 3519, 'choice': 797, 'wait': 4770, 'decision': 1151, 'guess': 1989, 'clothes': 860, 'night': 3013, 'buy': 640, 'complete': 921, 'dvd': 1391, 'kevin': 2457, 'lewis': 2586, 'period': 3236, 'new': 3003, 'inspector': 2299, 'am': 204, 'convinced': 984, 'fine': 1729, 'awful': 372, 'badly': 383, 'aged': 149, 'fat': 1663, 'simply': 3986, 'doesnt': 1309, 'charisma': 762, 'carry': 700, 'sidekick': 3966, 'fox': 1814, 'reviewers': 3678, 'england': 1482, 'mostly': 2910, 'ms': 2931, 'miss': 2866, 'james': 2378, 'sorry': 4076, 'rest': 3657, 'peace': 3219, 'magnificent': 2705, 'moment': 2886, 'found': 1811, 'delightful': 1168, 'french': 1830, 'taking': 4352, 'itself': 2371, 'deep': 1154, 'way': 4820, 'cd': 728, 'chan': 746, 'sure': 4308, 'self': 3869, 'special': 4097, 'deeper': 1155, 'makes': 2716, 'stunts': 4246, 'fighting': 1709, 'sense': 3877, 'humor': 2192, 'cool': 989, 'jackie': 2374, 'jump': 2429, 'scream': 3826, 'awesome': 371, 'mom': 2885, 'impressed': 2251, 'she': 3923, 'hold': 2129, 'try': 4600, 'cast': 710, 'generally': 1881, 'lisa': 2616, 'fails': 1628, 'depth': 1190, 'barely': 399, 'surface': 4310, 'happened': 2027, 'holmes': 2139, 'kate': 2446, 'hopefully': 2157, 'miscast': 2862, 'roles': 3727, 'wife': 4884, 'impossible': 2249, 'carrie': 697, 'fisher': 1739, 'ted': 4386, 'cameo': 657, 'secret': 3849, 'sorts': 4078, 'supernatural': 4302, 'elements': 1443, 'minute': 2858, 'main': 2707, 'seems': 3864, 'trouble': 4592, 'claim': 828, 'exactly': 1551, 'normally': 3034, 'person': 3238, 'situation': 4008, 'several': 3905, 'somehow': 4063, 'solution': 4059, 'clear': 839, 'fault': 1668, 'encounters': 1467, 'talk': 4358, 'provide': 3448, 'answer': 251, 'now': 3054, 'message': 2819, 'necessary': 2984, 'religious': 3608, 'element': 1442, 'ruined': 3751, 'viewing': 4740, 'experience': 1580, 'simplicity': 3984, 'escape': 1517, 'needs': 2990, 'happen': 2026, 'issues': 2365, 'presented': 3376, 'forced': 1787, 'topic': 4526, 'essentially': 1523, 'fooled': 1780, 'once': 3106, 'closely': 855, 'serious': 3891, 'desperate': 1208, 'otherwise': 3137, 'caliber': 649, 'gem': 1877, 'soft': 4051, 'resolution': 3649, 'although': 201, 'corporate': 998, 'spy': 4135, 'pace': 3161, 'explosions': 1597, 'chases': 771, 'flying': 1764, 'bullets': 621, 'patient': 3211, 'instead': 2307, 'note': 3044, 'details': 1219, 'viewer': 4738, 'unfolds': 4651, 'spoilers': 4124, 'read': 3543, 'average': 362, 'seeking': 3859, 'change': 749, 'adventure': 130, 'signs': 3973, 'somewhere': 4069, 'secretly': 3851, 'record': 3573, 'inside': 2297, 'starts': 4159, 'surreal': 4317, 'background': 380, 'underlying': 4641, 'paranoia': 3186, 'begins': 444, 'parts': 3199, 'superb': 4296, 'acts': 107, 'fit': 1740, 'entertain': 1497, 'light': 2595, 'piano': 3264, 'key': 2458, 'comfortable': 892, 'lights': 2597, 'sound': 4081, 'wants': 4791, 'listen': 2619, 'hamlet': 2013, 'tough': 4537, 'vietnam': 4735, 'veteran': 4724, 'engaging': 1481, 'fellow': 1691, 'buddies': 608, 'clean': 838, 'cruel': 1070, 'decide': 1148, 'rid': 3690, 'decent': 1147, 'vincent': 4746, 'hand': 2015, 'blues': 519, 'gross': 1978, 'blank': 501, 'cynical': 1093, 'drive': 1363, 'exploitation': 1592, 'contemporary': 965, 'western': 4853, 'winner': 4897, 'creates': 1038, 'gritty': 1977, 'nonsense': 3030, 'tone': 4517, 'keeps': 2451, 'considerable': 950, 'climax': 849, 'especially': 1520, 'strong': 4229, 'familiar': 1643, 'feature': 1678, 'faces': 1618, 'victoria': 4732, 'principal': 3398, 'linda': 2609, 'fabulous': 1615, 'peters': 3248, 'singer': 3993, 'brad': 560, 'mayor': 2777, 'bank': 394, 'president': 3378, 'andrew': 228, 'stevens': 4183, 'gas': 1874, 'carpenter': 694, 'regular': 3592, 'charles': 764, 'anthony': 253, 'manager': 2724, 'owner': 3159, 'paul': 3214, 'arm': 292, 'dick': 1239, 'miller': 2846, 'player': 3298, 'moral': 2902, 'dirty': 1268, 'william': 4887, 'slick': 4026, 'cinematography': 820, 'lively': 2627, 'raw': 3532, 'violence': 4747, 'trashy': 4566, 'fun': 1848, 'confusing': 942, 'usually': 4700, 'anyway': 261, 'totally': 4532, 'jennifer': 2392, 'comes': 891, 'twin': 4615, 'sisters': 4002, 'funeral': 1849, 'stays': 4169, 'house': 2178, 'sister': 4001, 'aunt': 355, 'emma': 1457, 'mary': 2751, 'kinda': 2477, 'relations': 3596, 'stay': 4166, 'die': 1243, 'kill': 2468, 'weird': 4841, 'sleep': 4024, 'eat': 1411, 'ellen': 1446, 'buried': 624, 'dead': 1132, 'suffer': 4275, 'helps': 2082, 'ya': 4976, 'poor': 3328, 'hell': 2077, 'production': 3419, 'crew': 1053, 'zombies': 4998, 'brain': 562, 'enjoyment': 1488, 'genres': 1889, 'shoot': 3942, 'em': 1452, 'games': 1865, 'game': 1864, 'ridiculous': 3693, 'unwatchable': 4682, 'hardly': 2036, 'weak': 4824, 'wont': 4932, 'waste': 4808, 'anyone': 259, 'above': 68, 'company': 910, 'concept': 930, 'entertainment': 1500, 'annoyed': 248, 'shop': 3945, 'gave': 1875, 'thumbs': 4485, 'led': 2558, 'rent': 3626, 'second': 3846, 'comic': 893, 'worst': 4952, 'graphics': 1959, 'pathetic': 3210, 'question': 3487, 'process': 3412, 'dramas': 1347, 'male': 2719, 'type': 4621, 'struggling': 4236, 'compare': 911, 'matches': 2764, 'witch': 4909, 'gods': 1928, 'cry': 1073, 'throwing': 4480, 'compared': 912, 'effects': 1431, 'folks': 1771, 'isnt': 2362, 'kills': 2474, 'soul': 4079, 'originally': 3131, 'titled': 4505, 'title': 4504, 'tribute': 4581, 'jamie': 2379, 'bell': 458, 'physically': 3263, 'attractive': 351, 'creep': 1051, 'partner': 3198, 'sex': 3907, 'fantasy': 1652, 'convincing': 985, 'connect': 944, 'happens': 2029, 'intimate': 2331, 'beaten': 424, 'pulp': 3465, 'however': 2183, 'mother': 2911, 'father': 1666, 'married': 2744, 'affair': 135, 'hates': 2048, 'lets': 2580, 'kind': 2476, 'places': 3284, 'birth': 486, 'ends': 1474, 'happily': 2030, 'forty': 1807, 'brilliantly': 584, 'acted': 98, 'whos': 4876, 'afraid': 140, 'virginia': 4750, 'similarly': 3980, 'becoming': 435, 'apart': 264, 'cares': 690, 'endings': 1472, 'plausible': 3295, 'intensity': 2317, 'emotional': 1459, 'revelation': 3674, 'fantastic': 1651, 'hilarious': 2106, 'reminded': 3619, 'tap': 4364, 'rock': 3720, 'arent': 288, 'twenty': 4612, 'bill': 481, 'gives': 1914, 'spirit': 4113, 'perfectly': 3226, 'definitely': 1162, 'regret': 3591, 'cheesy': 781, 'zombie': 4997, 'huge': 2185, 'bonus': 534, 'entertaining': 1499, 'fortune': 1806, 'meet': 2793, 'fulci': 1845, 'career': 686, 'philosophical': 3253, 'satisfied': 3789, 'search': 3841, 'often': 3095, 'surviving': 4323, 'prostitute': 3440, 'cheap': 774, 'violent': 4748, 'persons': 3244, 'struggle': 4234, 'feels': 1687, 'sometimes': 4067, 'changes': 751, 'images': 2235, 'refreshing': 3586, 'joke': 2414, 'says': 3801, 'appears': 278, 'captures': 678, 'city': 825, 'cage': 645, 'use': 4692, 'actions': 101, 'rented': 3628, 'blockbuster': 509, 'box': 555, 'travesty': 4570, 'lose': 2654, 'unbearable': 4633, 'whatsoever': 4861, 'rough': 3741, 'species': 4098, 'humans': 2190, 'scripts': 3836, 'example': 1553, 'invasion': 2340, 'body': 527, 'across': 96, 'suggest': 4280, 'burn': 625, 'horror': 2168, 'fear': 1676, 'suspense': 4330, 'terror': 4412, 'techniques': 4384, 'yourself': 4993, 'wanting': 4790, 'theater': 4427, 'knowledge': 2491, 'unbelievable': 4634, 'suddenly': 4273, 'teenagers': 4391, 'hideous': 2098, 'top': 4525, 'seemed': 3862, 'ex': 1549, 'wasted': 4809, 'hour': 2176, 'recognized': 3570, 'famous': 1647, 'black': 493, 'smith': 4038, 'baker': 385, 'robinson': 3716, 'louis': 2665, 'chorus': 803, 'girls': 1911, 'club': 863, 'stereotypes': 4179, 'cartoons': 705, 'meant': 2784, 'adult': 125, 'local': 2634, 'cinema': 816, 'standard': 4144, 'short': 3946, 'universal': 4665, 'disneys': 1290, 'early': 1400, 'mickey': 2831, 'mouse': 2919, 'loads': 2633, 'disney': 1289, 'silly': 3976, 'remember': 3616, 'certain': 737, '50': 51, 'clips': 852, 'south': 4087, 'park': 3190, 'future': 1856, 'moments': 2887, 'academy': 77, 'award': 366, 'actress': 105, 'wondered': 4927, 'glenn': 1918, 'close': 853, 'win': 4892, 'fatal': 1664, 'attraction': 350, 'oscar': 3133, 'golden': 1934, 'winning': 4898, 'nominated': 3025, 'pay': 3216, 'asked': 317, 'mr': 2929, 'johnny': 2410, 'danny': 1112, 'marry': 2745, 'promises': 3432, 'sick': 3963, 'attend': 344, 'wedding': 4836, 'finds': 1728, 'relationship': 3597, 'moon': 2900, 'starring': 4154, 'happy': 2032, 'writing': 4971, 'screenplay': 3831, 'norman': 3035, 'heat': 2067, 'picture': 3269, 'motion': 2913, 'musical': 2947, 'number': 3060, '100': 1, 'quotes': 3497, '17': 9, 'laughs': 2534, 'nostalgic': 3039, 'youth': 4994, 'memories': 2803, 'problems': 3409, 'present': 3374, 'ingredients': 2289, 'friendship': 1838, 'stuff': 4243, 'summer': 4291, 'opportunity': 3121, 'again': 146, 'leader': 2546, 'children': 792, 'careers': 687, 'id': 2212, 'line': 2610, 'frankly': 1823, 'hal': 2006, 'havent': 2053, 'filmmakers': 1720, 'smaller': 4034, 'jim': 2402, 'ultra': 4629, 'personal': 3240, 'projects': 3428, 'limited': 2606, 'ironic': 2355, 'slightly': 4029, 'different': 1248, 'context': 968, 'fay': 1674, 'grim': 1974, 'features': 1680, 'behind': 447, 'filmmaker': 1719, 'taken': 4350, 'cinematic': 818, 'explain': 1586, 'suppose': 4305, 'due': 1382, 'henry': 2084, 'fool': 1779, 'difference': 1246, 'results': 3662, 'theres': 4440, 'international': 2326, 'double': 1331, 'wrapped': 4964, 'fake': 1635, 'parker': 3191, 'cia': 814, 'solid': 4057, 'presence': 3373, 'mention': 2810, 'author': 359, 'extended': 1604, 'touches': 4535, 'witty': 4917, 'direction': 1261, 'sucks': 4271, 'consistently': 954, 'inducing': 2279, 'angle': 236, 'frame': 1815, 'equally': 1510, 'oddly': 3081, 'unnecessary': 4672, 'angles': 237, 'bizarre': 492, 'dramatic': 1348, 'effect': 1428, 'responsible': 3656, 'along': 195, 'wannabe': 4787, 'cards': 683, 'pop': 3330, 'amusing': 221, 'stupid': 4247, 'montage': 2894, 'segments': 3868, 'shots': 3950, 'couple': 1016, 'fairly': 1631, 'fascinating': 1658, 'side': 3965, 'creative': 1041, 'control': 977, 'scale': 3802, 'likely': 2601, 'pretentious': 3383, 'american': 213, 'independent': 2272, 'year': 4978, 'psychotic': 3459, 'murders': 2943, 'caine': 647, 'nancy': 2964, 'allen': 188, 'caught': 722, 'glimpse': 1919, 'under': 4639, 'crime': 1055, 'patients': 3212, 'gordon': 1940, 'catch': 714, 'killer': 2470, 'sexy': 3911, 'bloody': 513, 'splatter': 4118, 'mans': 2730, 'abilities': 64, 'highly': 2105, 'successful': 4266, 'level': 2584, 'involved': 2346, 'interested': 2324, 'hitchcock': 2123, 'masters': 2761, 'pictures': 3270, 'professional': 3421, 'dancer': 1104, 'rachel': 3500, 'same': 3778, 'pulls': 3464, 'typically': 4624, 'striking': 4226, '10': 0, 'incredible': 2269, 'mel': 2796, 'theyre': 4445, 'pearl': 3220, 'americans': 214, 'nation': 2969, 'war': 4792, 'america': 212, 'desert': 1198, 'propaganda': 3435, 'attached': 336, 'mentioned': 2811, 'kidding': 2465, 'class': 833, 'inspired': 2301, 'damn': 1100, 'near': 2979, 'disaster': 1276, 'wrote': 4974, 'please': 3304, 'writes': 4970, 'russell': 3761, 'australian': 357, 'shame': 3918, 'strike': 4224, 'crap': 1031, 'season': 3843, 'terrible': 4407, 'producers': 3416, 'guessing': 1991, 'ran': 3513, 'release': 3602, 'flashback': 1746, 'marks': 2742, 'appearance': 274, 'diana': 1237, 'dr': 1340, 'series': 3890, 'hello': 2078, 'post': 3352, 'imdb': 2240, 'reference': 3582, 'therefore': 4439, 'greek': 1970, 'inevitably': 2283, 'affect': 136, 'spent': 4108, 'everywhere': 1545, 'recall': 3562, 'grade': 1951, 'disappointment': 1275, 'study': 4242, 'literature': 2623, 'composed': 926, 'actual': 108, 'crucial': 1068, 'position': 3345, 'events': 1536, 'accurate': 90, 'historically': 2120, 'purpose': 3474, 'reading': 3544, 'poem': 3312, 'wondering': 4930, 'anger': 235, 'hate': 2046, 'educational': 1425, 'talks': 4361, 'battle': 414, 'none': 3028, 'revealed': 3671, 'german': 1896, 'spend': 4105, 'millions': 2848, 'dollars': 1315, 'scenario': 3808, 'storm': 4206, 'expensive': 1579, 'alex': 179, 'important': 2247, 'wasnt': 4807, 'super': 4295, 'large': 2517, 'support': 4303, 'appropriate': 283, 'brothers': 599, 'favourite': 1673, 'clearly': 840, 'evidence': 1546, 'easily': 1406, 'theatre': 4429, 'tv': 4610, 'semi': 3874, 'portion': 3338, 'material': 2766, 'liberal': 2588, 'imagination': 2236, 'bring': 585, 'satisfying': 3791, 'albeit': 173, 'somewhat': 4068, 'natural': 2973, 'flynn': 1765, 'perhaps': 3235, 'member': 2800, 'boxing': 556, 'team': 4378, 'training': 4558, 'skills': 4014, 'fight': 1707, 'worlds': 4947, 'championship': 745, 'expert': 1585, 'ward': 4793, 'bond': 532, 'reads': 3545, 'warner': 4799, 'resident': 3647, 'supporting': 4304, 'players': 3299, 'alan': 171, 'harry': 2039, 'pat': 3208, 'stated': 4161, 'jack': 2373, 'masterful': 2758, 'friend': 1835, 'recognize': 3569, 'minor': 2857, 'pro': 3406, 'various': 4715, 'hence': 2083, 'unknown': 4668, 'others': 3136, 'mike': 2838, 'davis': 1126, 'possessed': 3347, 'leading': 2547, 'lady': 2507, 'powerful': 3360, 'ability': 65, 'displays': 1293, 'range': 3516, 'rich': 3685, 'trick': 4582, 'mix': 2876, 'proper': 3436, 'blend': 504, 'treatment': 4574, 'starting': 4158, 'clip': 851, 'breaking': 570, 'humorous': 2193, 'punch': 3466, 'maintain': 2710, 'touch': 4533, 'become': 433, 'furthermore': 1854, 'authentic': 358, 'san': 3780, 'francisco': 1819, 'wide': 4880, 'dynamic': 1394, 'prize': 3405, 'fights': 1710, 'mood': 2898, 'image': 2233, 'covered': 1023, 'wrestling': 4966, 'johnson': 2411, 'woods': 4935, 'term': 4405, 'vehicle': 4718, 'portray': 3340, 'born': 544, 'sullivan': 4288, 'intelligent': 2314, 'surprised': 4313, 'truly': 4597, 'care': 684, 'became': 431, 'driven': 1365, 'disappoint': 1272, 'react': 3540, 'shirley': 3936, 'remake': 3612, 'suspect': 4327, 'following': 1774, 'exposed': 1598, 'hollywoods': 2138, 'current': 1084, 'towards': 4540, 'word': 4937, 'supposed': 4306, 'aspects': 322, 'reasonable': 3558, 'unless': 4669, 'length': 2569, 'means': 2783, 'decided': 1149, 'shining': 3933, 'press': 3379, 'kept': 2456, 'write': 4967, 'heck': 2071, 'ghost': 1902, 'throw': 4479, 'carefully': 689, 'picked': 3266, 'guest': 1992, 'investigate': 2342, 'everyone': 1542, 'false': 1641, 'scare': 3803, 'lab': 2501, 'rats': 3531, 'dedicated': 1153, 'direct': 1258, 'contrast': 975, 'statement': 4162, 'houses': 2180, 'begin': 442, 'victim': 4729, 'setting': 3900, 'luke': 2687, 'portrayed': 3342, 'absolutely': 72, 'voiced': 4762, 'bumbling': 622, 'jumped': 2430, 'mrs': 2930, 'speech': 4102, 'fancy': 1649, 'haunting': 2051, 'missed': 2867, 'narrative': 2966, 'gothic': 1945, 'novel': 3052, 'thoughts': 4464, 'tried': 4584, 'heroine': 2091, 'selfish': 3870, 'obviously': 3072, 'changed': 750, 'hugh': 2186, 'whose': 4877, 'legend': 2564, 'versions': 4721, 'grace': 1950, 'wives': 4918, 'ways': 4822, 'whether': 4866, 'glad': 1916, 'jackson': 2375, 'walks': 4780, 'favorite': 1671, 'remains': 3611, 'competition': 918, 'giving': 1915, 'routine': 3743, 'werent': 4849, 'flashbacks': 1747, 'occurred': 3077, 'falling': 1639, 'ultimately': 4628, 'trap': 4563, 'sit': 4003, 'managed': 2723, 'hoping': 2160, 'passing': 3204, 'wow': 4962, '15': 7, 'meaningless': 2782, 'positive': 3346, 'trash': 4565, 'expected': 1577, 'surprise': 4312, 'likes': 2602, 'extremely': 1610, 'gory': 1943, 'detailed': 1218, 'cases': 708, 'plain': 3286, 'chick': 786, 'shes': 3930, 'typical': 4623, 'underground': 4640, 'including': 2264, 'blood': 512, 'promised': 3431, 'meeting': 2794, 'unbelievably': 4635, 'random': 3514, 'hearted': 2065, 'description': 1197, 'repetitive': 3633, 'editor': 1423, 'worse': 4951, 'editing': 1421, 'exposure': 1599, 'edited': 1420, 'multiple': 2936, 'annoying': 249, 'idiotic': 2219, 'mouth': 2920, '3d': 46, 'forward': 1808, 'acid': 95, 'friday': 1834, '13th': 5, 'failure': 1629, 'tell': 4395, 'former': 1800, 'messed': 2821, 'leo': 2571, 'reactions': 3542, 'members': 2801, 'touching': 4536, 'nor': 3032, 'difficult': 1249, 'sounds': 4084, 'vaguely': 4706, 'scientist': 3818, 'animal': 239, 'animals': 240, 'saving': 3797, 'human': 2188, 'wolf': 4920, 'dogs': 1311, 'dialogue': 1234, 'stilted': 4190, 'laughed': 2532, 'loud': 2664, 'inept': 2281, '90': 60, 'boring': 543, 'devoid': 1230, 'military': 2844, 'eye': 1611, 'wounded': 4961, 'presumably': 3380, 'technology': 4385, 'subplot': 4255, 'thinks': 4454, 'using': 4698, 'wisdom': 4902, 'heavy': 2070, 'immediately': 2242, 'gruesome': 1986, 'murder': 2939, 'turkey': 4604, 'adding': 117, 'atmosphere': 333, 'worker': 4942, 'research': 3644, 'room': 3735, 'discover': 1279, 'monkeys': 2891, 'scared': 3805, 'started': 4157, 'laughing': 2533, 'escapes': 1519, 'window': 4894, 'armed': 293, 'arrive': 300, 'leaves': 2556, 'open': 3112, 'machine': 2693, 'guns': 1998, 'trees': 4577, 'easier': 1405, 'knife': 2487, 'spoil': 4121, 'rush': 3759, 'child': 789, 'getting': 1901, 'arrives': 302, 'treated': 4573, 'spare': 4093, 'cliché': 844, 'worn': 4948, 'blunt': 520, 'believed': 455, 'fill': 1714, 'zero': 4996, 'cat': 713, 'loves': 2674, 'size': 4012, 'reasonably': 3559, 'pet': 3246, 'clichés': 846, 'match': 2762, 'mtv': 2933, 'mediocre': 2791, 'feeling': 1685, 'likable': 2598, 'adaptation': 113, 'accept': 80, 'respected': 3653, 'enjoyed': 1486, 'horrid': 2165, 'older': 3101, 'lines': 2612, 'recent': 3566, 'brief': 579, 'punk': 3468, 'convince': 983, 'tremendous': 4579, 'exciting': 1563, 'bored': 541, 'realistic': 3550, 'tim': 4494, 'brian': 576, 'cox': 1026, 'prefer': 3368, 'contain': 962, 'historical': 2119, 'bridge': 578, 'surprising': 4315, 'suits': 4287, 'amazing': 209, 'age': 148, 'mildly': 2840, 'insulting': 2310, 'intelligence': 2313, 'whenever': 4863, 'jr': 2423, 'cringe': 1059, 'uncomfortable': 4637, 'existence': 1571, 'apparently': 270, 'negative': 2991, 'feelings': 1686, 'forgot': 1796, 'pieces': 3273, 'stolen': 4195, 'eaten': 1412, 'creators': 1044, 'brave': 567, 'childhood': 790, '1933': 12, 'peter': 3247, 'sellers': 3872, 'fu': 1844, 'chinese': 796, 'opens': 3115, 'birthday': 487, 'drinking': 1362, 'mentions': 2813, 'occasion': 3073, 'dropped': 1370, 'assistant': 326, 'orders': 3127, 'rare': 3523, 'global': 1920, 'hunt': 2198, 'london': 2641, 'retired': 3664, 'detective': 1220, 'comedic': 888, 'full': 1846, 'tragedy': 4551, 'gifted': 1907, 'comedian': 887, 'memorable': 2802, 'absolute': 71, 'finish': 1732, 'dies': 1245, 'coming': 896, 'earlier': 1399, 'downhill': 1336, 'avoid': 363, 'plague': 3285, 'rating': 3529, 'complex': 923, 'football': 1783, 'approach': 282, 'despite': 1211, 'dealing': 1136, 'controversial': 978, 'culture': 1079, 'muslim': 2949, 'generation': 1883, 'conflicts': 940, 'simplistic': 3985, 'relief': 3605, 'built': 618, 'impression': 2252, 'makers': 2715, 'task': 4368, 'themselves': 4435, 'attempting': 342, 'profound': 3423, 'succeeds': 4264, 'unrealistic': 4677, 'dropping': 1371, 'ball': 388, 'brilliance': 582, 'appreciation': 281, 'attempt': 340, 'drama': 1346, 'becomes': 434, 'drops': 1372, 'stomach': 4196, 'amount': 219, 'roll': 3728, 'central': 735, 'parents': 3188, 'handsome': 2021, 'coach': 868, 'embarrassing': 1454, 'terms': 4406, 'realism': 3549, 'appear': 273, 'conflict': 939, 'perspective': 3245, 'subject': 4253, 'audience': 352, 'disappointing': 1274, 'recommend': 3571, 'east': 1407, 'cultural': 1078, 'guide': 1993, 'masterpiece': 2759, 'beautifully': 429, 'matthew': 2772, 'chemistry': 782, 'button': 639, 'waiting': 4772, 'commentary': 899, '20': 29, 'village': 4743, 'seemingly': 3863, 'wear': 4830, 'general': 1880, 'clothing': 861, 'six': 4010, 'wears': 4832, 'chooses': 800, 'christians': 809, 'entirely': 1503, 'robert': 3713, 'wooden': 4934, 'implausible': 2245, 'failing': 1627, 'ashamed': 312, 'criminal': 1057, 'adventures': 131, 'sees': 3866, 'succeed': 4262, 'scott': 3824, 'appealing': 272, 'harvey': 2042, 'assigned': 325, 'track': 4544, 'shortly': 3947, 'jazz': 2387, 'recently': 3567, 'deceased': 1146, 'hanging': 2023, 'engaged': 1480, 'burton': 630, 'cinemas': 817, 'paint': 3173, 'gradually': 1952, 'mess': 2818, 'storyline': 4208, 'office': 3091, 'altogether': 202, 'letters': 2582, 'emotion': 1458, 'numerous': 3062, 'pity': 3281, 'endless': 1473, 'slapstick': 4019, 'celluloid': 731, 'onto': 3111, 'boss': 546, 'eyed': 1612, 'interest': 2323, 'reveals': 3673, 'hidden': 2096, 'chase': 769, 'measure': 2786, 'strip': 4228, 'attempts': 343, 'quirky': 3493, 'strangers': 4214, 'poetry': 3314, 'protagonist': 3441, 'eccentric': 1414, 'single': 3996, 'capture': 676, 'merit': 2816, 'floor': 1759, 'cuts': 1091, 'working': 4944, 'social': 4049, 'obsession': 3070, 'artistic': 308, 'soundtrack': 4085, 'list': 2617, 'territory': 4411, 'successfully': 4267, 'value': 4709, 'century': 736, 'miserably': 2864, 'student': 4238, 'filmed': 1717, 'showcase': 3954, 'particular': 3194, 'studios': 4241, 'silent': 3975, 'speaking': 4095, 'transition': 4561, 'contract': 973, 'lloyd': 2630, 'hamilton': 2012, 'meanwhile': 2785, 'al': 170, 'compelled': 915, 'join': 2412, 'overly': 3155, 'dozen': 1338, 'shorts': 3948, 'continuity': 972, 'finale': 1723, 'enjoyable': 1485, 'dance': 1103, 'numbers': 3061, 'highlights': 2104, 'nick': 3012, 'lucas': 2680, 'performing': 3233, 'shakespeare': 3915, 'li': 2587, 'odd': 3080, 'depression': 1189, 'era': 1513, 'hired': 2117, 'produce': 3413, 'musicals': 2948, 'favor': 1670, 'urban': 4688, 'cagney': 646, 'joan': 2404, 'albert': 174, 'joe': 2407, 'evening': 1534, 'roman': 3731, 'uses': 4697, 'individuals': 2278, 'represent': 3637, 'confused': 941, 'served': 3894, 'levels': 2585, 'appreciate': 279, 'deliver': 1169, 'united': 4664, 'nations': 2971, 'filming': 1718, 'notorious': 3051, 'seven': 3903, 'marriage': 2743, 'lovely': 2671, 'suitable': 4285, 'innocence': 2293, 'greatest': 1966, 'enter': 1494, 'determined': 1221, 'activities': 102, 'delivering': 1171, 'ultimate': 4627, 'weapon': 4828, 'surprisingly': 4316, 'vulnerable': 4768, 'gary': 1873, 'believes': 456, 'lover': 2672, 'theory': 4437, 'fears': 1677, 'reveal': 3670, 'humanity': 2189, 'figures': 1713, 'cannot': 670, 'shocking': 3940, 'vision': 4754, 'five': 1743, 'utterly': 4702, 'university': 4667, 'generic': 1885, '30': 42, 'break': 569, 'majority': 2712, 'consists': 955, 'vast': 4716, 'empty': 1465, 'stellar': 4174, 'performances': 3229, 'offer': 3087, 'significant': 3972, 'coherent': 871, 'executed': 1565, 'combination': 883, 'impressive': 2253, 'visuals': 4759, 'creating': 1039, 'aired': 165, 'bbc': 417, 'months': 2897, 'twice': 4613, 'media': 2789, 'initially': 2291, 'detail': 1217, 'political': 3324, 'intentions': 2321, 'witness': 4914, 'attempted': 341, 'rebel': 3561, 'oil': 3097, 'concerns': 934, 'government': 1948, 'remarkable': 3613, 'eric': 1514, 'center': 732, 'harsh': 2040, 'premise': 3370, 'ensues': 1493, 'largely': 2518, 'certainly': 738, 'et': 1526, 'talents': 4356, 'depicting': 1184, 'admittedly': 123, 'useful': 4694, 'depicted': 1183, 'status': 4165, 'monster': 2892, 'addition': 118, 'official': 3094, 'abuse': 74, 'obnoxious': 3067, 'spends': 4107, 'result': 3660, 'latest': 2526, 'examples': 1554, 'manhattan': 2726, 'amounts': 220, 'next': 3007, 'business': 633, 'wonder': 4926, 'slap': 4018, 'according': 88, 'childish': 791, 'highlight': 2103, 'bland': 500, 'compelling': 916, 'solo': 4058, 'steve': 4181, 'europe': 1529, 'song': 4071, 'canada': 666, 'fond': 1776, 'listening': 2620, 'cult': 1077, 'humour': 2194, 'canadian': 667, 'dinner': 1254, 'students': 4239, 'sudden': 4272, 'states': 4163, 'brand': 565, '30s': 44, 'stage': 4139, 'shooting': 3943, 'massive': 2756, 'free': 1827, 'interviews': 2330, 'dull': 1384, 'families': 1644, 'satire': 3788, 'ruins': 3752, 'terry': 4415, 'dude': 1381, 'unintentionally': 4659, 'rising': 3703, 'planned': 3290, 'event': 1535, 'sci': 3815, 'fi': 1701, 'imagined': 2239, 'fly': 1763, 'broke': 593, 'faults': 1669, 'audio': 354, 'lacking': 2504, 'finger': 1731, 'wells': 4845, 'hundred': 2195, 'drawn': 1351, 'germany': 1898, 'threat': 4467, 'weapons': 4829, 'road': 3709, 'intention': 2319, 'hip': 2114, 'resulting': 3661, 'worthwhile': 4955, 'notch': 3043, 'opinions': 3119, 'comments': 901, 'deserved': 1200, 'pure': 3471, 'charm': 767, 'drop': 1369, 'beer': 439, 'glass': 1917, 'fire': 1734, 'save': 3794, 'explore': 1594, 'exploration': 1593, 'round': 3742, 'bear': 420, 'daring': 1114, 'isolated': 2363, 'path': 3209, 'whale': 4857, 'baby': 376, 'tour': 4538, 'elephant': 1444, 'africa': 141, 'mark': 2739, 'survival': 4320, 'besides': 468, 'protagonists': 3442, 'richard': 3686, 'brooks': 596, 'holding': 2130, 'adam': 111, 'lesson': 2577, 'warming': 4795, 'doc': 1303, 'poster': 3353, 'visit': 4755, 'trio': 4587, 'continued': 970, 'quality': 3484, 'health': 2060, 'introduces': 2338, 'soon': 4074, 'holds': 2131, 'church': 813, 'saved': 3795, 'tells': 4397, 'buying': 641, 'chain': 741, 'latter': 2528, 'amazed': 208, 'felix': 1689, 'unintentional': 4658, 'met': 2822, 'max': 2774, 'patrick': 3213, 'cruise': 1071, 'friendly': 1836, 'regarding': 3589, 'state': 4160, 'mate': 2765, 'grey': 1973, 'hyde': 2206, 'ships': 3935, 'resembles': 3646, 'non': 3027, 'china': 795, 'bet': 470, 'describe': 1194, 'segment': 3867, 'fictional': 1703, 'ego': 1435, 'agent': 150, 'jean': 2389, 'simmons': 3981, 'raymond': 3534, 'threatening': 4468, 'illness': 2230, 'watches': 4814, 'deeply': 1156, 'follow': 1772, 'trailers': 4555, 'theaters': 4428, 'expectations': 1576, '25': 40, 'pleasantly': 3303, 'cleverly': 842, 'information': 2288, 'enormous': 1490, 'experiments': 1584, 'relationships': 3598, 'explicit': 1591, 'politics': 3326, 'fourth': 1813, 'wall': 4781, 'broken': 594, '1960s': 15, 'freedom': 1828, 'treasure': 4571, 'spoiler': 4123, 'device': 1227, 'complaint': 920, 'copy': 994, 'eighties': 1437, 'teenager': 4390, 'living': 2629, 'possibly': 3351, 'hooked': 2153, 'severe': 3906, 'doubts': 1333, 'minded': 2850, 'introduce': 2336, 'matt': 2768, 'throws': 4482, 'harder': 2035, 'tend': 4400, 'virtually': 4751, 'mill': 2845, 'league': 2549, 'stone': 4197, 'crowd': 1067, 'rival': 3706, 'pie': 3271, 'exist': 1569, 'par': 3184, 'user': 4696, 'challenge': 743, 'hadnt': 2004, 'guessed': 1990, 'distinct': 1296, 'aimed': 162, 'women': 4923, 'raised': 3508, 'failed': 1626, 'choreographed': 801, 'rarely': 3524, 'raise': 3507, 'smile': 4036, 'youre': 4992, 'develop': 1222, 'market': 2740, 'fall': 1637, 'asleep': 320, 'tired': 4501, 'rubbish': 3748, 'development': 1225, 'constant': 957, 'constantly': 958, 'explanation': 1590, 'causing': 726, 'admit': 122, 'concern': 931, 'accidentally': 85, 'renting': 3629, 'anyways': 262, 'easy': 1410, 'keeping': 2450, 'terrific': 4409, 'gotta': 1946, 'yellow': 4981, 'psychological': 3458, 'barry': 401, 'jones': 2418, 'kenneth': 2455, 'howard': 2182, 'country': 1014, 'decades': 1145, 'passionate': 3206, 'endearing': 1469, 'population': 3335, 'desperately': 1209, 'released': 3603, 'maker': 2714, 'conspiracy': 956, 'growing': 1983, 'revolution': 3680, 'disappear': 1270, 'achieved': 93, 'cup': 1080, 'project': 3427, 'digital': 1251, 'format': 1799, 'iran': 2350, 'facts': 1624, 'opposite': 3123, 'absurd': 73, 'rules': 3754, 'law': 2538, 'away': 369, 'feminist': 1695, 'episodes': 1508, 'storytelling': 4209, 'accident': 84, 'tony': 4521, 'killed': 2469, 'chris': 806, 'torn': 4528, 'hearing': 2063, 'elaborate': 1439, 'realized': 3553, 'step': 4175, 'sequel': 3885, 'entry': 1504, 'adequate': 120, 'merely': 2815, 'lots': 2662, 'order': 3126, 'entertained': 1498, 'watchable': 4812, 'paced': 3162, 'photographed': 3258, 'smooth': 4041, 'bob': 524, 'ian': 2209, 'hunter': 2199, 'carl': 692, 'partly': 3197, 'keep': 2449, 'hall': 2009, 'nearby': 2980, 'standing': 4146, 'shock': 3938, 'sight': 3969, 'tall': 4362, 'twins': 4616, 'argue': 290, 'losing': 2658, 'heart': 2064, 'dress': 1357, 'dressing': 1359, 'cutting': 1092, 'stylish': 4251, 'gripping': 1976, 'smiling': 4037, 'whats': 4860, 'directing': 1260, 'disturbing': 1300, 'nelson': 2997, '3rd': 47, 'cabin': 643, 'lake': 2509, 'doubt': 1332, 'villains': 4745, 'horrors': 2169, 'chaplin': 756, 'group': 1980, 'below': 462, 'gag': 1861, 'locked': 2637, 'luck': 2681, 'charlie': 765, 'dream': 1354, 'hair': 2005, 'ironically': 2356, 'filled': 1715, 'co': 867, 'robbery': 3711, 'physical': 3262, 'wishes': 4906, 'includes': 2263, 'laura': 2536, 'helen': 2075, 'kitchen': 2485, 'thrills': 4475, 'thrilling': 4474, 'thrillers': 4473, 'strongly': 4231, 'risk': 3704, 'remain': 3609, 'tight': 4492, 'bud': 607, 'painful': 3171, 'discovery': 1282, 'lies': 2591, 'landscapes': 2514, 'screenwriter': 3833, 'joined': 2413, 'navy': 2976, 'demons': 1178, 'fish': 1738, 'denzel': 1181, 'directorial': 1265, 'formulaic': 1803, 'ones': 3108, 'required': 3641, 'base': 402, 'grown': 1984, 'psychiatrist': 3455, 'washington': 4806, 'opened': 3113, 'abandoned': 62, 'prison': 3401, 'placed': 3283, 'foster': 1809, 'suffering': 4277, 'cousin': 1021, 'jesse': 2397, 'build': 614, 'ordinary': 3128, 'hunting': 2201, 'warmth': 4796, 'allows': 192, 'safe': 3771, 'discuss': 1283, 'achieve': 92, 'develops': 1226, 'return': 3665, 'journey': 2421, 'honor': 2150, 'reaches': 3538, 'cried': 1054, 'knowing': 2490, 'fest': 1696, 'case': 707, 'bar': 396, 'beyond': 476, 'julia': 2427, 'amateur': 206, 'porn': 3336, 'assume': 328, 'villain': 4744, 'honest': 2146, 'costumes': 1006, 'speak': 4094, 'push': 3477, 'threw': 4470, 'mgm': 2828, 'outrageous': 3145, 'southern': 4088, 'costume': 1005, 'brings': 587, 'success': 4265, 'studio': 4240, 'learns': 2553, 'emotions': 1461, 'cameos': 658, 'king': 2479, 'sounded': 4082, 'wind': 4893, 'blow': 514, 'move': 2921, 'outside': 3146, 'bright': 581, 'visible': 4753, 'developed': 1223, 'faster': 1662, 'rain': 3506, 'sunshine': 4294, 'horribly': 2164, 'sadly': 3769, 'prom': 3429, 'april': 284, 'overdone': 3152, 'worthy': 4956, 'ready': 3546, 'response': 3654, 'installment': 2303, 'scary': 3807, 'spoof': 4127, 'walked': 4776, 'halfway': 2008, 'wish': 4904, 'myself': 2953, 'stick': 4185, 'needless': 2989, 'manages': 2725, 'props': 3439, 'spot': 4131, 'alright': 198, 'doomed': 1327, 'nine': 3017, 'meaningful': 2781, 'campbell': 663, 'lack': 2502, 'dumb': 1385, 'stress': 4220, 'cats': 721, 'christmas': 810, 'fate': 1665, 'ruin': 3750, 'relatively': 3600, 'producer': 3415, 'gain': 1863, 'mid': 2832, 'intense': 2316, 'seat': 3845, 'holy': 2140, 'pilot': 3276, 'survivor': 4324, 'witnesses': 4916, 'contact': 961, 'fully': 1847, 'offers': 3090, 'sword': 4340, 'spectacular': 4101, 'presents': 3377, 'personalities': 3241, 'mask': 2752, 'perfection': 3225, 'flawed': 1750, 'tied': 4489, 'accepted': 82, 'shouldnt': 3952, 'unexpected': 4650, 'breath': 573, 'jason': 2383, 'lees': 2560, 'exotic': 1574, 'lee': 2559, 'pain': 3170, 'pleasant': 3302, 'blonde': 511, 'common': 906, 'include': 2261, 'blowing': 515, 'revenge': 3675, 'somebody': 4062, 'related': 3594, 'dolls': 1316, 'nowadays': 3055, 'chicago': 785, 'fail': 1625, 'bothered': 549, 'brando': 566, 'provides': 3450, 'fashioned': 1660, 'parallel': 3185, 'product': 3418, 'performers': 3232, 'von': 4765, 'tricks': 4583, 'weekend': 4838, 'rolling': 3730, 'laughter': 2535, 'lol': 2640, 'kubrick': 2496, 'flawless': 1751, 'skill': 4013, 'blew': 505, 'trademark': 4548, 'builds': 617, 'twilight': 4614, 'zone': 4999, 'primarily': 3393, 'portrayal': 3341, 'lonely': 2643, 'souls': 4080, 'environment': 1505, 'streets': 4217, 'handed': 2016, 'todays': 4509, 'standards': 4145, 'relevant': 3604, 'timeless': 4496, 'solely': 4056, 'firstly': 1737, 'teen': 4388, 'opportunities': 3120, 'remind': 3618, 'agree': 155, 'hang': 2022, 'plus': 3311, 'comment': 898, 'reflect': 3584, 'minds': 2852, 'lou': 2663, 'diamond': 1236, 'ensemble': 1492, 'relative': 3599, 'stupidity': 4248, 'corny': 997, 'subtle': 4260, 'extreme': 1609, 'lazy': 2543, '1983': 22, 'jane': 2380, 'eyre': 1614, 'timothy': 4499, 'dalton': 1098, 'rochester': 3719, 'finest': 1730, 'date': 1118, 'faithful': 1634, 'charlotte': 766, 'specific': 4099, 'reasons': 3560, 'classics': 837, 'destroyed': 1214, 'thankfully': 4422, 'respect': 3652, 'multi': 2935, 'delight': 1167, 'criticism': 1063, 'slight': 4027, 'influenced': 2287, 'choices': 798, 'insane': 2296, 'divorce': 1301, 'sin': 3988, 'settle': 3902, 'herself': 2092, 'taught': 4370, 'brutal': 603, 'burns': 628, 'cheek': 779, 'jesus': 2399, 'debut': 1143, 'dialogs': 1233, 'naive': 2958, 'timing': 4498, 'wanna': 4786, 'thoughtful': 4463, 'oliver': 3102, 'experiment': 1583, 'ten': 4399, 'photography': 3260, 'le': 2544, 'gentle': 1890, 'miracle': 2860, 'understated': 4646, 'scenery': 3810, 'sophisticated': 4075, 'impact': 2244, 'sensitive': 3879, 'mixture': 2878, 'themes': 4434, 'paying': 3217, 'homage': 2141, 'countries': 1013, 'france': 1816, 'elderly': 1440, 'unable': 4631, 'travel': 4567, 'italy': 2368, 'focused': 1767, 'fathers': 1667, 'demands': 1175, 'encounter': 1466, 'eventually': 1537, 'duo': 1386, 'drunk': 1375, 'countless': 1012, 'border': 539, 'agents': 151, 'progress': 3425, 'importance': 2246, 'beliefs': 452, 'reach': 3536, 'surrounded': 4318, 'overwhelming': 3157, 'values': 4710, 'extraordinary': 1607, 'currently': 1085, 'movement': 2923, 'tender': 4401, 'recommended': 3572, 'shallow': 3917, 'planet': 3289, 'apes': 267, 'provoking': 3452, 'dialogues': 1235, 'incredibly': 2270, 'reduced': 3579, 'mere': 2814, 'minimum': 2856, 'interaction': 2322, 'existent': 1572, 'liners': 2611, 'hollow': 2135, 'conversations': 981, 'mentioning': 2812, 'sets': 3899, 'backgrounds': 381, '2001': 31, 'paper': 3183, 'thin': 4449, 'turning': 4608, 'senseless': 3878, 'un': 4630, 'dangerous': 1110, 'forces': 1788, 'protect': 3443, 'bette': 471, 'bringing': 586, 'tears': 4380, 'singing': 3995, 'beneath': 464, 'pushing': 3479, 'justin': 2440, 'expecting': 1578, 'pick': 3265, 'mine': 2853, 'bought': 552, 'cause': 723, 'smart': 4035, 'sucked': 4270, 'attention': 345, 'sheriff': 3929, 'excuse': 1564, 'curtis': 1087, 'forgive': 1795, 'sentimental': 3882, 'behave': 445, 'authority': 360, 'bollywood': 530, 'handful': 2017, 'greatly': 1967, 'needed': 2988, 'heroes': 2089, 'ease': 1404, 'assault': 324, 'avoided': 364, 'bullet': 620, 'beat': 423, 'rambo': 3511, 'ii': 2226, 'mundane': 2938, 'influence': 2286, 'designed': 1203, 'motivations': 2915, 'infamous': 2284, 'bottom': 551, 'massacre': 2754, 'putting': 3482, 'dig': 1250, 'rise': 3702, 'phone': 3255, 'versus': 4722, 'genius': 1887, 'immensely': 2243, 'troubled': 4593, 'talented': 4355, 'taylor': 4372, 'dennis': 1179, 'hopper': 2161, 'fonda': 1777, 'realise': 3548, 'cost': 1003, 'truth': 4599, 'sold': 4052, 'indie': 2276, 'teeth': 4393, 'bus': 631, 'credibility': 1047, 'beats': 426, 'kicks': 2463, 'rocks': 3722, 'civilization': 827, 'instant': 2305, 'ice': 2210, 'sid': 3964, 'matched': 2763, 'quote': 3496, 'continue': 969, 'pack': 3165, 'bears': 421, 'troubles': 4594, 'birds': 485, 'map': 2733, 'remotely': 3623, 'thru': 4483, 'portrait': 3339, 'tortured': 4530, 'ourselves': 3140, 'focuses': 1768, 'strangely': 4212, 'haunted': 2050, 'philip': 3252, 'daughters': 1122, 'jon': 2416, 'aside': 315, 'neat': 2982, 'calling': 653, 'issue': 2364, 'vs': 4767, 'assumed': 329, 'ask': 316, 'hotel': 2175, 'pitt': 3280, 'dracula': 1341, 'vampire': 4711, 'barbara': 397, 'queen': 3485, 'wearing': 4831, 'shirt': 3937, 'francis': 1818, 'native': 2972, 'lowest': 2678, 'form': 1798, 'wit': 4908, 'genuinely': 1892, 'experienced': 1581, 'shelf': 3926, 'theatrical': 4430, 'screening': 3830, 'alike': 185, 'crying': 1074, 'reviews': 3679, 'moved': 2922, 'chose': 804, 'emotionally': 1460, 'allow': 189, 'pre': 3365, 'japan': 2381, 'revolves': 3682, 'held': 2074, 'jail': 2376, 'crimes': 1056, 'against': 147, 'plight': 3308, 'absence': 70, 'occur': 3076, 'unfortunate': 4653, 'worry': 4950, 'innocent': 2294, 'granted': 1957, 'twist': 4617, 'curious': 1083, 'struck': 4232, 'analysis': 224, 'empire': 1464, 'cared': 685, 'closest': 857, 'technically': 4382, 'lacked': 2503, 'aspect': 321, 'wicked': 4879, 'explored': 1595, 'effective': 1429, 'proof': 3434, 'thousand': 4465, 'wet': 4855, 'bin': 483, 'resist': 3648, 'diane': 1238, 'keaton': 2448, 'tonight': 4519, 'switch': 4339, 'sympathy': 4343, 'anymore': 258, 'gone': 1935, 'enjoying': 1487, 'stopped': 4202, 'caring': 691, 'sincere': 3991, 'combined': 885, 'jumping': 2431, 'chair': 742, 'gotten': 1947, 'hated': 2047, 'shocked': 3939, 're': 3535, 'hurt': 2202, 'ride': 3692, 'bone': 533, 'college': 875, 'clues': 865, '24': 39, 'junior': 2435, 'medical': 2790, 'hasnt': 2044, 'appeal': 271, 'smoking': 4040, 'mob': 2879, 'sexually': 3910, 'irony': 2357, 'aids': 161, 'pull': 3461, 'unusual': 4681, 'cute': 1090, 'brenda': 575, 'awfully': 373, 'horrible': 2163, '60s': 54, 'neo': 2998, 'wouldve': 4959, 'dealt': 1138, 'hole': 2132, 'curiosity': 1082, 'eddie': 1416, 'lesser': 2576, 'kidnapped': 2466, 'chosen': 805, 'murphy': 2944, 'suggests': 4282, 'destiny': 1212, 'rescue': 3643, 'suffice': 4279, 'proceedings': 3410, 'sunday': 4293, '12': 3, 'excitement': 1562, 'candy': 668, 'buck': 605, 'imaginative': 2237, 'wars': 4804, 'oz': 3160, 'tape': 4365, 'grinch': 1975, 'carrey': 696, 'molly': 2884, 'ryan': 3765, 'showed': 3956, 'secrets': 3852, 'stronger': 4230, 'alert': 178, 'expression': 1602, 'da': 1094, 'subsequent': 4257, 'holiday': 2134, 'feet': 1688, 'commercials': 903, '2006': 36, 'commercial': 902, 'ladies': 2506, 'appearances': 275, 'neighborhood': 2993, 'la': 2500, 'vampires': 4712, 'loser': 2655, 'represented': 3638, 'sloppy': 4030, 'trailer': 4554, 'melodramatic': 2798, 'soap': 4047, 'carried': 698, 'rated': 3527, 'leaving': 2557, 'victims': 4730, 'douglas': 1334, 'greater': 1965, 'overcome': 3151, 'deaths': 1142, 'safety': 3772, 'beloved': 461, 'steals': 4172, 'idiot': 2218, 'demented': 1176, 'fever': 1699, 'pitch': 3279, 'books': 536, 'returns': 3668, 'nonetheless': 3029, 'frank': 1821, 'print': 3399, 'poverty': 3357, 'motives': 2916, 'frankenstein': 1822, 'formula': 1802, 'tale': 4353, 'arthur': 305, 'lawrence': 2539, 'amazingly': 210, 'via': 4726, 'awe': 370, 'saga': 3773, 'dreams': 1355, 'psycho': 3457, 'fed': 1682, 'macy': 2695, 'decides': 1150, 'sutherland': 4333, 'ritter': 3705, 'panic': 3181, 'weeks': 4839, 'location': 2635, 'settings': 3901, 'marvelous': 2750, 'atmospheric': 334, 'available': 361, 'britain': 588, 'favorites': 1672, 'lucky': 2683, 'create': 1036, 'street': 4216, 'performer': 3231, 'dubbed': 1379, 'dying': 1393, 'society': 4050, 'females': 1694, 'master': 2757, 'slave': 4022, 'opera': 3116, 'unaware': 4632, 'sexuality': 3909, 'packed': 3166, 'steven': 4182, 'seagal': 3839, 'dog': 1310, 'stock': 4193, 'air': 164, 'force': 1786, 'gonna': 1936, 'triumph': 4590, 'amateurish': 207, 'created': 1037, 'bomb': 531, 'translation': 4562, 'comedies': 889, 'foreign': 1790, 'mistake': 2871, 'sympathetic': 4342, 'loose': 2650, 'potentially': 3356, '80s': 59, 'slasher': 4020, 'flicks': 1755, 'deadly': 1133, 'pulled': 3462, 'excited': 1561, 'types': 4622, 'laughable': 2530, 'loses': 2657, 'santa': 3783, 'aka': 168, 'lighting': 2596, 'checking': 778, 'creepy': 1052, 'lovable': 2668, 'shadows': 3913, 'angry': 238, 'forest': 1791, 'national': 2970, 'trust': 4598, 'angels': 234, 'ps': 3453, 'admire': 121, 'tom': 4514, 'savage': 3793, 'ireland': 2352, 'catholic': 720, 'superman': 4301, 'dragon': 1344, 'pacing': 3163, 'cgi': 740, 'costs': 1004, 'guilty': 1995, 'pleasure': 3306, 'flash': 1745, '90s': 61, 'tongue': 4518, 'parody': 3192, 'relies': 3606, 'killings': 2473, 'professor': 3422, 'degree': 1164, 'bodies': 526, 'whoever': 4872, 'roots': 3738, 'property': 3438, 'clichéd': 845, 'situations': 4009, 'hey': 2095, 'private': 3404, 'factor': 1622, 'service': 3896, 'practice': 3363, 'swear': 4334, 'remaining': 3610, 'continues': 971, 'exaggerated': 1552, 'silver': 3977, 'distracting': 1297, 'york': 4985, 'mixed': 2877, 'laid': 2508, 'picks': 3268, 'accent': 78, 'lower': 2677, 'execution': 1566, 'bag': 384, 'drivel': 1364, 'falls': 1640, 'suffered': 4276, 'removed': 3624, 'split': 4120, 'forms': 1801, 'maggie': 2702, 'surprises': 4314, 'drug': 1373, 'balance': 387, 'sharp': 3922, 'conversation': 980, 'racial': 3501, 'differences': 1247, 'shy': 3962, 'connection': 946, 'shines': 3932, 'facial': 1619, 'priceless': 3390, 'richardson': 3688, 'wes': 4851, 'craven': 1034, 'walking': 4779, 'forbidden': 1785, 'intriguing': 2335, 'asian': 314, 'variety': 4714, 'amongst': 218, 'alexander': 180, 'accents': 79, 'introduction': 2339, 'everyday': 1541, 'discovered': 1280, 'prisoner': 3402, 'coffee': 870, 'cowboy': 1025, 'quick': 3490, 'van': 4713, 'understanding': 4645, 'photographer': 3259, 'artist': 307, 'integrity': 2311, 'guarantee': 1987, 'thief': 4448, 'stole': 4194, 'outstanding': 3147, '50s': 52, 'consider': 949, 'choose': 799, 'edge': 1418, 'science': 3816, 'fiction': 1702, '1973': 19, 'reminds': 3620, 'orson': 3132, 'welles': 4844, 'portraying': 3343, 'heroic': 2090, 'cop': 991, 'corrupt': 1001, 'treats': 4575, 'reporter': 3636, 'battles': 415, 'workers': 4943, 'aliens': 184, 'blind': 506, 'landing': 2512, 'site': 4005, 'cheese': 780, 'ugly': 4625, 'model': 2880, 'mario': 2738, 'attacked': 338, 'hospital': 2172, 'scores': 3823, 'weakest': 4825, 'spoiled': 4122, 'rental': 3627, 'yesterday': 4983, 'flop': 1760, 'amitabh': 216, 'impress': 2250, 'proved': 3446, 'generations': 1884, 'actresses': 106, 'passion': 3205, 'lacks': 2505, 'illegal': 2229, 'considered': 951, 'contains': 964, 'warren': 4801, 'cooper': 990, 'root': 3737, 'chilling': 794, 'stunt': 4245, 'olivier': 3103, 'existed': 1570, 'clever': 841, 'outcome': 3142, 'jealous': 2388, 'sends': 3876, 'realizes': 3554, 'solve': 4060, 'twists': 4619, 'tension': 4404, 'whilst': 4869, 'campy': 664, 'sleazy': 4023, 'atrocious': 335, 'werewolf': 4850, 'brown': 601, 'transformation': 4560, 'stinker': 4191, 'content': 966, 'lousy': 2667, 'extra': 1606, 'bucks': 606, 'couldve': 1009, 'imitation': 2241, 'remote': 3622, 'channel': 753, 'deserves': 1201, 'energy': 1478, 'stiller': 4189, 'core': 995, 'chances': 748, 'shine': 3931, 'identity': 2217, 'rage': 3505, 'unlike': 4670, 'desire': 1205, 'belief': 451, 'goodness': 1938, 'comics': 895, 'subplots': 4256, 'illogical': 2231, 'sandler': 3781, '2005': 35, 'festival': 1697, '14': 6, 'rank': 3518, 'initial': 2290, 'swedish': 4335, 'descent': 1193, 'grew': 1972, 'area': 286, 'rural': 3758, 'north': 3036, 'kay': 2447, 'decade': 1144, 'andrews': 229, 'kinds': 2478, 'ford': 1789, 'moody': 2899, 'noir': 3023, 'ahead': 159, 'criminals': 1058, 'involvement': 2347, 'gene': 1879, 'joseph': 2419, 'teens': 4392, 'scheme': 3812, 'cold': 872, 'telling': 4396, 'afterwards': 145, 'sell': 3871, 'warned': 4798, 'crappy': 1032, 'overrated': 3156, 'hype': 2207, 'noticed': 3049, 'luckily': 2682, 'gorgeous': 1942, 'busy': 635, 'nasty': 2968, 'anti': 254, 'causes': 725, 'questions': 3489, 'refuses': 3587, 'cops': 993, 'welcome': 4842, 'tie': 4488, 'warning': 4800, 'graphic': 1958, 'appreciated': 280, 'flat': 1748, 'husband': 2204, 'helping': 2081, 'enterprise': 1495, 'achievement': 94, 'helped': 2080, 'jeffrey': 2391, 'string': 4227, 'sequels': 3886, 'tarzan': 4367, 'collection': 874, 'plenty': 3307, 'display': 1291, 'lion': 2614, 'attacks': 339, '75': 57, 'knock': 2488, 'shape': 3919, 'learning': 2552, 'screaming': 3827, 'neil': 2995, 'robin': 3715, 'kicked': 2461, 'amy': 222, 'adams': 112, 'drag': 1342, 'sarah': 3785, 'sub': 4252, 'prequel': 3372, 'unfunny': 4655, 'teacher': 4375, '16': 8, 'horse': 2170, 'japanese': 2382, 'samurai': 3779, 'enemies': 1476, 'lone': 2642, 'seconds': 3848, 'sheer': 3925, 'choreography': 802, 'raped': 3522, 'utter': 4701, 'matrix': 2767, 'anime': 243, 'machines': 2694, 'prove': 3445, 'ups': 4686, 'larry': 2520, 'noble': 3021, 'received': 3564, 'banned': 395, 'ear': 1397, 'madness': 2698, 'bride': 577, 'eva': 1531, 'directs': 1267, 'photos': 3261, 'repeated': 3631, 'restored': 3659, 'european': 1530, 'usa': 4691, 'likewise': 2603, 'minimal': 2855, 'subtitles': 4259, 'nude': 3058, 'pg': 3250, '13': 4, 'countryside': 1015, 'dancing': 1107, 'jerry': 2396, 'astaire': 330, 'generated': 1882, 'frustrated': 1842, 'alice': 182, 'complicated': 925, 'pool': 3327, 'butler': 637, 'jumps': 2432, 'castle': 712, 'painfully': 3172, 'ginger': 1908, 'rogers': 3725, 'tame': 4363, 'georges': 1894, 'secretary': 3850, 'singers': 3994, 'color': 877, 'spirited': 4114, 'upper': 4685, '1930s': 11, 'building': 615, 'homosexual': 2145, 'door': 1328, 'tiny': 4500, 'originality': 3130, 'ludicrous': 2685, 'sticks': 4186, 'opposed': 3122, 'basis': 408, 'basement': 405, 'farm': 1656, 'allowing': 191, 'explained': 1587, 'frequent': 1831, 'breaks': 571, 'weight': 4840, 'dear': 1140, 'unlikely': 4671, 'promise': 3430, 'marie': 2737, 'prime': 3395, 'outfit': 3144, 'khan': 2459, 'kissing': 2484, 'bedroom': 437, 'critic': 1061, 'hitting': 2126, 'stinks': 4192, 'kiss': 2483, 'properly': 3437, 'believing': 457, 'farce': 1654, 'parent': 3187, 'pseudo': 3454, 'wholly': 4874, 'flesh': 1753, 'invisible': 2344, 'adults': 126, 'afford': 138, 'answers': 252, 'devils': 1229, 'ron': 3734, 'emphasis': 1463, 'nights': 3016, 'tommy': 4516, 'depressing': 1188, 'dancers': 1105, 'erotic': 1515, 'selling': 3873, 'offered': 3088, 'dances': 1106, 'couples': 1017, 'insight': 2298, 'attitudes': 347, 'mexico': 2827, 'boys': 559, 'insult': 2309, 'stooges': 4200, 'redeeming': 3577, 'antics': 255, 'folk': 1770, 'passes': 3203, 'cheating': 776, 'grandmother': 1955, 'homeless': 2143, 'serves': 3895, 'stranger': 4213, 'sacrifice': 3766, 'handled': 2019, 'executive': 1567, 'adapted': 114, 'honestly': 2147, 'naked': 2959, 'dust': 1388, 'bits': 490, 'thrill': 4471, 'landscape': 2513, 'changing': 752, 'floating': 1758, 'mighty': 2836, 'kings': 2481, 'strength': 4219, 'giant': 1905, 'arms': 294, 'creature': 1045, 'share': 3920, 'spending': 4106, 'cg': 739, 'draw': 1349, 'thick': 4447, 'sequences': 3888, 'photo': 3257, 'race': 3499, 'effectively': 1430, 'plant': 3293, 'individual': 2277, 'fortunately': 1805, 'tunes': 4603, 'joey': 2408, 'makeup': 2717, 'tune': 4602, 'crash': 1033, 'evident': 1547, 'reminiscent': 3621, 'nightmares': 3015, 'dated': 1119, 'viewed': 4737, 'gun': 1996, 'bed': 436, 'advanced': 128, 'powers': 3361, 'horrific': 2166, 'scientists': 3819, 'painting': 3175, 'spider': 4109, 'purchased': 3470, 'robot': 3717, 'returned': 3666, 'truck': 4595, 'andy': 230, 'hardy': 2037, 'spring': 4134, 'rights': 3697, 'hanks': 2025, 'elvis': 1451, 'sign': 3970, 'blame': 499, 'funnier': 1850, 'willing': 4889, 'inner': 2292, 'alcohol': 176, 'poetic': 3313, 'fix': 1744, 'orange': 3125, 'lessons': 2578, 'industry': 2280, 'identify': 2216, 'batman': 413, 'remembered': 3617, 'cook': 988, 'expressed': 1601, 'suggested': 4281, 'focus': 1766, 'mothers': 2912, 'displayed': 1292, 'walker': 4778, 'amanda': 205, 'occasional': 3074, 'sleeping': 4025, 'aid': 160, 'agreed': 156, 'extras': 1608, 'arrogant': 303, 'centers': 734, 'touched': 4534, 'sappy': 3784, 'committed': 905, 'suicide': 4283, 'ended': 1470, 'investigation': 2343, 'anna': 245, 'genuine': 1891, 'ideal': 2214, 'aging': 153, 'sally': 3776, 'politically': 3325, 'surrounding': 4319, 'definition': 1163, 'lifestyle': 2593, 'randomly': 3515, 'distance': 1294, 'walls': 4783, 'boyfriend': 558, 'daniel': 1111, 'fields': 1705, 'table': 4346, 'equal': 1509, 'letting': 2583, 'mature': 2773, 'improved': 2255, 'included': 2262, 'scope': 3821, 'innovative': 2295, 'tear': 4379, 'sides': 3967, 'recording': 3575, 'angel': 231, 'radio': 3504, 'calm': 655, 'accompanied': 86, 'wins': 4899, 'cusack': 1088, 'traveling': 4568, 'fifteen': 1706, 'blows': 517, 'disagree': 1269, 'jeremy': 2394, 'pays': 3218, 'jobs': 2406, 'access': 83, 'cable': 644, 'concerned': 932, 'stunning': 4244, 'relate': 3593, 'melodrama': 2797, 'teachers': 4376, 'miserable': 2863, 'belongs': 460, 'references': 3583, 'river': 3707, 'butt': 638, 'karloff': 2445, 'passed': 3202, 'relation': 3595, 'program': 3424, 'tracks': 4545, 'styles': 4250, 'heads': 2059, 'gags': 1862, 'basketball': 409, 'spots': 4132, 'exceptionally': 1559, 'express': 1600, 'tragic': 4552, 'stood': 4199, 'hearts': 2066, 'worried': 4949, 'vegas': 4717, 'ridden': 3691, 'franchise': 1817, 'fired': 1735, 'hop': 2154, 'dimensional': 1253, 'supposedly': 4307, 'ad': 110, 'generous': 1886, 'prisoners': 3403, 'embarrassed': 1453, 'twisted': 4618, 'field': 1704, 'proves': 3447, 'beatty': 427, 'fighter': 1708, 'madonna': 2699, 'pacino': 3164, 'ruthless': 3764, 'hoffman': 2128, 'catherine': 719, 'involves': 2348, 'closer': 856, 'sidney': 3968, 'lumet': 2688, 'garbo': 1871, 'anne': 246, 'stands': 4147, 'artificial': 306, 'dating': 1120, 'survive': 4321, 'captivating': 675, 'uninteresting': 4660, 'misses': 2868, '45': 50, 'plane': 3288, 'rip': 3700, 'dentist': 1180, 'deserve': 1199, 'pile': 3275, 'hurts': 2203, 'planning': 3291, 'stanwyck': 4149, 'increasingly': 2268, 'manipulative': 2727, 'morality': 2903, 'blatant': 502, 'happening': 2028, 'flow': 1762, 'craft': 1028, 'wayne': 4821, 'foul': 1810, 'neither': 2996, 'bore': 540, '1970s': 17, 'demand': 1174, 'clint': 850, 'midnight': 2834, 'garden': 1872, 'hits': 2125, 'baseball': 403, 'americas': 215, 'sport': 4129, 'morris': 2908, '1999': 27, 'belong': 459, 'west': 4852, 'texas': 4418, 'blown': 516, 'st': 4137, 'hopeless': 2158, 'losers': 2656, 'bargain': 400, '35': 45, 'miles': 2843, 'per': 3223, 'michelle': 2830, 'wasting': 4810, 'forgettable': 1794, 'represents': 3639, 'rocky': 3723, 'cuba': 1075, 'florida': 1761, 'tree': 4576, 'possibility': 3349, 'behavior': 446, 'drink': 1361, 'water': 4816, 'disgusting': 1286, 'excessive': 1560, 'appalling': 268, 'bands': 392, 'waited': 4771, 'doors': 1329, 'sun': 4292, 'slowly': 4032, 'hatred': 2049, 'mansion': 2731, 'ocean': 3079, 'mountains': 2918, 'breathtaking': 574, 'exists': 1573, 'bruce': 602, 'dreary': 1356, 'winter': 4900, 'slaughter': 4021, 'widow': 4883, 'husbands': 2205, 'soldier': 4053, 'spiritual': 4116, 'vacation': 4704, 'lately': 2524, 'russian': 3762, 'kudos': 2497, 'alfred': 181, 'code': 869, 'wealth': 4826, 'contained': 963, '1950s': 14, 'began': 441, 'worthless': 4954, 'distant': 1295, 'lily': 2605, 'nurse': 3063, 'rotten': 3740, 'african': 142, 'harris': 2038, 'arrived': 301, 'visually': 4758, 'green': 1971, 'ned': 2986, 'carter': 703, 'margaret': 2735, 'higher': 2101, 'tooth': 4524, 'nail': 2957, 'winds': 4895, 'suit': 4284, 'fare': 1655, 'painted': 3174, 'bugs': 613, 'mirror': 2861, 'voices': 4763, 'errors': 1516, 'stretch': 4221, 'nose': 3037, 'technical': 4381, 'figured': 1712, 'purchase': 3469, 'fitting': 1742, 'punishment': 3467, 'bigger': 479, 'understood': 4647, 'shark': 3921, 'killing': 2472, 'larger': 2519, 'prior': 3400, 'lit': 2621, 'boredom': 542, 'warn': 4797, 'seventies': 3904, 'tedious': 4387, 'gangster': 1868, 'gangsters': 1869, 'shed': 3924, 'models': 2881, 'saves': 3796, 'chief': 788, 'attorney': 348, 'network': 3000, 'lips': 2615, 'bath': 411, 'colors': 879, 'pride': 3391, 'anybody': 257, 'constructed': 959, '1980': 20, 'disappeared': 1271, 'library': 2589, 'misery': 2865, 'lie': 2590, 'metal': 2823, 'spielberg': 4110, 'grab': 1949, 'throat': 4476, 'breasts': 572, 'reviewer': 3677, 'loving': 2675, 'staged': 4140, 'guts': 1999, 'iraq': 2351, 'elsewhere': 1449, 'riding': 3695, 'wore': 4939, 'section': 3853, 'catchy': 717, 'circumstances': 822, 'faced': 1617, 'broadway': 592, 'clumsy': 866, 'hart': 2041, 'jaw': 2384, 'occurs': 3078, 'views': 4742, 'nicely': 3009, 'notably': 3042, 'drew': 1360, 'boom': 537, 'urge': 4689, 'sean': 3840, 'blair': 497, 'disturbed': 1299, 'civil': 826, 'serial': 3889, 'killers': 2471, 'stretched': 4222, 'stops': 4203, 'mission': 2870, 'prepared': 3371, 'pair': 3176, 'morgan': 2905, 'broadcast': 591, 'plans': 3292, 'lucy': 2684, 'drugs': 1374, 'suspects': 4328, 'test': 4416, 'feed': 1683, 'nervous': 2999, 'rushed': 3760, 'unconvincing': 4638, 'disbelief': 1277, 'stargate': 4151, 'cheated': 775, 'competent': 917, 'uninspired': 4657, 'hiding': 2099, 'calls': 654, 'spite': 4117, 'beast': 422, 'thousands': 4466, 'stereotype': 4178, 'mindless': 2851, 'attitude': 346, 'bergman': 466, 'horrendous': 2162, 'web': 4833, 'saturday': 3792, 'offering': 3089, 'separate': 3883, 'established': 1524, 'clark': 832, 'union': 4661, 'prince': 3396, 'splendid': 4119, 'exact': 1550, 'arrival': 299, 'raising': 3509, 'royal': 3746, 'citizen': 824, 'wwii': 4975, 'operation': 3117, 'security': 3854, 'survivors': 4325, 'captured': 677, '18': 10, 'signed': 3971, 'hitler': 2124, 'march': 2734, 'colorful': 878, '40': 48, 'caused': 724, 'tradition': 4549, 'susan': 4326, 'wed': 4835, 'survived': 4322, 'woody': 4936, 'annie': 247, 'conceived': 929, 'walken': 4777, 'fame': 1642, 'suited': 4286, 'efforts': 1433, 'popularity': 3334, 'incompetent': 2266, 'requires': 3642, 'lincoln': 2608, 'todd': 4510, 'persona': 3239, 'guard': 1988, 'suck': 4269, 'summary': 4290, 'damage': 1099, 'childrens': 793, 'eastwood': 1409, 'followed': 1773, 'myers': 2952, 'kim': 2475, 'abusive': 75, 'craig': 1030, 'eve': 1532, 'drives': 1367, 'mall': 2720, 'jerk': 2395, 'driver': 1366, 'chased': 770, 'correct': 1000, 'vote': 4766, 'brazil': 568, 'groups': 1981, 'spread': 4133, 'unsettling': 4679, 'convey': 982, 'spoken': 4126, 'text': 4419, 'noise': 3024, 'paid': 3169, 'bold': 528, 'ann': 244, 'anderson': 227, 'accused': 91, 'elegant': 1441, '60': 53, 'widmark': 4882, 'contest': 967, 'buffs': 612, 'aforementioned': 139, 'grant': 1956, 'someones': 4065, 'phony': 3256, 'doctors': 1305, 'corner': 996, 'hood': 2151, 'instantly': 2306, 'younger': 4990, 'scientific': 3817, 'superior': 4300, 'chaos': 755, 'vengeance': 4719, 'judge': 2424, 'ha': 2002, 'technique': 4383, 'bite': 489, 'learned': 2551, 'mountain': 2917, 'buildings': 616, 'improve': 2254, 'transfer': 4559, 'witches': 4910, 'sole': 4055, 'cave': 727, 'huh': 2187, 'mass': 2753, 'cross': 1066, 'bare': 398, 'eastern': 1408, 'attack': 337, 'rabbit': 3498, 'subjects': 4254, 'australia': 356, 'hilariously': 2107, 'burt': 629, 'convoluted': 987, 'streisand': 4218, 'stuck': 4237, 'factory': 1623, 'judy': 2426, 'bacall': 377, 'chasing': 772, 'mail': 2706, 'essential': 1522, 'odds': 3082, 'heston': 2094, 'chuck': 812, 'tomatoes': 4515, 'deals': 1137, 'rule': 3753, 'introduced': 2337, 'ties': 4490, 'angela': 232, 'returning': 3667, 'rick': 3689, 'creator': 1043, 'aware': 368, 'occasionally': 3075, 'complain': 919, 'send': 3875, '1980s': 21, 'category': 718, 'explains': 1589, 'menace': 2806, 'irrelevant': 2358, 'shower': 3957, 'itll': 2369, 'closet': 858, 'ashley': 313, 'emily': 1456, 'rob': 3710, 'porno': 3337, 'nicholson': 3011, 'credit': 1049, 'mini': 2854, 'freak': 1824, 'questionable': 3488, 'benefit': 465, 'fair': 1630, 'scares': 3806, 'liking': 2604, 'halloween': 2010, 'treat': 4572, 'speaks': 4096, 'melting': 2799, 'glorious': 1921, 'robbins': 3712, 'matthau': 2771, 'delivers': 1172, 'kick': 2460, 'donna': 1323, 'hat': 2045, 'murderous': 2942, 'lesbian': 2573, 'cardboard': 682, '20th': 38, 'sam': 3777, 'superficial': 4298, 'eg': 1434, 'tends': 4402, 'hammer': 2014, 'screams': 3828, 'cube': 1076, 'stereotypical': 4180, 'highest': 2102, 'hunters': 2200, 'arrested': 298, '2000': 30, 'escaped': 1518, 'foot': 1781, 'rat': 3525, 'laughably': 2531, 'curse': 1086, 'rolled': 3729, 'appeared': 276, 'inane': 2258, 'apartment': 265, 'attracted': 349, 'portrays': 3344, 'ruby': 3749, 'draws': 1352, 'strikes': 4225, 'newspaper': 3006, 'darker': 1116, 'bleak': 503, 'charismatic': 763, 'interview': 2329, 'wishing': 4907, 'plots': 3310, 'disjointed': 1287, 'shadow': 3912, 'yelling': 4980, 'bound': 553, 'jake': 2377, 'delivery': 1173, 'toy': 4542, 'freddy': 1826, 'neighbor': 2992, 'court': 1020, 'enters': 1496, 'traditional': 4550, 'toilet': 4512, 'inventive': 2341, 'challenging': 744, 'honesty': 2148, 'ticket': 4487, 'justify': 2439, 'fetched': 1698, 'victor': 4731, 'focusing': 1769, 'desperation': 1210, 'tense': 4403, 'depiction': 1185, 'sports': 4130, 'drags': 1345, 'uneven': 4649, 'motivation': 2914, 'incident': 2260, 'virgin': 4749, 'freeman': 1829, 'reflection': 3585, 'forth': 1804, '1996': 26, 'burning': 627, 'reel': 3581, 'areas': 287, 'mental': 2808, 'personality': 3242, 'hong': 2149, 'kong': 2494, 'dislike': 1288, 'understandable': 4644, 'qualities': 3483, 'godfather': 1927, 'iii': 2227, 'cary': 706, 'loosely': 2651, 'pit': 3278, 'rape': 3521, 'pursuit': 3476, 'reunion': 3669, 'comparing': 913, 'montana': 2895, 'downright': 1337, 'niro': 3019, 'elizabeth': 1445, 'manage': 2722, 'ape': 266, 'inappropriate': 2259, 'creatures': 1046, 'speed': 4103, 'dare': 1113, 'robots': 3718, 'mst3k': 2932, 'preview': 3386, 'cell': 730, 'teaching': 4377, 'terrorists': 4414, 'mentally': 2809, 'julie': 2428, 'roberts': 3714, 'possibilities': 3348, 'gabriel': 1859, 'online': 3109, 'trained': 4557, 'domestic': 1318, 'critical': 1062, 'careful': 688, 'grows': 1985, 'intrigue': 2333, 'progresses': 3426, 'resources': 3651, 'decisions': 1152, 'ears': 1402, 'awkward': 374, 'structure': 4233, 'nyc': 3065, 'vivid': 4760, 'trail': 4553, 'martin': 2748, 'jewish': 2401, 'plastic': 3294, 'doll': 1313, 'presentation': 3375, 'consequences': 947, 'stan': 4142, 'laurel': 2537, 'silence': 3974, 'ship': 3934, 'count': 1010, 'lay': 2542, 'confusion': 943, 'hank': 2024, 'sings': 3997, 'princess': 3397, 'grave': 1962, 'ie': 2221, 'boot': 538, 'tad': 4347, 'ray': 3533, 'logic': 2638, 'credible': 1048, 'branagh': 564, 'pages': 3168, 'movements': 2924, 'bother': 548, 'loss': 2659, 'idiots': 2220, 'helicopter': 2076, 'dubbing': 1380, 'stealing': 4171, 'cannibal': 669, 'balls': 390, 'franco': 1820, 'lengthy': 2570, 'notion': 3050, 'atlantis': 332, 'crack': 1027, 'sons': 4073, 'obsessed': 3069, 'grandfather': 1954, 'notable': 3041, 'spirits': 4115, 'messages': 2820, 'flaw': 1749, 'circle': 821, 'page': 3167, 'headed': 2058, 'teach': 4374, 'hint': 2112, 'grow': 1982, 'trade': 4547, 'matters': 2770, 'defined': 1160, 'unit': 4663, 'awake': 365, 'staring': 4152, 'darkness': 1117, 'sum': 4289, 'guilt': 1994, 'defense': 1159, 'delivered': 1170, 'affected': 137, 'bobby': 525, 'gender': 1878, 'method': 2824, 'ninja': 3018, 'scarecrow': 3804, 'thirty': 4456, 'icon': 2211, 'deaf': 1134, 'con': 928, 'horses': 2171, 'recognition': 3568, 'stanley': 4148, 'masses': 2755, 'cameras': 660, 'equipment': 1511, 'remarkably': 3614, 'junk': 2436, 'drawing': 1350, 'marketing': 2741, 'hide': 2097, 'satisfy': 3790, 'valuable': 4708, 'widely': 4881, 'comparison': 914, 'dawson': 1128, 'intent': 2318, 'fascinated': 1657, '2nd': 41, 'chapter': 757, 'monkey': 2890, 'sits': 4006, 'brutally': 604, 'ghosts': 1903, 'monk': 2889, 'strictly': 4223, 'kung': 2498, 'bird': 484, 'load': 2631, 'buddy': 609, 'alongside': 196, 'holly': 2136, 'daily': 1097, 'earl': 1398, 'jay': 2386, 'shake': 3914, 'dawn': 1127, 'beating': 425, 'legendary': 2565, 'poignant': 3315, 'intended': 2315, 'dreadful': 1353, 'depressed': 1187, 'destroying': 1215, 'asks': 319, 'awards': 367, 'germans': 1897, 'flight': 1757, 'community': 908, 'happiness': 2031, 'receives': 3565, 'productions': 3420, 'maria': 2736, 'featuring': 1681, 'proud': 3444, 'sent': 3880, 'nomination': 3026, 'ass': 323, 'cinematographer': 819, 'dan': 1102, 'titanic': 4503, 'rings': 3699, 'previously': 3388, 'murdered': 2940, 'murderer': 2941, '1940s': 13, 'flaws': 1752, 'prevent': 3385, 'rooms': 3736, 'block': 508, 'judging': 2425, 'lust': 2689, 'kane': 2442, 'womans': 4922, 'catches': 715, 'report': 3635, 'claire': 831, 'waters': 4817, 'swimming': 4338, 'kicking': 2462, 'dub': 1378, 'redemption': 3578, 'inferior': 2285, 'neck': 2985, 'cliff': 847, 'copies': 992, 'moore': 2901, 'frequently': 1832, 'embarrassment': 1455, 'receive': 3563, 'hardcore': 2034, 'sadistic': 3768, 'spanish': 4092, 'bull': 619, 'lawyer': 2541, 'danger': 1109, 'conventional': 979, 'synopsis': 4344, 'berlin': 467, 'testament': 4417, 'nazi': 2977, 'capital': 673, 'ruth': 3763, 'intrigued': 2334, 'pretending': 3382, 'lena': 2568, 'nazis': 2978, 'officers': 3093, 'defeat': 1157, 'familys': 1646, 'relatives': 3601, 'remarks': 3615, 'accomplished': 87, 'courage': 1018, 'channels': 754, 'medium': 2792, 'steps': 4177, 'visits': 4756, 'horrifying': 2167, 'theyd': 4443, 'magical': 2704, 'toys': 4543, 'talked': 4359, 'responsibility': 3655, 'martial': 2747, 'arts': 310, 'convincingly': 986, 'buff': 611, 'teenage': 4389, 'ballet': 389, 'louise': 2666, 'advantage': 129, 'object': 3066, 'pal': 3177, 'unseen': 4678, 'bay': 416, 'mechanical': 2788, 'crush': 1072, 'rocket': 3721, 'wacky': 4769, 'disease': 1285, 'acceptable': 81, 'del': 1165, 'simon': 3982, 'lemmon': 2567, 'devil': 1228, 'purely': 3472, 'superhero': 4299, 'incoherent': 2265, 'arnold': 296, 'futuristic': 1857, 'tales': 4357, 'expressions': 1603, 'reaction': 3541, 'bourne': 554, 'giallo': 1904, 'seek': 3858, 'smoke': 4039, 'videos': 4734, '80': 58, 'ignored': 2225, 'tag': 4348, 'spike': 4111, 'steel': 4173, 'temple': 4398, 'leg': 2562, 'kurt': 2499, 'repeatedly': 3632, 'counter': 1011, 'ratings': 3530, 'pretend': 3381, 'der': 1191, 'philosophy': 3254, 'merits': 2817, 'terrorist': 4413, 'instance': 2304, 'cole': 873, 'willis': 4890, 'twelve': 4611, 'airport': 167, 'terrifying': 4410, 'wealthy': 4827, 'grasp': 1960, 'undoubtedly': 4648, 'chest': 784, 'schools': 3814, 'advertising': 132, 'associated': 327, 'nuclear': 3057, 'sounding': 4083, 'hysterical': 2208, '1990': 24, 'lynch': 2691, 'laws': 2540, 'danes': 1108, 'dignity': 1252, 'wished': 4905, 'witnessed': 4915, 'rendition': 3625, 'los': 2653, 'angeles': 233, 'karen': 2444, 'california': 650, 'naturally': 2974, 'overlooked': 3154, 'unpleasant': 4674, 'snow': 4045, 'commented': 900, 'cities': 823, 'primary': 3394, 'chess': 783, 'corpse': 999, 'department': 1182, 'picking': 3267, 'ignorant': 2223, 'serve': 3893, 'september': 3884, 'wilson': 4891, 'goldberg': 1933, 'blond': 510, 'tiger': 4491, 'bible': 477, 'purple': 3473, 'pot': 3354, 'hudson': 2184, 'dorothy': 1330, 'drunken': 1376, 'heaven': 2068, 'nightmare': 3014, 'gift': 1906, 'cake': 648, 'advice': 133, 'inevitable': 2282, 'che': 773, 'revolutionary': 3681, 'arguably': 289, 'backdrop': 379, 'similarities': 3979, 'vague': 4705, 'unforgettable': 4652, 'revealing': 3672, 'hippie': 2115, 'conservative': 948, 'tons': 4520, 'namely': 2962, 'distribution': 1298, 'carrying': 701, '1st': 28, 'akshay': 169, 'thugs': 4484, 'mysteries': 2954, 'realizing': 3555, 'stale': 4141, 'extent': 1605, 'lyrics': 2692, 'domino': 1319, 'duke': 1383, 'nostalgia': 3038, 'suspend': 4329, 'stayed': 4167, 'pointed': 3317, 'airplane': 166, 'unhappy': 4656, 'claims': 830, 'eager': 1396, 'quit': 3494, 'museum': 2945, 'hundreds': 2196, 'link': 2613, 'beings': 449, 'consistent': 953, 'condition': 937, 'mainstream': 2709, 'methods': 2825, 'restaurant': 3658, 'powell': 3358, 'developing': 1224, 'discussion': 1284, 'describes': 1196, 'iron': 2354, 'jet': 2400, 'blade': 495, 'trek': 4578, 'deliberately': 1166, 'notes': 3046, 'construction': 960, 'carol': 693, 'irritating': 2359, 'snl': 4044, 'unpredictable': 4675, 'rubber': 3747, 'spell': 4104, 'scooby': 3820, 'doo': 1325, 'betty': 474, 'mafia': 2700, 'praise': 3364, 'paulie': 3215, 'imagery': 2234, 'pan': 3180, 'bathroom': 412, 'kennedy': 2454, 'roy': 3745, 'wound': 4960, 'wing': 4896, 'roger': 3724, 'offended': 3085, 'estate': 1525, '2003': 33, 'hints': 2113, 'ought': 3138, 'complexity': 924, 'destruction': 1216, 'satan': 3787, 'bela': 450, 'lugosi': 2686, 'loaded': 2632, 'carradine': 695, 'paltrow': 3178, 'cars': 702, 'ridiculously': 3694, 'daddy': 1096, 'abysmal': 76, 'household': 2179, 'scripted': 3835, 'brosnan': 597, 'polished': 3323, 'documentaries': 1306, 'elm': 1447, 'essence': 1521, 'education': 1424, 'godzilla': 1929, 'homer': 2144, 'reed': 3580, 'fbi': 1675, 'sink': 3999, 'useless': 4695, 'shall': 3916, 'menacing': 2807, 'pushed': 3478, 'performed': 3230, 'ken': 2453, 'dire': 1257, 'improvement': 2256, 'target': 4366, 'polanski': 3321, 'performs': 3234, 'winters': 4901, 'religion': 3607, 'unreal': 4676, 'sentence': 3881, 'agrees': 157, 'command': 897, '1990s': 25, 'everyones': 1543, 'turner': 4607, 'greedy': 1969, 'combine': 884, 'directions': 1262, 'handle': 2018, 'fred': 1825, 'involve': 2345, 'despair': 1207, 'priest': 3392, 'suspenseful': 4331, 'ham': 2011, 'unoriginal': 4673, 'wake': 4774, 'nicholas': 3010, 'sneak': 4043, '1968': 16, 'universe': 4666, 'dean': 1139, 'richards': 3687, 'shelley': 3928, 'warrior': 4802, 'meat': 2787, 'rangers': 3517, 'substance': 4258, 'beach': 419, 'commit': 904, 'host': 2173, 'dave': 1123, 'moronic': 2907, 'sixties': 4011, '1972': 18, 'sandra': 3782, 'cameron': 661, 'centered': 733, 'pig': 3274, 'earned': 1401, 'tiresome': 4502, 'account': 89, 'struggles': 4235, 'bush': 632, 'briefly': 580, 'scottish': 3825, 'edgar': 1417, 'card': 681, 'slightest': 4028, 'waves': 4819, 'voight': 4764, 'ambitious': 211, 'neighbors': 2994, 'equivalent': 1512, 'modesty': 2883, 'leslie': 2574, 'inspiring': 2302, 'kelly': 2452, 'swim': 4337, 'searching': 3842, '2004': 34, 'confidence': 938, 'masterpieces': 2760, 'classical': 836, 'climactic': 848, 'nuts': 3064, 'chicks': 787, 'greed': 1968, 'borrowed': 545, 'businessman': 634, 'abc': 63, 'sue': 4274, 'vice': 4727, '3000': 43, 'mistakes': 2873, 'whereas': 4865, 'phantom': 3251, 'retarded': 3663, 'corruption': 1002, 'narration': 2965, 'topless': 4527, 'juvenile': 2441, 'journalist': 2420, 'soccer': 4048, 'june': 2433, 'trapped': 4564, 'dozens': 1339, 'definite': 1161, 'claimed': 829, 'producing': 3417, 'interpretation': 2328, 'ho': 2127, 'appearing': 277, 'jonathan': 2417, 'seeks': 3860, 'edie': 1419, 'proceeds': 3411, 'overacting': 3149, 'alas': 172, 'concerning': 933, 'legs': 2566, 'shoots': 3944, 'enjoys': 1489, 'legal': 2563, 'purposes': 3475, 'blob': 507, 'falk': 1636, 'parties': 3196, 'spain': 4091, 'fury': 1855, 'snake': 4042, 'narrator': 2967, 'exceptional': 1558, 'pops': 3332, 'resort': 3650, 'succeeded': 4263, 'mile': 2842, 'dinosaur': 1255, 'rex': 3683, '70': 55, 'spooky': 4128, 'wonders': 4931, 'defend': 1158, 'resemblance': 3645, 'exercise': 1568, 'colour': 880, 'devoted': 1231, '2002': 32, 'vicious': 4728, 'seed': 3856, 'empathy': 1462, 'square': 4136, 'soviet': 4089, 'flies': 1756, 'disc': 1278, 'bang': 393, 'suspicious': 4332, 'cinderella': 815, 'showdown': 3955, 'taxi': 4371, 'marty': 2749, 'pants': 3182, 'gray': 1963, 'website': 4834, 'petty': 3249, 'kapoor': 2443, 'wandering': 4785, 'wallace': 4782, 'subtlety': 4261, 'doom': 1326, 'serving': 3897, 'creativity': 1042, 'catching': 716, 'precious': 3366, 'valley': 4707, 'limits': 2607, 'newly': 3004, 'goal': 1925, 'outer': 3143, 'scrooge': 3837, 'dickens': 1240, 'explosion': 1596, 'dolph': 1317, 'uwe': 4703, 'alternate': 200, 'endure': 1475, 'bettie': 473, 'babe': 375, 'brooklyn': 595, 'bat': 410, 'financial': 1725, 'blacks': 494, 'hung': 2197, 'wave': 4818, 'incomprehensible': 2267, 'korean': 2495, 'instinct': 2308, 'designs': 1204, 'crude': 1069, 'intentionally': 2320, 'abraham': 69, 'sinatra': 3989, 'kingdom': 2480, 'broad': 590, 'popcorn': 3331, 'viewings': 4741, 'glover': 1923, 'waitress': 4773, 'clown': 862, 'blah': 496, 'mummy': 2937, 'mistress': 2874, 'surfing': 4311, 'pregnant': 3369, 'mann': 2728, 'staying': 4168, 'depicts': 1186, 'contrary': 974, 'logical': 2639, 'pamela': 3179, 'dinosaurs': 1256, 'screens': 3832, 'crocodile': 1065, 'brady': 561, 'ramones': 3512, 'blake': 498, 'secondly': 3847, 'damon': 1101, 'psychic': 3456, 'gerard': 1895, 'boll': 529, 'heights': 2073, 'mars': 2746, 'adorable': 124, 'riveting': 3708, 'advance': 127, 'enthusiasm': 1501, 'ethan': 1528, 'jenny': 2393, 'columbo': 881, 'wendy': 4846, 'pokemon': 3320, 'miike': 2837, 'stones': 4198, 'desired': 1206, 'rap': 3520, 'communist': 907, 'omen': 3104, 'gandhi': 1866, 'mildred': 2841, 'bo': 521, 'jaws': 2385, 'elvira': 1450, 'kirk': 2482, 'gundam': 1997, 'gadget': 1860, 'streep': 4215}\n"
     ]
    }
   ],
   "source": [
    "print(vocabulary)"
   ]
  },
  {
   "cell_type": "markdown",
   "metadata": {},
   "source": [
    "## Step 3: Upload data to S3\n",
    "\n",
    "Now that we have created the feature representation of our training (and testing) data, it is time to start setting up and using the XGBoost classifier provided by SageMaker.\n",
    "\n",
    "### Writing the datasets\n",
    "\n",
    "The XGBoost classifier that we will be using requires the dataset to be written to a file and stored using Amazon S3. To do this, we will start by splitting the training dataset into two parts, the data we will train the model with and a validation set. Then, we will write those datasets to a file locally and then upload the files to S3. In addition, we will write the test set to a file and upload that file to S3. This is so that we can use SageMakers Batch Transform functionality to test our model once we've fit it."
   ]
  },
  {
   "cell_type": "code",
   "execution_count": 14,
   "metadata": {},
   "outputs": [],
   "source": [
    "import pandas as pd\n",
    "\n",
    "# Earlier we shuffled the training dataset so to make things simple we can just assign\n",
    "# the first 10 000 reviews to the validation set and use the remaining reviews for training.\n",
    "val_X = pd.DataFrame(train_X[:10000])\n",
    "train_X = pd.DataFrame(train_X[10000:])\n",
    "\n",
    "val_y = pd.DataFrame(train_y[:10000])\n",
    "train_y = pd.DataFrame(train_y[10000:])"
   ]
  },
  {
   "cell_type": "markdown",
   "metadata": {},
   "source": [
    "The documentation for the XGBoost algorithm in SageMaker requires that the training and validation datasets should contain no headers or index and that the label should occur first for each sample.\n",
    "\n",
    "For more information about this and other algorithms, the SageMaker developer documentation can be found on __[Amazon's website.](https://docs.aws.amazon.com/sagemaker/latest/dg/)__"
   ]
  },
  {
   "cell_type": "code",
   "execution_count": 15,
   "metadata": {},
   "outputs": [],
   "source": [
    "# First we make sure that the local directory in which we'd like to store the training and validation csv files exists.\n",
    "data_dir = '../data/sentiment_web_app'\n",
    "if not os.path.exists(data_dir):\n",
    "    os.makedirs(data_dir)"
   ]
  },
  {
   "cell_type": "code",
   "execution_count": 16,
   "metadata": {},
   "outputs": [],
   "source": [
    "pd.DataFrame(test_X).to_csv(os.path.join(data_dir, 'test.csv'), header=False, index=False)\n",
    "\n",
    "pd.concat([val_y, val_X], axis=1).to_csv(os.path.join(data_dir, 'validation.csv'), header=False, index=False)\n",
    "pd.concat([train_y, train_X], axis=1).to_csv(os.path.join(data_dir, 'train.csv'), header=False, index=False)"
   ]
  },
  {
   "cell_type": "code",
   "execution_count": 17,
   "metadata": {},
   "outputs": [],
   "source": [
    "# To save a bit of memory we can set text_X, train_X, val_X, train_y and val_y to None.\n",
    "\n",
    "test_X = train_X = val_X = train_y = val_y = None"
   ]
  },
  {
   "cell_type": "markdown",
   "metadata": {},
   "source": [
    "### Uploading Training / Validation files to S3\n",
    "\n",
    "Amazon's S3 service allows us to store files that can be accessed by both the built-in training models such as the XGBoost model we will be using as well as custom models such as the one we will see a little later.\n",
    "\n",
    "For this and most other tasks we will be doing using SageMaker, there are two methods we could use. The first is to use the low level functionality of SageMaker which requires knowing each of the objects involved in the SageMaker environment. The second is to use the high level functionality in which certain choices have been made on the user's behalf. The low level approach benefits from allowing the user a great deal of flexibility while the high level approach makes development much quicker. For our purposes we will opt to use the high level approach although using the low-level approach is certainly an option.\n",
    "\n",
    "Recall the method `upload_data()` which is a member of the object representing our current SageMaker session. What this method does is upload the data to the default bucket (which is created if it does not exist) into the path described by the key_prefix variable. To see this for yourself, once you have uploaded the data files, go to the S3 console and look to see where the files have been uploaded.\n",
    "\n",
    "For additional resources, see the __[SageMaker API documentation](http://sagemaker.readthedocs.io/en/latest/)__ and in addition the __[SageMaker Developer Guide.](https://docs.aws.amazon.com/sagemaker/latest/dg/)__"
   ]
  },
  {
   "cell_type": "code",
   "execution_count": 18,
   "metadata": {},
   "outputs": [],
   "source": [
    "import sagemaker\n",
    "\n",
    "session = sagemaker.Session() # Store the current SageMaker session\n",
    "\n",
    "# S3 prefix (which folder will we use)\n",
    "prefix = 'sentiment-web-app'\n",
    "\n",
    "test_location = session.upload_data(os.path.join(data_dir, 'test.csv'), key_prefix=prefix)\n",
    "val_location = session.upload_data(os.path.join(data_dir, 'validation.csv'), key_prefix=prefix)\n",
    "train_location = session.upload_data(os.path.join(data_dir, 'train.csv'), key_prefix=prefix)"
   ]
  },
  {
   "cell_type": "markdown",
   "metadata": {},
   "source": [
    "## Step 4: Creating the XGBoost model\n",
    "\n",
    "Now that the data has been uploaded it is time to create the XGBoost model. To begin with, we need to do some setup. At this point it is worth discussing what a model is in SageMaker. It is easiest to think of a model of comprising three different objects in the SageMaker ecosystem, which interact with one another.\n",
    "\n",
    "- Model Artifacts\n",
    "- Training Code (Container)\n",
    "- Inference Code (Container)\n",
    "\n",
    "The Model Artifacts are what you might think of as the actual model itself. For example, if you were building a neural network, the model artifacts would be the weights of the various layers. In our case, for an XGBoost model, the artifacts are the actual trees that are created during training.\n",
    "\n",
    "The other two objects, the training code and the inference code are then used to manipulate the training artifacts. More precisely, the training code uses the training data that is provided and creates the model artifacts, while the inference code uses the model artifacts to make predictions on new data.\n",
    "\n",
    "The way that SageMaker runs the training and inference code is by making use of Docker containers. For now, think of a container as being a way of packaging code up so that dependencies aren't an issue."
   ]
  },
  {
   "cell_type": "code",
   "execution_count": 19,
   "metadata": {},
   "outputs": [],
   "source": [
    "from sagemaker import get_execution_role\n",
    "\n",
    "# Our current execution role is required when creating the model as the training\n",
    "# and inference code will need to access the model artifacts.\n",
    "role = get_execution_role()"
   ]
  },
  {
   "cell_type": "code",
   "execution_count": 20,
   "metadata": {},
   "outputs": [
    {
     "name": "stderr",
     "output_type": "stream",
     "text": [
      "WARNING:root:There is a more up to date SageMaker XGBoost image. To use the newer image, please set 'repo_version'='0.90-1'. For example:\n",
      "\tget_image_uri(region, 'xgboost', '0.90-1').\n"
     ]
    }
   ],
   "source": [
    "# We need to retrieve the location of the container which is provided by Amazon for using XGBoost.\n",
    "# As a matter of convenience, the training and inference code both use the same container.\n",
    "from sagemaker.amazon.amazon_estimator import get_image_uri\n",
    "\n",
    "container = get_image_uri(session.boto_region_name, 'xgboost')"
   ]
  },
  {
   "cell_type": "code",
   "execution_count": 21,
   "metadata": {},
   "outputs": [],
   "source": [
    "# First we create a SageMaker estimator object for our model.\n",
    "xgb = sagemaker.estimator.Estimator(container, # The location of the container we wish to use\n",
    "                                    role,                                    # What is our current IAM Role\n",
    "                                    train_instance_count=1,                  # How many compute instances\n",
    "                                    train_instance_type='ml.m4.xlarge',      # What kind of compute instances\n",
    "                                    output_path='s3://{}/{}/output'.format(session.default_bucket(), prefix),\n",
    "                                    sagemaker_session=session)\n",
    "\n",
    "# And then set the algorithm specific parameters.\n",
    "xgb.set_hyperparameters(max_depth=5,\n",
    "                        eta=0.2,\n",
    "                        gamma=4,\n",
    "                        min_child_weight=6,\n",
    "                        subsample=0.8,\n",
    "                        silent=0,\n",
    "                        objective='binary:logistic',\n",
    "                        early_stopping_rounds=10,\n",
    "                        num_round=500)"
   ]
  },
  {
   "cell_type": "markdown",
   "metadata": {},
   "source": [
    "### Fit the XGBoost model\n",
    "\n",
    "Now that our model has been set up we simply need to attach the training and validation datasets and then ask SageMaker to set up the computation."
   ]
  },
  {
   "cell_type": "code",
   "execution_count": 22,
   "metadata": {},
   "outputs": [],
   "source": [
    "s3_input_train = sagemaker.s3_input(s3_data=train_location, content_type='csv')\n",
    "s3_input_validation = sagemaker.s3_input(s3_data=val_location, content_type='csv')"
   ]
  },
  {
   "cell_type": "code",
   "execution_count": 23,
   "metadata": {},
   "outputs": [
    {
     "name": "stdout",
     "output_type": "stream",
     "text": [
      "2020-06-10 14:51:50 Starting - Starting the training job...\n",
      "2020-06-10 14:51:53 Starting - Launching requested ML instances.........\n",
      "2020-06-10 14:53:37 Starting - Preparing the instances for training......\n",
      "2020-06-10 14:54:45 Downloading - Downloading input data...\n",
      "2020-06-10 14:55:08 Training - Downloading the training image..\u001b[34mArguments: train\u001b[0m\n",
      "\u001b[34m[2020-06-10:14:55:28:INFO] Running standalone xgboost training.\u001b[0m\n",
      "\u001b[34m[2020-06-10:14:55:28:INFO] File size need to be processed in the node: 238.5mb. Available memory size in the node: 8481.43mb\u001b[0m\n",
      "\u001b[34m[2020-06-10:14:55:28:INFO] Determined delimiter of CSV input is ','\u001b[0m\n",
      "\u001b[34m[14:55:28] S3DistributionType set as FullyReplicated\u001b[0m\n",
      "\u001b[34m[14:55:30] 15000x5000 matrix with 75000000 entries loaded from /opt/ml/input/data/train?format=csv&label_column=0&delimiter=,\u001b[0m\n",
      "\u001b[34m[2020-06-10:14:55:30:INFO] Determined delimiter of CSV input is ','\u001b[0m\n",
      "\u001b[34m[14:55:30] S3DistributionType set as FullyReplicated\u001b[0m\n",
      "\u001b[34m[14:55:31] 10000x5000 matrix with 50000000 entries loaded from /opt/ml/input/data/validation?format=csv&label_column=0&delimiter=,\u001b[0m\n",
      "\n",
      "2020-06-10 14:55:28 Training - Training image download completed. Training in progress.\u001b[34m[14:55:35] src/tree/updater_prune.cc:74: tree pruning end, 1 roots, 44 extra nodes, 6 pruned nodes, max_depth=5\u001b[0m\n",
      "\u001b[34m[0]#011train-error:0.301333#011validation-error:0.3172\u001b[0m\n",
      "\u001b[34mMultiple eval metrics have been passed: 'validation-error' will be used for early stopping.\n",
      "\u001b[0m\n",
      "\u001b[34mWill train until validation-error hasn't improved in 10 rounds.\u001b[0m\n",
      "\u001b[34m[14:55:36] src/tree/updater_prune.cc:74: tree pruning end, 1 roots, 38 extra nodes, 10 pruned nodes, max_depth=5\u001b[0m\n",
      "\u001b[34m[1]#011train-error:0.283#011validation-error:0.3001\u001b[0m\n",
      "\u001b[34m[14:55:38] src/tree/updater_prune.cc:74: tree pruning end, 1 roots, 38 extra nodes, 4 pruned nodes, max_depth=5\u001b[0m\n",
      "\u001b[34m[2]#011train-error:0.2826#011validation-error:0.3024\u001b[0m\n",
      "\u001b[34m[14:55:39] src/tree/updater_prune.cc:74: tree pruning end, 1 roots, 32 extra nodes, 10 pruned nodes, max_depth=5\u001b[0m\n",
      "\u001b[34m[3]#011train-error:0.269733#011validation-error:0.2894\u001b[0m\n",
      "\u001b[34m[14:55:40] src/tree/updater_prune.cc:74: tree pruning end, 1 roots, 36 extra nodes, 10 pruned nodes, max_depth=5\u001b[0m\n",
      "\u001b[34m[4]#011train-error:0.262067#011validation-error:0.2805\u001b[0m\n",
      "\u001b[34m[14:55:42] src/tree/updater_prune.cc:74: tree pruning end, 1 roots, 30 extra nodes, 4 pruned nodes, max_depth=5\u001b[0m\n",
      "\u001b[34m[5]#011train-error:0.252067#011validation-error:0.2756\u001b[0m\n",
      "\u001b[34m[14:55:43] src/tree/updater_prune.cc:74: tree pruning end, 1 roots, 32 extra nodes, 6 pruned nodes, max_depth=5\u001b[0m\n",
      "\u001b[34m[6]#011train-error:0.246333#011validation-error:0.2715\u001b[0m\n",
      "\u001b[34m[14:55:44] src/tree/updater_prune.cc:74: tree pruning end, 1 roots, 38 extra nodes, 6 pruned nodes, max_depth=5\u001b[0m\n",
      "\u001b[34m[7]#011train-error:0.2422#011validation-error:0.2674\u001b[0m\n",
      "\u001b[34m[14:55:46] src/tree/updater_prune.cc:74: tree pruning end, 1 roots, 36 extra nodes, 8 pruned nodes, max_depth=5\u001b[0m\n",
      "\u001b[34m[8]#011train-error:0.2346#011validation-error:0.259\u001b[0m\n",
      "\u001b[34m[14:55:47] src/tree/updater_prune.cc:74: tree pruning end, 1 roots, 34 extra nodes, 2 pruned nodes, max_depth=5\u001b[0m\n",
      "\u001b[34m[9]#011train-error:0.227533#011validation-error:0.253\u001b[0m\n",
      "\u001b[34m[14:55:48] src/tree/updater_prune.cc:74: tree pruning end, 1 roots, 30 extra nodes, 12 pruned nodes, max_depth=5\u001b[0m\n",
      "\u001b[34m[10]#011train-error:0.223867#011validation-error:0.2497\u001b[0m\n",
      "\u001b[34m[14:55:49] src/tree/updater_prune.cc:74: tree pruning end, 1 roots, 32 extra nodes, 6 pruned nodes, max_depth=5\u001b[0m\n",
      "\u001b[34m[11]#011train-error:0.219533#011validation-error:0.2457\u001b[0m\n",
      "\u001b[34m[14:55:51] src/tree/updater_prune.cc:74: tree pruning end, 1 roots, 34 extra nodes, 6 pruned nodes, max_depth=5\u001b[0m\n",
      "\u001b[34m[12]#011train-error:0.2134#011validation-error:0.2412\u001b[0m\n",
      "\u001b[34m[14:55:52] src/tree/updater_prune.cc:74: tree pruning end, 1 roots, 18 extra nodes, 16 pruned nodes, max_depth=5\u001b[0m\n",
      "\u001b[34m[13]#011train-error:0.210067#011validation-error:0.2367\u001b[0m\n",
      "\u001b[34m[14:55:53] src/tree/updater_prune.cc:74: tree pruning end, 1 roots, 42 extra nodes, 4 pruned nodes, max_depth=5\u001b[0m\n",
      "\u001b[34m[14]#011train-error:0.204133#011validation-error:0.2358\u001b[0m\n",
      "\u001b[34m[14:55:55] src/tree/updater_prune.cc:74: tree pruning end, 1 roots, 24 extra nodes, 4 pruned nodes, max_depth=5\u001b[0m\n",
      "\u001b[34m[15]#011train-error:0.201267#011validation-error:0.2316\u001b[0m\n",
      "\u001b[34m[14:55:56] src/tree/updater_prune.cc:74: tree pruning end, 1 roots, 44 extra nodes, 0 pruned nodes, max_depth=5\u001b[0m\n",
      "\u001b[34m[16]#011train-error:0.198133#011validation-error:0.2279\u001b[0m\n",
      "\u001b[34m[14:55:57] src/tree/updater_prune.cc:74: tree pruning end, 1 roots, 38 extra nodes, 8 pruned nodes, max_depth=5\u001b[0m\n",
      "\u001b[34m[17]#011train-error:0.191333#011validation-error:0.2242\u001b[0m\n",
      "\u001b[34m[14:55:58] src/tree/updater_prune.cc:74: tree pruning end, 1 roots, 28 extra nodes, 4 pruned nodes, max_depth=5\u001b[0m\n",
      "\u001b[34m[18]#011train-error:0.188467#011validation-error:0.2211\u001b[0m\n",
      "\u001b[34m[14:56:00] src/tree/updater_prune.cc:74: tree pruning end, 1 roots, 22 extra nodes, 6 pruned nodes, max_depth=5\u001b[0m\n",
      "\u001b[34m[19]#011train-error:0.187133#011validation-error:0.2182\u001b[0m\n",
      "\u001b[34m[14:56:01] src/tree/updater_prune.cc:74: tree pruning end, 1 roots, 38 extra nodes, 8 pruned nodes, max_depth=5\u001b[0m\n",
      "\u001b[34m[20]#011train-error:0.184067#011validation-error:0.2165\u001b[0m\n",
      "\u001b[34m[14:56:02] src/tree/updater_prune.cc:74: tree pruning end, 1 roots, 28 extra nodes, 10 pruned nodes, max_depth=5\u001b[0m\n",
      "\u001b[34m[21]#011train-error:0.184#011validation-error:0.2166\u001b[0m\n",
      "\u001b[34m[14:56:03] src/tree/updater_prune.cc:74: tree pruning end, 1 roots, 22 extra nodes, 4 pruned nodes, max_depth=5\u001b[0m\n",
      "\u001b[34m[22]#011train-error:0.181933#011validation-error:0.2124\u001b[0m\n",
      "\u001b[34m[14:56:05] src/tree/updater_prune.cc:74: tree pruning end, 1 roots, 24 extra nodes, 8 pruned nodes, max_depth=5\u001b[0m\n",
      "\u001b[34m[23]#011train-error:0.1804#011validation-error:0.2102\u001b[0m\n",
      "\u001b[34m[14:56:06] src/tree/updater_prune.cc:74: tree pruning end, 1 roots, 12 extra nodes, 20 pruned nodes, max_depth=5\u001b[0m\n",
      "\u001b[34m[24]#011train-error:0.1778#011validation-error:0.209\u001b[0m\n",
      "\u001b[34m[14:56:07] src/tree/updater_prune.cc:74: tree pruning end, 1 roots, 22 extra nodes, 14 pruned nodes, max_depth=5\u001b[0m\n",
      "\u001b[34m[25]#011train-error:0.176267#011validation-error:0.2064\u001b[0m\n",
      "\u001b[34m[14:56:08] src/tree/updater_prune.cc:74: tree pruning end, 1 roots, 18 extra nodes, 8 pruned nodes, max_depth=5\u001b[0m\n",
      "\u001b[34m[26]#011train-error:0.173533#011validation-error:0.2044\u001b[0m\n",
      "\u001b[34m[14:56:10] src/tree/updater_prune.cc:74: tree pruning end, 1 roots, 40 extra nodes, 4 pruned nodes, max_depth=5\u001b[0m\n",
      "\u001b[34m[27]#011train-error:0.170867#011validation-error:0.2015\u001b[0m\n",
      "\u001b[34m[14:56:11] src/tree/updater_prune.cc:74: tree pruning end, 1 roots, 34 extra nodes, 0 pruned nodes, max_depth=5\u001b[0m\n",
      "\u001b[34m[28]#011train-error:0.168067#011validation-error:0.1993\u001b[0m\n",
      "\u001b[34m[14:56:12] src/tree/updater_prune.cc:74: tree pruning end, 1 roots, 22 extra nodes, 12 pruned nodes, max_depth=5\u001b[0m\n",
      "\u001b[34m[29]#011train-error:0.1668#011validation-error:0.1994\u001b[0m\n",
      "\u001b[34m[14:56:14] src/tree/updater_prune.cc:74: tree pruning end, 1 roots, 16 extra nodes, 6 pruned nodes, max_depth=5\u001b[0m\n",
      "\u001b[34m[30]#011train-error:0.165667#011validation-error:0.1975\u001b[0m\n",
      "\u001b[34m[14:56:15] src/tree/updater_prune.cc:74: tree pruning end, 1 roots, 34 extra nodes, 10 pruned nodes, max_depth=5\u001b[0m\n",
      "\u001b[34m[31]#011train-error:0.163467#011validation-error:0.1978\u001b[0m\n",
      "\u001b[34m[14:56:16] src/tree/updater_prune.cc:74: tree pruning end, 1 roots, 26 extra nodes, 8 pruned nodes, max_depth=5\u001b[0m\n",
      "\u001b[34m[32]#011train-error:0.162267#011validation-error:0.1959\u001b[0m\n",
      "\u001b[34m[14:56:17] src/tree/updater_prune.cc:74: tree pruning end, 1 roots, 28 extra nodes, 10 pruned nodes, max_depth=5\u001b[0m\n",
      "\u001b[34m[33]#011train-error:0.162#011validation-error:0.1966\u001b[0m\n",
      "\u001b[34m[14:56:19] src/tree/updater_prune.cc:74: tree pruning end, 1 roots, 36 extra nodes, 10 pruned nodes, max_depth=5\u001b[0m\n",
      "\u001b[34m[34]#011train-error:0.159667#011validation-error:0.1934\u001b[0m\n",
      "\u001b[34m[14:56:20] src/tree/updater_prune.cc:74: tree pruning end, 1 roots, 24 extra nodes, 10 pruned nodes, max_depth=5\u001b[0m\n",
      "\u001b[34m[35]#011train-error:0.1586#011validation-error:0.1923\u001b[0m\n",
      "\u001b[34m[14:56:21] src/tree/updater_prune.cc:74: tree pruning end, 1 roots, 24 extra nodes, 6 pruned nodes, max_depth=5\u001b[0m\n",
      "\u001b[34m[36]#011train-error:0.157533#011validation-error:0.1911\u001b[0m\n",
      "\u001b[34m[14:56:23] src/tree/updater_prune.cc:74: tree pruning end, 1 roots, 44 extra nodes, 10 pruned nodes, max_depth=5\u001b[0m\n",
      "\u001b[34m[37]#011train-error:0.156#011validation-error:0.1911\u001b[0m\n",
      "\u001b[34m[14:56:24] src/tree/updater_prune.cc:74: tree pruning end, 1 roots, 14 extra nodes, 16 pruned nodes, max_depth=5\u001b[0m\n",
      "\u001b[34m[38]#011train-error:0.155067#011validation-error:0.191\u001b[0m\n",
      "\u001b[34m[14:56:25] src/tree/updater_prune.cc:74: tree pruning end, 1 roots, 32 extra nodes, 10 pruned nodes, max_depth=5\u001b[0m\n",
      "\u001b[34m[39]#011train-error:0.152733#011validation-error:0.1895\u001b[0m\n"
     ]
    },
    {
     "name": "stdout",
     "output_type": "stream",
     "text": [
      "\u001b[34m[14:56:26] src/tree/updater_prune.cc:74: tree pruning end, 1 roots, 32 extra nodes, 6 pruned nodes, max_depth=5\u001b[0m\n",
      "\u001b[34m[40]#011train-error:0.150933#011validation-error:0.1887\u001b[0m\n",
      "\u001b[34m[14:56:28] src/tree/updater_prune.cc:74: tree pruning end, 1 roots, 28 extra nodes, 8 pruned nodes, max_depth=5\u001b[0m\n",
      "\u001b[34m[41]#011train-error:0.149#011validation-error:0.1874\u001b[0m\n",
      "\u001b[34m[14:56:29] src/tree/updater_prune.cc:74: tree pruning end, 1 roots, 26 extra nodes, 8 pruned nodes, max_depth=5\u001b[0m\n",
      "\u001b[34m[42]#011train-error:0.146867#011validation-error:0.1869\u001b[0m\n",
      "\u001b[34m[14:56:30] src/tree/updater_prune.cc:74: tree pruning end, 1 roots, 16 extra nodes, 8 pruned nodes, max_depth=5\u001b[0m\n",
      "\u001b[34m[43]#011train-error:0.145267#011validation-error:0.1851\u001b[0m\n",
      "\u001b[34m[14:56:31] src/tree/updater_prune.cc:74: tree pruning end, 1 roots, 16 extra nodes, 4 pruned nodes, max_depth=5\u001b[0m\n",
      "\u001b[34m[44]#011train-error:0.144667#011validation-error:0.1845\u001b[0m\n",
      "\u001b[34m[14:56:33] src/tree/updater_prune.cc:74: tree pruning end, 1 roots, 16 extra nodes, 16 pruned nodes, max_depth=5\u001b[0m\n",
      "\u001b[34m[45]#011train-error:0.1448#011validation-error:0.1829\u001b[0m\n",
      "\u001b[34m[14:56:34] src/tree/updater_prune.cc:74: tree pruning end, 1 roots, 24 extra nodes, 6 pruned nodes, max_depth=5\u001b[0m\n",
      "\u001b[34m[46]#011train-error:0.144133#011validation-error:0.1823\u001b[0m\n",
      "\u001b[34m[14:56:35] src/tree/updater_prune.cc:74: tree pruning end, 1 roots, 26 extra nodes, 6 pruned nodes, max_depth=5\u001b[0m\n",
      "\u001b[34m[47]#011train-error:0.141933#011validation-error:0.1811\u001b[0m\n",
      "\u001b[34m[14:56:36] src/tree/updater_prune.cc:74: tree pruning end, 1 roots, 26 extra nodes, 10 pruned nodes, max_depth=5\u001b[0m\n",
      "\u001b[34m[48]#011train-error:0.142#011validation-error:0.18\u001b[0m\n",
      "\u001b[34m[14:56:38] src/tree/updater_prune.cc:74: tree pruning end, 1 roots, 20 extra nodes, 10 pruned nodes, max_depth=5\u001b[0m\n",
      "\u001b[34m[49]#011train-error:0.1392#011validation-error:0.1789\u001b[0m\n",
      "\u001b[34m[14:56:39] src/tree/updater_prune.cc:74: tree pruning end, 1 roots, 18 extra nodes, 12 pruned nodes, max_depth=5\u001b[0m\n",
      "\u001b[34m[50]#011train-error:0.138867#011validation-error:0.1761\u001b[0m\n",
      "\u001b[34m[14:56:40] src/tree/updater_prune.cc:74: tree pruning end, 1 roots, 24 extra nodes, 6 pruned nodes, max_depth=5\u001b[0m\n",
      "\u001b[34m[51]#011train-error:0.138667#011validation-error:0.1756\u001b[0m\n",
      "\u001b[34m[14:56:42] src/tree/updater_prune.cc:74: tree pruning end, 1 roots, 22 extra nodes, 8 pruned nodes, max_depth=5\u001b[0m\n",
      "\u001b[34m[52]#011train-error:0.139#011validation-error:0.176\u001b[0m\n",
      "\u001b[34m[14:56:43] src/tree/updater_prune.cc:74: tree pruning end, 1 roots, 32 extra nodes, 6 pruned nodes, max_depth=5\u001b[0m\n",
      "\u001b[34m[53]#011train-error:0.137933#011validation-error:0.1748\u001b[0m\n",
      "\u001b[34m[14:56:44] src/tree/updater_prune.cc:74: tree pruning end, 1 roots, 14 extra nodes, 10 pruned nodes, max_depth=5\u001b[0m\n",
      "\u001b[34m[54]#011train-error:0.1364#011validation-error:0.1736\u001b[0m\n",
      "\u001b[34m[14:56:45] src/tree/updater_prune.cc:74: tree pruning end, 1 roots, 36 extra nodes, 16 pruned nodes, max_depth=5\u001b[0m\n",
      "\u001b[34m[55]#011train-error:0.135533#011validation-error:0.1729\u001b[0m\n",
      "\u001b[34m[14:56:47] src/tree/updater_prune.cc:74: tree pruning end, 1 roots, 30 extra nodes, 14 pruned nodes, max_depth=5\u001b[0m\n",
      "\u001b[34m[56]#011train-error:0.133467#011validation-error:0.1706\u001b[0m\n",
      "\u001b[34m[14:56:48] src/tree/updater_prune.cc:74: tree pruning end, 1 roots, 28 extra nodes, 6 pruned nodes, max_depth=5\u001b[0m\n",
      "\u001b[34m[57]#011train-error:0.132467#011validation-error:0.1704\u001b[0m\n",
      "\u001b[34m[14:56:49] src/tree/updater_prune.cc:74: tree pruning end, 1 roots, 18 extra nodes, 12 pruned nodes, max_depth=5\u001b[0m\n",
      "\u001b[34m[58]#011train-error:0.131333#011validation-error:0.1699\u001b[0m\n",
      "\u001b[34m[14:56:50] src/tree/updater_prune.cc:74: tree pruning end, 1 roots, 14 extra nodes, 12 pruned nodes, max_depth=5\u001b[0m\n",
      "\u001b[34m[59]#011train-error:0.130267#011validation-error:0.1703\u001b[0m\n",
      "\u001b[34m[14:56:52] src/tree/updater_prune.cc:74: tree pruning end, 1 roots, 18 extra nodes, 8 pruned nodes, max_depth=5\u001b[0m\n",
      "\u001b[34m[60]#011train-error:0.130133#011validation-error:0.1686\u001b[0m\n",
      "\u001b[34m[14:56:53] src/tree/updater_prune.cc:74: tree pruning end, 1 roots, 14 extra nodes, 10 pruned nodes, max_depth=5\u001b[0m\n",
      "\u001b[34m[61]#011train-error:0.1296#011validation-error:0.1683\u001b[0m\n",
      "\u001b[34m[14:56:54] src/tree/updater_prune.cc:74: tree pruning end, 1 roots, 24 extra nodes, 4 pruned nodes, max_depth=5\u001b[0m\n",
      "\u001b[34m[62]#011train-error:0.1278#011validation-error:0.1675\u001b[0m\n",
      "\u001b[34m[14:56:55] src/tree/updater_prune.cc:74: tree pruning end, 1 roots, 24 extra nodes, 4 pruned nodes, max_depth=5\u001b[0m\n",
      "\u001b[34m[63]#011train-error:0.1278#011validation-error:0.167\u001b[0m\n",
      "\u001b[34m[14:56:57] src/tree/updater_prune.cc:74: tree pruning end, 1 roots, 24 extra nodes, 8 pruned nodes, max_depth=5\u001b[0m\n",
      "\u001b[34m[64]#011train-error:0.126867#011validation-error:0.1666\u001b[0m\n",
      "\u001b[34m[14:56:58] src/tree/updater_prune.cc:74: tree pruning end, 1 roots, 16 extra nodes, 4 pruned nodes, max_depth=5\u001b[0m\n",
      "\u001b[34m[65]#011train-error:0.126133#011validation-error:0.1654\u001b[0m\n",
      "\u001b[34m[14:56:59] src/tree/updater_prune.cc:74: tree pruning end, 1 roots, 22 extra nodes, 12 pruned nodes, max_depth=5\u001b[0m\n",
      "\u001b[34m[66]#011train-error:0.125133#011validation-error:0.1657\u001b[0m\n",
      "\u001b[34m[14:57:01] src/tree/updater_prune.cc:74: tree pruning end, 1 roots, 18 extra nodes, 10 pruned nodes, max_depth=5\u001b[0m\n",
      "\u001b[34m[67]#011train-error:0.1246#011validation-error:0.1652\u001b[0m\n",
      "\u001b[34m[14:57:02] src/tree/updater_prune.cc:74: tree pruning end, 1 roots, 28 extra nodes, 10 pruned nodes, max_depth=5\u001b[0m\n",
      "\u001b[34m[68]#011train-error:0.1236#011validation-error:0.1647\u001b[0m\n",
      "\u001b[34m[14:57:03] src/tree/updater_prune.cc:74: tree pruning end, 1 roots, 22 extra nodes, 8 pruned nodes, max_depth=5\u001b[0m\n",
      "\u001b[34m[69]#011train-error:0.1236#011validation-error:0.1641\u001b[0m\n",
      "\u001b[34m[14:57:04] src/tree/updater_prune.cc:74: tree pruning end, 1 roots, 22 extra nodes, 10 pruned nodes, max_depth=5\u001b[0m\n",
      "\u001b[34m[70]#011train-error:0.123133#011validation-error:0.164\u001b[0m\n",
      "\u001b[34m[14:57:06] src/tree/updater_prune.cc:74: tree pruning end, 1 roots, 16 extra nodes, 2 pruned nodes, max_depth=5\u001b[0m\n",
      "\u001b[34m[71]#011train-error:0.123133#011validation-error:0.1635\u001b[0m\n",
      "\u001b[34m[14:57:07] src/tree/updater_prune.cc:74: tree pruning end, 1 roots, 14 extra nodes, 6 pruned nodes, max_depth=5\u001b[0m\n",
      "\u001b[34m[72]#011train-error:0.122867#011validation-error:0.1632\u001b[0m\n",
      "\u001b[34m[14:57:08] src/tree/updater_prune.cc:74: tree pruning end, 1 roots, 20 extra nodes, 8 pruned nodes, max_depth=5\u001b[0m\n",
      "\u001b[34m[73]#011train-error:0.121467#011validation-error:0.1622\u001b[0m\n",
      "\u001b[34m[14:57:09] src/tree/updater_prune.cc:74: tree pruning end, 1 roots, 18 extra nodes, 12 pruned nodes, max_depth=5\u001b[0m\n",
      "\u001b[34m[74]#011train-error:0.121733#011validation-error:0.1619\u001b[0m\n",
      "\u001b[34m[14:57:11] src/tree/updater_prune.cc:74: tree pruning end, 1 roots, 14 extra nodes, 10 pruned nodes, max_depth=5\u001b[0m\n",
      "\u001b[34m[75]#011train-error:0.121133#011validation-error:0.1608\u001b[0m\n",
      "\u001b[34m[14:57:12] src/tree/updater_prune.cc:74: tree pruning end, 1 roots, 12 extra nodes, 2 pruned nodes, max_depth=5\u001b[0m\n",
      "\u001b[34m[76]#011train-error:0.1206#011validation-error:0.1603\u001b[0m\n",
      "\u001b[34m[14:57:13] src/tree/updater_prune.cc:74: tree pruning end, 1 roots, 24 extra nodes, 14 pruned nodes, max_depth=5\u001b[0m\n",
      "\u001b[34m[77]#011train-error:0.120533#011validation-error:0.1601\u001b[0m\n",
      "\u001b[34m[14:57:15] src/tree/updater_prune.cc:74: tree pruning end, 1 roots, 18 extra nodes, 2 pruned nodes, max_depth=5\u001b[0m\n",
      "\u001b[34m[78]#011train-error:0.1196#011validation-error:0.1602\u001b[0m\n",
      "\u001b[34m[14:57:16] src/tree/updater_prune.cc:74: tree pruning end, 1 roots, 12 extra nodes, 6 pruned nodes, max_depth=5\u001b[0m\n",
      "\u001b[34m[79]#011train-error:0.118867#011validation-error:0.1601\u001b[0m\n",
      "\u001b[34m[14:57:17] src/tree/updater_prune.cc:74: tree pruning end, 1 roots, 18 extra nodes, 14 pruned nodes, max_depth=5\u001b[0m\n",
      "\u001b[34m[80]#011train-error:0.118333#011validation-error:0.1597\u001b[0m\n",
      "\u001b[34m[14:57:18] src/tree/updater_prune.cc:74: tree pruning end, 1 roots, 22 extra nodes, 14 pruned nodes, max_depth=5\u001b[0m\n",
      "\u001b[34m[81]#011train-error:0.116933#011validation-error:0.1599\u001b[0m\n",
      "\u001b[34m[14:57:20] src/tree/updater_prune.cc:74: tree pruning end, 1 roots, 20 extra nodes, 10 pruned nodes, max_depth=5\u001b[0m\n",
      "\u001b[34m[82]#011train-error:0.115133#011validation-error:0.1599\u001b[0m\n",
      "\u001b[34m[14:57:21] src/tree/updater_prune.cc:74: tree pruning end, 1 roots, 22 extra nodes, 10 pruned nodes, max_depth=5\u001b[0m\n",
      "\u001b[34m[83]#011train-error:0.114867#011validation-error:0.159\u001b[0m\n",
      "\u001b[34m[14:57:22] src/tree/updater_prune.cc:74: tree pruning end, 1 roots, 12 extra nodes, 12 pruned nodes, max_depth=5\u001b[0m\n",
      "\u001b[34m[84]#011train-error:0.113733#011validation-error:0.1588\u001b[0m\n",
      "\u001b[34m[14:57:23] src/tree/updater_prune.cc:74: tree pruning end, 1 roots, 18 extra nodes, 10 pruned nodes, max_depth=5\u001b[0m\n",
      "\u001b[34m[85]#011train-error:0.1136#011validation-error:0.1583\u001b[0m\n",
      "\u001b[34m[14:57:25] src/tree/updater_prune.cc:74: tree pruning end, 1 roots, 10 extra nodes, 0 pruned nodes, max_depth=5\u001b[0m\n",
      "\u001b[34m[86]#011train-error:0.1134#011validation-error:0.1577\u001b[0m\n",
      "\u001b[34m[14:57:26] src/tree/updater_prune.cc:74: tree pruning end, 1 roots, 14 extra nodes, 8 pruned nodes, max_depth=5\u001b[0m\n",
      "\u001b[34m[87]#011train-error:0.1126#011validation-error:0.1567\u001b[0m\n"
     ]
    },
    {
     "name": "stdout",
     "output_type": "stream",
     "text": [
      "\u001b[34m[14:57:27] src/tree/updater_prune.cc:74: tree pruning end, 1 roots, 14 extra nodes, 6 pruned nodes, max_depth=5\u001b[0m\n",
      "\u001b[34m[88]#011train-error:0.112133#011validation-error:0.1566\u001b[0m\n",
      "\u001b[34m[14:57:29] src/tree/updater_prune.cc:74: tree pruning end, 1 roots, 20 extra nodes, 14 pruned nodes, max_depth=5\u001b[0m\n",
      "\u001b[34m[89]#011train-error:0.111533#011validation-error:0.156\u001b[0m\n",
      "\u001b[34m[14:57:30] src/tree/updater_prune.cc:74: tree pruning end, 1 roots, 18 extra nodes, 10 pruned nodes, max_depth=5\u001b[0m\n",
      "\u001b[34m[90]#011train-error:0.111133#011validation-error:0.1564\u001b[0m\n",
      "\u001b[34m[14:57:31] src/tree/updater_prune.cc:74: tree pruning end, 1 roots, 16 extra nodes, 8 pruned nodes, max_depth=5\u001b[0m\n",
      "\u001b[34m[91]#011train-error:0.110667#011validation-error:0.1558\u001b[0m\n",
      "\u001b[34m[14:57:32] src/tree/updater_prune.cc:74: tree pruning end, 1 roots, 12 extra nodes, 4 pruned nodes, max_depth=5\u001b[0m\n",
      "\u001b[34m[92]#011train-error:0.109667#011validation-error:0.1558\u001b[0m\n",
      "\u001b[34m[14:57:34] src/tree/updater_prune.cc:74: tree pruning end, 1 roots, 22 extra nodes, 8 pruned nodes, max_depth=5\u001b[0m\n",
      "\u001b[34m[93]#011train-error:0.109467#011validation-error:0.1555\u001b[0m\n",
      "\u001b[34m[14:57:35] src/tree/updater_prune.cc:74: tree pruning end, 1 roots, 20 extra nodes, 10 pruned nodes, max_depth=5\u001b[0m\n",
      "\u001b[34m[94]#011train-error:0.109067#011validation-error:0.1559\u001b[0m\n",
      "\u001b[34m[14:57:36] src/tree/updater_prune.cc:74: tree pruning end, 1 roots, 12 extra nodes, 6 pruned nodes, max_depth=5\u001b[0m\n",
      "\u001b[34m[95]#011train-error:0.109#011validation-error:0.1553\u001b[0m\n",
      "\u001b[34m[14:57:37] src/tree/updater_prune.cc:74: tree pruning end, 1 roots, 20 extra nodes, 8 pruned nodes, max_depth=5\u001b[0m\n",
      "\u001b[34m[96]#011train-error:0.108733#011validation-error:0.1555\u001b[0m\n",
      "\u001b[34m[14:57:39] src/tree/updater_prune.cc:74: tree pruning end, 1 roots, 18 extra nodes, 8 pruned nodes, max_depth=5\u001b[0m\n",
      "\u001b[34m[97]#011train-error:0.108467#011validation-error:0.1552\u001b[0m\n",
      "\u001b[34m[14:57:40] src/tree/updater_prune.cc:74: tree pruning end, 1 roots, 12 extra nodes, 8 pruned nodes, max_depth=5\u001b[0m\n",
      "\u001b[34m[98]#011train-error:0.1078#011validation-error:0.1542\u001b[0m\n",
      "\u001b[34m[14:57:41] src/tree/updater_prune.cc:74: tree pruning end, 1 roots, 12 extra nodes, 20 pruned nodes, max_depth=5\u001b[0m\n",
      "\u001b[34m[99]#011train-error:0.108067#011validation-error:0.1541\u001b[0m\n",
      "\u001b[34m[14:57:42] src/tree/updater_prune.cc:74: tree pruning end, 1 roots, 32 extra nodes, 6 pruned nodes, max_depth=5\u001b[0m\n",
      "\u001b[34m[100]#011train-error:0.1076#011validation-error:0.1553\u001b[0m\n",
      "\u001b[34m[14:57:44] src/tree/updater_prune.cc:74: tree pruning end, 1 roots, 14 extra nodes, 14 pruned nodes, max_depth=5\u001b[0m\n",
      "\u001b[34m[101]#011train-error:0.107#011validation-error:0.1542\u001b[0m\n",
      "\u001b[34m[14:57:45] src/tree/updater_prune.cc:74: tree pruning end, 1 roots, 18 extra nodes, 4 pruned nodes, max_depth=5\u001b[0m\n",
      "\u001b[34m[102]#011train-error:0.1066#011validation-error:0.1532\u001b[0m\n",
      "\u001b[34m[14:57:46] src/tree/updater_prune.cc:74: tree pruning end, 1 roots, 22 extra nodes, 14 pruned nodes, max_depth=5\u001b[0m\n",
      "\u001b[34m[103]#011train-error:0.106333#011validation-error:0.1528\u001b[0m\n",
      "\u001b[34m[14:57:48] src/tree/updater_prune.cc:74: tree pruning end, 1 roots, 10 extra nodes, 4 pruned nodes, max_depth=5\u001b[0m\n",
      "\u001b[34m[104]#011train-error:0.106#011validation-error:0.1534\u001b[0m\n",
      "\u001b[34m[14:57:49] src/tree/updater_prune.cc:74: tree pruning end, 1 roots, 34 extra nodes, 6 pruned nodes, max_depth=5\u001b[0m\n",
      "\u001b[34m[105]#011train-error:0.105733#011validation-error:0.1528\u001b[0m\n",
      "\u001b[34m[14:57:50] src/tree/updater_prune.cc:74: tree pruning end, 1 roots, 12 extra nodes, 4 pruned nodes, max_depth=5\u001b[0m\n",
      "\u001b[34m[106]#011train-error:0.105267#011validation-error:0.1512\u001b[0m\n",
      "\u001b[34m[14:57:51] src/tree/updater_prune.cc:74: tree pruning end, 1 roots, 14 extra nodes, 12 pruned nodes, max_depth=5\u001b[0m\n",
      "\u001b[34m[107]#011train-error:0.104133#011validation-error:0.1516\u001b[0m\n",
      "\u001b[34m[14:57:53] src/tree/updater_prune.cc:74: tree pruning end, 1 roots, 26 extra nodes, 14 pruned nodes, max_depth=5\u001b[0m\n",
      "\u001b[34m[108]#011train-error:0.103267#011validation-error:0.1516\u001b[0m\n",
      "\u001b[34m[14:57:54] src/tree/updater_prune.cc:74: tree pruning end, 1 roots, 30 extra nodes, 14 pruned nodes, max_depth=5\u001b[0m\n",
      "\u001b[34m[109]#011train-error:0.101867#011validation-error:0.1506\u001b[0m\n",
      "\u001b[34m[14:57:55] src/tree/updater_prune.cc:74: tree pruning end, 1 roots, 16 extra nodes, 6 pruned nodes, max_depth=5\u001b[0m\n",
      "\u001b[34m[110]#011train-error:0.1018#011validation-error:0.1503\u001b[0m\n",
      "\u001b[34m[14:57:57] src/tree/updater_prune.cc:74: tree pruning end, 1 roots, 16 extra nodes, 8 pruned nodes, max_depth=5\u001b[0m\n",
      "\u001b[34m[111]#011train-error:0.101867#011validation-error:0.1499\u001b[0m\n",
      "\u001b[34m[14:57:58] src/tree/updater_prune.cc:74: tree pruning end, 1 roots, 22 extra nodes, 8 pruned nodes, max_depth=5\u001b[0m\n",
      "\u001b[34m[112]#011train-error:0.101#011validation-error:0.1498\u001b[0m\n",
      "\u001b[34m[14:57:59] src/tree/updater_prune.cc:74: tree pruning end, 1 roots, 10 extra nodes, 4 pruned nodes, max_depth=5\u001b[0m\n",
      "\u001b[34m[113]#011train-error:0.101#011validation-error:0.15\u001b[0m\n",
      "\u001b[34m[14:58:00] src/tree/updater_prune.cc:74: tree pruning end, 1 roots, 30 extra nodes, 6 pruned nodes, max_depth=5\u001b[0m\n",
      "\u001b[34m[114]#011train-error:0.0998#011validation-error:0.1492\u001b[0m\n",
      "\u001b[34m[14:58:02] src/tree/updater_prune.cc:74: tree pruning end, 1 roots, 18 extra nodes, 6 pruned nodes, max_depth=5\u001b[0m\n",
      "\u001b[34m[115]#011train-error:0.099#011validation-error:0.1481\u001b[0m\n",
      "\u001b[34m[14:58:03] src/tree/updater_prune.cc:74: tree pruning end, 1 roots, 30 extra nodes, 6 pruned nodes, max_depth=5\u001b[0m\n",
      "\u001b[34m[116]#011train-error:0.098533#011validation-error:0.149\u001b[0m\n",
      "\u001b[34m[14:58:04] src/tree/updater_prune.cc:74: tree pruning end, 1 roots, 12 extra nodes, 4 pruned nodes, max_depth=5\u001b[0m\n",
      "\u001b[34m[117]#011train-error:0.098733#011validation-error:0.1481\u001b[0m\n",
      "\u001b[34m[14:58:05] src/tree/updater_prune.cc:74: tree pruning end, 1 roots, 16 extra nodes, 12 pruned nodes, max_depth=5\u001b[0m\n",
      "\u001b[34m[118]#011train-error:0.097733#011validation-error:0.1472\u001b[0m\n",
      "\u001b[34m[14:58:07] src/tree/updater_prune.cc:74: tree pruning end, 1 roots, 12 extra nodes, 8 pruned nodes, max_depth=5\u001b[0m\n",
      "\u001b[34m[119]#011train-error:0.0972#011validation-error:0.1471\u001b[0m\n",
      "\u001b[34m[14:58:08] src/tree/updater_prune.cc:74: tree pruning end, 1 roots, 18 extra nodes, 0 pruned nodes, max_depth=5\u001b[0m\n",
      "\u001b[34m[120]#011train-error:0.0974#011validation-error:0.1479\u001b[0m\n",
      "\u001b[34m[14:58:09] src/tree/updater_prune.cc:74: tree pruning end, 1 roots, 16 extra nodes, 0 pruned nodes, max_depth=5\u001b[0m\n",
      "\u001b[34m[121]#011train-error:0.096267#011validation-error:0.1477\u001b[0m\n",
      "\u001b[34m[14:58:10] src/tree/updater_prune.cc:74: tree pruning end, 1 roots, 22 extra nodes, 14 pruned nodes, max_depth=5\u001b[0m\n",
      "\u001b[34m[122]#011train-error:0.0958#011validation-error:0.1476\u001b[0m\n",
      "\u001b[34m[14:58:12] src/tree/updater_prune.cc:74: tree pruning end, 1 roots, 24 extra nodes, 16 pruned nodes, max_depth=5\u001b[0m\n",
      "\u001b[34m[123]#011train-error:0.094533#011validation-error:0.1469\u001b[0m\n",
      "\u001b[34m[14:58:13] src/tree/updater_prune.cc:74: tree pruning end, 1 roots, 20 extra nodes, 10 pruned nodes, max_depth=5\u001b[0m\n",
      "\u001b[34m[124]#011train-error:0.0948#011validation-error:0.1464\u001b[0m\n",
      "\u001b[34m[14:58:14] src/tree/updater_prune.cc:74: tree pruning end, 1 roots, 16 extra nodes, 8 pruned nodes, max_depth=5\u001b[0m\n",
      "\u001b[34m[125]#011train-error:0.094733#011validation-error:0.1462\u001b[0m\n",
      "\u001b[34m[14:58:16] src/tree/updater_prune.cc:74: tree pruning end, 1 roots, 26 extra nodes, 10 pruned nodes, max_depth=5\u001b[0m\n",
      "\u001b[34m[126]#011train-error:0.0938#011validation-error:0.1462\u001b[0m\n",
      "\u001b[34m[14:58:17] src/tree/updater_prune.cc:74: tree pruning end, 1 roots, 10 extra nodes, 12 pruned nodes, max_depth=5\u001b[0m\n",
      "\u001b[34m[127]#011train-error:0.093267#011validation-error:0.1461\u001b[0m\n",
      "\u001b[34m[14:58:18] src/tree/updater_prune.cc:74: tree pruning end, 1 roots, 12 extra nodes, 8 pruned nodes, max_depth=5\u001b[0m\n",
      "\u001b[34m[128]#011train-error:0.092467#011validation-error:0.1458\u001b[0m\n",
      "\u001b[34m[14:58:19] src/tree/updater_prune.cc:74: tree pruning end, 1 roots, 22 extra nodes, 14 pruned nodes, max_depth=5\u001b[0m\n",
      "\u001b[34m[129]#011train-error:0.091667#011validation-error:0.1455\u001b[0m\n",
      "\u001b[34m[14:58:21] src/tree/updater_prune.cc:74: tree pruning end, 1 roots, 10 extra nodes, 2 pruned nodes, max_depth=5\u001b[0m\n",
      "\u001b[34m[130]#011train-error:0.091067#011validation-error:0.1452\u001b[0m\n",
      "\u001b[34m[14:58:22] src/tree/updater_prune.cc:74: tree pruning end, 1 roots, 12 extra nodes, 8 pruned nodes, max_depth=5\u001b[0m\n",
      "\u001b[34m[131]#011train-error:0.090667#011validation-error:0.1448\u001b[0m\n",
      "\u001b[34m[14:58:23] src/tree/updater_prune.cc:74: tree pruning end, 1 roots, 10 extra nodes, 2 pruned nodes, max_depth=5\u001b[0m\n",
      "\u001b[34m[132]#011train-error:0.090533#011validation-error:0.1442\u001b[0m\n",
      "\u001b[34m[14:58:24] src/tree/updater_prune.cc:74: tree pruning end, 1 roots, 18 extra nodes, 6 pruned nodes, max_depth=5\u001b[0m\n",
      "\u001b[34m[133]#011train-error:0.090267#011validation-error:0.1438\u001b[0m\n",
      "\u001b[34m[14:58:26] src/tree/updater_prune.cc:74: tree pruning end, 1 roots, 24 extra nodes, 18 pruned nodes, max_depth=5\u001b[0m\n",
      "\u001b[34m[134]#011train-error:0.088733#011validation-error:0.1429\u001b[0m\n",
      "\u001b[34m[14:58:27] src/tree/updater_prune.cc:74: tree pruning end, 1 roots, 16 extra nodes, 6 pruned nodes, max_depth=5\u001b[0m\n",
      "\u001b[34m[135]#011train-error:0.088533#011validation-error:0.1433\u001b[0m\n"
     ]
    },
    {
     "name": "stdout",
     "output_type": "stream",
     "text": [
      "\u001b[34m[14:58:28] src/tree/updater_prune.cc:74: tree pruning end, 1 roots, 16 extra nodes, 8 pruned nodes, max_depth=5\u001b[0m\n",
      "\u001b[34m[136]#011train-error:0.088333#011validation-error:0.1434\u001b[0m\n",
      "\u001b[34m[14:58:30] src/tree/updater_prune.cc:74: tree pruning end, 1 roots, 24 extra nodes, 12 pruned nodes, max_depth=5\u001b[0m\n",
      "\u001b[34m[137]#011train-error:0.087867#011validation-error:0.1423\u001b[0m\n",
      "\u001b[34m[14:58:31] src/tree/updater_prune.cc:74: tree pruning end, 1 roots, 10 extra nodes, 6 pruned nodes, max_depth=5\u001b[0m\n",
      "\u001b[34m[138]#011train-error:0.088333#011validation-error:0.1425\u001b[0m\n",
      "\u001b[34m[14:58:32] src/tree/updater_prune.cc:74: tree pruning end, 1 roots, 24 extra nodes, 6 pruned nodes, max_depth=5\u001b[0m\n",
      "\u001b[34m[139]#011train-error:0.087933#011validation-error:0.1428\u001b[0m\n",
      "\u001b[34m[14:58:33] src/tree/updater_prune.cc:74: tree pruning end, 1 roots, 14 extra nodes, 4 pruned nodes, max_depth=5\u001b[0m\n",
      "\u001b[34m[140]#011train-error:0.087267#011validation-error:0.1424\u001b[0m\n",
      "\u001b[34m[14:58:35] src/tree/updater_prune.cc:74: tree pruning end, 1 roots, 12 extra nodes, 2 pruned nodes, max_depth=5\u001b[0m\n",
      "\u001b[34m[141]#011train-error:0.087267#011validation-error:0.1428\u001b[0m\n",
      "\u001b[34m[14:58:36] src/tree/updater_prune.cc:74: tree pruning end, 1 roots, 10 extra nodes, 8 pruned nodes, max_depth=5\u001b[0m\n",
      "\u001b[34m[142]#011train-error:0.087133#011validation-error:0.1425\u001b[0m\n",
      "\u001b[34m[14:58:37] src/tree/updater_prune.cc:74: tree pruning end, 1 roots, 16 extra nodes, 16 pruned nodes, max_depth=5\u001b[0m\n",
      "\u001b[34m[143]#011train-error:0.086733#011validation-error:0.1421\u001b[0m\n",
      "\u001b[34m[14:58:38] src/tree/updater_prune.cc:74: tree pruning end, 1 roots, 16 extra nodes, 6 pruned nodes, max_depth=5\u001b[0m\n",
      "\u001b[34m[144]#011train-error:0.087267#011validation-error:0.1416\u001b[0m\n",
      "\u001b[34m[14:58:40] src/tree/updater_prune.cc:74: tree pruning end, 1 roots, 12 extra nodes, 8 pruned nodes, max_depth=5\u001b[0m\n",
      "\u001b[34m[145]#011train-error:0.087133#011validation-error:0.1419\u001b[0m\n",
      "\u001b[34m[14:58:41] src/tree/updater_prune.cc:74: tree pruning end, 1 roots, 14 extra nodes, 4 pruned nodes, max_depth=5\u001b[0m\n",
      "\u001b[34m[146]#011train-error:0.086533#011validation-error:0.1412\u001b[0m\n",
      "\u001b[34m[14:58:42] src/tree/updater_prune.cc:74: tree pruning end, 1 roots, 16 extra nodes, 4 pruned nodes, max_depth=5\u001b[0m\n",
      "\u001b[34m[147]#011train-error:0.086267#011validation-error:0.1414\u001b[0m\n",
      "\u001b[34m[14:58:44] src/tree/updater_prune.cc:74: tree pruning end, 1 roots, 10 extra nodes, 4 pruned nodes, max_depth=5\u001b[0m\n",
      "\u001b[34m[148]#011train-error:0.086#011validation-error:0.1408\u001b[0m\n",
      "\u001b[34m[14:58:45] src/tree/updater_prune.cc:74: tree pruning end, 1 roots, 16 extra nodes, 6 pruned nodes, max_depth=5\u001b[0m\n",
      "\u001b[34m[149]#011train-error:0.085933#011validation-error:0.141\u001b[0m\n",
      "\u001b[34m[14:58:46] src/tree/updater_prune.cc:74: tree pruning end, 1 roots, 12 extra nodes, 6 pruned nodes, max_depth=5\u001b[0m\n",
      "\u001b[34m[150]#011train-error:0.085533#011validation-error:0.1413\u001b[0m\n",
      "\u001b[34m[14:58:47] src/tree/updater_prune.cc:74: tree pruning end, 1 roots, 16 extra nodes, 10 pruned nodes, max_depth=5\u001b[0m\n",
      "\u001b[34m[151]#011train-error:0.085333#011validation-error:0.1397\u001b[0m\n",
      "\u001b[34m[14:58:49] src/tree/updater_prune.cc:74: tree pruning end, 1 roots, 18 extra nodes, 8 pruned nodes, max_depth=5\u001b[0m\n",
      "\u001b[34m[152]#011train-error:0.084933#011validation-error:0.14\u001b[0m\n",
      "\u001b[34m[14:58:50] src/tree/updater_prune.cc:74: tree pruning end, 1 roots, 24 extra nodes, 0 pruned nodes, max_depth=5\u001b[0m\n",
      "\u001b[34m[153]#011train-error:0.0832#011validation-error:0.1401\u001b[0m\n",
      "\u001b[34m[14:58:51] src/tree/updater_prune.cc:74: tree pruning end, 1 roots, 12 extra nodes, 6 pruned nodes, max_depth=5\u001b[0m\n",
      "\u001b[34m[154]#011train-error:0.0834#011validation-error:0.1399\u001b[0m\n",
      "\u001b[34m[14:58:52] src/tree/updater_prune.cc:74: tree pruning end, 1 roots, 28 extra nodes, 18 pruned nodes, max_depth=5\u001b[0m\n",
      "\u001b[34m[155]#011train-error:0.082733#011validation-error:0.1395\u001b[0m\n",
      "\u001b[34m[14:58:54] src/tree/updater_prune.cc:74: tree pruning end, 1 roots, 12 extra nodes, 2 pruned nodes, max_depth=5\u001b[0m\n",
      "\u001b[34m[156]#011train-error:0.083#011validation-error:0.1394\u001b[0m\n",
      "\u001b[34m[14:58:55] src/tree/updater_prune.cc:74: tree pruning end, 1 roots, 18 extra nodes, 6 pruned nodes, max_depth=5\u001b[0m\n",
      "\u001b[34m[157]#011train-error:0.082333#011validation-error:0.14\u001b[0m\n",
      "\u001b[34m[14:58:56] src/tree/updater_prune.cc:74: tree pruning end, 1 roots, 16 extra nodes, 16 pruned nodes, max_depth=5\u001b[0m\n",
      "\u001b[34m[158]#011train-error:0.082133#011validation-error:0.14\u001b[0m\n",
      "\u001b[34m[14:58:57] src/tree/updater_prune.cc:74: tree pruning end, 1 roots, 12 extra nodes, 0 pruned nodes, max_depth=5\u001b[0m\n",
      "\u001b[34m[159]#011train-error:0.082067#011validation-error:0.1403\u001b[0m\n",
      "\u001b[34m[14:58:59] src/tree/updater_prune.cc:74: tree pruning end, 1 roots, 18 extra nodes, 4 pruned nodes, max_depth=5\u001b[0m\n",
      "\u001b[34m[160]#011train-error:0.0816#011validation-error:0.1401\u001b[0m\n",
      "\u001b[34m[14:59:00] src/tree/updater_prune.cc:74: tree pruning end, 1 roots, 10 extra nodes, 14 pruned nodes, max_depth=5\u001b[0m\n",
      "\u001b[34m[161]#011train-error:0.081067#011validation-error:0.1404\u001b[0m\n",
      "\u001b[34m[14:59:01] src/tree/updater_prune.cc:74: tree pruning end, 1 roots, 18 extra nodes, 8 pruned nodes, max_depth=5\u001b[0m\n",
      "\u001b[34m[162]#011train-error:0.0808#011validation-error:0.1407\u001b[0m\n",
      "\u001b[34m[14:59:03] src/tree/updater_prune.cc:74: tree pruning end, 1 roots, 22 extra nodes, 4 pruned nodes, max_depth=5\u001b[0m\n",
      "\u001b[34m[163]#011train-error:0.08#011validation-error:0.1407\u001b[0m\n",
      "\u001b[34m[14:59:04] src/tree/updater_prune.cc:74: tree pruning end, 1 roots, 12 extra nodes, 6 pruned nodes, max_depth=5\u001b[0m\n",
      "\u001b[34m[164]#011train-error:0.079#011validation-error:0.1402\u001b[0m\n",
      "\u001b[34m[14:59:05] src/tree/updater_prune.cc:74: tree pruning end, 1 roots, 14 extra nodes, 6 pruned nodes, max_depth=5\u001b[0m\n",
      "\u001b[34m[165]#011train-error:0.0794#011validation-error:0.1397\u001b[0m\n",
      "\u001b[34m[14:59:06] src/tree/updater_prune.cc:74: tree pruning end, 1 roots, 18 extra nodes, 4 pruned nodes, max_depth=5\u001b[0m\n",
      "\u001b[34m[166]#011train-error:0.0792#011validation-error:0.14\u001b[0m\n",
      "\u001b[34mStopping. Best iteration:\u001b[0m\n",
      "\u001b[34m[156]#011train-error:0.083#011validation-error:0.1394\n",
      "\u001b[0m\n",
      "\n",
      "2020-06-10 14:59:19 Uploading - Uploading generated training model\n",
      "2020-06-10 14:59:19 Completed - Training job completed\n",
      "Training seconds: 274\n",
      "Billable seconds: 274\n"
     ]
    }
   ],
   "source": [
    "xgb.fit({'train': s3_input_train, 'validation': s3_input_validation})"
   ]
  },
  {
   "cell_type": "markdown",
   "metadata": {},
   "source": [
    "## Step 5: Testing the model\n",
    "\n",
    "Now that we've fit our XGBoost model, it's time to see how well it performs. To do this we will use SageMakers Batch Transform functionality. Batch Transform is a convenient way to perform inference on a large dataset in a way that is not realtime. That is, we don't necessarily need to use our model's results immediately and instead we can perform inference on a large number of samples. An example of this in industry might be performing an end of month report. This method of inference can also be useful to us as it means that we can perform inference on our entire test set. \n",
    "\n",
    "To perform a Batch Transformation we need to first create a transformer objects from our trained estimator object."
   ]
  },
  {
   "cell_type": "code",
   "execution_count": 24,
   "metadata": {},
   "outputs": [],
   "source": [
    "xgb_transformer = xgb.transformer(instance_count = 1, instance_type = 'ml.m4.xlarge')"
   ]
  },
  {
   "cell_type": "markdown",
   "metadata": {},
   "source": [
    "Next we actually perform the transform job. When doing so we need to make sure to specify the type of data we are sending so that it is serialized correctly in the background. In our case we are providing our model with csv data so we specify `text/csv`. Also, if the test data that we have provided is too large to process all at once then we need to specify how the data file should be split up. Since each line is a single entry in our data set we tell SageMaker that it can split the input on each line."
   ]
  },
  {
   "cell_type": "code",
   "execution_count": 25,
   "metadata": {},
   "outputs": [],
   "source": [
    "xgb_transformer.transform(test_location, content_type='text/csv', split_type='Line')"
   ]
  },
  {
   "cell_type": "markdown",
   "metadata": {},
   "source": [
    "Currently the transform job is running but it is doing so in the background. Since we wish to wait until the transform job is done and we would like a bit of feedback we can run the `wait()` method."
   ]
  },
  {
   "cell_type": "code",
   "execution_count": 26,
   "metadata": {},
   "outputs": [
    {
     "name": "stdout",
     "output_type": "stream",
     "text": [
      ".......................\u001b[34mArguments: serve\u001b[0m\n",
      "\u001b[34m[2020-06-10 15:03:26 +0000] [1] [INFO] Starting gunicorn 19.7.1\u001b[0m\n",
      "\u001b[34m[2020-06-10 15:03:26 +0000] [1] [INFO] Listening at: http://0.0.0.0:8080 (1)\u001b[0m\n",
      "\u001b[34m[2020-06-10 15:03:26 +0000] [1] [INFO] Using worker: gevent\u001b[0m\n",
      "\u001b[34m[2020-06-10 15:03:26 +0000] [37] [INFO] Booting worker with pid: 37\u001b[0m\n",
      "\u001b[34m[2020-06-10 15:03:26 +0000] [38] [INFO] Booting worker with pid: 38\u001b[0m\n",
      "\u001b[34m[2020-06-10 15:03:26 +0000] [39] [INFO] Booting worker with pid: 39\u001b[0m\n",
      "\u001b[34m[2020-06-10:15:03:26:INFO] Model loaded successfully for worker : 37\u001b[0m\n",
      "\u001b[34m[2020-06-10:15:03:26:INFO] Model loaded successfully for worker : 38\u001b[0m\n",
      "\u001b[34m[2020-06-10:15:03:26:INFO] Model loaded successfully for worker : 39\u001b[0m\n",
      "\u001b[34m[2020-06-10 15:03:26 +0000] [40] [INFO] Booting worker with pid: 40\u001b[0m\n",
      "\u001b[34m[2020-06-10:15:03:26:INFO] Model loaded successfully for worker : 40\u001b[0m\n",
      "\u001b[32m2020-06-10T15:04:08.336:[sagemaker logs]: MaxConcurrentTransforms=4, MaxPayloadInMB=6, BatchStrategy=MULTI_RECORD\u001b[0m\n",
      "\u001b[34m[2020-06-10:15:04:11:INFO] Sniff delimiter as ','\u001b[0m\n",
      "\u001b[34m[2020-06-10:15:04:11:INFO] Determined delimiter of CSV input is ','\u001b[0m\n",
      "\u001b[34m[2020-06-10:15:04:11:INFO] Sniff delimiter as ','\u001b[0m\n",
      "\u001b[34m[2020-06-10:15:04:11:INFO] Determined delimiter of CSV input is ','\u001b[0m\n",
      "\u001b[34m[2020-06-10:15:04:11:INFO] Sniff delimiter as ','\u001b[0m\n",
      "\u001b[34m[2020-06-10:15:04:11:INFO] Determined delimiter of CSV input is ','\u001b[0m\n",
      "\u001b[35m[2020-06-10:15:04:11:INFO] Sniff delimiter as ','\u001b[0m\n",
      "\u001b[35m[2020-06-10:15:04:11:INFO] Determined delimiter of CSV input is ','\u001b[0m\n",
      "\u001b[35m[2020-06-10:15:04:11:INFO] Sniff delimiter as ','\u001b[0m\n",
      "\u001b[35m[2020-06-10:15:04:11:INFO] Determined delimiter of CSV input is ','\u001b[0m\n",
      "\u001b[35m[2020-06-10:15:04:11:INFO] Sniff delimiter as ','\u001b[0m\n",
      "\u001b[35m[2020-06-10:15:04:11:INFO] Determined delimiter of CSV input is ','\u001b[0m\n",
      "\u001b[34m[2020-06-10:15:04:11:INFO] Sniff delimiter as ','\u001b[0m\n",
      "\u001b[34m[2020-06-10:15:04:11:INFO] Determined delimiter of CSV input is ','\u001b[0m\n",
      "\u001b[35m[2020-06-10:15:04:11:INFO] Sniff delimiter as ','\u001b[0m\n",
      "\u001b[35m[2020-06-10:15:04:11:INFO] Determined delimiter of CSV input is ','\u001b[0m\n",
      "\u001b[34m[2020-06-10:15:04:13:INFO] Sniff delimiter as ','\u001b[0m\n",
      "\u001b[34m[2020-06-10:15:04:13:INFO] Determined delimiter of CSV input is ','\u001b[0m\n",
      "\u001b[34m[2020-06-10:15:04:13:INFO] Sniff delimiter as ','\u001b[0m\n",
      "\u001b[34m[2020-06-10:15:04:13:INFO] Determined delimiter of CSV input is ','\u001b[0m\n",
      "\u001b[34m[2020-06-10:15:04:13:INFO] Sniff delimiter as ','\u001b[0m\n",
      "\u001b[34m[2020-06-10:15:04:13:INFO] Determined delimiter of CSV input is ','\u001b[0m\n",
      "\u001b[34m[2020-06-10:15:04:14:INFO] Sniff delimiter as ','\u001b[0m\n",
      "\u001b[34m[2020-06-10:15:04:14:INFO] Determined delimiter of CSV input is ','\u001b[0m\n",
      "\u001b[35m[2020-06-10:15:04:13:INFO] Sniff delimiter as ','\u001b[0m\n",
      "\u001b[35m[2020-06-10:15:04:13:INFO] Determined delimiter of CSV input is ','\u001b[0m\n",
      "\u001b[35m[2020-06-10:15:04:13:INFO] Sniff delimiter as ','\u001b[0m\n",
      "\u001b[35m[2020-06-10:15:04:13:INFO] Determined delimiter of CSV input is ','\u001b[0m\n",
      "\u001b[35m[2020-06-10:15:04:13:INFO] Sniff delimiter as ','\u001b[0m\n",
      "\u001b[35m[2020-06-10:15:04:13:INFO] Determined delimiter of CSV input is ','\u001b[0m\n",
      "\u001b[35m[2020-06-10:15:04:14:INFO] Sniff delimiter as ','\u001b[0m\n",
      "\u001b[35m[2020-06-10:15:04:14:INFO] Determined delimiter of CSV input is ','\u001b[0m\n",
      "\u001b[34m[2020-06-10:15:04:18:INFO] Sniff delimiter as ','\u001b[0m\n",
      "\u001b[34m[2020-06-10:15:04:18:INFO] Determined delimiter of CSV input is ','\u001b[0m\n",
      "\u001b[34m[2020-06-10:15:04:18:INFO] Sniff delimiter as ','\u001b[0m\n",
      "\u001b[34m[2020-06-10:15:04:18:INFO] Determined delimiter of CSV input is ','\u001b[0m\n",
      "\u001b[34m[2020-06-10:15:04:18:INFO] Sniff delimiter as ','\u001b[0m\n",
      "\u001b[34m[2020-06-10:15:04:18:INFO] Determined delimiter of CSV input is ','\u001b[0m\n",
      "\u001b[34m[2020-06-10:15:04:19:INFO] Sniff delimiter as ','\u001b[0m\n",
      "\u001b[34m[2020-06-10:15:04:19:INFO] Determined delimiter of CSV input is ','\u001b[0m\n",
      "\u001b[35m[2020-06-10:15:04:18:INFO] Sniff delimiter as ','\u001b[0m\n",
      "\u001b[35m[2020-06-10:15:04:18:INFO] Determined delimiter of CSV input is ','\u001b[0m\n",
      "\u001b[35m[2020-06-10:15:04:18:INFO] Sniff delimiter as ','\u001b[0m\n",
      "\u001b[35m[2020-06-10:15:04:18:INFO] Determined delimiter of CSV input is ','\u001b[0m\n",
      "\u001b[35m[2020-06-10:15:04:18:INFO] Sniff delimiter as ','\u001b[0m\n",
      "\u001b[35m[2020-06-10:15:04:18:INFO] Determined delimiter of CSV input is ','\u001b[0m\n",
      "\u001b[35m[2020-06-10:15:04:19:INFO] Sniff delimiter as ','\u001b[0m\n",
      "\u001b[35m[2020-06-10:15:04:19:INFO] Determined delimiter of CSV input is ','\u001b[0m\n",
      "\u001b[34m[2020-06-10:15:04:21:INFO] Sniff delimiter as ','\u001b[0m\n",
      "\u001b[34m[2020-06-10:15:04:21:INFO] Determined delimiter of CSV input is ','\u001b[0m\n",
      "\u001b[34m[2020-06-10:15:04:21:INFO] Sniff delimiter as ','\u001b[0m\n",
      "\u001b[34m[2020-06-10:15:04:21:INFO] Determined delimiter of CSV input is ','\u001b[0m\n",
      "\u001b[34m[2020-06-10:15:04:21:INFO] Sniff delimiter as ','\u001b[0m\n",
      "\u001b[34m[2020-06-10:15:04:21:INFO] Determined delimiter of CSV input is ','\u001b[0m\n",
      "\u001b[35m[2020-06-10:15:04:21:INFO] Sniff delimiter as ','\u001b[0m\n",
      "\u001b[35m[2020-06-10:15:04:21:INFO] Determined delimiter of CSV input is ','\u001b[0m\n",
      "\u001b[35m[2020-06-10:15:04:21:INFO] Sniff delimiter as ','\u001b[0m\n",
      "\u001b[35m[2020-06-10:15:04:21:INFO] Determined delimiter of CSV input is ','\u001b[0m\n",
      "\u001b[35m[2020-06-10:15:04:21:INFO] Sniff delimiter as ','\u001b[0m\n",
      "\u001b[35m[2020-06-10:15:04:21:INFO] Determined delimiter of CSV input is ','\u001b[0m\n",
      "\u001b[34m[2020-06-10:15:04:21:INFO] Sniff delimiter as ','\u001b[0m\n",
      "\u001b[34m[2020-06-10:15:04:21:INFO] Determined delimiter of CSV input is ','\u001b[0m\n",
      "\u001b[35m[2020-06-10:15:04:21:INFO] Sniff delimiter as ','\u001b[0m\n",
      "\u001b[35m[2020-06-10:15:04:21:INFO] Determined delimiter of CSV input is ','\u001b[0m\n",
      "\u001b[34m[2020-06-10:15:04:23:INFO] Sniff delimiter as ','\u001b[0m\n",
      "\u001b[34m[2020-06-10:15:04:23:INFO] Determined delimiter of CSV input is ','\u001b[0m\n",
      "\u001b[34m[2020-06-10:15:04:23:INFO] Sniff delimiter as ','\u001b[0m\n",
      "\u001b[34m[2020-06-10:15:04:23:INFO] Determined delimiter of CSV input is ','\u001b[0m\n",
      "\u001b[34m[2020-06-10:15:04:23:INFO] Sniff delimiter as ','\u001b[0m\n",
      "\u001b[34m[2020-06-10:15:04:23:INFO] Determined delimiter of CSV input is ','\u001b[0m\n",
      "\u001b[34m[2020-06-10:15:04:24:INFO] Sniff delimiter as ','\u001b[0m\n",
      "\u001b[34m[2020-06-10:15:04:24:INFO] Determined delimiter of CSV input is ','\u001b[0m\n",
      "\u001b[35m[2020-06-10:15:04:23:INFO] Sniff delimiter as ','\u001b[0m\n",
      "\u001b[35m[2020-06-10:15:04:23:INFO] Determined delimiter of CSV input is ','\u001b[0m\n",
      "\u001b[35m[2020-06-10:15:04:23:INFO] Sniff delimiter as ','\u001b[0m\n",
      "\u001b[35m[2020-06-10:15:04:23:INFO] Determined delimiter of CSV input is ','\u001b[0m\n",
      "\u001b[35m[2020-06-10:15:04:23:INFO] Sniff delimiter as ','\u001b[0m\n",
      "\u001b[35m[2020-06-10:15:04:23:INFO] Determined delimiter of CSV input is ','\u001b[0m\n",
      "\u001b[35m[2020-06-10:15:04:24:INFO] Sniff delimiter as ','\u001b[0m\n",
      "\u001b[35m[2020-06-10:15:04:24:INFO] Determined delimiter of CSV input is ','\u001b[0m\n",
      "\u001b[34m[2020-06-10:15:04:28:INFO] Sniff delimiter as ','\u001b[0m\n",
      "\u001b[34m[2020-06-10:15:04:28:INFO] Determined delimiter of CSV input is ','\u001b[0m\n",
      "\u001b[35m[2020-06-10:15:04:28:INFO] Sniff delimiter as ','\u001b[0m\n",
      "\u001b[35m[2020-06-10:15:04:28:INFO] Determined delimiter of CSV input is ','\u001b[0m\n",
      "\u001b[34m[2020-06-10:15:04:28:INFO] Sniff delimiter as ','\u001b[0m\n",
      "\u001b[34m[2020-06-10:15:04:28:INFO] Determined delimiter of CSV input is ','\u001b[0m\n",
      "\u001b[34m[2020-06-10:15:04:28:INFO] Sniff delimiter as ','\u001b[0m\n",
      "\u001b[34m[2020-06-10:15:04:28:INFO] Determined delimiter of CSV input is ','\u001b[0m\n",
      "\u001b[34m[2020-06-10:15:04:29:INFO] Sniff delimiter as ','\u001b[0m\n",
      "\u001b[34m[2020-06-10:15:04:29:INFO] Determined delimiter of CSV input is ','\u001b[0m\n",
      "\u001b[35m[2020-06-10:15:04:28:INFO] Sniff delimiter as ','\u001b[0m\n",
      "\u001b[35m[2020-06-10:15:04:28:INFO] Determined delimiter of CSV input is ','\u001b[0m\n",
      "\u001b[35m[2020-06-10:15:04:28:INFO] Sniff delimiter as ','\u001b[0m\n",
      "\u001b[35m[2020-06-10:15:04:28:INFO] Determined delimiter of CSV input is ','\u001b[0m\n",
      "\u001b[35m[2020-06-10:15:04:29:INFO] Sniff delimiter as ','\u001b[0m\n",
      "\u001b[35m[2020-06-10:15:04:29:INFO] Determined delimiter of CSV input is ','\u001b[0m\n",
      "\u001b[34m[2020-06-10:15:04:30:INFO] Sniff delimiter as ','\u001b[0m\n",
      "\u001b[34m[2020-06-10:15:04:30:INFO] Determined delimiter of CSV input is ','\u001b[0m\n",
      "\u001b[34m[2020-06-10:15:04:31:INFO] Sniff delimiter as ','\u001b[0m\n",
      "\u001b[34m[2020-06-10:15:04:31:INFO] Determined delimiter of CSV input is ','\u001b[0m\n",
      "\u001b[34m[2020-06-10:15:04:31:INFO] Sniff delimiter as ','\u001b[0m\n",
      "\u001b[34m[2020-06-10:15:04:31:INFO] Determined delimiter of CSV input is ','\u001b[0m\n",
      "\u001b[34m[2020-06-10:15:04:31:INFO] Sniff delimiter as ','\u001b[0m\n",
      "\u001b[34m[2020-06-10:15:04:31:INFO] Determined delimiter of CSV input is ','\u001b[0m\n",
      "\u001b[35m[2020-06-10:15:04:30:INFO] Sniff delimiter as ','\u001b[0m\n",
      "\u001b[35m[2020-06-10:15:04:30:INFO] Determined delimiter of CSV input is ','\u001b[0m\n",
      "\u001b[35m[2020-06-10:15:04:31:INFO] Sniff delimiter as ','\u001b[0m\n",
      "\u001b[35m[2020-06-10:15:04:31:INFO] Determined delimiter of CSV input is ','\u001b[0m\n",
      "\u001b[35m[2020-06-10:15:04:31:INFO] Sniff delimiter as ','\u001b[0m\n",
      "\u001b[35m[2020-06-10:15:04:31:INFO] Determined delimiter of CSV input is ','\u001b[0m\n",
      "\u001b[35m[2020-06-10:15:04:31:INFO] Sniff delimiter as ','\u001b[0m\n",
      "\u001b[35m[2020-06-10:15:04:31:INFO] Determined delimiter of CSV input is ','\u001b[0m\n",
      "\u001b[34m[2020-06-10:15:04:33:INFO] Sniff delimiter as ','\u001b[0m\n",
      "\u001b[34m[2020-06-10:15:04:33:INFO] Determined delimiter of CSV input is ','\u001b[0m\n",
      "\u001b[35m[2020-06-10:15:04:33:INFO] Sniff delimiter as ','\u001b[0m\n",
      "\u001b[35m[2020-06-10:15:04:33:INFO] Determined delimiter of CSV input is ','\u001b[0m\n",
      "\u001b[34m[2020-06-10:15:04:33:INFO] Sniff delimiter as ','\u001b[0m\n",
      "\u001b[34m[2020-06-10:15:04:33:INFO] Determined delimiter of CSV input is ','\u001b[0m\n",
      "\u001b[34m[2020-06-10:15:04:33:INFO] Sniff delimiter as ','\u001b[0m\n",
      "\u001b[34m[2020-06-10:15:04:33:INFO] Determined delimiter of CSV input is ','\u001b[0m\n",
      "\u001b[34m[2020-06-10:15:04:33:INFO] Sniff delimiter as ','\u001b[0m\n",
      "\u001b[34m[2020-06-10:15:04:33:INFO] Determined delimiter of CSV input is ','\u001b[0m\n",
      "\u001b[35m[2020-06-10:15:04:33:INFO] Sniff delimiter as ','\u001b[0m\n",
      "\u001b[35m[2020-06-10:15:04:33:INFO] Determined delimiter of CSV input is ','\u001b[0m\n",
      "\u001b[35m[2020-06-10:15:04:33:INFO] Sniff delimiter as ','\u001b[0m\n",
      "\u001b[35m[2020-06-10:15:04:33:INFO] Determined delimiter of CSV input is ','\u001b[0m\n",
      "\u001b[35m[2020-06-10:15:04:33:INFO] Sniff delimiter as ','\u001b[0m\n",
      "\u001b[35m[2020-06-10:15:04:33:INFO] Determined delimiter of CSV input is ','\u001b[0m\n"
     ]
    },
    {
     "name": "stdout",
     "output_type": "stream",
     "text": [
      "\n"
     ]
    }
   ],
   "source": [
    "xgb_transformer.wait()"
   ]
  },
  {
   "cell_type": "markdown",
   "metadata": {},
   "source": [
    "Now the transform job has executed and the result, the estimated sentiment of each review, has been saved on S3. Since we would rather work on this file locally we can perform a bit of notebook magic to copy the file to the `data_dir`."
   ]
  },
  {
   "cell_type": "code",
   "execution_count": 27,
   "metadata": {},
   "outputs": [
    {
     "name": "stdout",
     "output_type": "stream",
     "text": [
      "Completed 256.0 KiB/369.8 KiB (2.1 MiB/s) with 1 file(s) remaining\r",
      "Completed 369.8 KiB/369.8 KiB (3.0 MiB/s) with 1 file(s) remaining\r",
      "download: s3://sagemaker-us-east-1-736760211122/xgboost-2020-06-10-14-59-45-201/test.csv.out to ../data/sentiment_web_app/test.csv.out\r\n"
     ]
    }
   ],
   "source": [
    "!aws s3 cp --recursive $xgb_transformer.output_path $data_dir"
   ]
  },
  {
   "cell_type": "markdown",
   "metadata": {},
   "source": [
    "The last step is now to read in the output from our model, convert the output to something a little more usable, in this case we want the sentiment to be either `1` (positive) or `0` (negative), and then compare to the ground truth labels."
   ]
  },
  {
   "cell_type": "code",
   "execution_count": 28,
   "metadata": {},
   "outputs": [],
   "source": [
    "predictions = pd.read_csv(os.path.join(data_dir, 'test.csv.out'), header=None)\n",
    "predictions = [round(num) for num in predictions.squeeze().values]"
   ]
  },
  {
   "cell_type": "code",
   "execution_count": 29,
   "metadata": {},
   "outputs": [
    {
     "data": {
      "text/plain": [
       "0.85656"
      ]
     },
     "execution_count": 29,
     "metadata": {},
     "output_type": "execute_result"
    }
   ],
   "source": [
    "from sklearn.metrics import accuracy_score\n",
    "accuracy_score(test_y, predictions)"
   ]
  },
  {
   "cell_type": "markdown",
   "metadata": {},
   "source": [
    "## Step 6: Deploying the model\n",
    "\n",
    "Once we construct and fit our model, SageMaker stores the resulting model artifacts and we can use those to deploy an endpoint (inference code). To see this, look in the SageMaker console and you should see that a model has been created along with a link to the S3 location where the model artifacts have been stored.\n",
    "\n",
    "Deploying an endpoint is a lot like training the model with a few important differences. The first is that a deployed model doesn't change the model artifacts, so as you send it various testing instances the model won't change. Another difference is that since we aren't performing a fixed computation, as we were in the training step or while performing a batch transform, the compute instance that gets started stays running until we tell it to stop. This is important to note as if we forget and leave it running we will be charged the entire time.\n",
    "\n",
    "In other words **If you are no longer using a deployed endpoint, shut it down!**"
   ]
  },
  {
   "cell_type": "code",
   "execution_count": 31,
   "metadata": {},
   "outputs": [
    {
     "name": "stderr",
     "output_type": "stream",
     "text": [
      "WARNING:sagemaker:Using already existing model: xgboost-2020-06-10-14-51-49-906\n"
     ]
    },
    {
     "name": "stdout",
     "output_type": "stream",
     "text": [
      "---------------!"
     ]
    }
   ],
   "source": [
    "xgb_predictor = xgb.deploy(initial_instance_count = 1, instance_type = 'ml.m4.xlarge')"
   ]
  },
  {
   "cell_type": "markdown",
   "metadata": {},
   "source": [
    "### Testing the model (again)\n",
    "\n",
    "Now that we have deployed our endpoint, we can send the testing data to it and get back the inference results. We already did this earlier using the batch transform functionality of SageMaker, however, we will test our model again using the newly deployed endpoint so that we can make sure that it works properly and to get a bit of a feel for how the endpoint works.\n",
    "\n",
    "When using the created endpoint it is important to know that we are limited in the amount of information we can send in each call so we need to break the testing data up into chunks and then send each chunk. Also, we need to serialize our data before we send it to the endpoint to ensure that our data is transmitted properly. Fortunately, SageMaker can do the serialization part for us provided we tell it the format of our data."
   ]
  },
  {
   "cell_type": "code",
   "execution_count": 32,
   "metadata": {},
   "outputs": [],
   "source": [
    "from sagemaker.predictor import csv_serializer\n",
    "\n",
    "# We need to tell the endpoint what format the data we are sending is in so that SageMaker can perform the serialization.\n",
    "xgb_predictor.content_type = 'text/csv'\n",
    "xgb_predictor.serializer = csv_serializer"
   ]
  },
  {
   "cell_type": "code",
   "execution_count": 33,
   "metadata": {},
   "outputs": [],
   "source": [
    "# We split the data into chunks and send each chunk seperately, accumulating the results.\n",
    "\n",
    "def predict(data, rows=512):\n",
    "    split_array = np.array_split(data, int(data.shape[0] / float(rows) + 1))\n",
    "    predictions = ''\n",
    "    for array in split_array:\n",
    "        predictions = ','.join([predictions, xgb_predictor.predict(array).decode('utf-8')])\n",
    "    \n",
    "    return np.fromstring(predictions[1:], sep=',')"
   ]
  },
  {
   "cell_type": "code",
   "execution_count": 34,
   "metadata": {},
   "outputs": [],
   "source": [
    "test_X = pd.read_csv(os.path.join(data_dir, 'test.csv'), header=None).values\n",
    "\n",
    "predictions = predict(test_X)\n",
    "predictions = [round(num) for num in predictions]"
   ]
  },
  {
   "cell_type": "markdown",
   "metadata": {},
   "source": [
    "Lastly, we check to see what the accuracy of our model is."
   ]
  },
  {
   "cell_type": "code",
   "execution_count": 35,
   "metadata": {},
   "outputs": [
    {
     "data": {
      "text/plain": [
       "0.85656"
      ]
     },
     "execution_count": 35,
     "metadata": {},
     "output_type": "execute_result"
    }
   ],
   "source": [
    "from sklearn.metrics import accuracy_score\n",
    "accuracy_score(test_y, predictions)"
   ]
  },
  {
   "cell_type": "markdown",
   "metadata": {},
   "source": [
    "And the results here should agree with the model testing that we did earlier using the batch transform job.\n",
    "\n",
    "### Cleaning up\n",
    "\n",
    "Now that we've determined that deploying our model works as expected, we are going to shut it down. Remember that the longer the endpoint is left running, the greater the cost and since we have a bit more work to do before we are able to use our endpoint with our simple web app, we should shut everything down."
   ]
  },
  {
   "cell_type": "code",
   "execution_count": null,
   "metadata": {},
   "outputs": [],
   "source": [
    "xgb_predictor.delete_endpoint()"
   ]
  },
  {
   "cell_type": "markdown",
   "metadata": {},
   "source": [
    "## Step 7: Putting our model to work\n",
    "\n",
    "As we've mentioned a few times now, our goal is to have our model deployed and then access it using a very simple web app. The intent is for this web app to take some user submitted data (a review), send it off to our endpoint (the model) and then display the result.\n",
    "\n",
    "However, there is a small catch. Currently the only way we can access the endpoint to send it data is using the SageMaker API. We can, if we wish, expose the actual URL that our model's endpoint is receiving data from, however, if we just send it data ourselves we will not get anything in return. This is because the endpoint created by SageMaker requires the entity accessing it have the correct permissions. So, we would need to somehow authenticate our web app with AWS.\n",
    "\n",
    "Having a website that authenticates to AWS seems a bit beyond the scope of this lesson so we will opt for an alternative approach. Namely, we will create a new endpoint which does not require authentication and which acts as a proxy for the SageMaker endpoint.\n",
    "\n",
    "As an additional constraint, we will try to avoid doing any data processing in the web app itself. Remember that when we constructed and tested our model we started with a movie review, then we simplified it by removing any html formatting and punctuation, then we constructed a bag of words embedding and the resulting vector is what we sent to our model. All of this needs to be done to our user input as well.\n",
    "\n",
    "Fortunately we can do all of this data processing in the backend, using Amazon's Lambda service.\n",
    "\n",
    "<img src=\"Web App Diagram.svg\">\n",
    "\n",
    "The diagram above gives an overview of how the various services will work together. On the far right is the model which we trained above and which will be deployed using SageMaker. On the far left is our web app that collects a user's movie review, sends it off and expects a positive or negative sentiment in return.\n",
    "\n",
    "In the middle is where some of the magic happens. We will construct a Lambda function, which you can think of as a straightforward Python function that can be executed whenever a specified event occurs. This Python function will do the data processing we need to perform on a user submitted review. In addition, we will give this function permission to send and recieve data from a SageMaker endpoint.\n",
    "\n",
    "Lastly, the method we will use to execute the Lambda function is a new endpoint that we will create using API Gateway. This endpoint will be a url that listens for data to be sent to it. Once it gets some data it will pass that data on to the Lambda function and then return whatever the Lambda function returns. Essentially it will act as an interface that lets our web app communicate with the Lambda function.\n",
    "\n",
    "### Processing a single review\n",
    "\n",
    "For now, suppose we are given a movie review by our user in the form of a string, like so:"
   ]
  },
  {
   "cell_type": "code",
   "execution_count": 37,
   "metadata": {},
   "outputs": [],
   "source": [
    "test_review = \"Nothing but a disgusting materialistic pageant of glistening abed remote control greed zombies, totally devoid of any heart or heat. A romantic comedy that has zero romantic chemestry and zero laughs!\""
   ]
  },
  {
   "cell_type": "markdown",
   "metadata": {},
   "source": [
    "How do we go from this string to the bag of words feature vector that is expected by our model?\n",
    "\n",
    "If we recall at the beginning of this notebook, the first step is to remove any unnecessary characters using the `review_to_words` method. Remember that we intentionally did this in a very simplistic way. This is because we are going to have to copy this method to our (eventual) Lambda function (we will go into more detail later) and this means it needs to be rather simplistic."
   ]
  },
  {
   "cell_type": "code",
   "execution_count": 38,
   "metadata": {},
   "outputs": [
    {
     "name": "stdout",
     "output_type": "stream",
     "text": [
      "nothing but a disgusting materialistic pageant of glistening abed remote control greed zombies totally devoid of any heart or heat a romantic comedy that has zero romantic chemestry and zero laughs\n"
     ]
    }
   ],
   "source": [
    "test_words = review_to_words(test_review)\n",
    "print(test_words)"
   ]
  },
  {
   "cell_type": "markdown",
   "metadata": {},
   "source": [
    "Next, we need to construct a bag of words embedding of the `test_words` string. To do this, remember that a bag of words embedding uses a `vocabulary` consisting of the most frequently appearing words in a set of documents. Then, for each word in the vocabulary we record the number of times that word appears in `test_words`. We constructed the `vocabulary` earlier using the training set for our problem so encoding `test_words` is relatively straightforward."
   ]
  },
  {
   "cell_type": "code",
   "execution_count": 39,
   "metadata": {},
   "outputs": [],
   "source": [
    "def bow_encoding(words, vocabulary):\n",
    "    bow = [0] * len(vocabulary) # Start by setting the count for each word in the vocabulary to zero.\n",
    "    for word in words.split():  # For each word in the string\n",
    "        if word in vocabulary:  # If the word is one that occurs in the vocabulary, increase its count.\n",
    "            bow[vocabulary[word]] += 1\n",
    "    return bow"
   ]
  },
  {
   "cell_type": "code",
   "execution_count": 40,
   "metadata": {},
   "outputs": [
    {
     "name": "stdout",
     "output_type": "stream",
     "text": [
      "[0, 0, 0, 0, 0, 0, 0, 0, 0, 0, 0, 0, 0, 0, 0, 0, 0, 0, 0, 0, 0, 0, 0, 0, 0, 0, 0, 0, 0, 0, 0, 0, 0, 0, 0, 0, 0, 0, 0, 0, 0, 0, 0, 0, 0, 0, 0, 0, 0, 0, 0, 0, 0, 0, 0, 0, 0, 0, 0, 0, 0, 0, 0, 0, 0, 0, 0, 0, 0, 0, 0, 0, 0, 0, 0, 0, 0, 0, 0, 0, 0, 0, 0, 0, 0, 0, 0, 0, 0, 0, 0, 0, 0, 0, 0, 0, 0, 0, 0, 0, 0, 0, 0, 0, 0, 0, 0, 0, 0, 0, 0, 0, 0, 0, 0, 0, 0, 0, 0, 0, 0, 0, 0, 0, 0, 0, 0, 0, 0, 0, 0, 0, 0, 0, 0, 0, 0, 0, 0, 0, 0, 0, 0, 0, 0, 0, 0, 0, 0, 0, 0, 0, 0, 0, 0, 0, 0, 0, 0, 0, 0, 0, 0, 0, 0, 0, 0, 0, 0, 0, 0, 0, 0, 0, 0, 0, 0, 0, 0, 0, 0, 0, 0, 0, 0, 0, 0, 0, 0, 0, 0, 0, 0, 0, 0, 0, 0, 0, 0, 0, 0, 0, 0, 0, 0, 0, 0, 0, 0, 0, 0, 0, 0, 0, 0, 0, 0, 0, 0, 0, 0, 0, 0, 0, 0, 0, 1, 0, 0, 0, 0, 0, 0, 0, 0, 0, 0, 0, 0, 0, 0, 0, 0, 0, 0, 0, 0, 0, 0, 0, 0, 0, 0, 0, 0, 0, 1, 0, 0, 0, 0, 0, 0, 0, 0, 0, 0, 0, 0, 0, 0, 0, 0, 0, 0, 0, 0, 0, 0, 0, 0, 0, 0, 0, 0, 0, 0, 0, 0, 0, 0, 0, 0, 0, 0, 0, 0, 0, 0, 0, 0, 0, 0, 0, 0, 0, 0, 0, 0, 0, 0, 0, 0, 0, 0, 0, 0, 0, 0, 0, 0, 0, 0, 0, 0, 0, 0, 0, 0, 0, 0, 0, 0, 0, 0, 0, 0, 0, 0, 0, 0, 0, 0, 0, 0, 0, 0, 0, 0, 0, 0, 0, 0, 0, 0, 0, 0, 0, 0, 0, 0, 0, 0, 0, 0, 0, 0, 0, 0, 0, 0, 0, 0, 0, 0, 0, 0, 0, 0, 0, 0, 0, 0, 0, 0, 0, 0, 0, 0, 0, 0, 0, 0, 0, 0, 0, 0, 0, 0, 0, 0, 0, 0, 0, 0, 0, 0, 0, 0, 0, 0, 0, 0, 0, 0, 0, 0, 0, 0, 0, 0, 0, 0, 0, 0, 0, 0, 0, 0, 0, 0, 0, 0, 0, 0, 0, 0, 0, 0, 0, 0, 0, 0, 0, 0, 0, 0, 0, 0, 0, 0, 0, 0, 0, 0, 0, 0, 0, 0, 0, 0, 0, 0, 0, 0, 0, 0, 0, 0, 0, 0, 0, 0, 0, 0, 0, 0, 0, 0, 0, 0, 0, 0, 0, 0, 0, 0, 0, 0, 0, 0, 0, 0, 0, 0, 0, 0, 0, 0, 0, 0, 0, 0, 0, 0, 0, 0, 0, 0, 0, 0, 0, 0, 0, 0, 0, 0, 0, 0, 0, 0, 0, 0, 0, 0, 0, 0, 0, 0, 0, 0, 0, 0, 0, 0, 0, 0, 0, 0, 0, 0, 0, 0, 0, 0, 0, 0, 0, 0, 0, 0, 0, 0, 0, 0, 0, 0, 0, 0, 0, 0, 0, 0, 0, 0, 0, 0, 0, 0, 0, 0, 0, 0, 0, 0, 0, 0, 0, 0, 0, 0, 0, 0, 0, 0, 0, 0, 0, 0, 0, 0, 0, 0, 0, 0, 0, 0, 0, 0, 0, 0, 0, 0, 0, 0, 0, 0, 0, 0, 0, 0, 0, 0, 0, 0, 0, 0, 0, 0, 0, 0, 0, 0, 0, 0, 0, 0, 0, 0, 0, 0, 0, 0, 0, 0, 0, 1, 0, 0, 0, 0, 0, 0, 0, 0, 0, 0, 0, 0, 0, 0, 0, 0, 0, 0, 0, 0, 0, 0, 0, 0, 0, 0, 0, 0, 0, 0, 0, 0, 0, 0, 0, 0, 0, 0, 0, 0, 0, 0, 0, 0, 0, 0, 0, 0, 0, 0, 0, 0, 0, 0, 0, 0, 0, 0, 0, 0, 0, 0, 0, 0, 0, 0, 0, 0, 0, 0, 0, 0, 0, 0, 0, 0, 0, 0, 0, 0, 0, 0, 0, 0, 0, 0, 0, 0, 0, 0, 0, 0, 0, 0, 0, 0, 0, 0, 0, 0, 0, 0, 0, 0, 0, 0, 0, 0, 0, 0, 0, 0, 0, 0, 0, 0, 0, 0, 0, 0, 0, 0, 0, 0, 0, 0, 0, 0, 0, 0, 0, 0, 0, 0, 0, 0, 0, 0, 0, 0, 0, 0, 0, 0, 0, 0, 0, 0, 0, 0, 0, 0, 0, 0, 0, 0, 0, 0, 0, 0, 0, 0, 0, 0, 0, 0, 0, 0, 0, 0, 0, 0, 0, 0, 0, 0, 0, 0, 0, 0, 0, 0, 0, 0, 0, 0, 0, 0, 0, 0, 0, 0, 0, 0, 0, 0, 0, 0, 0, 0, 0, 0, 0, 0, 0, 0, 0, 0, 0, 0, 0, 0, 0, 0, 0, 0, 0, 0, 0, 0, 0, 0, 0, 0, 0, 0, 0, 0, 0, 0, 0, 0, 0, 0, 0, 0, 0, 0, 0, 0, 0, 0, 0, 0, 0, 0, 0, 0, 0, 0, 0, 0, 0, 1, 0, 0, 0, 0, 0, 0, 0, 0, 0, 0, 0, 0, 0, 0, 0, 0, 0, 0, 0, 0, 0, 0, 0, 0, 0, 0, 0, 0, 0, 0, 0, 0, 0, 0, 0, 0, 0, 0, 0, 0, 0, 0, 0, 0, 0, 0, 0, 0, 0, 0, 0, 0, 0, 0, 0, 0, 0, 0, 0, 0, 0, 0, 0, 0, 0, 0, 0, 0, 0, 0, 0, 0, 0, 0, 0, 0, 0, 0, 0, 0, 0, 0, 0, 0, 0, 0, 1, 0, 0, 0, 0, 0, 0, 0, 0, 0, 0, 0, 0, 0, 0, 0, 0, 0, 0, 0, 0, 0, 0, 0, 0, 0, 0, 0, 0, 0, 0, 0, 0, 0, 0, 0, 0, 0, 0, 0, 0, 0, 0, 0, 0, 0, 0, 0, 0, 0, 0, 0, 0, 0, 0, 0, 0, 0, 0, 0, 0, 0, 0, 0, 0, 0, 0, 0, 0, 0, 0, 0, 0, 0, 0, 0, 0, 0, 0, 0, 0, 0, 0, 0, 0, 0, 0, 0, 0, 0, 0, 0, 0, 0, 0, 0, 0, 0, 0, 0, 0, 0, 0, 0, 0, 0, 0, 0, 0, 0, 0, 0, 0, 0, 0, 0, 0, 0, 0, 0, 0, 0, 0, 0, 0, 0, 0, 0, 0, 0, 0, 0, 0, 0, 0, 0, 0, 0, 0, 0, 0, 0, 0, 0, 0, 0, 0, 0, 0, 0, 0, 0, 0, 0, 0, 0, 0, 0, 0, 0, 0, 0, 0, 0, 0, 0, 0, 0, 0, 0, 0, 0, 0, 0, 0, 0, 0, 0, 0, 0, 0, 0, 0, 0, 0, 0, 0, 0, 0, 0, 0, 0, 0, 0, 0, 0, 0, 0, 0, 0, 0, 0, 0, 0, 0, 0, 0, 0, 0, 0, 0, 0, 0, 0, 0, 0, 0, 0, 0, 0, 0, 0, 0, 0, 0, 0, 0, 0, 0, 0, 0, 0, 0, 0, 0, 0, 0, 0, 0, 0, 0, 0, 0, 0, 0, 0, 0, 0, 0, 0, 0, 0, 0, 1, 0, 0, 0, 0, 0, 0, 0, 0, 0, 0, 0, 0, 0, 0, 0, 0, 0, 0, 0, 0, 0, 0, 0, 0, 0, 0, 0, 0, 0, 0, 0, 0, 0, 0, 0, 0, 0, 0, 0, 0, 0, 0, 0, 0, 0, 0, 0, 0, 0, 0, 0, 0, 0, 0, 0, 1, 0, 0, 0, 0, 0, 0, 0, 0, 0, 0, 0, 0, 0, 0, 0, 0, 0, 0, 0, 0, 0, 0, 0, 0, 0, 0, 0, 0, 0, 0, 0, 0, 0, 0, 0, 0, 0, 0, 0, 0, 0, 0, 0, 0, 0, 0, 0, 0, 0, 0, 0, 0, 0, 0, 0, 0, 0, 0, 0, 0, 0, 0, 0, 0, 0, 0, 0, 0, 0, 0, 0, 0, 0, 0, 0, 0, 0, 0, 0, 0, 0, 0, 0, 0, 0, 0, 0, 0, 0, 0, 0, 0, 0, 0, 0, 0, 0, 0, 0, 0, 0, 0, 0, 0, 0, 0, 0, 0, 0, 0, 0, 0, 0, 0, 0, 0, 0, 0, 0, 0, 0, 0, 0, 0, 0, 0, 0, 0, 0, 0, 0, 0, 0, 0, 0, 0, 0, 0, 0, 0, 0, 0, 0, 0, 0, 0, 0, 0, 0, 0, 0, 0, 0, 0, 0, 0, 0, 0, 0, 0, 0, 0, 0, 0, 0, 0, 0, 0, 0, 0, 0, 0, 0, 0, 0, 0, 0, 0, 0, 0, 0, 0, 0, 0, 0, 0, 0, 0, 0, 0, 0, 0, 0, 0, 0, 0, 0, 0, 0, 0, 0, 0, 0, 0, 0, 0, 0, 0, 0, 0, 0, 0, 0, 0, 0, 0, 0, 0, 0, 0, 0, 0, 0, 0, 0, 0, 0, 0, 0, 0, 0, 0, 0, 0, 0, 0, 0, 0, 0, 0, 0, 0, 0, 0, 0, 0, 0, 0, 0, 0, 0, 0, 0, 0, 0, 0, 0, 0, 0, 0, 0, 0, 0, 0, 0, 0, 0, 0, 0, 0, 0, 0, 0, 0, 0, 0, 0, 0, 0, 0, 0, 0, 0, 0, 0, 0, 0, 0, 0, 0, 0, 0, 0, 0, 0, 0, 0, 0, 0, 0, 0, 0, 0, 0, 0, 0, 0, 0, 0, 0, 0, 0, 0, 0, 0, 0, 0, 0, 0, 0, 0, 0, 0, 0, 0, 0, 0, 0, 0, 0, 0, 0, 0, 0, 0, 0, 0, 0, 0, 0, 0, 0, 0, 0, 0, 0, 0, 0, 0, 0, 0, 0, 0, 0, 0, 0, 0, 0, 0, 0, 0, 0, 0, 0, 0, 0, 0, 0, 0, 0, 0, 0, 0, 0, 0, 0, 0, 0, 0, 0, 0, 0, 0, 0, 0, 0, 0, 0, 0, 0, 0, 0, 0, 0, 0, 0, 0, 0, 0, 0, 0, 0, 0, 0, 0, 0, 0, 0, 0, 0, 0, 0, 0, 0, 0, 0, 0, 0, 0, 0, 0, 0, 0, 0, 0, 0, 0, 0, 0, 0, 0, 0, 0, 0, 0, 0, 0, 0, 0, 0, 0, 0, 0, 0, 0, 0, 0, 0, 0, 0, 0, 0, 0, 0, 0, 0, 0, 0, 0, 0, 0, 0, 0, 0, 0, 0, 0, 0, 0, 0, 0, 0, 0, 0, 0, 0, 0, 0, 0, 0, 0, 0, 0, 0, 0, 0, 0, 0, 0, 0, 0, 0, 0, 0, 0, 0, 0, 0, 0, 0, 0, 0, 0, 0, 0, 0, 0, 0, 0, 0, 0, 0, 0, 0, 0, 0, 0, 0, 0, 0, 0, 0, 0, 0, 0, 0, 0, 0, 0, 0, 0, 0, 0, 0, 0, 0, 0, 0, 0, 0, 0, 0, 0, 0, 0, 0, 0, 0, 0, 0, 0, 0, 0, 0, 0, 0, 0, 0, 0, 0, 0, 0, 0, 0, 0, 0, 0, 0, 0, 0, 0, 0, 0, 0, 0, 0, 0, 0, 0, 0, 0, 0, 0, 0, 0, 0, 0, 0, 0, 0, 0, 0, 0, 0, 0, 0, 0, 0, 0, 0, 0, 0, 0, 0, 0, 0, 0, 0, 0, 0, 0, 0, 0, 0, 0, 0, 0, 0, 0, 0, 0, 0, 0, 0, 0, 0, 0, 0, 0, 0, 0, 0, 0, 0, 0, 0, 0, 0, 0, 0, 0, 0, 0, 0, 0, 0, 0, 0, 0, 0, 0, 0, 0, 0, 0, 0, 0, 0, 0, 0, 0, 0, 0, 0, 0, 0, 0, 0, 0, 0, 0, 0, 0, 0, 0, 0, 0, 0, 0, 0, 0, 1, 0, 0, 0, 0, 0, 0, 0, 0, 0, 0, 0, 0, 0, 0, 0, 0, 0, 0, 0, 0, 0, 0, 0, 0, 0, 0, 0, 0, 0, 0, 0, 0, 0, 0, 0, 0, 0, 0, 0, 0, 0, 0, 0, 0, 0, 0, 0, 0, 0, 0, 0, 0, 0, 0, 0, 0, 0, 0, 0, 0, 0, 0, 0, 0, 0, 0, 0, 0, 0, 0, 0, 0, 0, 0, 1, 0, 0, 0, 0, 0, 0, 0, 0, 0, 0, 0, 0, 0, 0, 0, 0, 0, 0, 0, 0, 1, 0, 0, 1, 0, 0, 0, 0, 0, 0, 0, 0, 0, 0, 0, 0, 0, 0, 0, 0, 0, 0, 0, 0, 0, 0, 0, 0, 0, 0, 0, 0, 0, 0, 0, 0, 0, 0, 0, 0, 0, 0, 0, 0, 0, 0, 0, 0, 0, 0, 0, 0, 0, 0, 0, 0, 0, 0, 0, 0, 0, 0, 0, 0, 0, 0, 0, 0, 0, 0, 0, 0, 0, 0, 0, 0, 0, 0, 0, 0, 0, 0, 0, 0, 0, 0, 0, 0, 0, 0, 0, 0, 0, 0, 0, 0, 0, 0, 0, 0, 0, 0, 0, 0, 0, 0, 0, 0, 0, 0, 0, 0, 0, 0, 0, 0, 0, 0, 0, 0, 0, 0, 0, 0, 0, 0, 0, 0, 0, 0, 0, 0, 0, 0, 0, 0, 0, 0, 0, 0, 0, 0, 0, 0, 0, 0, 0, 0, 0, 0, 0, 0, 0, 0, 0, 0, 0, 0, 0, 0, 0, 0, 0, 0, 0, 0, 0, 0, 0, 0, 0, 0, 0, 0, 0, 0, 0, 0, 0, 0, 0, 0, 0, 0, 0, 0, 0, 0, 0, 0, 0, 0, 0, 0, 0, 0, 0, 0, 0, 0, 0, 0, 0, 0, 0, 0, 0, 0, 0, 0, 0, 0, 0, 0, 0, 0, 0, 0, 0, 0, 0, 0, 0, 0, 0, 0, 0, 0, 0, 0, 0, 0, 0, 0, 0, 0, 0, 0, 0, 0, 0, 0, 0, 0, 0, 0, 0, 0, 0, 0, 0, 0, 0, 0, 0, 0, 0, 0, 0, 0, 0, 0, 0, 0, 0, 0, 0, 0, 0, 0, 0, 0, 0, 0, 0, 0, 0, 0, 0, 0, 0, 0, 0, 0, 0, 0, 0, 0, 0, 0, 0, 0, 0, 0, 0, 0, 0, 0, 0, 0, 0, 0, 0, 0, 0, 0, 0, 0, 0, 0, 0, 0, 0, 0, 0, 0, 0, 0, 0, 0, 0, 0, 0, 0, 0, 0, 0, 0, 0, 0, 0, 0, 0, 0, 0, 0, 0, 0, 0, 0, 0, 0, 0, 0, 0, 0, 0, 0, 0, 0, 0, 0, 0, 0, 0, 0, 0, 0, 0, 0, 0, 0, 0, 0, 0, 0, 0, 0, 0, 0, 0, 0, 0, 0, 0, 0, 0, 0, 0, 0, 0, 0, 0, 0, 0, 0, 0, 0, 0, 0, 0, 0, 0, 0, 0, 0, 0, 0, 0, 0, 0, 0, 0, 0, 0, 0, 0, 0, 0, 0, 0, 0, 0, 0, 0, 0, 0, 0, 0, 0, 0, 0, 0, 0, 0, 0, 0, 0, 0, 0, 0, 0, 0, 0, 0, 0, 0, 0, 0, 0, 0, 0, 0, 0, 0, 0, 0, 0, 0, 0, 0, 0, 0, 0, 0, 0, 0, 0, 0, 0, 0, 0, 0, 0, 0, 0, 0, 0, 0, 0, 1, 0, 0, 0, 0, 0, 0, 0, 0, 0, 0, 0, 0, 0, 0, 0, 0, 0, 0, 0, 0, 0, 0, 0, 0, 0, 0, 0, 0, 0, 0, 0, 0, 0, 0, 0, 0, 0, 0, 0, 0, 0, 0, 0, 0, 0, 0, 0, 0, 0, 0, 0, 0, 0, 0, 0, 0, 0, 0, 0, 0, 0, 0, 0, 0, 0, 0, 0, 0, 0, 0, 0, 0, 0, 0, 0, 0, 0, 0, 0, 0, 0, 0, 0, 0, 0, 0, 0, 0, 0, 0, 0, 0, 0, 0, 0, 0, 0, 0, 0, 0, 0, 0, 0, 0, 0, 0, 0, 0, 0, 0, 0, 0, 0, 0, 0, 0, 0, 0, 0, 0, 0, 0, 0, 0, 0, 0, 0, 0, 0, 0, 0, 0, 0, 0, 0, 0, 0, 0, 0, 0, 0, 0, 0, 0, 0, 0, 0, 0, 0, 0, 0, 0, 0, 0, 0, 0, 0, 0, 0, 0, 0, 0, 0, 0, 0, 0, 0, 0, 0, 0, 0, 0, 0, 0, 0, 0, 0, 0, 0, 0, 0, 0, 0, 0, 0, 0, 0, 0, 0, 0, 0, 0, 0, 0, 0, 0, 0, 0, 0, 0, 0, 0, 0, 0, 0, 0, 0, 0, 0, 0, 0, 0, 0, 0, 0, 0, 0, 0, 0, 0, 0, 0, 0, 0, 0, 0, 0, 0, 0, 0, 0, 0, 0, 0, 0, 0, 0, 0, 0, 0, 0, 0, 0, 0, 0, 0, 0, 0, 0, 0, 0, 0, 0, 0, 0, 0, 0, 0, 0, 0, 0, 0, 0, 0, 0, 0, 0, 0, 0, 0, 0, 0, 0, 0, 0, 0, 0, 0, 0, 0, 0, 0, 0, 0, 0, 0, 0, 0, 0, 0, 0, 0, 0, 0, 0, 0, 0, 0, 0, 0, 0, 0, 0, 0, 0, 0, 0, 0, 0, 0, 0, 0, 0, 0, 0, 0, 0, 0, 0, 0, 0, 0, 0, 0, 0, 0, 0, 0, 0, 0, 0, 0, 0, 0, 0, 0, 0, 0, 0, 0, 0, 0, 0, 0, 0, 0, 0, 0, 0, 0, 0, 0, 0, 0, 0, 0, 0, 0, 0, 0, 0, 0, 0, 0, 0, 0, 0, 0, 0, 0, 0, 0, 0, 0, 0, 0, 0, 0, 0, 0, 0, 0, 0, 0, 0, 0, 0, 0, 0, 0, 0, 0, 0, 0, 0, 0, 0, 0, 0, 0, 0, 0, 0, 0, 0, 0, 0, 0, 0, 0, 0, 0, 0, 0, 0, 0, 0, 0, 0, 0, 0, 0, 0, 0, 0, 0, 0, 0, 0, 0, 0, 0, 0, 0, 0, 0, 0, 0, 0, 0, 0, 0, 0, 0, 0, 0, 0, 0, 0, 0, 0, 0, 0, 0, 0, 0, 0, 0, 0, 0, 0, 0, 0, 0, 0, 0, 0, 0, 0, 0, 0, 0, 0, 0, 0, 0, 0, 0, 0, 0, 0, 0, 0, 0, 0, 0, 0, 0, 0, 0, 0, 0, 0, 0, 0, 0, 0, 0, 0, 0, 0, 0, 0, 0, 0, 0, 0, 0, 0, 0, 0, 0, 1, 0, 0, 0, 0, 0, 0, 0, 0, 0, 0, 0, 0, 0, 0, 0, 0, 0, 0, 0, 0, 0, 0, 0, 0, 0, 0, 0, 0, 0, 0, 0, 0, 0, 0, 0, 2, 0, 0, 0, 0, 0, 0, 0, 0, 0, 0, 0, 0, 0, 0, 0, 0, 0, 0, 0, 0, 0, 0, 0, 0, 0, 0, 0, 0, 0, 0, 0, 0, 0, 0, 0, 0, 0, 0, 0, 0, 1, 0, 0, 0, 0, 0, 0, 0, 0, 0, 0, 0, 0, 0, 0, 0, 0, 0, 0, 0, 0, 0, 0, 0, 0, 0, 0, 0, 0, 0, 0, 0, 0, 0, 0, 0, 0, 0, 0, 0, 0, 0, 0, 0, 0, 0, 0, 0, 0, 0, 0, 0, 0, 0, 0, 0, 0, 0, 0, 0, 0, 0, 0, 0, 0, 0, 0, 0, 0, 0, 0, 0, 0, 0, 0, 0, 0, 0, 0, 0, 0, 0, 0, 0, 0, 0, 0, 0, 0, 0, 0, 0, 0, 0, 0, 0, 0, 0, 0, 0, 0, 0, 0, 0, 0, 0, 0, 0, 0, 0, 0, 0, 0, 0, 0, 0, 0, 0, 0, 0, 0, 0, 0, 0, 0, 0, 0, 0, 0, 0, 0, 0, 0, 0, 0, 0, 0, 0, 0, 0, 0, 0, 0, 0, 0, 0, 0, 0, 0, 0, 0, 0, 0, 0, 0, 0, 0, 0, 0, 0, 0, 0, 0, 0, 0, 0, 0, 0, 0, 0, 0, 0, 0, 0, 0, 0, 0, 0, 0, 0, 0, 0, 0, 0, 0, 0, 0, 0, 0, 0, 0, 0, 0, 0, 0, 0, 0, 0, 0, 0, 0, 0, 0, 0, 0, 0, 0, 0, 0, 0, 0, 0, 0, 0, 0, 0, 0, 0, 0, 0, 0, 0, 0, 0, 0, 0, 0, 0, 0, 0, 0, 0, 0, 0, 0, 0, 0, 0, 0, 0, 0, 0, 0, 0, 0, 0, 0, 0, 0, 0, 0, 0, 0, 0, 0, 0, 0, 0, 0, 0, 0, 0, 0, 0, 0, 0, 0, 0, 0, 0, 0, 0, 0, 0, 0, 0, 0, 0, 0, 0, 0, 0, 0, 0, 0, 0, 0, 0, 0, 0, 0, 0, 0, 0, 0, 0, 0, 0, 0, 0, 0, 0, 0, 0, 0, 0, 0, 0, 0, 0, 0, 0, 0, 0, 0, 0, 0, 0, 0, 0, 0, 0, 0, 0, 0, 0, 0, 0, 0, 0, 0, 0, 0, 0, 0, 0, 0, 0, 0, 0, 0, 0, 0, 0, 0, 0, 0, 0, 0, 0, 0, 0, 0, 0, 0, 0, 0, 0, 0, 0, 0, 0, 0, 0, 0, 0, 0, 0, 0, 0, 0, 0, 0, 0, 0, 0, 0, 0, 0, 0, 0, 0, 0, 0, 0, 0, 0, 0, 0, 0, 0, 0, 0, 0, 0, 0, 0, 0, 0, 0, 0, 0, 0, 0, 0, 0, 0, 0, 0, 0, 0, 0, 0, 0, 0, 0, 0, 0, 0, 0, 0, 0, 0, 0, 0, 0, 0, 0, 0, 0, 0, 0, 0, 0, 0, 0, 0, 0, 0, 0, 0, 0, 0, 0, 0, 0, 0, 0, 0, 0, 0, 0, 0, 0, 0, 0, 0, 0, 0, 0, 0, 0, 0, 0, 0, 0, 0, 0, 0, 0, 0, 0, 0, 0, 0, 0, 0, 0, 0, 0, 0, 0, 0, 0, 0, 0, 0, 0, 0, 0, 0, 0, 0, 0, 0, 0, 0, 0, 1, 0, 0, 0, 0, 0, 0, 0, 0, 0, 0, 0, 0, 0, 0, 0, 0, 0, 0, 0, 0, 0, 0, 0, 0, 0, 0, 0, 0, 0, 0, 0, 0, 0, 0, 0, 0, 0, 0, 0, 0, 0, 0, 0, 0, 0, 0, 0, 0, 0, 0, 0, 0, 0, 0, 0, 0, 0, 0, 0, 0, 0, 0, 0, 0, 0, 0, 0, 0, 0, 0, 0, 0, 0, 0, 0, 0, 0, 0, 0, 0, 0, 0, 0, 0, 0, 0, 0, 0, 0, 0, 0, 0, 0, 0, 0, 0, 0, 0, 0, 0, 0, 0, 0, 0, 0, 0, 0, 0, 0, 0, 2, 0, 0, 0, 0, 0, 0, 0, 0, 0, 0, 0, 0, 0, 0, 0, 0, 0, 0, 0, 0, 0, 0, 0, 0, 0, 0, 0, 0, 0, 0, 0, 0, 0, 0, 0, 0, 0, 0, 0, 0, 0, 0, 0, 0, 0, 0, 0, 0, 0, 0, 0, 0, 0, 0, 0, 0, 0, 0, 0, 0, 0, 0, 0, 0, 0, 0, 0, 0, 0, 0, 0, 0, 0, 0, 0, 0, 0, 0, 0, 0, 0, 0, 0, 0, 0, 0, 0, 0, 0, 0, 0, 0, 0, 0, 0, 0, 0, 0, 0, 0, 0, 0, 0, 0, 0, 0, 0, 0, 0, 0, 0, 0, 0, 0, 0, 0, 0, 0, 0, 0, 0, 0, 0, 0, 0, 0, 0, 0, 0, 0, 0, 0, 0, 0, 0, 0, 0, 0, 0, 0, 0, 0, 0, 0, 0, 0, 0, 0, 0, 0, 0, 0, 0, 0, 0, 0, 0, 0, 0, 0, 0, 0, 0, 0, 0, 0, 0, 0, 0, 0, 0, 0, 0, 0, 0, 0, 0, 0, 0, 0, 0, 0, 0, 0, 0, 0, 0, 0, 0, 0, 0, 0, 0, 0, 0, 0, 0, 0, 0, 0, 0, 0, 0, 0, 0, 0, 0, 0, 0, 0, 0, 0, 0, 0, 0, 0, 0, 0, 0, 0, 0, 0, 0, 0, 0, 0, 0, 0, 0, 0, 0, 0, 0, 0, 0, 0, 0, 0, 0, 0, 0, 0, 0, 0, 0, 0, 0, 0, 0, 0, 0, 0, 0, 0, 0, 0, 0, 0, 0, 0, 0, 0, 0, 0, 0, 0, 0, 0, 0, 0, 0, 0, 0, 0, 0, 0, 0, 0, 0, 0, 0, 0, 0, 0, 0, 0, 0, 0, 0, 0, 0, 0, 0, 0, 0, 0, 0, 0, 0, 0, 0, 0, 0, 0, 0, 0, 0, 0, 0, 0, 0, 0, 0, 0, 0, 0, 0, 0, 0, 0, 0, 0, 0, 0, 0, 0, 0, 0, 0, 0, 0, 0, 0, 0, 0, 0, 0, 0, 0, 0, 0, 0, 0, 0, 0, 0, 0, 0, 0, 0, 0, 0, 0, 0, 0, 0, 0, 0, 0, 0, 0, 0, 0, 0, 0, 0, 0, 0, 0, 0, 0, 0, 0, 0, 0, 0, 0, 0, 0, 0, 0, 0, 0, 0, 0, 0, 0, 0, 0, 0, 0, 0, 0, 0, 0, 0, 0, 0, 0, 0, 0, 0, 0, 0, 0, 0, 0, 0, 0, 0, 0, 0, 0, 0, 0, 0, 0, 0, 0, 0, 0, 0, 0, 0, 0, 0, 0, 0, 0, 0, 0, 0, 0, 0, 0, 0, 0, 0, 0, 0, 0, 0, 0, 0, 0, 0, 0, 0, 0, 0, 0, 0, 0, 0, 0, 0, 0, 0, 0, 0, 0, 0, 0, 0, 0, 0, 0, 0, 0, 0, 0, 0, 0, 0, 0, 0, 0, 0, 0, 0, 0, 0, 0, 0, 0, 0, 0, 0, 0, 0, 0, 0, 0, 0, 0, 0, 0, 0, 0, 0, 0, 0, 0, 0, 0, 0, 0, 0, 0, 0, 0, 0, 0, 0, 0, 0, 0, 0, 0, 0, 0, 0, 0, 0, 0, 0, 0, 0, 0, 0, 0, 0, 0, 0, 0, 0, 0, 0, 0, 0, 0, 0, 0, 0, 0, 0, 0, 0, 0, 0, 0, 0, 0, 0, 0, 0, 0, 0, 0, 0, 0, 0, 0, 0, 0, 0, 0, 0, 0, 0, 0, 0, 0, 0, 0, 0, 0, 0, 0, 0, 0, 0, 0, 0, 0, 0, 0, 0, 0, 0, 0, 0, 0, 0, 0, 0, 0, 0, 0, 0, 0, 0, 0, 0, 0, 0, 0, 0, 0, 0, 0, 0, 0, 0, 0, 0, 0, 0, 0, 0, 0, 0, 0, 0, 0, 0, 0, 0, 0, 0, 0, 0, 0, 0, 0, 0, 0, 0, 0, 0, 0, 0, 0, 0, 0, 0, 0, 0, 0, 0, 0, 0, 0, 0, 0, 0, 0, 0, 0, 0, 0, 0, 0, 0, 0, 0, 0, 0, 0, 0, 0, 0, 0, 0, 0, 0, 0, 0, 0, 0, 0, 0, 0, 0, 0, 0, 0, 0, 0, 0, 1, 0, 0, 0, 0, 0, 0, 0, 0, 0, 0, 0, 0, 0, 0, 0, 0, 0, 0, 0, 0, 0, 0, 0, 0, 0, 0, 0, 0, 0, 0, 0, 0, 0, 0, 0, 0, 0, 0, 0, 0, 0, 0, 0, 0, 0, 0, 0, 0, 0, 0, 0, 0, 0, 0, 0, 0, 0, 0, 0, 0, 0, 0, 0, 0, 0, 0, 0, 0, 0, 0, 0, 0, 0, 0, 0, 0, 0, 0, 0, 0, 0, 0, 0, 0, 0, 0, 0, 0, 0, 0, 0, 0, 0, 0, 0, 0, 0, 0, 0, 0, 0, 0, 0, 0, 0, 0, 0, 1, 0, 0, 0, 0, 0, 0, 0, 0, 0, 0, 0, 0, 0, 0, 0, 0, 0, 0, 0, 0, 0, 0, 0, 0, 0, 0, 0, 0, 0, 0, 0, 0, 0, 0, 0, 0, 0, 0, 0, 0, 0, 0, 0, 0, 0, 0, 0, 0, 0, 0, 0, 0, 0, 0, 0, 0, 0, 0, 0, 0, 0, 0, 0, 0, 0, 0, 0, 0, 0, 0, 0, 0, 0, 0, 0, 0, 0, 0, 0, 0, 0, 0, 0, 0, 0, 0, 0, 0, 0, 0, 0, 0, 0, 0, 0, 0, 0, 0, 0, 0, 0, 0, 0, 0, 0, 0, 0, 0, 0, 0, 0, 0, 0, 0, 0, 0, 0, 0, 0, 0, 0, 0, 0, 0, 0, 0, 0, 0, 0, 0, 0, 0, 0, 0, 0, 0, 0, 0, 0, 0, 0, 0, 0, 0, 0, 0, 0, 0, 0, 0, 0, 0, 0, 0, 0, 0, 0, 0, 0, 0, 0, 0, 0, 0, 0, 0, 0, 0, 0, 0, 0, 0, 0, 0, 0, 0, 0, 0, 0, 0, 0, 0, 0, 0, 0, 0, 0, 0, 0, 0, 0, 0, 0, 0, 0, 0, 0, 0, 0, 0, 0, 0, 0, 0, 0, 0, 0, 0, 0, 0, 0, 0, 0, 0, 0, 0, 0, 0, 0, 0, 0, 0, 0, 0, 0, 0, 0, 0, 0, 0, 0, 0, 0, 0, 0, 0, 0, 0, 0, 0, 0, 0, 0, 0, 0, 0, 0, 0, 0, 0, 0, 0, 0, 0, 0, 0, 0, 0, 0, 0, 0, 0, 0, 0, 0, 0, 0, 0, 0, 0, 0, 0, 0, 0, 0, 0, 0, 0, 0, 0, 0, 0, 0, 0, 0, 0, 0, 0, 0, 0, 0, 0, 0, 0, 0, 0, 0, 0, 0, 0, 0, 0, 0, 0, 0, 0, 0, 0, 0, 0, 0, 0, 0, 0, 0, 0, 0, 0, 0, 0, 0, 0, 0, 0, 0, 0, 0, 0, 0, 0, 0, 0, 0, 0, 0, 0, 0, 0, 0, 0, 0, 0, 0, 0, 0, 0, 0, 0, 0, 0, 0, 0, 0, 0, 0, 0, 0, 0, 0, 0, 0, 0, 0, 0, 0, 0, 0, 0, 0, 0, 0, 0, 0, 0, 0, 0, 0, 0, 0, 0, 0, 0, 0, 0, 0, 0, 0, 0, 0, 0, 0, 0, 0, 0, 0, 0, 0, 0, 0, 0, 0, 0, 0, 0, 0, 0, 0, 0, 0, 0, 0, 0, 0, 0, 0, 0, 0, 0, 0, 0, 0, 0, 0, 0, 0, 0, 0, 0, 0, 0, 0, 0, 0, 0, 0, 0, 0, 0, 0, 0, 0, 0, 0, 0, 0, 0, 0, 0, 0, 0, 0, 0, 0, 0, 0, 0, 0, 0, 0, 0, 0, 0, 0, 2, 0, 1, 0]\n"
     ]
    }
   ],
   "source": [
    "test_bow = bow_encoding(test_words, vocabulary)\n",
    "print(test_bow)"
   ]
  },
  {
   "cell_type": "code",
   "execution_count": 41,
   "metadata": {},
   "outputs": [
    {
     "data": {
      "text/plain": [
       "5000"
      ]
     },
     "execution_count": 41,
     "metadata": {},
     "output_type": "execute_result"
    }
   ],
   "source": [
    "len(test_bow)"
   ]
  },
  {
   "cell_type": "markdown",
   "metadata": {},
   "source": [
    "So now we know how to construct a bag of words encoding of a user provided review, how to we send it to our endpoint? First, we need to start the endpoint back up."
   ]
  },
  {
   "cell_type": "code",
   "execution_count": 52,
   "metadata": {},
   "outputs": [
    {
     "name": "stderr",
     "output_type": "stream",
     "text": [
      "WARNING:sagemaker:Using already existing model: xgboost-2020-06-10-14-51-49-906\n"
     ]
    },
    {
     "name": "stdout",
     "output_type": "stream",
     "text": [
      "-----------------!"
     ]
    }
   ],
   "source": [
    "xgb_predictor = xgb.deploy(initial_instance_count = 1, instance_type = 'ml.m4.xlarge')"
   ]
  },
  {
   "cell_type": "markdown",
   "metadata": {},
   "source": [
    "At this point we could just do the same thing that we did earlier when we tested our deployed model and send `test_bow` to our endpoint using the `xgb_predictor` object. However, when we eventually construct our Lambda function we won't have access to this object, so how do we call a SageMaker endpoint?\n",
    "\n",
    "It turns out that Python functions that are used in Lambda have access to another Amazon library called `boto3`. This library provides an API for working with Amazon services, including SageMaker. To start with, we need to get a handle to the SageMaker runtime."
   ]
  },
  {
   "cell_type": "code",
   "execution_count": 53,
   "metadata": {},
   "outputs": [],
   "source": [
    "import boto3\n",
    "\n",
    "runtime = boto3.Session().client('sagemaker-runtime')"
   ]
  },
  {
   "cell_type": "markdown",
   "metadata": {},
   "source": [
    "And now that we have access to the SageMaker runtime, we can ask it to make use of (invoke) an endpoint that has already been created. However, we need to provide SageMaker with the name of the deployed endpoint. To find this out we can print it out using the `xgb_predictor` object."
   ]
  },
  {
   "cell_type": "code",
   "execution_count": 54,
   "metadata": {},
   "outputs": [
    {
     "data": {
      "text/plain": [
       "'xgboost-2020-06-10-14-51-49-906'"
      ]
     },
     "execution_count": 54,
     "metadata": {},
     "output_type": "execute_result"
    }
   ],
   "source": [
    "xgb_predictor.endpoint"
   ]
  },
  {
   "cell_type": "markdown",
   "metadata": {},
   "source": [
    "Using the SageMaker runtime and the name of our endpoint, we can invoke the endpoint and send it the `test_bow` data."
   ]
  },
  {
   "cell_type": "code",
   "execution_count": 55,
   "metadata": {},
   "outputs": [
    {
     "ename": "ParamValidationError",
     "evalue": "Parameter validation failed:\nInvalid type for parameter Body, value: [0, 0, 0, 0, 0, 0, 0, 0, 0, 0, 0, 0, 0, 0, 0, 0, 0, 0, 0, 0, 0, 0, 0, 0, 0, 0, 0, 0, 0, 0, 0, 0, 0, 0, 0, 0, 0, 0, 0, 0, 0, 0, 0, 0, 0, 0, 0, 0, 0, 0, 0, 0, 0, 0, 0, 0, 0, 0, 0, 0, 0, 0, 0, 0, 0, 0, 0, 0, 0, 0, 0, 0, 0, 0, 0, 0, 0, 0, 0, 0, 0, 0, 0, 0, 0, 0, 0, 0, 0, 0, 0, 0, 0, 0, 0, 0, 0, 0, 0, 0, 0, 0, 0, 0, 0, 0, 0, 0, 0, 0, 0, 0, 0, 0, 0, 0, 0, 0, 0, 0, 0, 0, 0, 0, 0, 0, 0, 0, 0, 0, 0, 0, 0, 0, 0, 0, 0, 0, 0, 0, 0, 0, 0, 0, 0, 0, 0, 0, 0, 0, 0, 0, 0, 0, 0, 0, 0, 0, 0, 0, 0, 0, 0, 0, 0, 0, 0, 0, 0, 0, 0, 0, 0, 0, 0, 0, 0, 0, 0, 0, 0, 0, 0, 0, 0, 0, 0, 0, 0, 0, 0, 0, 0, 0, 0, 0, 0, 0, 0, 0, 0, 0, 0, 0, 0, 0, 0, 0, 0, 0, 0, 0, 0, 0, 0, 0, 0, 0, 0, 0, 0, 0, 0, 0, 0, 0, 1, 0, 0, 0, 0, 0, 0, 0, 0, 0, 0, 0, 0, 0, 0, 0, 0, 0, 0, 0, 0, 0, 0, 0, 0, 0, 0, 0, 0, 0, 1, 0, 0, 0, 0, 0, 0, 0, 0, 0, 0, 0, 0, 0, 0, 0, 0, 0, 0, 0, 0, 0, 0, 0, 0, 0, 0, 0, 0, 0, 0, 0, 0, 0, 0, 0, 0, 0, 0, 0, 0, 0, 0, 0, 0, 0, 0, 0, 0, 0, 0, 0, 0, 0, 0, 0, 0, 0, 0, 0, 0, 0, 0, 0, 0, 0, 0, 0, 0, 0, 0, 0, 0, 0, 0, 0, 0, 0, 0, 0, 0, 0, 0, 0, 0, 0, 0, 0, 0, 0, 0, 0, 0, 0, 0, 0, 0, 0, 0, 0, 0, 0, 0, 0, 0, 0, 0, 0, 0, 0, 0, 0, 0, 0, 0, 0, 0, 0, 0, 0, 0, 0, 0, 0, 0, 0, 0, 0, 0, 0, 0, 0, 0, 0, 0, 0, 0, 0, 0, 0, 0, 0, 0, 0, 0, 0, 0, 0, 0, 0, 0, 0, 0, 0, 0, 0, 0, 0, 0, 0, 0, 0, 0, 0, 0, 0, 0, 0, 0, 0, 0, 0, 0, 0, 0, 0, 0, 0, 0, 0, 0, 0, 0, 0, 0, 0, 0, 0, 0, 0, 0, 0, 0, 0, 0, 0, 0, 0, 0, 0, 0, 0, 0, 0, 0, 0, 0, 0, 0, 0, 0, 0, 0, 0, 0, 0, 0, 0, 0, 0, 0, 0, 0, 0, 0, 0, 0, 0, 0, 0, 0, 0, 0, 0, 0, 0, 0, 0, 0, 0, 0, 0, 0, 0, 0, 0, 0, 0, 0, 0, 0, 0, 0, 0, 0, 0, 0, 0, 0, 0, 0, 0, 0, 0, 0, 0, 0, 0, 0, 0, 0, 0, 0, 0, 0, 0, 0, 0, 0, 0, 0, 0, 0, 0, 0, 0, 0, 0, 0, 0, 0, 0, 0, 0, 0, 0, 0, 0, 0, 0, 0, 0, 0, 0, 0, 0, 0, 0, 0, 0, 0, 0, 0, 0, 0, 0, 0, 0, 0, 0, 0, 0, 0, 0, 0, 0, 0, 0, 0, 0, 0, 0, 0, 0, 0, 0, 0, 0, 0, 0, 0, 0, 0, 0, 0, 0, 0, 0, 0, 0, 0, 0, 0, 0, 0, 0, 0, 0, 0, 0, 0, 0, 0, 0, 0, 0, 0, 0, 0, 0, 0, 0, 0, 0, 0, 0, 0, 0, 0, 0, 1, 0, 0, 0, 0, 0, 0, 0, 0, 0, 0, 0, 0, 0, 0, 0, 0, 0, 0, 0, 0, 0, 0, 0, 0, 0, 0, 0, 0, 0, 0, 0, 0, 0, 0, 0, 0, 0, 0, 0, 0, 0, 0, 0, 0, 0, 0, 0, 0, 0, 0, 0, 0, 0, 0, 0, 0, 0, 0, 0, 0, 0, 0, 0, 0, 0, 0, 0, 0, 0, 0, 0, 0, 0, 0, 0, 0, 0, 0, 0, 0, 0, 0, 0, 0, 0, 0, 0, 0, 0, 0, 0, 0, 0, 0, 0, 0, 0, 0, 0, 0, 0, 0, 0, 0, 0, 0, 0, 0, 0, 0, 0, 0, 0, 0, 0, 0, 0, 0, 0, 0, 0, 0, 0, 0, 0, 0, 0, 0, 0, 0, 0, 0, 0, 0, 0, 0, 0, 0, 0, 0, 0, 0, 0, 0, 0, 0, 0, 0, 0, 0, 0, 0, 0, 0, 0, 0, 0, 0, 0, 0, 0, 0, 0, 0, 0, 0, 0, 0, 0, 0, 0, 0, 0, 0, 0, 0, 0, 0, 0, 0, 0, 0, 0, 0, 0, 0, 0, 0, 0, 0, 0, 0, 0, 0, 0, 0, 0, 0, 0, 0, 0, 0, 0, 0, 0, 0, 0, 0, 0, 0, 0, 0, 0, 0, 0, 0, 0, 0, 0, 0, 0, 0, 0, 0, 0, 0, 0, 0, 0, 0, 0, 0, 0, 0, 0, 0, 0, 0, 0, 0, 0, 0, 0, 0, 0, 0, 0, 0, 0, 0, 0, 0, 0, 1, 0, 0, 0, 0, 0, 0, 0, 0, 0, 0, 0, 0, 0, 0, 0, 0, 0, 0, 0, 0, 0, 0, 0, 0, 0, 0, 0, 0, 0, 0, 0, 0, 0, 0, 0, 0, 0, 0, 0, 0, 0, 0, 0, 0, 0, 0, 0, 0, 0, 0, 0, 0, 0, 0, 0, 0, 0, 0, 0, 0, 0, 0, 0, 0, 0, 0, 0, 0, 0, 0, 0, 0, 0, 0, 0, 0, 0, 0, 0, 0, 0, 0, 0, 0, 0, 0, 1, 0, 0, 0, 0, 0, 0, 0, 0, 0, 0, 0, 0, 0, 0, 0, 0, 0, 0, 0, 0, 0, 0, 0, 0, 0, 0, 0, 0, 0, 0, 0, 0, 0, 0, 0, 0, 0, 0, 0, 0, 0, 0, 0, 0, 0, 0, 0, 0, 0, 0, 0, 0, 0, 0, 0, 0, 0, 0, 0, 0, 0, 0, 0, 0, 0, 0, 0, 0, 0, 0, 0, 0, 0, 0, 0, 0, 0, 0, 0, 0, 0, 0, 0, 0, 0, 0, 0, 0, 0, 0, 0, 0, 0, 0, 0, 0, 0, 0, 0, 0, 0, 0, 0, 0, 0, 0, 0, 0, 0, 0, 0, 0, 0, 0, 0, 0, 0, 0, 0, 0, 0, 0, 0, 0, 0, 0, 0, 0, 0, 0, 0, 0, 0, 0, 0, 0, 0, 0, 0, 0, 0, 0, 0, 0, 0, 0, 0, 0, 0, 0, 0, 0, 0, 0, 0, 0, 0, 0, 0, 0, 0, 0, 0, 0, 0, 0, 0, 0, 0, 0, 0, 0, 0, 0, 0, 0, 0, 0, 0, 0, 0, 0, 0, 0, 0, 0, 0, 0, 0, 0, 0, 0, 0, 0, 0, 0, 0, 0, 0, 0, 0, 0, 0, 0, 0, 0, 0, 0, 0, 0, 0, 0, 0, 0, 0, 0, 0, 0, 0, 0, 0, 0, 0, 0, 0, 0, 0, 0, 0, 0, 0, 0, 0, 0, 0, 0, 0, 0, 0, 0, 0, 0, 0, 0, 0, 0, 0, 0, 0, 0, 0, 0, 1, 0, 0, 0, 0, 0, 0, 0, 0, 0, 0, 0, 0, 0, 0, 0, 0, 0, 0, 0, 0, 0, 0, 0, 0, 0, 0, 0, 0, 0, 0, 0, 0, 0, 0, 0, 0, 0, 0, 0, 0, 0, 0, 0, 0, 0, 0, 0, 0, 0, 0, 0, 0, 0, 0, 0, 1, 0, 0, 0, 0, 0, 0, 0, 0, 0, 0, 0, 0, 0, 0, 0, 0, 0, 0, 0, 0, 0, 0, 0, 0, 0, 0, 0, 0, 0, 0, 0, 0, 0, 0, 0, 0, 0, 0, 0, 0, 0, 0, 0, 0, 0, 0, 0, 0, 0, 0, 0, 0, 0, 0, 0, 0, 0, 0, 0, 0, 0, 0, 0, 0, 0, 0, 0, 0, 0, 0, 0, 0, 0, 0, 0, 0, 0, 0, 0, 0, 0, 0, 0, 0, 0, 0, 0, 0, 0, 0, 0, 0, 0, 0, 0, 0, 0, 0, 0, 0, 0, 0, 0, 0, 0, 0, 0, 0, 0, 0, 0, 0, 0, 0, 0, 0, 0, 0, 0, 0, 0, 0, 0, 0, 0, 0, 0, 0, 0, 0, 0, 0, 0, 0, 0, 0, 0, 0, 0, 0, 0, 0, 0, 0, 0, 0, 0, 0, 0, 0, 0, 0, 0, 0, 0, 0, 0, 0, 0, 0, 0, 0, 0, 0, 0, 0, 0, 0, 0, 0, 0, 0, 0, 0, 0, 0, 0, 0, 0, 0, 0, 0, 0, 0, 0, 0, 0, 0, 0, 0, 0, 0, 0, 0, 0, 0, 0, 0, 0, 0, 0, 0, 0, 0, 0, 0, 0, 0, 0, 0, 0, 0, 0, 0, 0, 0, 0, 0, 0, 0, 0, 0, 0, 0, 0, 0, 0, 0, 0, 0, 0, 0, 0, 0, 0, 0, 0, 0, 0, 0, 0, 0, 0, 0, 0, 0, 0, 0, 0, 0, 0, 0, 0, 0, 0, 0, 0, 0, 0, 0, 0, 0, 0, 0, 0, 0, 0, 0, 0, 0, 0, 0, 0, 0, 0, 0, 0, 0, 0, 0, 0, 0, 0, 0, 0, 0, 0, 0, 0, 0, 0, 0, 0, 0, 0, 0, 0, 0, 0, 0, 0, 0, 0, 0, 0, 0, 0, 0, 0, 0, 0, 0, 0, 0, 0, 0, 0, 0, 0, 0, 0, 0, 0, 0, 0, 0, 0, 0, 0, 0, 0, 0, 0, 0, 0, 0, 0, 0, 0, 0, 0, 0, 0, 0, 0, 0, 0, 0, 0, 0, 0, 0, 0, 0, 0, 0, 0, 0, 0, 0, 0, 0, 0, 0, 0, 0, 0, 0, 0, 0, 0, 0, 0, 0, 0, 0, 0, 0, 0, 0, 0, 0, 0, 0, 0, 0, 0, 0, 0, 0, 0, 0, 0, 0, 0, 0, 0, 0, 0, 0, 0, 0, 0, 0, 0, 0, 0, 0, 0, 0, 0, 0, 0, 0, 0, 0, 0, 0, 0, 0, 0, 0, 0, 0, 0, 0, 0, 0, 0, 0, 0, 0, 0, 0, 0, 0, 0, 0, 0, 0, 0, 0, 0, 0, 0, 0, 0, 0, 0, 0, 0, 0, 0, 0, 0, 0, 0, 0, 0, 0, 0, 0, 0, 0, 0, 0, 0, 0, 0, 0, 0, 0, 0, 0, 0, 0, 0, 0, 0, 0, 0, 0, 0, 0, 0, 0, 0, 0, 0, 0, 0, 0, 0, 0, 0, 0, 0, 0, 0, 0, 0, 0, 0, 0, 0, 0, 0, 0, 0, 0, 0, 0, 0, 0, 0, 0, 0, 0, 0, 0, 0, 0, 0, 0, 0, 0, 0, 0, 0, 0, 0, 0, 0, 0, 0, 0, 0, 0, 0, 0, 0, 0, 0, 0, 0, 0, 0, 0, 0, 0, 0, 0, 0, 0, 0, 0, 0, 0, 0, 0, 0, 0, 0, 0, 0, 0, 0, 0, 0, 0, 0, 0, 0, 0, 0, 0, 0, 0, 0, 0, 0, 0, 0, 0, 0, 0, 0, 0, 0, 0, 0, 0, 0, 0, 0, 0, 0, 0, 0, 0, 0, 0, 0, 0, 0, 0, 0, 0, 0, 0, 0, 0, 0, 0, 0, 0, 0, 0, 0, 0, 0, 0, 0, 0, 0, 0, 0, 0, 0, 0, 0, 0, 0, 0, 0, 0, 0, 0, 0, 0, 0, 0, 0, 0, 0, 0, 0, 0, 0, 0, 0, 0, 0, 0, 0, 0, 0, 0, 0, 0, 0, 0, 0, 0, 0, 0, 0, 0, 0, 0, 0, 0, 0, 0, 0, 0, 0, 0, 0, 0, 0, 1, 0, 0, 0, 0, 0, 0, 0, 0, 0, 0, 0, 0, 0, 0, 0, 0, 0, 0, 0, 0, 0, 0, 0, 0, 0, 0, 0, 0, 0, 0, 0, 0, 0, 0, 0, 0, 0, 0, 0, 0, 0, 0, 0, 0, 0, 0, 0, 0, 0, 0, 0, 0, 0, 0, 0, 0, 0, 0, 0, 0, 0, 0, 0, 0, 0, 0, 0, 0, 0, 0, 0, 0, 0, 0, 1, 0, 0, 0, 0, 0, 0, 0, 0, 0, 0, 0, 0, 0, 0, 0, 0, 0, 0, 0, 0, 1, 0, 0, 1, 0, 0, 0, 0, 0, 0, 0, 0, 0, 0, 0, 0, 0, 0, 0, 0, 0, 0, 0, 0, 0, 0, 0, 0, 0, 0, 0, 0, 0, 0, 0, 0, 0, 0, 0, 0, 0, 0, 0, 0, 0, 0, 0, 0, 0, 0, 0, 0, 0, 0, 0, 0, 0, 0, 0, 0, 0, 0, 0, 0, 0, 0, 0, 0, 0, 0, 0, 0, 0, 0, 0, 0, 0, 0, 0, 0, 0, 0, 0, 0, 0, 0, 0, 0, 0, 0, 0, 0, 0, 0, 0, 0, 0, 0, 0, 0, 0, 0, 0, 0, 0, 0, 0, 0, 0, 0, 0, 0, 0, 0, 0, 0, 0, 0, 0, 0, 0, 0, 0, 0, 0, 0, 0, 0, 0, 0, 0, 0, 0, 0, 0, 0, 0, 0, 0, 0, 0, 0, 0, 0, 0, 0, 0, 0, 0, 0, 0, 0, 0, 0, 0, 0, 0, 0, 0, 0, 0, 0, 0, 0, 0, 0, 0, 0, 0, 0, 0, 0, 0, 0, 0, 0, 0, 0, 0, 0, 0, 0, 0, 0, 0, 0, 0, 0, 0, 0, 0, 0, 0, 0, 0, 0, 0, 0, 0, 0, 0, 0, 0, 0, 0, 0, 0, 0, 0, 0, 0, 0, 0, 0, 0, 0, 0, 0, 0, 0, 0, 0, 0, 0, 0, 0, 0, 0, 0, 0, 0, 0, 0, 0, 0, 0, 0, 0, 0, 0, 0, 0, 0, 0, 0, 0, 0, 0, 0, 0, 0, 0, 0, 0, 0, 0, 0, 0, 0, 0, 0, 0, 0, 0, 0, 0, 0, 0, 0, 0, 0, 0, 0, 0, 0, 0, 0, 0, 0, 0, 0, 0, 0, 0, 0, 0, 0, 0, 0, 0, 0, 0, 0, 0, 0, 0, 0, 0, 0, 0, 0, 0, 0, 0, 0, 0, 0, 0, 0, 0, 0, 0, 0, 0, 0, 0, 0, 0, 0, 0, 0, 0, 0, 0, 0, 0, 0, 0, 0, 0, 0, 0, 0, 0, 0, 0, 0, 0, 0, 0, 0, 0, 0, 0, 0, 0, 0, 0, 0, 0, 0, 0, 0, 0, 0, 0, 0, 0, 0, 0, 0, 0, 0, 0, 0, 0, 0, 0, 0, 0, 0, 0, 0, 0, 0, 0, 0, 0, 0, 0, 0, 0, 0, 0, 0, 0, 0, 0, 0, 0, 0, 0, 0, 0, 0, 0, 0, 0, 0, 0, 0, 0, 0, 0, 0, 0, 0, 0, 0, 0, 0, 0, 0, 0, 0, 0, 0, 0, 0, 0, 0, 0, 0, 0, 0, 0, 0, 0, 0, 0, 0, 0, 0, 0, 0, 0, 0, 0, 0, 0, 0, 0, 0, 0, 0, 0, 0, 0, 0, 0, 0, 0, 0, 0, 0, 0, 0, 0, 0, 0, 0, 0, 0, 0, 0, 0, 0, 0, 0, 0, 1, 0, 0, 0, 0, 0, 0, 0, 0, 0, 0, 0, 0, 0, 0, 0, 0, 0, 0, 0, 0, 0, 0, 0, 0, 0, 0, 0, 0, 0, 0, 0, 0, 0, 0, 0, 0, 0, 0, 0, 0, 0, 0, 0, 0, 0, 0, 0, 0, 0, 0, 0, 0, 0, 0, 0, 0, 0, 0, 0, 0, 0, 0, 0, 0, 0, 0, 0, 0, 0, 0, 0, 0, 0, 0, 0, 0, 0, 0, 0, 0, 0, 0, 0, 0, 0, 0, 0, 0, 0, 0, 0, 0, 0, 0, 0, 0, 0, 0, 0, 0, 0, 0, 0, 0, 0, 0, 0, 0, 0, 0, 0, 0, 0, 0, 0, 0, 0, 0, 0, 0, 0, 0, 0, 0, 0, 0, 0, 0, 0, 0, 0, 0, 0, 0, 0, 0, 0, 0, 0, 0, 0, 0, 0, 0, 0, 0, 0, 0, 0, 0, 0, 0, 0, 0, 0, 0, 0, 0, 0, 0, 0, 0, 0, 0, 0, 0, 0, 0, 0, 0, 0, 0, 0, 0, 0, 0, 0, 0, 0, 0, 0, 0, 0, 0, 0, 0, 0, 0, 0, 0, 0, 0, 0, 0, 0, 0, 0, 0, 0, 0, 0, 0, 0, 0, 0, 0, 0, 0, 0, 0, 0, 0, 0, 0, 0, 0, 0, 0, 0, 0, 0, 0, 0, 0, 0, 0, 0, 0, 0, 0, 0, 0, 0, 0, 0, 0, 0, 0, 0, 0, 0, 0, 0, 0, 0, 0, 0, 0, 0, 0, 0, 0, 0, 0, 0, 0, 0, 0, 0, 0, 0, 0, 0, 0, 0, 0, 0, 0, 0, 0, 0, 0, 0, 0, 0, 0, 0, 0, 0, 0, 0, 0, 0, 0, 0, 0, 0, 0, 0, 0, 0, 0, 0, 0, 0, 0, 0, 0, 0, 0, 0, 0, 0, 0, 0, 0, 0, 0, 0, 0, 0, 0, 0, 0, 0, 0, 0, 0, 0, 0, 0, 0, 0, 0, 0, 0, 0, 0, 0, 0, 0, 0, 0, 0, 0, 0, 0, 0, 0, 0, 0, 0, 0, 0, 0, 0, 0, 0, 0, 0, 0, 0, 0, 0, 0, 0, 0, 0, 0, 0, 0, 0, 0, 0, 0, 0, 0, 0, 0, 0, 0, 0, 0, 0, 0, 0, 0, 0, 0, 0, 0, 0, 0, 0, 0, 0, 0, 0, 0, 0, 0, 0, 0, 0, 0, 0, 0, 0, 0, 0, 0, 0, 0, 0, 0, 0, 0, 0, 0, 0, 0, 0, 0, 0, 0, 0, 0, 0, 0, 0, 0, 0, 0, 0, 0, 0, 0, 0, 0, 0, 0, 0, 0, 0, 0, 0, 0, 0, 0, 0, 0, 0, 0, 0, 0, 0, 0, 0, 0, 0, 0, 0, 0, 0, 0, 0, 0, 0, 0, 0, 0, 0, 0, 0, 0, 0, 0, 0, 0, 0, 0, 0, 0, 0, 0, 0, 0, 0, 0, 0, 0, 0, 0, 0, 0, 0, 0, 0, 0, 0, 0, 0, 0, 0, 0, 0, 0, 0, 0, 0, 0, 0, 0, 0, 0, 0, 0, 0, 0, 0, 0, 0, 1, 0, 0, 0, 0, 0, 0, 0, 0, 0, 0, 0, 0, 0, 0, 0, 0, 0, 0, 0, 0, 0, 0, 0, 0, 0, 0, 0, 0, 0, 0, 0, 0, 0, 0, 0, 2, 0, 0, 0, 0, 0, 0, 0, 0, 0, 0, 0, 0, 0, 0, 0, 0, 0, 0, 0, 0, 0, 0, 0, 0, 0, 0, 0, 0, 0, 0, 0, 0, 0, 0, 0, 0, 0, 0, 0, 0, 1, 0, 0, 0, 0, 0, 0, 0, 0, 0, 0, 0, 0, 0, 0, 0, 0, 0, 0, 0, 0, 0, 0, 0, 0, 0, 0, 0, 0, 0, 0, 0, 0, 0, 0, 0, 0, 0, 0, 0, 0, 0, 0, 0, 0, 0, 0, 0, 0, 0, 0, 0, 0, 0, 0, 0, 0, 0, 0, 0, 0, 0, 0, 0, 0, 0, 0, 0, 0, 0, 0, 0, 0, 0, 0, 0, 0, 0, 0, 0, 0, 0, 0, 0, 0, 0, 0, 0, 0, 0, 0, 0, 0, 0, 0, 0, 0, 0, 0, 0, 0, 0, 0, 0, 0, 0, 0, 0, 0, 0, 0, 0, 0, 0, 0, 0, 0, 0, 0, 0, 0, 0, 0, 0, 0, 0, 0, 0, 0, 0, 0, 0, 0, 0, 0, 0, 0, 0, 0, 0, 0, 0, 0, 0, 0, 0, 0, 0, 0, 0, 0, 0, 0, 0, 0, 0, 0, 0, 0, 0, 0, 0, 0, 0, 0, 0, 0, 0, 0, 0, 0, 0, 0, 0, 0, 0, 0, 0, 0, 0, 0, 0, 0, 0, 0, 0, 0, 0, 0, 0, 0, 0, 0, 0, 0, 0, 0, 0, 0, 0, 0, 0, 0, 0, 0, 0, 0, 0, 0, 0, 0, 0, 0, 0, 0, 0, 0, 0, 0, 0, 0, 0, 0, 0, 0, 0, 0, 0, 0, 0, 0, 0, 0, 0, 0, 0, 0, 0, 0, 0, 0, 0, 0, 0, 0, 0, 0, 0, 0, 0, 0, 0, 0, 0, 0, 0, 0, 0, 0, 0, 0, 0, 0, 0, 0, 0, 0, 0, 0, 0, 0, 0, 0, 0, 0, 0, 0, 0, 0, 0, 0, 0, 0, 0, 0, 0, 0, 0, 0, 0, 0, 0, 0, 0, 0, 0, 0, 0, 0, 0, 0, 0, 0, 0, 0, 0, 0, 0, 0, 0, 0, 0, 0, 0, 0, 0, 0, 0, 0, 0, 0, 0, 0, 0, 0, 0, 0, 0, 0, 0, 0, 0, 0, 0, 0, 0, 0, 0, 0, 0, 0, 0, 0, 0, 0, 0, 0, 0, 0, 0, 0, 0, 0, 0, 0, 0, 0, 0, 0, 0, 0, 0, 0, 0, 0, 0, 0, 0, 0, 0, 0, 0, 0, 0, 0, 0, 0, 0, 0, 0, 0, 0, 0, 0, 0, 0, 0, 0, 0, 0, 0, 0, 0, 0, 0, 0, 0, 0, 0, 0, 0, 0, 0, 0, 0, 0, 0, 0, 0, 0, 0, 0, 0, 0, 0, 0, 0, 0, 0, 0, 0, 0, 0, 0, 0, 0, 0, 0, 0, 0, 0, 0, 0, 0, 0, 0, 0, 0, 0, 0, 0, 0, 0, 0, 0, 0, 0, 0, 0, 0, 0, 0, 0, 0, 0, 0, 0, 0, 0, 0, 0, 0, 0, 0, 0, 0, 0, 0, 0, 0, 0, 0, 0, 0, 0, 0, 0, 0, 0, 0, 0, 0, 0, 0, 0, 0, 0, 0, 0, 0, 0, 0, 0, 0, 0, 0, 0, 0, 1, 0, 0, 0, 0, 0, 0, 0, 0, 0, 0, 0, 0, 0, 0, 0, 0, 0, 0, 0, 0, 0, 0, 0, 0, 0, 0, 0, 0, 0, 0, 0, 0, 0, 0, 0, 0, 0, 0, 0, 0, 0, 0, 0, 0, 0, 0, 0, 0, 0, 0, 0, 0, 0, 0, 0, 0, 0, 0, 0, 0, 0, 0, 0, 0, 0, 0, 0, 0, 0, 0, 0, 0, 0, 0, 0, 0, 0, 0, 0, 0, 0, 0, 0, 0, 0, 0, 0, 0, 0, 0, 0, 0, 0, 0, 0, 0, 0, 0, 0, 0, 0, 0, 0, 0, 0, 0, 0, 0, 0, 0, 2, 0, 0, 0, 0, 0, 0, 0, 0, 0, 0, 0, 0, 0, 0, 0, 0, 0, 0, 0, 0, 0, 0, 0, 0, 0, 0, 0, 0, 0, 0, 0, 0, 0, 0, 0, 0, 0, 0, 0, 0, 0, 0, 0, 0, 0, 0, 0, 0, 0, 0, 0, 0, 0, 0, 0, 0, 0, 0, 0, 0, 0, 0, 0, 0, 0, 0, 0, 0, 0, 0, 0, 0, 0, 0, 0, 0, 0, 0, 0, 0, 0, 0, 0, 0, 0, 0, 0, 0, 0, 0, 0, 0, 0, 0, 0, 0, 0, 0, 0, 0, 0, 0, 0, 0, 0, 0, 0, 0, 0, 0, 0, 0, 0, 0, 0, 0, 0, 0, 0, 0, 0, 0, 0, 0, 0, 0, 0, 0, 0, 0, 0, 0, 0, 0, 0, 0, 0, 0, 0, 0, 0, 0, 0, 0, 0, 0, 0, 0, 0, 0, 0, 0, 0, 0, 0, 0, 0, 0, 0, 0, 0, 0, 0, 0, 0, 0, 0, 0, 0, 0, 0, 0, 0, 0, 0, 0, 0, 0, 0, 0, 0, 0, 0, 0, 0, 0, 0, 0, 0, 0, 0, 0, 0, 0, 0, 0, 0, 0, 0, 0, 0, 0, 0, 0, 0, 0, 0, 0, 0, 0, 0, 0, 0, 0, 0, 0, 0, 0, 0, 0, 0, 0, 0, 0, 0, 0, 0, 0, 0, 0, 0, 0, 0, 0, 0, 0, 0, 0, 0, 0, 0, 0, 0, 0, 0, 0, 0, 0, 0, 0, 0, 0, 0, 0, 0, 0, 0, 0, 0, 0, 0, 0, 0, 0, 0, 0, 0, 0, 0, 0, 0, 0, 0, 0, 0, 0, 0, 0, 0, 0, 0, 0, 0, 0, 0, 0, 0, 0, 0, 0, 0, 0, 0, 0, 0, 0, 0, 0, 0, 0, 0, 0, 0, 0, 0, 0, 0, 0, 0, 0, 0, 0, 0, 0, 0, 0, 0, 0, 0, 0, 0, 0, 0, 0, 0, 0, 0, 0, 0, 0, 0, 0, 0, 0, 0, 0, 0, 0, 0, 0, 0, 0, 0, 0, 0, 0, 0, 0, 0, 0, 0, 0, 0, 0, 0, 0, 0, 0, 0, 0, 0, 0, 0, 0, 0, 0, 0, 0, 0, 0, 0, 0, 0, 0, 0, 0, 0, 0, 0, 0, 0, 0, 0, 0, 0, 0, 0, 0, 0, 0, 0, 0, 0, 0, 0, 0, 0, 0, 0, 0, 0, 0, 0, 0, 0, 0, 0, 0, 0, 0, 0, 0, 0, 0, 0, 0, 0, 0, 0, 0, 0, 0, 0, 0, 0, 0, 0, 0, 0, 0, 0, 0, 0, 0, 0, 0, 0, 0, 0, 0, 0, 0, 0, 0, 0, 0, 0, 0, 0, 0, 0, 0, 0, 0, 0, 0, 0, 0, 0, 0, 0, 0, 0, 0, 0, 0, 0, 0, 0, 0, 0, 0, 0, 0, 0, 0, 0, 0, 0, 0, 0, 0, 0, 0, 0, 0, 0, 0, 0, 0, 0, 0, 0, 0, 0, 0, 0, 0, 0, 0, 0, 0, 0, 0, 0, 0, 0, 0, 0, 0, 0, 0, 0, 0, 0, 0, 0, 0, 0, 0, 0, 0, 0, 0, 0, 0, 0, 0, 0, 0, 0, 0, 0, 0, 0, 0, 0, 0, 0, 0, 0, 0, 0, 0, 0, 0, 0, 0, 0, 0, 0, 0, 0, 0, 0, 0, 0, 0, 0, 0, 0, 0, 0, 0, 0, 0, 0, 0, 0, 0, 0, 0, 0, 0, 0, 0, 0, 0, 0, 0, 0, 0, 0, 0, 0, 0, 0, 0, 0, 0, 0, 0, 0, 0, 0, 0, 0, 0, 0, 0, 0, 0, 0, 0, 0, 0, 0, 0, 0, 0, 0, 0, 0, 0, 0, 0, 0, 0, 0, 0, 0, 0, 0, 0, 0, 0, 0, 0, 0, 0, 0, 0, 0, 0, 0, 0, 0, 0, 0, 0, 0, 0, 0, 0, 0, 0, 0, 0, 0, 0, 0, 0, 0, 0, 0, 0, 0, 0, 0, 0, 0, 0, 0, 0, 0, 0, 0, 0, 0, 0, 0, 0, 0, 0, 0, 0, 0, 0, 0, 0, 0, 0, 0, 0, 0, 0, 0, 0, 0, 0, 1, 0, 0, 0, 0, 0, 0, 0, 0, 0, 0, 0, 0, 0, 0, 0, 0, 0, 0, 0, 0, 0, 0, 0, 0, 0, 0, 0, 0, 0, 0, 0, 0, 0, 0, 0, 0, 0, 0, 0, 0, 0, 0, 0, 0, 0, 0, 0, 0, 0, 0, 0, 0, 0, 0, 0, 0, 0, 0, 0, 0, 0, 0, 0, 0, 0, 0, 0, 0, 0, 0, 0, 0, 0, 0, 0, 0, 0, 0, 0, 0, 0, 0, 0, 0, 0, 0, 0, 0, 0, 0, 0, 0, 0, 0, 0, 0, 0, 0, 0, 0, 0, 0, 0, 0, 0, 0, 0, 1, 0, 0, 0, 0, 0, 0, 0, 0, 0, 0, 0, 0, 0, 0, 0, 0, 0, 0, 0, 0, 0, 0, 0, 0, 0, 0, 0, 0, 0, 0, 0, 0, 0, 0, 0, 0, 0, 0, 0, 0, 0, 0, 0, 0, 0, 0, 0, 0, 0, 0, 0, 0, 0, 0, 0, 0, 0, 0, 0, 0, 0, 0, 0, 0, 0, 0, 0, 0, 0, 0, 0, 0, 0, 0, 0, 0, 0, 0, 0, 0, 0, 0, 0, 0, 0, 0, 0, 0, 0, 0, 0, 0, 0, 0, 0, 0, 0, 0, 0, 0, 0, 0, 0, 0, 0, 0, 0, 0, 0, 0, 0, 0, 0, 0, 0, 0, 0, 0, 0, 0, 0, 0, 0, 0, 0, 0, 0, 0, 0, 0, 0, 0, 0, 0, 0, 0, 0, 0, 0, 0, 0, 0, 0, 0, 0, 0, 0, 0, 0, 0, 0, 0, 0, 0, 0, 0, 0, 0, 0, 0, 0, 0, 0, 0, 0, 0, 0, 0, 0, 0, 0, 0, 0, 0, 0, 0, 0, 0, 0, 0, 0, 0, 0, 0, 0, 0, 0, 0, 0, 0, 0, 0, 0, 0, 0, 0, 0, 0, 0, 0, 0, 0, 0, 0, 0, 0, 0, 0, 0, 0, 0, 0, 0, 0, 0, 0, 0, 0, 0, 0, 0, 0, 0, 0, 0, 0, 0, 0, 0, 0, 0, 0, 0, 0, 0, 0, 0, 0, 0, 0, 0, 0, 0, 0, 0, 0, 0, 0, 0, 0, 0, 0, 0, 0, 0, 0, 0, 0, 0, 0, 0, 0, 0, 0, 0, 0, 0, 0, 0, 0, 0, 0, 0, 0, 0, 0, 0, 0, 0, 0, 0, 0, 0, 0, 0, 0, 0, 0, 0, 0, 0, 0, 0, 0, 0, 0, 0, 0, 0, 0, 0, 0, 0, 0, 0, 0, 0, 0, 0, 0, 0, 0, 0, 0, 0, 0, 0, 0, 0, 0, 0, 0, 0, 0, 0, 0, 0, 0, 0, 0, 0, 0, 0, 0, 0, 0, 0, 0, 0, 0, 0, 0, 0, 0, 0, 0, 0, 0, 0, 0, 0, 0, 0, 0, 0, 0, 0, 0, 0, 0, 0, 0, 0, 0, 0, 0, 0, 0, 0, 0, 0, 0, 0, 0, 0, 0, 0, 0, 0, 0, 0, 0, 0, 0, 0, 0, 0, 0, 0, 0, 0, 0, 0, 0, 0, 0, 0, 0, 0, 0, 0, 0, 0, 0, 0, 0, 0, 0, 0, 0, 0, 0, 0, 0, 0, 0, 0, 0, 0, 0, 0, 0, 0, 0, 0, 0, 0, 0, 0, 0, 0, 0, 0, 0, 0, 0, 0, 0, 0, 0, 0, 0, 0, 0, 0, 0, 0, 0, 0, 0, 0, 0, 0, 0, 0, 0, 0, 0, 0, 0, 0, 0, 0, 2, 0, 1, 0], type: <class 'list'>, valid types: <class 'bytes'>, <class 'bytearray'>, file-like object",
     "output_type": "error",
     "traceback": [
      "\u001b[0;31m---------------------------------------------------------------------------\u001b[0m",
      "\u001b[0;31mParamValidationError\u001b[0m                      Traceback (most recent call last)",
      "\u001b[0;32m<ipython-input-55-c9ab54ae3a48>\u001b[0m in \u001b[0;36m<module>\u001b[0;34m()\u001b[0m\n\u001b[1;32m      1\u001b[0m response = runtime.invoke_endpoint(EndpointName = xgb_predictor.endpoint, # The name of the endpoint we created\n\u001b[1;32m      2\u001b[0m                                        \u001b[0mContentType\u001b[0m \u001b[0;34m=\u001b[0m \u001b[0;34m'text/csv'\u001b[0m\u001b[0;34m,\u001b[0m                     \u001b[0;31m# The data format that is expected\u001b[0m\u001b[0;34m\u001b[0m\u001b[0m\n\u001b[0;32m----> 3\u001b[0;31m                                        Body = test_bow)\n\u001b[0m",
      "\u001b[0;32m~/anaconda3/envs/python3/lib/python3.6/site-packages/botocore/client.py\u001b[0m in \u001b[0;36m_api_call\u001b[0;34m(self, *args, **kwargs)\u001b[0m\n\u001b[1;32m    314\u001b[0m                     \"%s() only accepts keyword arguments.\" % py_operation_name)\n\u001b[1;32m    315\u001b[0m             \u001b[0;31m# The \"self\" in this scope is referring to the BaseClient.\u001b[0m\u001b[0;34m\u001b[0m\u001b[0;34m\u001b[0m\u001b[0m\n\u001b[0;32m--> 316\u001b[0;31m             \u001b[0;32mreturn\u001b[0m \u001b[0mself\u001b[0m\u001b[0;34m.\u001b[0m\u001b[0m_make_api_call\u001b[0m\u001b[0;34m(\u001b[0m\u001b[0moperation_name\u001b[0m\u001b[0;34m,\u001b[0m \u001b[0mkwargs\u001b[0m\u001b[0;34m)\u001b[0m\u001b[0;34m\u001b[0m\u001b[0m\n\u001b[0m\u001b[1;32m    317\u001b[0m \u001b[0;34m\u001b[0m\u001b[0m\n\u001b[1;32m    318\u001b[0m         \u001b[0m_api_call\u001b[0m\u001b[0;34m.\u001b[0m\u001b[0m__name__\u001b[0m \u001b[0;34m=\u001b[0m \u001b[0mstr\u001b[0m\u001b[0;34m(\u001b[0m\u001b[0mpy_operation_name\u001b[0m\u001b[0;34m)\u001b[0m\u001b[0;34m\u001b[0m\u001b[0m\n",
      "\u001b[0;32m~/anaconda3/envs/python3/lib/python3.6/site-packages/botocore/client.py\u001b[0m in \u001b[0;36m_make_api_call\u001b[0;34m(self, operation_name, api_params)\u001b[0m\n\u001b[1;32m    597\u001b[0m         }\n\u001b[1;32m    598\u001b[0m         request_dict = self._convert_to_request_dict(\n\u001b[0;32m--> 599\u001b[0;31m             api_params, operation_model, context=request_context)\n\u001b[0m\u001b[1;32m    600\u001b[0m \u001b[0;34m\u001b[0m\u001b[0m\n\u001b[1;32m    601\u001b[0m         \u001b[0mservice_id\u001b[0m \u001b[0;34m=\u001b[0m \u001b[0mself\u001b[0m\u001b[0;34m.\u001b[0m\u001b[0m_service_model\u001b[0m\u001b[0;34m.\u001b[0m\u001b[0mservice_id\u001b[0m\u001b[0;34m.\u001b[0m\u001b[0mhyphenize\u001b[0m\u001b[0;34m(\u001b[0m\u001b[0;34m)\u001b[0m\u001b[0;34m\u001b[0m\u001b[0m\n",
      "\u001b[0;32m~/anaconda3/envs/python3/lib/python3.6/site-packages/botocore/client.py\u001b[0m in \u001b[0;36m_convert_to_request_dict\u001b[0;34m(self, api_params, operation_model, context)\u001b[0m\n\u001b[1;32m    645\u001b[0m             api_params, operation_model, context)\n\u001b[1;32m    646\u001b[0m         request_dict = self._serializer.serialize_to_request(\n\u001b[0;32m--> 647\u001b[0;31m             api_params, operation_model)\n\u001b[0m\u001b[1;32m    648\u001b[0m         \u001b[0;32mif\u001b[0m \u001b[0;32mnot\u001b[0m \u001b[0mself\u001b[0m\u001b[0;34m.\u001b[0m\u001b[0m_client_config\u001b[0m\u001b[0;34m.\u001b[0m\u001b[0minject_host_prefix\u001b[0m\u001b[0;34m:\u001b[0m\u001b[0;34m\u001b[0m\u001b[0m\n\u001b[1;32m    649\u001b[0m             \u001b[0mrequest_dict\u001b[0m\u001b[0;34m.\u001b[0m\u001b[0mpop\u001b[0m\u001b[0;34m(\u001b[0m\u001b[0;34m'host_prefix'\u001b[0m\u001b[0;34m,\u001b[0m \u001b[0;32mNone\u001b[0m\u001b[0;34m)\u001b[0m\u001b[0;34m\u001b[0m\u001b[0m\n",
      "\u001b[0;32m~/anaconda3/envs/python3/lib/python3.6/site-packages/botocore/validate.py\u001b[0m in \u001b[0;36mserialize_to_request\u001b[0;34m(self, parameters, operation_model)\u001b[0m\n\u001b[1;32m    295\u001b[0m                                                     operation_model.input_shape)\n\u001b[1;32m    296\u001b[0m             \u001b[0;32mif\u001b[0m \u001b[0mreport\u001b[0m\u001b[0;34m.\u001b[0m\u001b[0mhas_errors\u001b[0m\u001b[0;34m(\u001b[0m\u001b[0;34m)\u001b[0m\u001b[0;34m:\u001b[0m\u001b[0;34m\u001b[0m\u001b[0m\n\u001b[0;32m--> 297\u001b[0;31m                 \u001b[0;32mraise\u001b[0m \u001b[0mParamValidationError\u001b[0m\u001b[0;34m(\u001b[0m\u001b[0mreport\u001b[0m\u001b[0;34m=\u001b[0m\u001b[0mreport\u001b[0m\u001b[0;34m.\u001b[0m\u001b[0mgenerate_report\u001b[0m\u001b[0;34m(\u001b[0m\u001b[0;34m)\u001b[0m\u001b[0;34m)\u001b[0m\u001b[0;34m\u001b[0m\u001b[0m\n\u001b[0m\u001b[1;32m    298\u001b[0m         return self._serializer.serialize_to_request(parameters,\n\u001b[1;32m    299\u001b[0m                                                      operation_model)\n",
      "\u001b[0;31mParamValidationError\u001b[0m: Parameter validation failed:\nInvalid type for parameter Body, value: [0, 0, 0, 0, 0, 0, 0, 0, 0, 0, 0, 0, 0, 0, 0, 0, 0, 0, 0, 0, 0, 0, 0, 0, 0, 0, 0, 0, 0, 0, 0, 0, 0, 0, 0, 0, 0, 0, 0, 0, 0, 0, 0, 0, 0, 0, 0, 0, 0, 0, 0, 0, 0, 0, 0, 0, 0, 0, 0, 0, 0, 0, 0, 0, 0, 0, 0, 0, 0, 0, 0, 0, 0, 0, 0, 0, 0, 0, 0, 0, 0, 0, 0, 0, 0, 0, 0, 0, 0, 0, 0, 0, 0, 0, 0, 0, 0, 0, 0, 0, 0, 0, 0, 0, 0, 0, 0, 0, 0, 0, 0, 0, 0, 0, 0, 0, 0, 0, 0, 0, 0, 0, 0, 0, 0, 0, 0, 0, 0, 0, 0, 0, 0, 0, 0, 0, 0, 0, 0, 0, 0, 0, 0, 0, 0, 0, 0, 0, 0, 0, 0, 0, 0, 0, 0, 0, 0, 0, 0, 0, 0, 0, 0, 0, 0, 0, 0, 0, 0, 0, 0, 0, 0, 0, 0, 0, 0, 0, 0, 0, 0, 0, 0, 0, 0, 0, 0, 0, 0, 0, 0, 0, 0, 0, 0, 0, 0, 0, 0, 0, 0, 0, 0, 0, 0, 0, 0, 0, 0, 0, 0, 0, 0, 0, 0, 0, 0, 0, 0, 0, 0, 0, 0, 0, 0, 0, 1, 0, 0, 0, 0, 0, 0, 0, 0, 0, 0, 0, 0, 0, 0, 0, 0, 0, 0, 0, 0, 0, 0, 0, 0, 0, 0, 0, 0, 0, 1, 0, 0, 0, 0, 0, 0, 0, 0, 0, 0, 0, 0, 0, 0, 0, 0, 0, 0, 0, 0, 0, 0, 0, 0, 0, 0, 0, 0, 0, 0, 0, 0, 0, 0, 0, 0, 0, 0, 0, 0, 0, 0, 0, 0, 0, 0, 0, 0, 0, 0, 0, 0, 0, 0, 0, 0, 0, 0, 0, 0, 0, 0, 0, 0, 0, 0, 0, 0, 0, 0, 0, 0, 0, 0, 0, 0, 0, 0, 0, 0, 0, 0, 0, 0, 0, 0, 0, 0, 0, 0, 0, 0, 0, 0, 0, 0, 0, 0, 0, 0, 0, 0, 0, 0, 0, 0, 0, 0, 0, 0, 0, 0, 0, 0, 0, 0, 0, 0, 0, 0, 0, 0, 0, 0, 0, 0, 0, 0, 0, 0, 0, 0, 0, 0, 0, 0, 0, 0, 0, 0, 0, 0, 0, 0, 0, 0, 0, 0, 0, 0, 0, 0, 0, 0, 0, 0, 0, 0, 0, 0, 0, 0, 0, 0, 0, 0, 0, 0, 0, 0, 0, 0, 0, 0, 0, 0, 0, 0, 0, 0, 0, 0, 0, 0, 0, 0, 0, 0, 0, 0, 0, 0, 0, 0, 0, 0, 0, 0, 0, 0, 0, 0, 0, 0, 0, 0, 0, 0, 0, 0, 0, 0, 0, 0, 0, 0, 0, 0, 0, 0, 0, 0, 0, 0, 0, 0, 0, 0, 0, 0, 0, 0, 0, 0, 0, 0, 0, 0, 0, 0, 0, 0, 0, 0, 0, 0, 0, 0, 0, 0, 0, 0, 0, 0, 0, 0, 0, 0, 0, 0, 0, 0, 0, 0, 0, 0, 0, 0, 0, 0, 0, 0, 0, 0, 0, 0, 0, 0, 0, 0, 0, 0, 0, 0, 0, 0, 0, 0, 0, 0, 0, 0, 0, 0, 0, 0, 0, 0, 0, 0, 0, 0, 0, 0, 0, 0, 0, 0, 0, 0, 0, 0, 0, 0, 0, 0, 0, 0, 0, 0, 0, 0, 0, 0, 0, 0, 0, 0, 0, 0, 0, 0, 0, 0, 0, 0, 0, 0, 0, 0, 0, 0, 0, 0, 0, 0, 0, 0, 0, 0, 0, 0, 0, 0, 0, 0, 0, 0, 0, 0, 0, 0, 0, 0, 0, 0, 0, 0, 0, 0, 0, 0, 0, 0, 0, 0, 0, 0, 0, 1, 0, 0, 0, 0, 0, 0, 0, 0, 0, 0, 0, 0, 0, 0, 0, 0, 0, 0, 0, 0, 0, 0, 0, 0, 0, 0, 0, 0, 0, 0, 0, 0, 0, 0, 0, 0, 0, 0, 0, 0, 0, 0, 0, 0, 0, 0, 0, 0, 0, 0, 0, 0, 0, 0, 0, 0, 0, 0, 0, 0, 0, 0, 0, 0, 0, 0, 0, 0, 0, 0, 0, 0, 0, 0, 0, 0, 0, 0, 0, 0, 0, 0, 0, 0, 0, 0, 0, 0, 0, 0, 0, 0, 0, 0, 0, 0, 0, 0, 0, 0, 0, 0, 0, 0, 0, 0, 0, 0, 0, 0, 0, 0, 0, 0, 0, 0, 0, 0, 0, 0, 0, 0, 0, 0, 0, 0, 0, 0, 0, 0, 0, 0, 0, 0, 0, 0, 0, 0, 0, 0, 0, 0, 0, 0, 0, 0, 0, 0, 0, 0, 0, 0, 0, 0, 0, 0, 0, 0, 0, 0, 0, 0, 0, 0, 0, 0, 0, 0, 0, 0, 0, 0, 0, 0, 0, 0, 0, 0, 0, 0, 0, 0, 0, 0, 0, 0, 0, 0, 0, 0, 0, 0, 0, 0, 0, 0, 0, 0, 0, 0, 0, 0, 0, 0, 0, 0, 0, 0, 0, 0, 0, 0, 0, 0, 0, 0, 0, 0, 0, 0, 0, 0, 0, 0, 0, 0, 0, 0, 0, 0, 0, 0, 0, 0, 0, 0, 0, 0, 0, 0, 0, 0, 0, 0, 0, 0, 0, 0, 0, 0, 0, 0, 0, 1, 0, 0, 0, 0, 0, 0, 0, 0, 0, 0, 0, 0, 0, 0, 0, 0, 0, 0, 0, 0, 0, 0, 0, 0, 0, 0, 0, 0, 0, 0, 0, 0, 0, 0, 0, 0, 0, 0, 0, 0, 0, 0, 0, 0, 0, 0, 0, 0, 0, 0, 0, 0, 0, 0, 0, 0, 0, 0, 0, 0, 0, 0, 0, 0, 0, 0, 0, 0, 0, 0, 0, 0, 0, 0, 0, 0, 0, 0, 0, 0, 0, 0, 0, 0, 0, 0, 1, 0, 0, 0, 0, 0, 0, 0, 0, 0, 0, 0, 0, 0, 0, 0, 0, 0, 0, 0, 0, 0, 0, 0, 0, 0, 0, 0, 0, 0, 0, 0, 0, 0, 0, 0, 0, 0, 0, 0, 0, 0, 0, 0, 0, 0, 0, 0, 0, 0, 0, 0, 0, 0, 0, 0, 0, 0, 0, 0, 0, 0, 0, 0, 0, 0, 0, 0, 0, 0, 0, 0, 0, 0, 0, 0, 0, 0, 0, 0, 0, 0, 0, 0, 0, 0, 0, 0, 0, 0, 0, 0, 0, 0, 0, 0, 0, 0, 0, 0, 0, 0, 0, 0, 0, 0, 0, 0, 0, 0, 0, 0, 0, 0, 0, 0, 0, 0, 0, 0, 0, 0, 0, 0, 0, 0, 0, 0, 0, 0, 0, 0, 0, 0, 0, 0, 0, 0, 0, 0, 0, 0, 0, 0, 0, 0, 0, 0, 0, 0, 0, 0, 0, 0, 0, 0, 0, 0, 0, 0, 0, 0, 0, 0, 0, 0, 0, 0, 0, 0, 0, 0, 0, 0, 0, 0, 0, 0, 0, 0, 0, 0, 0, 0, 0, 0, 0, 0, 0, 0, 0, 0, 0, 0, 0, 0, 0, 0, 0, 0, 0, 0, 0, 0, 0, 0, 0, 0, 0, 0, 0, 0, 0, 0, 0, 0, 0, 0, 0, 0, 0, 0, 0, 0, 0, 0, 0, 0, 0, 0, 0, 0, 0, 0, 0, 0, 0, 0, 0, 0, 0, 0, 0, 0, 0, 0, 0, 0, 0, 0, 0, 0, 0, 1, 0, 0, 0, 0, 0, 0, 0, 0, 0, 0, 0, 0, 0, 0, 0, 0, 0, 0, 0, 0, 0, 0, 0, 0, 0, 0, 0, 0, 0, 0, 0, 0, 0, 0, 0, 0, 0, 0, 0, 0, 0, 0, 0, 0, 0, 0, 0, 0, 0, 0, 0, 0, 0, 0, 0, 1, 0, 0, 0, 0, 0, 0, 0, 0, 0, 0, 0, 0, 0, 0, 0, 0, 0, 0, 0, 0, 0, 0, 0, 0, 0, 0, 0, 0, 0, 0, 0, 0, 0, 0, 0, 0, 0, 0, 0, 0, 0, 0, 0, 0, 0, 0, 0, 0, 0, 0, 0, 0, 0, 0, 0, 0, 0, 0, 0, 0, 0, 0, 0, 0, 0, 0, 0, 0, 0, 0, 0, 0, 0, 0, 0, 0, 0, 0, 0, 0, 0, 0, 0, 0, 0, 0, 0, 0, 0, 0, 0, 0, 0, 0, 0, 0, 0, 0, 0, 0, 0, 0, 0, 0, 0, 0, 0, 0, 0, 0, 0, 0, 0, 0, 0, 0, 0, 0, 0, 0, 0, 0, 0, 0, 0, 0, 0, 0, 0, 0, 0, 0, 0, 0, 0, 0, 0, 0, 0, 0, 0, 0, 0, 0, 0, 0, 0, 0, 0, 0, 0, 0, 0, 0, 0, 0, 0, 0, 0, 0, 0, 0, 0, 0, 0, 0, 0, 0, 0, 0, 0, 0, 0, 0, 0, 0, 0, 0, 0, 0, 0, 0, 0, 0, 0, 0, 0, 0, 0, 0, 0, 0, 0, 0, 0, 0, 0, 0, 0, 0, 0, 0, 0, 0, 0, 0, 0, 0, 0, 0, 0, 0, 0, 0, 0, 0, 0, 0, 0, 0, 0, 0, 0, 0, 0, 0, 0, 0, 0, 0, 0, 0, 0, 0, 0, 0, 0, 0, 0, 0, 0, 0, 0, 0, 0, 0, 0, 0, 0, 0, 0, 0, 0, 0, 0, 0, 0, 0, 0, 0, 0, 0, 0, 0, 0, 0, 0, 0, 0, 0, 0, 0, 0, 0, 0, 0, 0, 0, 0, 0, 0, 0, 0, 0, 0, 0, 0, 0, 0, 0, 0, 0, 0, 0, 0, 0, 0, 0, 0, 0, 0, 0, 0, 0, 0, 0, 0, 0, 0, 0, 0, 0, 0, 0, 0, 0, 0, 0, 0, 0, 0, 0, 0, 0, 0, 0, 0, 0, 0, 0, 0, 0, 0, 0, 0, 0, 0, 0, 0, 0, 0, 0, 0, 0, 0, 0, 0, 0, 0, 0, 0, 0, 0, 0, 0, 0, 0, 0, 0, 0, 0, 0, 0, 0, 0, 0, 0, 0, 0, 0, 0, 0, 0, 0, 0, 0, 0, 0, 0, 0, 0, 0, 0, 0, 0, 0, 0, 0, 0, 0, 0, 0, 0, 0, 0, 0, 0, 0, 0, 0, 0, 0, 0, 0, 0, 0, 0, 0, 0, 0, 0, 0, 0, 0, 0, 0, 0, 0, 0, 0, 0, 0, 0, 0, 0, 0, 0, 0, 0, 0, 0, 0, 0, 0, 0, 0, 0, 0, 0, 0, 0, 0, 0, 0, 0, 0, 0, 0, 0, 0, 0, 0, 0, 0, 0, 0, 0, 0, 0, 0, 0, 0, 0, 0, 0, 0, 0, 0, 0, 0, 0, 0, 0, 0, 0, 0, 0, 0, 0, 0, 0, 0, 0, 0, 0, 0, 0, 0, 0, 0, 0, 0, 0, 0, 0, 0, 0, 0, 0, 0, 0, 0, 0, 0, 0, 0, 0, 0, 0, 0, 0, 0, 0, 0, 0, 0, 0, 0, 0, 0, 0, 0, 0, 0, 0, 0, 0, 0, 0, 0, 0, 0, 0, 0, 0, 0, 0, 0, 0, 0, 0, 0, 0, 0, 0, 0, 0, 0, 0, 0, 0, 0, 0, 0, 0, 0, 0, 0, 0, 0, 0, 0, 0, 0, 0, 0, 0, 0, 0, 0, 0, 0, 0, 0, 0, 0, 0, 0, 0, 0, 0, 0, 0, 0, 0, 0, 0, 0, 0, 0, 0, 0, 0, 0, 0, 0, 0, 0, 0, 0, 0, 0, 0, 0, 0, 0, 0, 0, 0, 0, 0, 0, 0, 0, 0, 0, 0, 0, 0, 0, 0, 0, 0, 0, 0, 0, 0, 0, 0, 0, 0, 0, 0, 0, 0, 0, 0, 0, 0, 0, 0, 0, 0, 0, 0, 0, 0, 0, 0, 0, 0, 0, 0, 0, 0, 0, 0, 0, 0, 0, 0, 0, 0, 0, 0, 0, 0, 0, 0, 0, 0, 0, 0, 0, 0, 0, 0, 0, 0, 0, 0, 1, 0, 0, 0, 0, 0, 0, 0, 0, 0, 0, 0, 0, 0, 0, 0, 0, 0, 0, 0, 0, 0, 0, 0, 0, 0, 0, 0, 0, 0, 0, 0, 0, 0, 0, 0, 0, 0, 0, 0, 0, 0, 0, 0, 0, 0, 0, 0, 0, 0, 0, 0, 0, 0, 0, 0, 0, 0, 0, 0, 0, 0, 0, 0, 0, 0, 0, 0, 0, 0, 0, 0, 0, 0, 0, 1, 0, 0, 0, 0, 0, 0, 0, 0, 0, 0, 0, 0, 0, 0, 0, 0, 0, 0, 0, 0, 1, 0, 0, 1, 0, 0, 0, 0, 0, 0, 0, 0, 0, 0, 0, 0, 0, 0, 0, 0, 0, 0, 0, 0, 0, 0, 0, 0, 0, 0, 0, 0, 0, 0, 0, 0, 0, 0, 0, 0, 0, 0, 0, 0, 0, 0, 0, 0, 0, 0, 0, 0, 0, 0, 0, 0, 0, 0, 0, 0, 0, 0, 0, 0, 0, 0, 0, 0, 0, 0, 0, 0, 0, 0, 0, 0, 0, 0, 0, 0, 0, 0, 0, 0, 0, 0, 0, 0, 0, 0, 0, 0, 0, 0, 0, 0, 0, 0, 0, 0, 0, 0, 0, 0, 0, 0, 0, 0, 0, 0, 0, 0, 0, 0, 0, 0, 0, 0, 0, 0, 0, 0, 0, 0, 0, 0, 0, 0, 0, 0, 0, 0, 0, 0, 0, 0, 0, 0, 0, 0, 0, 0, 0, 0, 0, 0, 0, 0, 0, 0, 0, 0, 0, 0, 0, 0, 0, 0, 0, 0, 0, 0, 0, 0, 0, 0, 0, 0, 0, 0, 0, 0, 0, 0, 0, 0, 0, 0, 0, 0, 0, 0, 0, 0, 0, 0, 0, 0, 0, 0, 0, 0, 0, 0, 0, 0, 0, 0, 0, 0, 0, 0, 0, 0, 0, 0, 0, 0, 0, 0, 0, 0, 0, 0, 0, 0, 0, 0, 0, 0, 0, 0, 0, 0, 0, 0, 0, 0, 0, 0, 0, 0, 0, 0, 0, 0, 0, 0, 0, 0, 0, 0, 0, 0, 0, 0, 0, 0, 0, 0, 0, 0, 0, 0, 0, 0, 0, 0, 0, 0, 0, 0, 0, 0, 0, 0, 0, 0, 0, 0, 0, 0, 0, 0, 0, 0, 0, 0, 0, 0, 0, 0, 0, 0, 0, 0, 0, 0, 0, 0, 0, 0, 0, 0, 0, 0, 0, 0, 0, 0, 0, 0, 0, 0, 0, 0, 0, 0, 0, 0, 0, 0, 0, 0, 0, 0, 0, 0, 0, 0, 0, 0, 0, 0, 0, 0, 0, 0, 0, 0, 0, 0, 0, 0, 0, 0, 0, 0, 0, 0, 0, 0, 0, 0, 0, 0, 0, 0, 0, 0, 0, 0, 0, 0, 0, 0, 0, 0, 0, 0, 0, 0, 0, 0, 0, 0, 0, 0, 0, 0, 0, 0, 0, 0, 0, 0, 0, 0, 0, 0, 0, 0, 0, 0, 0, 0, 0, 0, 0, 0, 0, 0, 0, 0, 0, 0, 0, 0, 0, 0, 0, 0, 0, 0, 0, 0, 0, 0, 0, 0, 0, 0, 0, 0, 0, 0, 0, 0, 0, 0, 0, 0, 0, 0, 0, 0, 0, 0, 0, 0, 0, 0, 0, 0, 0, 0, 0, 0, 0, 0, 0, 0, 0, 0, 0, 0, 0, 0, 0, 0, 0, 0, 0, 0, 0, 0, 0, 0, 0, 0, 0, 0, 0, 0, 0, 0, 0, 0, 0, 0, 1, 0, 0, 0, 0, 0, 0, 0, 0, 0, 0, 0, 0, 0, 0, 0, 0, 0, 0, 0, 0, 0, 0, 0, 0, 0, 0, 0, 0, 0, 0, 0, 0, 0, 0, 0, 0, 0, 0, 0, 0, 0, 0, 0, 0, 0, 0, 0, 0, 0, 0, 0, 0, 0, 0, 0, 0, 0, 0, 0, 0, 0, 0, 0, 0, 0, 0, 0, 0, 0, 0, 0, 0, 0, 0, 0, 0, 0, 0, 0, 0, 0, 0, 0, 0, 0, 0, 0, 0, 0, 0, 0, 0, 0, 0, 0, 0, 0, 0, 0, 0, 0, 0, 0, 0, 0, 0, 0, 0, 0, 0, 0, 0, 0, 0, 0, 0, 0, 0, 0, 0, 0, 0, 0, 0, 0, 0, 0, 0, 0, 0, 0, 0, 0, 0, 0, 0, 0, 0, 0, 0, 0, 0, 0, 0, 0, 0, 0, 0, 0, 0, 0, 0, 0, 0, 0, 0, 0, 0, 0, 0, 0, 0, 0, 0, 0, 0, 0, 0, 0, 0, 0, 0, 0, 0, 0, 0, 0, 0, 0, 0, 0, 0, 0, 0, 0, 0, 0, 0, 0, 0, 0, 0, 0, 0, 0, 0, 0, 0, 0, 0, 0, 0, 0, 0, 0, 0, 0, 0, 0, 0, 0, 0, 0, 0, 0, 0, 0, 0, 0, 0, 0, 0, 0, 0, 0, 0, 0, 0, 0, 0, 0, 0, 0, 0, 0, 0, 0, 0, 0, 0, 0, 0, 0, 0, 0, 0, 0, 0, 0, 0, 0, 0, 0, 0, 0, 0, 0, 0, 0, 0, 0, 0, 0, 0, 0, 0, 0, 0, 0, 0, 0, 0, 0, 0, 0, 0, 0, 0, 0, 0, 0, 0, 0, 0, 0, 0, 0, 0, 0, 0, 0, 0, 0, 0, 0, 0, 0, 0, 0, 0, 0, 0, 0, 0, 0, 0, 0, 0, 0, 0, 0, 0, 0, 0, 0, 0, 0, 0, 0, 0, 0, 0, 0, 0, 0, 0, 0, 0, 0, 0, 0, 0, 0, 0, 0, 0, 0, 0, 0, 0, 0, 0, 0, 0, 0, 0, 0, 0, 0, 0, 0, 0, 0, 0, 0, 0, 0, 0, 0, 0, 0, 0, 0, 0, 0, 0, 0, 0, 0, 0, 0, 0, 0, 0, 0, 0, 0, 0, 0, 0, 0, 0, 0, 0, 0, 0, 0, 0, 0, 0, 0, 0, 0, 0, 0, 0, 0, 0, 0, 0, 0, 0, 0, 0, 0, 0, 0, 0, 0, 0, 0, 0, 0, 0, 0, 0, 0, 0, 0, 0, 0, 0, 0, 0, 0, 0, 0, 0, 0, 0, 0, 0, 0, 0, 0, 0, 0, 0, 0, 0, 0, 0, 0, 0, 0, 0, 0, 0, 0, 0, 0, 0, 0, 0, 0, 0, 0, 0, 0, 0, 0, 0, 0, 0, 0, 0, 0, 0, 0, 0, 0, 0, 0, 0, 0, 0, 0, 0, 0, 0, 0, 0, 0, 0, 0, 0, 0, 0, 0, 0, 0, 0, 0, 0, 0, 0, 0, 0, 0, 0, 0, 0, 0, 0, 0, 0, 0, 0, 0, 0, 0, 0, 1, 0, 0, 0, 0, 0, 0, 0, 0, 0, 0, 0, 0, 0, 0, 0, 0, 0, 0, 0, 0, 0, 0, 0, 0, 0, 0, 0, 0, 0, 0, 0, 0, 0, 0, 0, 2, 0, 0, 0, 0, 0, 0, 0, 0, 0, 0, 0, 0, 0, 0, 0, 0, 0, 0, 0, 0, 0, 0, 0, 0, 0, 0, 0, 0, 0, 0, 0, 0, 0, 0, 0, 0, 0, 0, 0, 0, 1, 0, 0, 0, 0, 0, 0, 0, 0, 0, 0, 0, 0, 0, 0, 0, 0, 0, 0, 0, 0, 0, 0, 0, 0, 0, 0, 0, 0, 0, 0, 0, 0, 0, 0, 0, 0, 0, 0, 0, 0, 0, 0, 0, 0, 0, 0, 0, 0, 0, 0, 0, 0, 0, 0, 0, 0, 0, 0, 0, 0, 0, 0, 0, 0, 0, 0, 0, 0, 0, 0, 0, 0, 0, 0, 0, 0, 0, 0, 0, 0, 0, 0, 0, 0, 0, 0, 0, 0, 0, 0, 0, 0, 0, 0, 0, 0, 0, 0, 0, 0, 0, 0, 0, 0, 0, 0, 0, 0, 0, 0, 0, 0, 0, 0, 0, 0, 0, 0, 0, 0, 0, 0, 0, 0, 0, 0, 0, 0, 0, 0, 0, 0, 0, 0, 0, 0, 0, 0, 0, 0, 0, 0, 0, 0, 0, 0, 0, 0, 0, 0, 0, 0, 0, 0, 0, 0, 0, 0, 0, 0, 0, 0, 0, 0, 0, 0, 0, 0, 0, 0, 0, 0, 0, 0, 0, 0, 0, 0, 0, 0, 0, 0, 0, 0, 0, 0, 0, 0, 0, 0, 0, 0, 0, 0, 0, 0, 0, 0, 0, 0, 0, 0, 0, 0, 0, 0, 0, 0, 0, 0, 0, 0, 0, 0, 0, 0, 0, 0, 0, 0, 0, 0, 0, 0, 0, 0, 0, 0, 0, 0, 0, 0, 0, 0, 0, 0, 0, 0, 0, 0, 0, 0, 0, 0, 0, 0, 0, 0, 0, 0, 0, 0, 0, 0, 0, 0, 0, 0, 0, 0, 0, 0, 0, 0, 0, 0, 0, 0, 0, 0, 0, 0, 0, 0, 0, 0, 0, 0, 0, 0, 0, 0, 0, 0, 0, 0, 0, 0, 0, 0, 0, 0, 0, 0, 0, 0, 0, 0, 0, 0, 0, 0, 0, 0, 0, 0, 0, 0, 0, 0, 0, 0, 0, 0, 0, 0, 0, 0, 0, 0, 0, 0, 0, 0, 0, 0, 0, 0, 0, 0, 0, 0, 0, 0, 0, 0, 0, 0, 0, 0, 0, 0, 0, 0, 0, 0, 0, 0, 0, 0, 0, 0, 0, 0, 0, 0, 0, 0, 0, 0, 0, 0, 0, 0, 0, 0, 0, 0, 0, 0, 0, 0, 0, 0, 0, 0, 0, 0, 0, 0, 0, 0, 0, 0, 0, 0, 0, 0, 0, 0, 0, 0, 0, 0, 0, 0, 0, 0, 0, 0, 0, 0, 0, 0, 0, 0, 0, 0, 0, 0, 0, 0, 0, 0, 0, 0, 0, 0, 0, 0, 0, 0, 0, 0, 0, 0, 0, 0, 0, 0, 0, 0, 0, 0, 0, 0, 0, 0, 0, 0, 0, 0, 0, 0, 0, 0, 0, 0, 0, 0, 0, 0, 0, 0, 0, 0, 0, 0, 0, 0, 0, 0, 0, 0, 0, 0, 0, 0, 0, 0, 0, 0, 0, 0, 0, 0, 0, 0, 0, 0, 0, 0, 0, 0, 0, 0, 0, 0, 0, 0, 0, 0, 0, 0, 0, 0, 0, 1, 0, 0, 0, 0, 0, 0, 0, 0, 0, 0, 0, 0, 0, 0, 0, 0, 0, 0, 0, 0, 0, 0, 0, 0, 0, 0, 0, 0, 0, 0, 0, 0, 0, 0, 0, 0, 0, 0, 0, 0, 0, 0, 0, 0, 0, 0, 0, 0, 0, 0, 0, 0, 0, 0, 0, 0, 0, 0, 0, 0, 0, 0, 0, 0, 0, 0, 0, 0, 0, 0, 0, 0, 0, 0, 0, 0, 0, 0, 0, 0, 0, 0, 0, 0, 0, 0, 0, 0, 0, 0, 0, 0, 0, 0, 0, 0, 0, 0, 0, 0, 0, 0, 0, 0, 0, 0, 0, 0, 0, 0, 2, 0, 0, 0, 0, 0, 0, 0, 0, 0, 0, 0, 0, 0, 0, 0, 0, 0, 0, 0, 0, 0, 0, 0, 0, 0, 0, 0, 0, 0, 0, 0, 0, 0, 0, 0, 0, 0, 0, 0, 0, 0, 0, 0, 0, 0, 0, 0, 0, 0, 0, 0, 0, 0, 0, 0, 0, 0, 0, 0, 0, 0, 0, 0, 0, 0, 0, 0, 0, 0, 0, 0, 0, 0, 0, 0, 0, 0, 0, 0, 0, 0, 0, 0, 0, 0, 0, 0, 0, 0, 0, 0, 0, 0, 0, 0, 0, 0, 0, 0, 0, 0, 0, 0, 0, 0, 0, 0, 0, 0, 0, 0, 0, 0, 0, 0, 0, 0, 0, 0, 0, 0, 0, 0, 0, 0, 0, 0, 0, 0, 0, 0, 0, 0, 0, 0, 0, 0, 0, 0, 0, 0, 0, 0, 0, 0, 0, 0, 0, 0, 0, 0, 0, 0, 0, 0, 0, 0, 0, 0, 0, 0, 0, 0, 0, 0, 0, 0, 0, 0, 0, 0, 0, 0, 0, 0, 0, 0, 0, 0, 0, 0, 0, 0, 0, 0, 0, 0, 0, 0, 0, 0, 0, 0, 0, 0, 0, 0, 0, 0, 0, 0, 0, 0, 0, 0, 0, 0, 0, 0, 0, 0, 0, 0, 0, 0, 0, 0, 0, 0, 0, 0, 0, 0, 0, 0, 0, 0, 0, 0, 0, 0, 0, 0, 0, 0, 0, 0, 0, 0, 0, 0, 0, 0, 0, 0, 0, 0, 0, 0, 0, 0, 0, 0, 0, 0, 0, 0, 0, 0, 0, 0, 0, 0, 0, 0, 0, 0, 0, 0, 0, 0, 0, 0, 0, 0, 0, 0, 0, 0, 0, 0, 0, 0, 0, 0, 0, 0, 0, 0, 0, 0, 0, 0, 0, 0, 0, 0, 0, 0, 0, 0, 0, 0, 0, 0, 0, 0, 0, 0, 0, 0, 0, 0, 0, 0, 0, 0, 0, 0, 0, 0, 0, 0, 0, 0, 0, 0, 0, 0, 0, 0, 0, 0, 0, 0, 0, 0, 0, 0, 0, 0, 0, 0, 0, 0, 0, 0, 0, 0, 0, 0, 0, 0, 0, 0, 0, 0, 0, 0, 0, 0, 0, 0, 0, 0, 0, 0, 0, 0, 0, 0, 0, 0, 0, 0, 0, 0, 0, 0, 0, 0, 0, 0, 0, 0, 0, 0, 0, 0, 0, 0, 0, 0, 0, 0, 0, 0, 0, 0, 0, 0, 0, 0, 0, 0, 0, 0, 0, 0, 0, 0, 0, 0, 0, 0, 0, 0, 0, 0, 0, 0, 0, 0, 0, 0, 0, 0, 0, 0, 0, 0, 0, 0, 0, 0, 0, 0, 0, 0, 0, 0, 0, 0, 0, 0, 0, 0, 0, 0, 0, 0, 0, 0, 0, 0, 0, 0, 0, 0, 0, 0, 0, 0, 0, 0, 0, 0, 0, 0, 0, 0, 0, 0, 0, 0, 0, 0, 0, 0, 0, 0, 0, 0, 0, 0, 0, 0, 0, 0, 0, 0, 0, 0, 0, 0, 0, 0, 0, 0, 0, 0, 0, 0, 0, 0, 0, 0, 0, 0, 0, 0, 0, 0, 0, 0, 0, 0, 0, 0, 0, 0, 0, 0, 0, 0, 0, 0, 0, 0, 0, 0, 0, 0, 0, 0, 0, 0, 0, 0, 0, 0, 0, 0, 0, 0, 0, 0, 0, 0, 0, 0, 0, 0, 0, 0, 0, 0, 0, 0, 0, 0, 0, 0, 0, 0, 0, 0, 0, 0, 0, 0, 0, 0, 0, 0, 0, 0, 0, 0, 0, 0, 0, 0, 0, 0, 0, 0, 0, 0, 0, 0, 0, 0, 0, 0, 0, 0, 0, 0, 0, 0, 0, 0, 0, 0, 0, 0, 0, 0, 0, 0, 0, 0, 0, 0, 0, 0, 0, 0, 0, 0, 0, 0, 0, 0, 0, 0, 0, 0, 0, 0, 0, 0, 0, 0, 0, 0, 0, 0, 0, 0, 0, 0, 0, 0, 0, 0, 0, 0, 0, 0, 0, 0, 0, 0, 0, 0, 0, 0, 0, 0, 0, 0, 0, 0, 0, 0, 0, 0, 0, 0, 0, 0, 0, 0, 0, 0, 0, 0, 0, 0, 0, 0, 0, 0, 0, 0, 0, 0, 0, 1, 0, 0, 0, 0, 0, 0, 0, 0, 0, 0, 0, 0, 0, 0, 0, 0, 0, 0, 0, 0, 0, 0, 0, 0, 0, 0, 0, 0, 0, 0, 0, 0, 0, 0, 0, 0, 0, 0, 0, 0, 0, 0, 0, 0, 0, 0, 0, 0, 0, 0, 0, 0, 0, 0, 0, 0, 0, 0, 0, 0, 0, 0, 0, 0, 0, 0, 0, 0, 0, 0, 0, 0, 0, 0, 0, 0, 0, 0, 0, 0, 0, 0, 0, 0, 0, 0, 0, 0, 0, 0, 0, 0, 0, 0, 0, 0, 0, 0, 0, 0, 0, 0, 0, 0, 0, 0, 0, 1, 0, 0, 0, 0, 0, 0, 0, 0, 0, 0, 0, 0, 0, 0, 0, 0, 0, 0, 0, 0, 0, 0, 0, 0, 0, 0, 0, 0, 0, 0, 0, 0, 0, 0, 0, 0, 0, 0, 0, 0, 0, 0, 0, 0, 0, 0, 0, 0, 0, 0, 0, 0, 0, 0, 0, 0, 0, 0, 0, 0, 0, 0, 0, 0, 0, 0, 0, 0, 0, 0, 0, 0, 0, 0, 0, 0, 0, 0, 0, 0, 0, 0, 0, 0, 0, 0, 0, 0, 0, 0, 0, 0, 0, 0, 0, 0, 0, 0, 0, 0, 0, 0, 0, 0, 0, 0, 0, 0, 0, 0, 0, 0, 0, 0, 0, 0, 0, 0, 0, 0, 0, 0, 0, 0, 0, 0, 0, 0, 0, 0, 0, 0, 0, 0, 0, 0, 0, 0, 0, 0, 0, 0, 0, 0, 0, 0, 0, 0, 0, 0, 0, 0, 0, 0, 0, 0, 0, 0, 0, 0, 0, 0, 0, 0, 0, 0, 0, 0, 0, 0, 0, 0, 0, 0, 0, 0, 0, 0, 0, 0, 0, 0, 0, 0, 0, 0, 0, 0, 0, 0, 0, 0, 0, 0, 0, 0, 0, 0, 0, 0, 0, 0, 0, 0, 0, 0, 0, 0, 0, 0, 0, 0, 0, 0, 0, 0, 0, 0, 0, 0, 0, 0, 0, 0, 0, 0, 0, 0, 0, 0, 0, 0, 0, 0, 0, 0, 0, 0, 0, 0, 0, 0, 0, 0, 0, 0, 0, 0, 0, 0, 0, 0, 0, 0, 0, 0, 0, 0, 0, 0, 0, 0, 0, 0, 0, 0, 0, 0, 0, 0, 0, 0, 0, 0, 0, 0, 0, 0, 0, 0, 0, 0, 0, 0, 0, 0, 0, 0, 0, 0, 0, 0, 0, 0, 0, 0, 0, 0, 0, 0, 0, 0, 0, 0, 0, 0, 0, 0, 0, 0, 0, 0, 0, 0, 0, 0, 0, 0, 0, 0, 0, 0, 0, 0, 0, 0, 0, 0, 0, 0, 0, 0, 0, 0, 0, 0, 0, 0, 0, 0, 0, 0, 0, 0, 0, 0, 0, 0, 0, 0, 0, 0, 0, 0, 0, 0, 0, 0, 0, 0, 0, 0, 0, 0, 0, 0, 0, 0, 0, 0, 0, 0, 0, 0, 0, 0, 0, 0, 0, 0, 0, 0, 0, 0, 0, 0, 0, 0, 0, 0, 0, 0, 0, 0, 0, 0, 0, 0, 0, 0, 0, 0, 0, 0, 0, 0, 0, 0, 0, 0, 0, 0, 0, 0, 0, 0, 0, 0, 0, 0, 0, 0, 0, 0, 0, 0, 0, 0, 0, 0, 0, 0, 0, 0, 0, 0, 0, 0, 0, 0, 0, 0, 0, 0, 0, 0, 0, 0, 0, 0, 0, 0, 0, 0, 0, 0, 0, 0, 0, 0, 0, 0, 0, 2, 0, 1, 0], type: <class 'list'>, valid types: <class 'bytes'>, <class 'bytearray'>, file-like object"
     ]
    }
   ],
   "source": [
    "response = runtime.invoke_endpoint(EndpointName = xgb_predictor.endpoint, # The name of the endpoint we created\n",
    "                                       ContentType = 'text/csv',                     # The data format that is expected\n",
    "                                       Body = test_bow)"
   ]
  },
  {
   "cell_type": "markdown",
   "metadata": {},
   "source": [
    "So why did we get an error?\n",
    "\n",
    "Because we tried to send the endpoint a list of integers but it expected us to send data of type `text/csv`. So, we need to convert it."
   ]
  },
  {
   "cell_type": "code",
   "execution_count": 56,
   "metadata": {},
   "outputs": [],
   "source": [
    "response = runtime.invoke_endpoint(EndpointName = xgb_predictor.endpoint, # The name of the endpoint we created\n",
    "                                       ContentType = 'text/csv',                     # The data format that is expected\n",
    "                                       Body = ','.join([str(val) for val in test_bow]).encode('utf-8'))"
   ]
  },
  {
   "cell_type": "code",
   "execution_count": 57,
   "metadata": {},
   "outputs": [
    {
     "name": "stdout",
     "output_type": "stream",
     "text": [
      "{'ResponseMetadata': {'RequestId': '60600012-2cc1-4c88-8312-f18944472d83', 'HTTPStatusCode': 200, 'HTTPHeaders': {'x-amzn-requestid': '60600012-2cc1-4c88-8312-f18944472d83', 'x-amzn-invoked-production-variant': 'AllTraffic', 'date': 'Wed, 10 Jun 2020 16:15:44 GMT', 'content-type': 'text/csv; charset=utf-8', 'content-length': '14'}, 'RetryAttempts': 0}, 'ContentType': 'text/csv; charset=utf-8', 'InvokedProductionVariant': 'AllTraffic', 'Body': <botocore.response.StreamingBody object at 0x7f93d93c6828>}\n"
     ]
    }
   ],
   "source": [
    "print(response)"
   ]
  },
  {
   "cell_type": "markdown",
   "metadata": {},
   "source": [
    "As we can see, the response from our model is a somewhat complicated looking dict that contains a bunch of information. The bit that we are most interested in is `'Body'` object which is a streaming object that we need to `read` in order to make use of."
   ]
  },
  {
   "cell_type": "code",
   "execution_count": 58,
   "metadata": {},
   "outputs": [
    {
     "name": "stdout",
     "output_type": "stream",
     "text": [
      "0.216478601098\n"
     ]
    }
   ],
   "source": [
    "response = response['Body'].read().decode('utf-8')\n",
    "print(response)"
   ]
  },
  {
   "cell_type": "markdown",
   "metadata": {},
   "source": [
    "Now that we know how to process the incoming user data we can start setting up the infrastructure to make our simple web app work. To do this we will make use of two different services. Amazon's Lambda and API Gateway services.\n",
    "\n",
    "Lambda is a service which allows someone to write some relatively simple code and have it executed whenever a chosen trigger occurs. For example, you may want to update a database whenever new data is uploaded to a folder stored on S3.\n",
    "\n",
    "API Gateway is a service that allows you to create HTTP endpoints (url addresses) which are connected to other AWS services. One of the benefits to this is that you get to decide what credentials, if any, are required to access these endpoints.\n",
    "\n",
    "In our case we are going to set up an HTTP endpoint through API Gateway which is open to the public. Then, whenever anyone sends data to our public endpoint we will trigger a Lambda function which will send the input (in our case a review) to our model's endpoint and then return the result."
   ]
  },
  {
   "cell_type": "markdown",
   "metadata": {},
   "source": [
    "### Setting up a Lambda function\n",
    "\n",
    "The first thing we are going to do is set up a Lambda function. This Lambda function will be executed whenever our public API has data sent to it. When it is executed it will receive the data, perform any sort of processing that is required, send the data (the review) to the SageMaker endpoint we've created and then return the result.\n",
    "\n",
    "#### Part A: Create an IAM Role for the Lambda function\n",
    "\n",
    "Since we want the Lambda function to call a SageMaker endpoint, we need to make sure that it has permission to do so. To do this, we will construct a role that we can later give the Lambda function.\n",
    "\n",
    "Using the AWS Console, navigate to the **IAM** page and click on **Roles**. Then, click on **Create role**. Make sure that the **AWS service** is the type of trusted entity selected and choose **Lambda** as the service that will use this role, then click **Next: Permissions**.\n",
    "\n",
    "In the search box type `sagemaker` and select the check box next to the **AmazonSageMakerFullAccess** policy. Then, click on **Next: Review**.\n",
    "\n",
    "Lastly, give this role a name. Make sure you use a name that you will remember later on, for example `LambdaSageMakerRole`. Then, click on **Create role**."
   ]
  },
  {
   "cell_type": "markdown",
   "metadata": {},
   "source": [
    "#### Part B: Create a Lambda function\n",
    "\n",
    "Now it is time to actually create the Lambda function. Remember from earlier that in order to process the user provided input and send it to our endpoint we need to gather two pieces of information:\n",
    "\n",
    " - The name of the endpoint, and\n",
    " - the vocabulary object.\n",
    "\n",
    "We will copy these pieces of information to our Lambda function after we create it.\n",
    "\n",
    "To start, using the AWS Console, navigate to the AWS Lambda page and click on **Create a function**. When you get to the next page, make sure that **Author from scratch** is selected. Now, name your Lambda function, using a name that you will remember later on, for example `sentiment_analysis_xgboost_func`. Make sure that the **Python 3.6** runtime is selected and then choose the role that you created in the previous part. Then, click on **Create Function**.\n",
    "\n",
    "On the next page you will see some information about the Lambda function you've just created. If you scroll down you should see an editor in which you can write the code that will be executed when your Lambda function is triggered. Collecting the code we wrote above to process a single review and adding it to the provided example `lambda_handler` we arrive at the following.\n",
    "\n",
    "```python\n",
    "# We need to use the low-level library to interact with SageMaker since the SageMaker API\n",
    "# is not available natively through Lambda.\n",
    "import boto3\n",
    "\n",
    "# And we need the regular expression library to do some of the data processing\n",
    "import re\n",
    "\n",
    "REPLACE_NO_SPACE = re.compile(\"(\\.)|(\\;)|(\\:)|(\\!)|(\\')|(\\?)|(\\,)|(\\\")|(\\()|(\\))|(\\[)|(\\])\")\n",
    "REPLACE_WITH_SPACE = re.compile(\"(<br\\s*/><br\\s*/>)|(\\-)|(\\/)\")\n",
    "\n",
    "def review_to_words(review):\n",
    "    words = REPLACE_NO_SPACE.sub(\"\", review.lower())\n",
    "    words = REPLACE_WITH_SPACE.sub(\" \", words)\n",
    "    return words\n",
    "    \n",
    "def bow_encoding(words, vocabulary):\n",
    "    bow = [0] * len(vocabulary) # Start by setting the count for each word in the vocabulary to zero.\n",
    "    for word in words.split():  # For each word in the string\n",
    "        if word in vocabulary:  # If the word is one that occurs in the vocabulary, increase its count.\n",
    "            bow[vocabulary[word]] += 1\n",
    "    return bow\n",
    "\n",
    "\n",
    "def lambda_handler(event, context):\n",
    "    \n",
    "    vocab = \"*** ACTUAL VOCABULARY GOES HERE ***\"\n",
    "    \n",
    "    words = review_to_words(event['body'])\n",
    "    bow = bow_encoding(words, vocab)\n",
    "\n",
    "    # The SageMaker runtime is what allows us to invoke the endpoint that we've created.\n",
    "    runtime = boto3.Session().client('sagemaker-runtime')\n",
    "\n",
    "    # Now we use the SageMaker runtime to invoke our endpoint, sending the review we were given\n",
    "    response = runtime.invoke_endpoint(EndpointName = '***ENDPOINT NAME HERE***',# The name of the endpoint we created\n",
    "                                       ContentType = 'text/csv',                 # The data format that is expected\n",
    "                                       Body = ','.join([str(val) for val in bow]).encode('utf-8')) # The actual review\n",
    "\n",
    "    # The response is an HTTP response whose body contains the result of our inference\n",
    "    result = response['Body'].read().decode('utf-8')\n",
    "    \n",
    "    # Round the result so that our web app only gets '1' or '0' as a response.\n",
    "    result = round(float(result))\n",
    "\n",
    "    return {\n",
    "        'statusCode' : 200,\n",
    "        'headers' : { 'Content-Type' : 'text/plain', 'Access-Control-Allow-Origin' : '*' },\n",
    "        'body' : str(result)\n",
    "    }\n",
    "```"
   ]
  },
  {
   "cell_type": "markdown",
   "metadata": {},
   "source": [
    "Once you have copy and pasted the code above into the Lambda code editor, replace the `**ENDPOINT NAME HERE**` portion with the name of the endpoint that we deployed earlier. You can determine the name of the endpoint using the code cell below."
   ]
  },
  {
   "cell_type": "code",
   "execution_count": 59,
   "metadata": {},
   "outputs": [
    {
     "data": {
      "text/plain": [
       "'xgboost-2020-06-10-14-51-49-906'"
      ]
     },
     "execution_count": 59,
     "metadata": {},
     "output_type": "execute_result"
    }
   ],
   "source": [
    "xgb_predictor.endpoint"
   ]
  },
  {
   "cell_type": "markdown",
   "metadata": {},
   "source": [
    "In addition, you will need to copy the vocabulary dict to the appropriate place in the code at the beginning of the `lambda_handler` method. The cell below prints out the vocabulary dict in a way that is easy to copy and paste."
   ]
  },
  {
   "cell_type": "code",
   "execution_count": 60,
   "metadata": {},
   "outputs": [
    {
     "name": "stdout",
     "output_type": "stream",
     "text": [
      "{'almost': 193, 'called': 652, 'hbo': 2055, 'and': 226, 'my': 2951, 'money': 2888, 'back': 378, 'for': 1784, 'the': 4426, 'month': 2896, 'just': 2437, 'because': 432, 'theyve': 4446, 'been': 438, 'this': 4457, 'movie': 2926, 'can': 665, 'see': 3855, 'sitting': 4007, 'around': 297, 'going': 1931, 'okay': 3099, 'we': 4823, 'need': 2987, 'to': 4507, 'come': 886, 'up': 4683, 'with': 4911, 'something': 4066, 'thats': 4425, 'like': 2599, 'home': 2142, 'alone': 194, 'only': 3110, 'well': 4843, 'add': 115, 'bunch': 623, 'of': 3083, 'cash': 709, 'kid': 2464, 'hire': 2116, 'cut': 1089, 'rate': 3526, 'actors': 104, 'oh': 3096, 'yeah': 4977, 'make': 2713, 'it': 2366, 'lot': 2661, 'less': 2575, 'funny': 1852, 'maybe': 2776, 'not': 3040, 'last': 2521, 'part': 3193, 'but': 636, 'basically': 407, 'what': 4858, 'youve': 4995, 'got': 1944, 'here': 2086, 'even': 1533, 'worth': 4953, 'seeing': 3857, 'if': 2222, 'someone': 4064, 'else': 1448, 'as': 311, 'kids': 2467, 'forget': 1793, 'wouldnt': 4958, 'let': 2579, 'necessarily': 2983, 'bad': 382, 'taste': 4369, 'jokes': 2415, 'want': 4788, 'them': 4432, 'say': 3799, 'were': 4848, 'you': 4986, 'thinking': 4453, 'showing': 3958, 'us': 4690, 'that': 4424, 'lame': 2510, 'piece': 3272, 'garbage': 1870, 'dad': 1095, 'came': 656, 'from': 1840, 'playing': 3300, 'in': 2257, 'have': 2052, 'was': 4805, 'very': 4723, 'disappointed': 1273, 'film': 1716, 'is': 2360, 'slow': 4031, 'moving': 2928, 'dont': 1324, 'get': 1899, 'me': 2778, 'wrong': 4973, 'enjoy': 1484, 'films': 1721, 'point': 3316, 'driving': 1368, 'crazy': 1035, 'all': 187, 'hear': 2061, 'heavily': 2069, 'throughout': 4478, 'whole': 4873, 'poorly': 3329, 'made': 2697, 'more': 2904, 'importantly': 2248, 'without': 4913, 'inspiration': 2300, 'felt': 1692, 'nothing': 3047, 'story': 4207, 'or': 3124, 'its': 2370, 'characters': 760, 'sake': 3775, 'making': 2718, 'would': 4957, 'advise': 134, 'pass': 3201, 'on': 3105, 'one': 3107, 'good': 1937, 'look': 2646, 'by': 642, 'great': 1964, 'mystery': 2956, 'goes': 1930, 'down': 1335, 'hill': 2108, 'there': 4438, 'beginning': 443, 'promising': 3433, 'car': 680, 'wreck': 4965, 'woman': 4921, 'her': 2085, 'daughter': 1121, 'being': 448, 'burned': 626, 'alive': 186, 'front': 1841, 'police': 3322, 'officer': 3092, 'edward': 1426, 'he': 2056, 'over': 3148, 'seen': 3865, 'mysterious': 2955, 'letter': 2581, 'turns': 4609, 'an': 223, 'old': 3100, 'girlfriend': 1910, 'asking': 318, 'help': 2079, 'finding': 1727, 'missing': 2869, 'so': 4046, 'ed': 1415, 'travels': 4569, 'island': 2361, 'mainly': 2708, 'they': 4442, 'shown': 3959, 'looking': 2648, 'town': 4541, 'girl': 1909, 'too': 4522, 'long': 2644, 'finally': 1724, 'gets': 1900, 'little': 2624, 'better': 472, 'toward': 4539, 'end': 1468, 'when': 4862, 'learn': 2550, 'perform': 3227, 'sinister': 3998, 'plan': 3287, 'store': 4204, 'overall': 3150, 'written': 4972, 'final': 1722, 'skip': 4016, 'intellectual': 2312, 'christian': 808, 'dollar': 1314, 'stephen': 4176, 'christ': 807, 'personally': 3243, 'thank': 4421, 'those': 4460, 'brilliant': 583, 'casting': 711, 'directors': 1266, 'hard': 2033, 'work': 4940, 'effort': 1432, 'guys': 2001, 'are': 285, 'heres': 2087, 'idea': 2213, 'humble': 2191, 'opinion': 3118, 'public': 3460, 'follows': 1775, 'directly': 1263, 'your': 4991, 'previous': 3387, 'about': 67, 'most': 2909, 'history': 2121, 'cure': 1081, 'ever': 1538, 'known': 2492, 'man': 2721, 'be': 418, 'played': 3297, 'jessica': 2398, 'simpson': 3987, 'paris': 3189, 'knew': 2486, 'love': 2669, 'seriously': 3892, 'though': 4461, 'romance': 3732, 'sat': 3786, 'through': 4477, 'perfect': 3224, 'high': 2100, 'watch': 4811, 'afternoon': 144, 'lying': 2690, 'eating': 1413, 'fact': 1621, 'play': 3296, 'role': 3726, 'reason': 3557, 'able': 66, 'at': 331, 'face': 1616, 'every': 1539, 'scene': 3809, 'his': 2118, 'moves': 2925, 'fast': 1661, 'action': 100, 'show': 3953, 'hands': 2020, 'latin': 2527, 'italian': 2367, 'than': 4420, 'mexican': 2826, 'really': 3556, 'dialog': 1232, 'stiff': 4187, 'wood': 4933, 'unfortunately': 4654, 'no': 3020, 'ripped': 3701, 'hero': 2088, 'mild': 2839, 'warm': 4794, 'world': 4946, 'family': 1645, 'cliche': 843, 'hills': 2109, 'does': 1308, 'matter': 2769, 'irish': 2353, 'fairy': 1632, 'before': 440, 'titles': 4506, 'finished': 1733, 'running': 3756, 'hoped': 2156, 'looked': 2647, 'food': 1778, 'womens': 4924, 'day': 1129, 'magazine': 2701, 'didnt': 1242, 'name': 2960, 'listed': 2618, 'art': 304, 'director': 1264, 'surely': 4309, 'thomas': 4458, 'who': 4871, 'million': 2847, 'literally': 2622, 'rose': 3739, 'pink': 3277, 'blue': 518, 'sky': 4017, 'im': 2232, 'big': 478, 'fan': 1648, 'westerns': 4854, 'do': 1302, 'believe': 454, 'hollywood': 2137, 'capable': 672, 'capturing': 679, 'glory': 1922, 'stewart': 4184, 'which': 4867, 'carries': 699, 'nearly': 2981, 'trite': 4589, 'turned': 4606, 'guy': 2000, 'fallen': 1638, 'must': 2950, 'turn': 4605, 'etc': 1527, 'cant': 671, 'notice': 3048, 'names': 2963, 'writer': 4968, 'young': 4989, 'actor': 103, 'plays': 3301, 'son': 4070, 'any': 256, 'ive': 2372, 'acting': 99, 'school': 3813, 'cartoon': 704, 'characterization': 759, 'reached': 3537, 'words': 4938, 'yet': 4984, 'funniest': 1851, 'movies': 2927, 'don': 1320, 'understand': 4643, 'why': 4878, 'critics': 1064, 'sweet': 4336, 'first': 1736, 'watched': 4813, '11': 2, 'fell': 1690, 'days': 1130, 'later': 2525, 'vhs': 4725, 'till': 4493, 'today': 4508, 'many': 2732, 'friends': 1837, 'liked': 2600, 'nobody': 3022, 'think': 4452, 'problem': 3408, 'knows': 2493, 'never': 3001, 'real': 3547, 'chance': 747, 'sad': 3767, 'has': 2043, 'potential': 3355, 'comedy': 890, 'monsters': 2893, 'ok': 3098, 'enough': 1491, 'wanted': 4789, 'laugh': 2529, 'head': 2057, 'off': 3084, 'mad': 2696, 'watching': 4815, 'earth': 1403, 'within': 4912, 'few': 1700, 'minutes': 2859, 'dutch': 1389, 'thriller': 4472, 'gay': 1876, 'alcoholic': 177, 'tries': 4585, 'steal': 4170, 'news': 3005, 'stand': 4143, 'after': 143, 'meets': 2795, 'train': 4556, 'station': 4164, 'hes': 2093, 'nonsensical': 3031, 'dressed': 1358, 'except': 1556, 'least': 2554, 'nowhere': 3056, 'go': 1924, 'basic': 406, 'plot': 3309, 'simple': 3983, 'dragged': 1343, 'out': 3141, 'two': 4620, 'hours': 2177, 'reaching': 3539, 'pointless': 3318, 'conclusion': 936, 'nice': 3008, 'visual': 4757, 'scenes': 3811, 'wild': 4885, 'symbolism': 4341, 'gratuitous': 1961, 'gore': 1941, 'runs': 3757, 'ideas': 2215, 'know': 2489, 'romantic': 3733, 'genre': 1888, 'ending': 1471, 'already': 197, 'leads': 2548, 'always': 203, 'together': 4511, 'late': 2523, 'third': 4455, 'act': 97, 'trying': 4601, 'figure': 1711, 'how': 2181, 'will': 4886, 'wrap': 4963, 'clue': 864, 'given': 1913, 'right': 3696, 'start': 4156, 'youll': 4988, 'realize': 3552, 'until': 4680, 'hook': 2152, 'works': 4945, 'had': 2003, 'cover': 1022, 'usual': 4699, 'ground': 1979, 'takes': 4351, 'fresh': 1833, 'spin': 4112, 'possible': 3350, 'loved': 2670, 'locations': 2636, 'also': 199, 'find': 1726, 'anything': 260, 'offensive': 3086, 'fashion': 1659, 'then': 4436, 'small': 4033, 'named': 2961, 'magic': 2703, 'ring': 3698, 'uncle': 4636, 'wizard': 4919, 'discovers': 1281, 'ancient': 225, 'creation': 1040, 'evil': 1548, 'dark': 1115, 'lord': 2652, 'should': 3951, 'power': 3359, 'destroy': 1213, 'middle': 2833, 'loyal': 2679, 'set': 3898, 'quest': 3486, 'band': 391, 'warriors': 4803, 'underrated': 4642, 'classic': 835, 'novels': 3053, 'covers': 1024, 'half': 2007, 'regardless': 3590, 'epic': 1506, 'wonderfully': 4929, 'animated': 241, 'animation': 242, 'superbly': 4297, 'done': 1322, 'live': 2625, 'footage': 1782, 'ralph': 3510, 'bakshi': 386, 'worked': 4941, 'low': 2676, 'budget': 610, 'grand': 1953, 'music': 2946, 'score': 3822, 'leonard': 2572, 'fits': 1741, 'holes': 2133, 'script': 3834, 'considering': 952, 'original': 3129, 'deal': 1135, 'book': 535, 'trilogy': 4586, 'into': 2332, 'much': 2934, 'biggest': 480, 'some': 4061, 'character': 758, 'design': 1202, 'bit': 488, 'goofy': 1939, 'while': 4868, 'other': 3135, 'completely': 922, 'normal': 3033, 'actually': 109, 'screen': 3829, 'voice': 4761, 'job': 2405, 'pleased': 3305, 'comical': 894, 'frightening': 1839, 'eerie': 1427, 'another': 250, 'thanks': 4423, 'writers': 4969, 'justice': 2438, 'charming': 768, 'these': 4441, 'stories': 4205, 'suffers': 4278, 'terribly': 4408, 'still': 4188, 'lovers': 2673, 'ages': 152, 'celebrity': 729, 'brother': 598, 'racism': 3502, 'row': 3744, '2007': 37, 'involving': 2349, 'internet': 2327, 'fans': 1650, 'years': 4979, 'racist': 3503, '70s': 56, 'such': 4268, 'thought': 4462, 'said': 3774, 'aint': 163, 'hot': 2174, 'thrown': 4481, 'argument': 291, 'starred': 4153, 'english': 1483, 'yes': 4982, 'michael': 2829, 'lived': 2626, 'india': 2273, 'boy': 557, 'spoke': 4125, 'shows': 3960, 'overlook': 3153, 'reality': 3551, 'brought': 600, 'performance': 3228, 'noted': 3045, 'indian': 2274, 'documentary': 1307, 'perry': 3237, 'upset': 4687, 'heard': 2062, 'added': 116, 'could': 1007, 'indeed': 2271, 'companion': 909, 'army': 295, 'sea': 3838, 'replaced': 3634, 'particularly': 3195, 'place': 3282, 'where': 4864, 'concert': 935, 'party': 3200, 'puts': 3481, 'troops': 4591, 'among': 217, 'george': 1893, 'sitcom': 4004, 'since': 3990, 'doctor': 1304, 'charge': 761, 'camp': 662, 'de': 1131, 'john': 2409, 'christopher': 811, 'mitchell': 2875, 'gang': 1867, 'major': 2711, 'williams': 4888, 'davies': 1125, 'frustration': 1843, 'lead': 2545, 'men': 2805, 'jungle': 2434, 'engage': 1479, 'enemy': 1477, 'combat': 882, 'him': 2110, 'bitter': 491, 'whom': 4875, 'colonel': 876, 'reynolds': 3684, 'donald': 1321, 'captain': 674, 'wise': 4903, 'each': 1395, 'talking': 4360, 'camera': 659, 'closing': 859, 'obscure': 3068, 'regard': 3588, 'himself': 2111, 'practically': 3362, 'british': 589, 'tea': 4373, 'went': 4847, 'mind': 2849, 'language': 2516, 'pulling': 3463, 'indians': 2275, 'featured': 1679, 'ignore': 2224, 'provided': 3449, 'described': 1195, 'credits': 1050, 'similar': 3978, '40s': 49, 'songs': 4072, 'used': 4693, 'edition': 1422, 'closed': 854, 'land': 2511, 'hope': 2155, 'shut': 3961, 'excellent': 1555, 'opening': 3114, 'theme': 4433, 'jimmy': 2403, 'derek': 1192, 'quite': 3495, 'nevertheless': 3002, 'popular': 3333, 'run': 3755, 'total': 4531, 'eight': 1436, 'seasons': 3844, 'version': 4720, 'recorded': 3574, 'entire': 1502, 'album': 175, 'sing': 3992, 'hit': 2122, 'crisis': 1060, 'three': 4469, 'died': 1244, 'rather': 3528, 'forgotten': 1797, 'left': 2561, 'took': 4523, 'providing': 3451, 'source': 4086, 'saw': 3798, 'soldiers': 4054, 'leave': 2555, 'boat': 523, 'sadness': 3770, 'did': 1241, 'viewers': 4739, 'far': 1653, 'between': 475, 'uk': 4626, 'gold': 1932, 'reputation': 3640, 'strange': 4211, 'thing': 4450, 'specifically': 4100, 'white': 4870, 'david': 1124, '1984': 23, 'television': 4394, 'won': 4925, 'oscars': 3134, 'own': 3158, 'experiences': 1582, 'based': 404, 'people': 3221, 'take': 4349, 'view': 4736, 'put': 3480, 'past': 3207, 'might': 2835, 'seem': 3861, 'modern': 2882, 'audiences': 353, 'both': 547, 'dvds': 1392, 'time': 4495, 'stop': 4201, 'review': 3676, 'ill': 2228, 'couldnt': 1008, 'eyes': 1613, 'times': 4497, 'true': 4596, 'billy': 482, 'jeff': 2390, 'tracy': 4546, 'manner': 2729, 'talent': 4354, 'adds': 119, 'style': 4249, 'skin': 4015, 'flick': 1754, 'board': 522, 'alien': 183, 'unique': 4662, 'computer': 927, 'virus': 4752, 'demon': 1177, 'whatever': 4859, 'call': 651, 'sort': 4077, 'four': 1812, 'allowed': 190, 'their': 4431, 'system': 4345, 'interesting': 2325, 'everything': 1544, 'episode': 1507, 'red': 3576, 'classes': 834, 'looks': 2649, 'hed': 2072, 'doing': 1312, 'anywhere': 263, 'ah': 158, 'things': 4451, 'fx': 1858, 'pretty': 3384, 'youd': 4987, 'expect': 1575, 'straight': 4210, 'video': 4733, 'female': 1693, 'nudity': 3059, 'sexual': 3908, 'star': 4150, 'course': 1019, 'best': 469, 'brains': 563, 'check': 777, 'probably': 3407, 'further': 1853, 'morning': 2906, 'stars': 4155, 'lost': 2660, 'space': 4090, 'beautiful': 428, 'sequence': 3887, 'week': 4837, 'ago': 154, 'feel': 1684, 'sir': 4000, 'walter': 4784, 'give': 1912, 'shell': 3927, 'quiet': 3492, 'staff': 4138, 'faith': 1633, 'walk': 4775, 'upon': 4684, 'joy': 2422, 'bottle': 550, 'hopes': 2159, 'thus': 4486, 'lives': 2628, 'thoroughly': 4459, 'having': 2054, 'crafted': 1029, 'wonderful': 4928, 'imagine': 2238, 'facing': 1620, 'trial': 4580, 'during': 1387, 'saying': 3800, 'god': 1926, 'our': 3139, 'lifetime': 2594, 'weve': 4856, 'directed': 1259, 'produced': 3414, 'shoes': 3941, 'obvious': 3071, 'artists': 309, 'duty': 1390, 'nature': 2975, 'may': 2775, 'shot': 3949, 'life': 2592, 'death': 1141, 'peoples': 3222, 'apparent': 269, 'everybody': 1540, 'meaning': 2780, 'theyll': 4444, 'mistaken': 2872, 'either': 1438, 'repeat': 3630, 'beauty': 430, 'forever': 1792, 'ben': 463, 'dry': 1377, 'predictable': 3367, 'points': 3319, 'connected': 945, 'explaining': 1588, 'mean': 2779, 'torture': 4529, 'lasted': 2522, 'longer': 2645, 'exception': 1557, 'contrived': 976, 'believable': 453, 'trip': 4588, 'memory': 2804, 'lane': 2515, 'price': 3389, 'told': 4513, 'quickly': 3491, 'ranks': 3519, 'choice': 797, 'wait': 4770, 'decision': 1151, 'guess': 1989, 'clothes': 860, 'night': 3013, 'buy': 640, 'complete': 921, 'dvd': 1391, 'kevin': 2457, 'lewis': 2586, 'period': 3236, 'new': 3003, 'inspector': 2299, 'am': 204, 'convinced': 984, 'fine': 1729, 'awful': 372, 'badly': 383, 'aged': 149, 'fat': 1663, 'simply': 3986, 'doesnt': 1309, 'charisma': 762, 'carry': 700, 'sidekick': 3966, 'fox': 1814, 'reviewers': 3678, 'england': 1482, 'mostly': 2910, 'ms': 2931, 'miss': 2866, 'james': 2378, 'sorry': 4076, 'rest': 3657, 'peace': 3219, 'magnificent': 2705, 'moment': 2886, 'found': 1811, 'delightful': 1168, 'french': 1830, 'taking': 4352, 'itself': 2371, 'deep': 1154, 'way': 4820, 'cd': 728, 'chan': 746, 'sure': 4308, 'self': 3869, 'special': 4097, 'deeper': 1155, 'makes': 2716, 'stunts': 4246, 'fighting': 1709, 'sense': 3877, 'humor': 2192, 'cool': 989, 'jackie': 2374, 'jump': 2429, 'scream': 3826, 'awesome': 371, 'mom': 2885, 'impressed': 2251, 'she': 3923, 'hold': 2129, 'try': 4600, 'cast': 710, 'generally': 1881, 'lisa': 2616, 'fails': 1628, 'depth': 1190, 'barely': 399, 'surface': 4310, 'happened': 2027, 'holmes': 2139, 'kate': 2446, 'hopefully': 2157, 'miscast': 2862, 'roles': 3727, 'wife': 4884, 'impossible': 2249, 'carrie': 697, 'fisher': 1739, 'ted': 4386, 'cameo': 657, 'secret': 3849, 'sorts': 4078, 'supernatural': 4302, 'elements': 1443, 'minute': 2858, 'main': 2707, 'seems': 3864, 'trouble': 4592, 'claim': 828, 'exactly': 1551, 'normally': 3034, 'person': 3238, 'situation': 4008, 'several': 3905, 'somehow': 4063, 'solution': 4059, 'clear': 839, 'fault': 1668, 'encounters': 1467, 'talk': 4358, 'provide': 3448, 'answer': 251, 'now': 3054, 'message': 2819, 'necessary': 2984, 'religious': 3608, 'element': 1442, 'ruined': 3751, 'viewing': 4740, 'experience': 1580, 'simplicity': 3984, 'escape': 1517, 'needs': 2990, 'happen': 2026, 'issues': 2365, 'presented': 3376, 'forced': 1787, 'topic': 4526, 'essentially': 1523, 'fooled': 1780, 'once': 3106, 'closely': 855, 'serious': 3891, 'desperate': 1208, 'otherwise': 3137, 'caliber': 649, 'gem': 1877, 'soft': 4051, 'resolution': 3649, 'although': 201, 'corporate': 998, 'spy': 4135, 'pace': 3161, 'explosions': 1597, 'chases': 771, 'flying': 1764, 'bullets': 621, 'patient': 3211, 'instead': 2307, 'note': 3044, 'details': 1219, 'viewer': 4738, 'unfolds': 4651, 'spoilers': 4124, 'read': 3543, 'average': 362, 'seeking': 3859, 'change': 749, 'adventure': 130, 'signs': 3973, 'somewhere': 4069, 'secretly': 3851, 'record': 3573, 'inside': 2297, 'starts': 4159, 'surreal': 4317, 'background': 380, 'underlying': 4641, 'paranoia': 3186, 'begins': 444, 'parts': 3199, 'superb': 4296, 'acts': 107, 'fit': 1740, 'entertain': 1497, 'light': 2595, 'piano': 3264, 'key': 2458, 'comfortable': 892, 'lights': 2597, 'sound': 4081, 'wants': 4791, 'listen': 2619, 'hamlet': 2013, 'tough': 4537, 'vietnam': 4735, 'veteran': 4724, 'engaging': 1481, 'fellow': 1691, 'buddies': 608, 'clean': 838, 'cruel': 1070, 'decide': 1148, 'rid': 3690, 'decent': 1147, 'vincent': 4746, 'hand': 2015, 'blues': 519, 'gross': 1978, 'blank': 501, 'cynical': 1093, 'drive': 1363, 'exploitation': 1592, 'contemporary': 965, 'western': 4853, 'winner': 4897, 'creates': 1038, 'gritty': 1977, 'nonsense': 3030, 'tone': 4517, 'keeps': 2451, 'considerable': 950, 'climax': 849, 'especially': 1520, 'strong': 4229, 'familiar': 1643, 'feature': 1678, 'faces': 1618, 'victoria': 4732, 'principal': 3398, 'linda': 2609, 'fabulous': 1615, 'peters': 3248, 'singer': 3993, 'brad': 560, 'mayor': 2777, 'bank': 394, 'president': 3378, 'andrew': 228, 'stevens': 4183, 'gas': 1874, 'carpenter': 694, 'regular': 3592, 'charles': 764, 'anthony': 253, 'manager': 2724, 'owner': 3159, 'paul': 3214, 'arm': 292, 'dick': 1239, 'miller': 2846, 'player': 3298, 'moral': 2902, 'dirty': 1268, 'william': 4887, 'slick': 4026, 'cinematography': 820, 'lively': 2627, 'raw': 3532, 'violence': 4747, 'trashy': 4566, 'fun': 1848, 'confusing': 942, 'usually': 4700, 'anyway': 261, 'totally': 4532, 'jennifer': 2392, 'comes': 891, 'twin': 4615, 'sisters': 4002, 'funeral': 1849, 'stays': 4169, 'house': 2178, 'sister': 4001, 'aunt': 355, 'emma': 1457, 'mary': 2751, 'kinda': 2477, 'relations': 3596, 'stay': 4166, 'die': 1243, 'kill': 2468, 'weird': 4841, 'sleep': 4024, 'eat': 1411, 'ellen': 1446, 'buried': 624, 'dead': 1132, 'suffer': 4275, 'helps': 2082, 'ya': 4976, 'poor': 3328, 'hell': 2077, 'production': 3419, 'crew': 1053, 'zombies': 4998, 'brain': 562, 'enjoyment': 1488, 'genres': 1889, 'shoot': 3942, 'em': 1452, 'games': 1865, 'game': 1864, 'ridiculous': 3693, 'unwatchable': 4682, 'hardly': 2036, 'weak': 4824, 'wont': 4932, 'waste': 4808, 'anyone': 259, 'above': 68, 'company': 910, 'concept': 930, 'entertainment': 1500, 'annoyed': 248, 'shop': 3945, 'gave': 1875, 'thumbs': 4485, 'led': 2558, 'rent': 3626, 'second': 3846, 'comic': 893, 'worst': 4952, 'graphics': 1959, 'pathetic': 3210, 'question': 3487, 'process': 3412, 'dramas': 1347, 'male': 2719, 'type': 4621, 'struggling': 4236, 'compare': 911, 'matches': 2764, 'witch': 4909, 'gods': 1928, 'cry': 1073, 'throwing': 4480, 'compared': 912, 'effects': 1431, 'folks': 1771, 'isnt': 2362, 'kills': 2474, 'soul': 4079, 'originally': 3131, 'titled': 4505, 'title': 4504, 'tribute': 4581, 'jamie': 2379, 'bell': 458, 'physically': 3263, 'attractive': 351, 'creep': 1051, 'partner': 3198, 'sex': 3907, 'fantasy': 1652, 'convincing': 985, 'connect': 944, 'happens': 2029, 'intimate': 2331, 'beaten': 424, 'pulp': 3465, 'however': 2183, 'mother': 2911, 'father': 1666, 'married': 2744, 'affair': 135, 'hates': 2048, 'lets': 2580, 'kind': 2476, 'places': 3284, 'birth': 486, 'ends': 1474, 'happily': 2030, 'forty': 1807, 'brilliantly': 584, 'acted': 98, 'whos': 4876, 'afraid': 140, 'virginia': 4750, 'similarly': 3980, 'becoming': 435, 'apart': 264, 'cares': 690, 'endings': 1472, 'plausible': 3295, 'intensity': 2317, 'emotional': 1459, 'revelation': 3674, 'fantastic': 1651, 'hilarious': 2106, 'reminded': 3619, 'tap': 4364, 'rock': 3720, 'arent': 288, 'twenty': 4612, 'bill': 481, 'gives': 1914, 'spirit': 4113, 'perfectly': 3226, 'definitely': 1162, 'regret': 3591, 'cheesy': 781, 'zombie': 4997, 'huge': 2185, 'bonus': 534, 'entertaining': 1499, 'fortune': 1806, 'meet': 2793, 'fulci': 1845, 'career': 686, 'philosophical': 3253, 'satisfied': 3789, 'search': 3841, 'often': 3095, 'surviving': 4323, 'prostitute': 3440, 'cheap': 774, 'violent': 4748, 'persons': 3244, 'struggle': 4234, 'feels': 1687, 'sometimes': 4067, 'changes': 751, 'images': 2235, 'refreshing': 3586, 'joke': 2414, 'says': 3801, 'appears': 278, 'captures': 678, 'city': 825, 'cage': 645, 'use': 4692, 'actions': 101, 'rented': 3628, 'blockbuster': 509, 'box': 555, 'travesty': 4570, 'lose': 2654, 'unbearable': 4633, 'whatsoever': 4861, 'rough': 3741, 'species': 4098, 'humans': 2190, 'scripts': 3836, 'example': 1553, 'invasion': 2340, 'body': 527, 'across': 96, 'suggest': 4280, 'burn': 625, 'horror': 2168, 'fear': 1676, 'suspense': 4330, 'terror': 4412, 'techniques': 4384, 'yourself': 4993, 'wanting': 4790, 'theater': 4427, 'knowledge': 2491, 'unbelievable': 4634, 'suddenly': 4273, 'teenagers': 4391, 'hideous': 2098, 'top': 4525, 'seemed': 3862, 'ex': 1549, 'wasted': 4809, 'hour': 2176, 'recognized': 3570, 'famous': 1647, 'black': 493, 'smith': 4038, 'baker': 385, 'robinson': 3716, 'louis': 2665, 'chorus': 803, 'girls': 1911, 'club': 863, 'stereotypes': 4179, 'cartoons': 705, 'meant': 2784, 'adult': 125, 'local': 2634, 'cinema': 816, 'standard': 4144, 'short': 3946, 'universal': 4665, 'disneys': 1290, 'early': 1400, 'mickey': 2831, 'mouse': 2919, 'loads': 2633, 'disney': 1289, 'silly': 3976, 'remember': 3616, 'certain': 737, '50': 51, 'clips': 852, 'south': 4087, 'park': 3190, 'future': 1856, 'moments': 2887, 'academy': 77, 'award': 366, 'actress': 105, 'wondered': 4927, 'glenn': 1918, 'close': 853, 'win': 4892, 'fatal': 1664, 'attraction': 350, 'oscar': 3133, 'golden': 1934, 'winning': 4898, 'nominated': 3025, 'pay': 3216, 'asked': 317, 'mr': 2929, 'johnny': 2410, 'danny': 1112, 'marry': 2745, 'promises': 3432, 'sick': 3963, 'attend': 344, 'wedding': 4836, 'finds': 1728, 'relationship': 3597, 'moon': 2900, 'starring': 4154, 'happy': 2032, 'writing': 4971, 'screenplay': 3831, 'norman': 3035, 'heat': 2067, 'picture': 3269, 'motion': 2913, 'musical': 2947, 'number': 3060, '100': 1, 'quotes': 3497, '17': 9, 'laughs': 2534, 'nostalgic': 3039, 'youth': 4994, 'memories': 2803, 'problems': 3409, 'present': 3374, 'ingredients': 2289, 'friendship': 1838, 'stuff': 4243, 'summer': 4291, 'opportunity': 3121, 'again': 146, 'leader': 2546, 'children': 792, 'careers': 687, 'id': 2212, 'line': 2610, 'frankly': 1823, 'hal': 2006, 'havent': 2053, 'filmmakers': 1720, 'smaller': 4034, 'jim': 2402, 'ultra': 4629, 'personal': 3240, 'projects': 3428, 'limited': 2606, 'ironic': 2355, 'slightly': 4029, 'different': 1248, 'context': 968, 'fay': 1674, 'grim': 1974, 'features': 1680, 'behind': 447, 'filmmaker': 1719, 'taken': 4350, 'cinematic': 818, 'explain': 1586, 'suppose': 4305, 'due': 1382, 'henry': 2084, 'fool': 1779, 'difference': 1246, 'results': 3662, 'theres': 4440, 'international': 2326, 'double': 1331, 'wrapped': 4964, 'fake': 1635, 'parker': 3191, 'cia': 814, 'solid': 4057, 'presence': 3373, 'mention': 2810, 'author': 359, 'extended': 1604, 'touches': 4535, 'witty': 4917, 'direction': 1261, 'sucks': 4271, 'consistently': 954, 'inducing': 2279, 'angle': 236, 'frame': 1815, 'equally': 1510, 'oddly': 3081, 'unnecessary': 4672, 'angles': 237, 'bizarre': 492, 'dramatic': 1348, 'effect': 1428, 'responsible': 3656, 'along': 195, 'wannabe': 4787, 'cards': 683, 'pop': 3330, 'amusing': 221, 'stupid': 4247, 'montage': 2894, 'segments': 3868, 'shots': 3950, 'couple': 1016, 'fairly': 1631, 'fascinating': 1658, 'side': 3965, 'creative': 1041, 'control': 977, 'scale': 3802, 'likely': 2601, 'pretentious': 3383, 'american': 213, 'independent': 2272, 'year': 4978, 'psychotic': 3459, 'murders': 2943, 'caine': 647, 'nancy': 2964, 'allen': 188, 'caught': 722, 'glimpse': 1919, 'under': 4639, 'crime': 1055, 'patients': 3212, 'gordon': 1940, 'catch': 714, 'killer': 2470, 'sexy': 3911, 'bloody': 513, 'splatter': 4118, 'mans': 2730, 'abilities': 64, 'highly': 2105, 'successful': 4266, 'level': 2584, 'involved': 2346, 'interested': 2324, 'hitchcock': 2123, 'masters': 2761, 'pictures': 3270, 'professional': 3421, 'dancer': 1104, 'rachel': 3500, 'same': 3778, 'pulls': 3464, 'typically': 4624, 'striking': 4226, '10': 0, 'incredible': 2269, 'mel': 2796, 'theyre': 4445, 'pearl': 3220, 'americans': 214, 'nation': 2969, 'war': 4792, 'america': 212, 'desert': 1198, 'propaganda': 3435, 'attached': 336, 'mentioned': 2811, 'kidding': 2465, 'class': 833, 'inspired': 2301, 'damn': 1100, 'near': 2979, 'disaster': 1276, 'wrote': 4974, 'please': 3304, 'writes': 4970, 'russell': 3761, 'australian': 357, 'shame': 3918, 'strike': 4224, 'crap': 1031, 'season': 3843, 'terrible': 4407, 'producers': 3416, 'guessing': 1991, 'ran': 3513, 'release': 3602, 'flashback': 1746, 'marks': 2742, 'appearance': 274, 'diana': 1237, 'dr': 1340, 'series': 3890, 'hello': 2078, 'post': 3352, 'imdb': 2240, 'reference': 3582, 'therefore': 4439, 'greek': 1970, 'inevitably': 2283, 'affect': 136, 'spent': 4108, 'everywhere': 1545, 'recall': 3562, 'grade': 1951, 'disappointment': 1275, 'study': 4242, 'literature': 2623, 'composed': 926, 'actual': 108, 'crucial': 1068, 'position': 3345, 'events': 1536, 'accurate': 90, 'historically': 2120, 'purpose': 3474, 'reading': 3544, 'poem': 3312, 'wondering': 4930, 'anger': 235, 'hate': 2046, 'educational': 1425, 'talks': 4361, 'battle': 414, 'none': 3028, 'revealed': 3671, 'german': 1896, 'spend': 4105, 'millions': 2848, 'dollars': 1315, 'scenario': 3808, 'storm': 4206, 'expensive': 1579, 'alex': 179, 'important': 2247, 'wasnt': 4807, 'super': 4295, 'large': 2517, 'support': 4303, 'appropriate': 283, 'brothers': 599, 'favourite': 1673, 'clearly': 840, 'evidence': 1546, 'easily': 1406, 'theatre': 4429, 'tv': 4610, 'semi': 3874, 'portion': 3338, 'material': 2766, 'liberal': 2588, 'imagination': 2236, 'bring': 585, 'satisfying': 3791, 'albeit': 173, 'somewhat': 4068, 'natural': 2973, 'flynn': 1765, 'perhaps': 3235, 'member': 2800, 'boxing': 556, 'team': 4378, 'training': 4558, 'skills': 4014, 'fight': 1707, 'worlds': 4947, 'championship': 745, 'expert': 1585, 'ward': 4793, 'bond': 532, 'reads': 3545, 'warner': 4799, 'resident': 3647, 'supporting': 4304, 'players': 3299, 'alan': 171, 'harry': 2039, 'pat': 3208, 'stated': 4161, 'jack': 2373, 'masterful': 2758, 'friend': 1835, 'recognize': 3569, 'minor': 2857, 'pro': 3406, 'various': 4715, 'hence': 2083, 'unknown': 4668, 'others': 3136, 'mike': 2838, 'davis': 1126, 'possessed': 3347, 'leading': 2547, 'lady': 2507, 'powerful': 3360, 'ability': 65, 'displays': 1293, 'range': 3516, 'rich': 3685, 'trick': 4582, 'mix': 2876, 'proper': 3436, 'blend': 504, 'treatment': 4574, 'starting': 4158, 'clip': 851, 'breaking': 570, 'humorous': 2193, 'punch': 3466, 'maintain': 2710, 'touch': 4533, 'become': 433, 'furthermore': 1854, 'authentic': 358, 'san': 3780, 'francisco': 1819, 'wide': 4880, 'dynamic': 1394, 'prize': 3405, 'fights': 1710, 'mood': 2898, 'image': 2233, 'covered': 1023, 'wrestling': 4966, 'johnson': 2411, 'woods': 4935, 'term': 4405, 'vehicle': 4718, 'portray': 3340, 'born': 544, 'sullivan': 4288, 'intelligent': 2314, 'surprised': 4313, 'truly': 4597, 'care': 684, 'became': 431, 'driven': 1365, 'disappoint': 1272, 'react': 3540, 'shirley': 3936, 'remake': 3612, 'suspect': 4327, 'following': 1774, 'exposed': 1598, 'hollywoods': 2138, 'current': 1084, 'towards': 4540, 'word': 4937, 'supposed': 4306, 'aspects': 322, 'reasonable': 3558, 'unless': 4669, 'length': 2569, 'means': 2783, 'decided': 1149, 'shining': 3933, 'press': 3379, 'kept': 2456, 'write': 4967, 'heck': 2071, 'ghost': 1902, 'throw': 4479, 'carefully': 689, 'picked': 3266, 'guest': 1992, 'investigate': 2342, 'everyone': 1542, 'false': 1641, 'scare': 3803, 'lab': 2501, 'rats': 3531, 'dedicated': 1153, 'direct': 1258, 'contrast': 975, 'statement': 4162, 'houses': 2180, 'begin': 442, 'victim': 4729, 'setting': 3900, 'luke': 2687, 'portrayed': 3342, 'absolutely': 72, 'voiced': 4762, 'bumbling': 622, 'jumped': 2430, 'mrs': 2930, 'speech': 4102, 'fancy': 1649, 'haunting': 2051, 'missed': 2867, 'narrative': 2966, 'gothic': 1945, 'novel': 3052, 'thoughts': 4464, 'tried': 4584, 'heroine': 2091, 'selfish': 3870, 'obviously': 3072, 'changed': 750, 'hugh': 2186, 'whose': 4877, 'legend': 2564, 'versions': 4721, 'grace': 1950, 'wives': 4918, 'ways': 4822, 'whether': 4866, 'glad': 1916, 'jackson': 2375, 'walks': 4780, 'favorite': 1671, 'remains': 3611, 'competition': 918, 'giving': 1915, 'routine': 3743, 'werent': 4849, 'flashbacks': 1747, 'occurred': 3077, 'falling': 1639, 'ultimately': 4628, 'trap': 4563, 'sit': 4003, 'managed': 2723, 'hoping': 2160, 'passing': 3204, 'wow': 4962, '15': 7, 'meaningless': 2782, 'positive': 3346, 'trash': 4565, 'expected': 1577, 'surprise': 4312, 'likes': 2602, 'extremely': 1610, 'gory': 1943, 'detailed': 1218, 'cases': 708, 'plain': 3286, 'chick': 786, 'shes': 3930, 'typical': 4623, 'underground': 4640, 'including': 2264, 'blood': 512, 'promised': 3431, 'meeting': 2794, 'unbelievably': 4635, 'random': 3514, 'hearted': 2065, 'description': 1197, 'repetitive': 3633, 'editor': 1423, 'worse': 4951, 'editing': 1421, 'exposure': 1599, 'edited': 1420, 'multiple': 2936, 'annoying': 249, 'idiotic': 2219, 'mouth': 2920, '3d': 46, 'forward': 1808, 'acid': 95, 'friday': 1834, '13th': 5, 'failure': 1629, 'tell': 4395, 'former': 1800, 'messed': 2821, 'leo': 2571, 'reactions': 3542, 'members': 2801, 'touching': 4536, 'nor': 3032, 'difficult': 1249, 'sounds': 4084, 'vaguely': 4706, 'scientist': 3818, 'animal': 239, 'animals': 240, 'saving': 3797, 'human': 2188, 'wolf': 4920, 'dogs': 1311, 'dialogue': 1234, 'stilted': 4190, 'laughed': 2532, 'loud': 2664, 'inept': 2281, '90': 60, 'boring': 543, 'devoid': 1230, 'military': 2844, 'eye': 1611, 'wounded': 4961, 'presumably': 3380, 'technology': 4385, 'subplot': 4255, 'thinks': 4454, 'using': 4698, 'wisdom': 4902, 'heavy': 2070, 'immediately': 2242, 'gruesome': 1986, 'murder': 2939, 'turkey': 4604, 'adding': 117, 'atmosphere': 333, 'worker': 4942, 'research': 3644, 'room': 3735, 'discover': 1279, 'monkeys': 2891, 'scared': 3805, 'started': 4157, 'laughing': 2533, 'escapes': 1519, 'window': 4894, 'armed': 293, 'arrive': 300, 'leaves': 2556, 'open': 3112, 'machine': 2693, 'guns': 1998, 'trees': 4577, 'easier': 1405, 'knife': 2487, 'spoil': 4121, 'rush': 3759, 'child': 789, 'getting': 1901, 'arrives': 302, 'treated': 4573, 'spare': 4093, 'cliché': 844, 'worn': 4948, 'blunt': 520, 'believed': 455, 'fill': 1714, 'zero': 4996, 'cat': 713, 'loves': 2674, 'size': 4012, 'reasonably': 3559, 'pet': 3246, 'clichés': 846, 'match': 2762, 'mtv': 2933, 'mediocre': 2791, 'feeling': 1685, 'likable': 2598, 'adaptation': 113, 'accept': 80, 'respected': 3653, 'enjoyed': 1486, 'horrid': 2165, 'older': 3101, 'lines': 2612, 'recent': 3566, 'brief': 579, 'punk': 3468, 'convince': 983, 'tremendous': 4579, 'exciting': 1563, 'bored': 541, 'realistic': 3550, 'tim': 4494, 'brian': 576, 'cox': 1026, 'prefer': 3368, 'contain': 962, 'historical': 2119, 'bridge': 578, 'surprising': 4315, 'suits': 4287, 'amazing': 209, 'age': 148, 'mildly': 2840, 'insulting': 2310, 'intelligence': 2313, 'whenever': 4863, 'jr': 2423, 'cringe': 1059, 'uncomfortable': 4637, 'existence': 1571, 'apparently': 270, 'negative': 2991, 'feelings': 1686, 'forgot': 1796, 'pieces': 3273, 'stolen': 4195, 'eaten': 1412, 'creators': 1044, 'brave': 567, 'childhood': 790, '1933': 12, 'peter': 3247, 'sellers': 3872, 'fu': 1844, 'chinese': 796, 'opens': 3115, 'birthday': 487, 'drinking': 1362, 'mentions': 2813, 'occasion': 3073, 'dropped': 1370, 'assistant': 326, 'orders': 3127, 'rare': 3523, 'global': 1920, 'hunt': 2198, 'london': 2641, 'retired': 3664, 'detective': 1220, 'comedic': 888, 'full': 1846, 'tragedy': 4551, 'gifted': 1907, 'comedian': 887, 'memorable': 2802, 'absolute': 71, 'finish': 1732, 'dies': 1245, 'coming': 896, 'earlier': 1399, 'downhill': 1336, 'avoid': 363, 'plague': 3285, 'rating': 3529, 'complex': 923, 'football': 1783, 'approach': 282, 'despite': 1211, 'dealing': 1136, 'controversial': 978, 'culture': 1079, 'muslim': 2949, 'generation': 1883, 'conflicts': 940, 'simplistic': 3985, 'relief': 3605, 'built': 618, 'impression': 2252, 'makers': 2715, 'task': 4368, 'themselves': 4435, 'attempting': 342, 'profound': 3423, 'succeeds': 4264, 'unrealistic': 4677, 'dropping': 1371, 'ball': 388, 'brilliance': 582, 'appreciation': 281, 'attempt': 340, 'drama': 1346, 'becomes': 434, 'drops': 1372, 'stomach': 4196, 'amount': 219, 'roll': 3728, 'central': 735, 'parents': 3188, 'handsome': 2021, 'coach': 868, 'embarrassing': 1454, 'terms': 4406, 'realism': 3549, 'appear': 273, 'conflict': 939, 'perspective': 3245, 'subject': 4253, 'audience': 352, 'disappointing': 1274, 'recommend': 3571, 'east': 1407, 'cultural': 1078, 'guide': 1993, 'masterpiece': 2759, 'beautifully': 429, 'matthew': 2772, 'chemistry': 782, 'button': 639, 'waiting': 4772, 'commentary': 899, '20': 29, 'village': 4743, 'seemingly': 3863, 'wear': 4830, 'general': 1880, 'clothing': 861, 'six': 4010, 'wears': 4832, 'chooses': 800, 'christians': 809, 'entirely': 1503, 'robert': 3713, 'wooden': 4934, 'implausible': 2245, 'failing': 1627, 'ashamed': 312, 'criminal': 1057, 'adventures': 131, 'sees': 3866, 'succeed': 4262, 'scott': 3824, 'appealing': 272, 'harvey': 2042, 'assigned': 325, 'track': 4544, 'shortly': 3947, 'jazz': 2387, 'recently': 3567, 'deceased': 1146, 'hanging': 2023, 'engaged': 1480, 'burton': 630, 'cinemas': 817, 'paint': 3173, 'gradually': 1952, 'mess': 2818, 'storyline': 4208, 'office': 3091, 'altogether': 202, 'letters': 2582, 'emotion': 1458, 'numerous': 3062, 'pity': 3281, 'endless': 1473, 'slapstick': 4019, 'celluloid': 731, 'onto': 3111, 'boss': 546, 'eyed': 1612, 'interest': 2323, 'reveals': 3673, 'hidden': 2096, 'chase': 769, 'measure': 2786, 'strip': 4228, 'attempts': 343, 'quirky': 3493, 'strangers': 4214, 'poetry': 3314, 'protagonist': 3441, 'eccentric': 1414, 'single': 3996, 'capture': 676, 'merit': 2816, 'floor': 1759, 'cuts': 1091, 'working': 4944, 'social': 4049, 'obsession': 3070, 'artistic': 308, 'soundtrack': 4085, 'list': 2617, 'territory': 4411, 'successfully': 4267, 'value': 4709, 'century': 736, 'miserably': 2864, 'student': 4238, 'filmed': 1717, 'showcase': 3954, 'particular': 3194, 'studios': 4241, 'silent': 3975, 'speaking': 4095, 'transition': 4561, 'contract': 973, 'lloyd': 2630, 'hamilton': 2012, 'meanwhile': 2785, 'al': 170, 'compelled': 915, 'join': 2412, 'overly': 3155, 'dozen': 1338, 'shorts': 3948, 'continuity': 972, 'finale': 1723, 'enjoyable': 1485, 'dance': 1103, 'numbers': 3061, 'highlights': 2104, 'nick': 3012, 'lucas': 2680, 'performing': 3233, 'shakespeare': 3915, 'li': 2587, 'odd': 3080, 'depression': 1189, 'era': 1513, 'hired': 2117, 'produce': 3413, 'musicals': 2948, 'favor': 1670, 'urban': 4688, 'cagney': 646, 'joan': 2404, 'albert': 174, 'joe': 2407, 'evening': 1534, 'roman': 3731, 'uses': 4697, 'individuals': 2278, 'represent': 3637, 'confused': 941, 'served': 3894, 'levels': 2585, 'appreciate': 279, 'deliver': 1169, 'united': 4664, 'nations': 2971, 'filming': 1718, 'notorious': 3051, 'seven': 3903, 'marriage': 2743, 'lovely': 2671, 'suitable': 4285, 'innocence': 2293, 'greatest': 1966, 'enter': 1494, 'determined': 1221, 'activities': 102, 'delivering': 1171, 'ultimate': 4627, 'weapon': 4828, 'surprisingly': 4316, 'vulnerable': 4768, 'gary': 1873, 'believes': 456, 'lover': 2672, 'theory': 4437, 'fears': 1677, 'reveal': 3670, 'humanity': 2189, 'figures': 1713, 'cannot': 670, 'shocking': 3940, 'vision': 4754, 'five': 1743, 'utterly': 4702, 'university': 4667, 'generic': 1885, '30': 42, 'break': 569, 'majority': 2712, 'consists': 955, 'vast': 4716, 'empty': 1465, 'stellar': 4174, 'performances': 3229, 'offer': 3087, 'significant': 3972, 'coherent': 871, 'executed': 1565, 'combination': 883, 'impressive': 2253, 'visuals': 4759, 'creating': 1039, 'aired': 165, 'bbc': 417, 'months': 2897, 'twice': 4613, 'media': 2789, 'initially': 2291, 'detail': 1217, 'political': 3324, 'intentions': 2321, 'witness': 4914, 'attempted': 341, 'rebel': 3561, 'oil': 3097, 'concerns': 934, 'government': 1948, 'remarkable': 3613, 'eric': 1514, 'center': 732, 'harsh': 2040, 'premise': 3370, 'ensues': 1493, 'largely': 2518, 'certainly': 738, 'et': 1526, 'talents': 4356, 'depicting': 1184, 'admittedly': 123, 'useful': 4694, 'depicted': 1183, 'status': 4165, 'monster': 2892, 'addition': 118, 'official': 3094, 'abuse': 74, 'obnoxious': 3067, 'spends': 4107, 'result': 3660, 'latest': 2526, 'examples': 1554, 'manhattan': 2726, 'amounts': 220, 'next': 3007, 'business': 633, 'wonder': 4926, 'slap': 4018, 'according': 88, 'childish': 791, 'highlight': 2103, 'bland': 500, 'compelling': 916, 'solo': 4058, 'steve': 4181, 'europe': 1529, 'song': 4071, 'canada': 666, 'fond': 1776, 'listening': 2620, 'cult': 1077, 'humour': 2194, 'canadian': 667, 'dinner': 1254, 'students': 4239, 'sudden': 4272, 'states': 4163, 'brand': 565, '30s': 44, 'stage': 4139, 'shooting': 3943, 'massive': 2756, 'free': 1827, 'interviews': 2330, 'dull': 1384, 'families': 1644, 'satire': 3788, 'ruins': 3752, 'terry': 4415, 'dude': 1381, 'unintentionally': 4659, 'rising': 3703, 'planned': 3290, 'event': 1535, 'sci': 3815, 'fi': 1701, 'imagined': 2239, 'fly': 1763, 'broke': 593, 'faults': 1669, 'audio': 354, 'lacking': 2504, 'finger': 1731, 'wells': 4845, 'hundred': 2195, 'drawn': 1351, 'germany': 1898, 'threat': 4467, 'weapons': 4829, 'road': 3709, 'intention': 2319, 'hip': 2114, 'resulting': 3661, 'worthwhile': 4955, 'notch': 3043, 'opinions': 3119, 'comments': 901, 'deserved': 1200, 'pure': 3471, 'charm': 767, 'drop': 1369, 'beer': 439, 'glass': 1917, 'fire': 1734, 'save': 3794, 'explore': 1594, 'exploration': 1593, 'round': 3742, 'bear': 420, 'daring': 1114, 'isolated': 2363, 'path': 3209, 'whale': 4857, 'baby': 376, 'tour': 4538, 'elephant': 1444, 'africa': 141, 'mark': 2739, 'survival': 4320, 'besides': 468, 'protagonists': 3442, 'richard': 3686, 'brooks': 596, 'holding': 2130, 'adam': 111, 'lesson': 2577, 'warming': 4795, 'doc': 1303, 'poster': 3353, 'visit': 4755, 'trio': 4587, 'continued': 970, 'quality': 3484, 'health': 2060, 'introduces': 2338, 'soon': 4074, 'holds': 2131, 'church': 813, 'saved': 3795, 'tells': 4397, 'buying': 641, 'chain': 741, 'latter': 2528, 'amazed': 208, 'felix': 1689, 'unintentional': 4658, 'met': 2822, 'max': 2774, 'patrick': 3213, 'cruise': 1071, 'friendly': 1836, 'regarding': 3589, 'state': 4160, 'mate': 2765, 'grey': 1973, 'hyde': 2206, 'ships': 3935, 'resembles': 3646, 'non': 3027, 'china': 795, 'bet': 470, 'describe': 1194, 'segment': 3867, 'fictional': 1703, 'ego': 1435, 'agent': 150, 'jean': 2389, 'simmons': 3981, 'raymond': 3534, 'threatening': 4468, 'illness': 2230, 'watches': 4814, 'deeply': 1156, 'follow': 1772, 'trailers': 4555, 'theaters': 4428, 'expectations': 1576, '25': 40, 'pleasantly': 3303, 'cleverly': 842, 'information': 2288, 'enormous': 1490, 'experiments': 1584, 'relationships': 3598, 'explicit': 1591, 'politics': 3326, 'fourth': 1813, 'wall': 4781, 'broken': 594, '1960s': 15, 'freedom': 1828, 'treasure': 4571, 'spoiler': 4123, 'device': 1227, 'complaint': 920, 'copy': 994, 'eighties': 1437, 'teenager': 4390, 'living': 2629, 'possibly': 3351, 'hooked': 2153, 'severe': 3906, 'doubts': 1333, 'minded': 2850, 'introduce': 2336, 'matt': 2768, 'throws': 4482, 'harder': 2035, 'tend': 4400, 'virtually': 4751, 'mill': 2845, 'league': 2549, 'stone': 4197, 'crowd': 1067, 'rival': 3706, 'pie': 3271, 'exist': 1569, 'par': 3184, 'user': 4696, 'challenge': 743, 'hadnt': 2004, 'guessed': 1990, 'distinct': 1296, 'aimed': 162, 'women': 4923, 'raised': 3508, 'failed': 1626, 'choreographed': 801, 'rarely': 3524, 'raise': 3507, 'smile': 4036, 'youre': 4992, 'develop': 1222, 'market': 2740, 'fall': 1637, 'asleep': 320, 'tired': 4501, 'rubbish': 3748, 'development': 1225, 'constant': 957, 'constantly': 958, 'explanation': 1590, 'causing': 726, 'admit': 122, 'concern': 931, 'accidentally': 85, 'renting': 3629, 'anyways': 262, 'easy': 1410, 'keeping': 2450, 'terrific': 4409, 'gotta': 1946, 'yellow': 4981, 'psychological': 3458, 'barry': 401, 'jones': 2418, 'kenneth': 2455, 'howard': 2182, 'country': 1014, 'decades': 1145, 'passionate': 3206, 'endearing': 1469, 'population': 3335, 'desperately': 1209, 'released': 3603, 'maker': 2714, 'conspiracy': 956, 'growing': 1983, 'revolution': 3680, 'disappear': 1270, 'achieved': 93, 'cup': 1080, 'project': 3427, 'digital': 1251, 'format': 1799, 'iran': 2350, 'facts': 1624, 'opposite': 3123, 'absurd': 73, 'rules': 3754, 'law': 2538, 'away': 369, 'feminist': 1695, 'episodes': 1508, 'storytelling': 4209, 'accident': 84, 'tony': 4521, 'killed': 2469, 'chris': 806, 'torn': 4528, 'hearing': 2063, 'elaborate': 1439, 'realized': 3553, 'step': 4175, 'sequel': 3885, 'entry': 1504, 'adequate': 120, 'merely': 2815, 'lots': 2662, 'order': 3126, 'entertained': 1498, 'watchable': 4812, 'paced': 3162, 'photographed': 3258, 'smooth': 4041, 'bob': 524, 'ian': 2209, 'hunter': 2199, 'carl': 692, 'partly': 3197, 'keep': 2449, 'hall': 2009, 'nearby': 2980, 'standing': 4146, 'shock': 3938, 'sight': 3969, 'tall': 4362, 'twins': 4616, 'argue': 290, 'losing': 2658, 'heart': 2064, 'dress': 1357, 'dressing': 1359, 'cutting': 1092, 'stylish': 4251, 'gripping': 1976, 'smiling': 4037, 'whats': 4860, 'directing': 1260, 'disturbing': 1300, 'nelson': 2997, '3rd': 47, 'cabin': 643, 'lake': 2509, 'doubt': 1332, 'villains': 4745, 'horrors': 2169, 'chaplin': 756, 'group': 1980, 'below': 462, 'gag': 1861, 'locked': 2637, 'luck': 2681, 'charlie': 765, 'dream': 1354, 'hair': 2005, 'ironically': 2356, 'filled': 1715, 'co': 867, 'robbery': 3711, 'physical': 3262, 'wishes': 4906, 'includes': 2263, 'laura': 2536, 'helen': 2075, 'kitchen': 2485, 'thrills': 4475, 'thrilling': 4474, 'thrillers': 4473, 'strongly': 4231, 'risk': 3704, 'remain': 3609, 'tight': 4492, 'bud': 607, 'painful': 3171, 'discovery': 1282, 'lies': 2591, 'landscapes': 2514, 'screenwriter': 3833, 'joined': 2413, 'navy': 2976, 'demons': 1178, 'fish': 1738, 'denzel': 1181, 'directorial': 1265, 'formulaic': 1803, 'ones': 3108, 'required': 3641, 'base': 402, 'grown': 1984, 'psychiatrist': 3455, 'washington': 4806, 'opened': 3113, 'abandoned': 62, 'prison': 3401, 'placed': 3283, 'foster': 1809, 'suffering': 4277, 'cousin': 1021, 'jesse': 2397, 'build': 614, 'ordinary': 3128, 'hunting': 2201, 'warmth': 4796, 'allows': 192, 'safe': 3771, 'discuss': 1283, 'achieve': 92, 'develops': 1226, 'return': 3665, 'journey': 2421, 'honor': 2150, 'reaches': 3538, 'cried': 1054, 'knowing': 2490, 'fest': 1696, 'case': 707, 'bar': 396, 'beyond': 476, 'julia': 2427, 'amateur': 206, 'porn': 3336, 'assume': 328, 'villain': 4744, 'honest': 2146, 'costumes': 1006, 'speak': 4094, 'push': 3477, 'threw': 4470, 'mgm': 2828, 'outrageous': 3145, 'southern': 4088, 'costume': 1005, 'brings': 587, 'success': 4265, 'studio': 4240, 'learns': 2553, 'emotions': 1461, 'cameos': 658, 'king': 2479, 'sounded': 4082, 'wind': 4893, 'blow': 514, 'move': 2921, 'outside': 3146, 'bright': 581, 'visible': 4753, 'developed': 1223, 'faster': 1662, 'rain': 3506, 'sunshine': 4294, 'horribly': 2164, 'sadly': 3769, 'prom': 3429, 'april': 284, 'overdone': 3152, 'worthy': 4956, 'ready': 3546, 'response': 3654, 'installment': 2303, 'scary': 3807, 'spoof': 4127, 'walked': 4776, 'halfway': 2008, 'wish': 4904, 'myself': 2953, 'stick': 4185, 'needless': 2989, 'manages': 2725, 'props': 3439, 'spot': 4131, 'alright': 198, 'doomed': 1327, 'nine': 3017, 'meaningful': 2781, 'campbell': 663, 'lack': 2502, 'dumb': 1385, 'stress': 4220, 'cats': 721, 'christmas': 810, 'fate': 1665, 'ruin': 3750, 'relatively': 3600, 'producer': 3415, 'gain': 1863, 'mid': 2832, 'intense': 2316, 'seat': 3845, 'holy': 2140, 'pilot': 3276, 'survivor': 4324, 'witnesses': 4916, 'contact': 961, 'fully': 1847, 'offers': 3090, 'sword': 4340, 'spectacular': 4101, 'presents': 3377, 'personalities': 3241, 'mask': 2752, 'perfection': 3225, 'flawed': 1750, 'tied': 4489, 'accepted': 82, 'shouldnt': 3952, 'unexpected': 4650, 'breath': 573, 'jason': 2383, 'lees': 2560, 'exotic': 1574, 'lee': 2559, 'pain': 3170, 'pleasant': 3302, 'blonde': 511, 'common': 906, 'include': 2261, 'blowing': 515, 'revenge': 3675, 'somebody': 4062, 'related': 3594, 'dolls': 1316, 'nowadays': 3055, 'chicago': 785, 'fail': 1625, 'bothered': 549, 'brando': 566, 'provides': 3450, 'fashioned': 1660, 'parallel': 3185, 'product': 3418, 'performers': 3232, 'von': 4765, 'tricks': 4583, 'weekend': 4838, 'rolling': 3730, 'laughter': 2535, 'lol': 2640, 'kubrick': 2496, 'flawless': 1751, 'skill': 4013, 'blew': 505, 'trademark': 4548, 'builds': 617, 'twilight': 4614, 'zone': 4999, 'primarily': 3393, 'portrayal': 3341, 'lonely': 2643, 'souls': 4080, 'environment': 1505, 'streets': 4217, 'handed': 2016, 'todays': 4509, 'standards': 4145, 'relevant': 3604, 'timeless': 4496, 'solely': 4056, 'firstly': 1737, 'teen': 4388, 'opportunities': 3120, 'remind': 3618, 'agree': 155, 'hang': 2022, 'plus': 3311, 'comment': 898, 'reflect': 3584, 'minds': 2852, 'lou': 2663, 'diamond': 1236, 'ensemble': 1492, 'relative': 3599, 'stupidity': 4248, 'corny': 997, 'subtle': 4260, 'extreme': 1609, 'lazy': 2543, '1983': 22, 'jane': 2380, 'eyre': 1614, 'timothy': 4499, 'dalton': 1098, 'rochester': 3719, 'finest': 1730, 'date': 1118, 'faithful': 1634, 'charlotte': 766, 'specific': 4099, 'reasons': 3560, 'classics': 837, 'destroyed': 1214, 'thankfully': 4422, 'respect': 3652, 'multi': 2935, 'delight': 1167, 'criticism': 1063, 'slight': 4027, 'influenced': 2287, 'choices': 798, 'insane': 2296, 'divorce': 1301, 'sin': 3988, 'settle': 3902, 'herself': 2092, 'taught': 4370, 'brutal': 603, 'burns': 628, 'cheek': 779, 'jesus': 2399, 'debut': 1143, 'dialogs': 1233, 'naive': 2958, 'timing': 4498, 'wanna': 4786, 'thoughtful': 4463, 'oliver': 3102, 'experiment': 1583, 'ten': 4399, 'photography': 3260, 'le': 2544, 'gentle': 1890, 'miracle': 2860, 'understated': 4646, 'scenery': 3810, 'sophisticated': 4075, 'impact': 2244, 'sensitive': 3879, 'mixture': 2878, 'themes': 4434, 'paying': 3217, 'homage': 2141, 'countries': 1013, 'france': 1816, 'elderly': 1440, 'unable': 4631, 'travel': 4567, 'italy': 2368, 'focused': 1767, 'fathers': 1667, 'demands': 1175, 'encounter': 1466, 'eventually': 1537, 'duo': 1386, 'drunk': 1375, 'countless': 1012, 'border': 539, 'agents': 151, 'progress': 3425, 'importance': 2246, 'beliefs': 452, 'reach': 3536, 'surrounded': 4318, 'overwhelming': 3157, 'values': 4710, 'extraordinary': 1607, 'currently': 1085, 'movement': 2923, 'tender': 4401, 'recommended': 3572, 'shallow': 3917, 'planet': 3289, 'apes': 267, 'provoking': 3452, 'dialogues': 1235, 'incredibly': 2270, 'reduced': 3579, 'mere': 2814, 'minimum': 2856, 'interaction': 2322, 'existent': 1572, 'liners': 2611, 'hollow': 2135, 'conversations': 981, 'mentioning': 2812, 'sets': 3899, 'backgrounds': 381, '2001': 31, 'paper': 3183, 'thin': 4449, 'turning': 4608, 'senseless': 3878, 'un': 4630, 'dangerous': 1110, 'forces': 1788, 'protect': 3443, 'bette': 471, 'bringing': 586, 'tears': 4380, 'singing': 3995, 'beneath': 464, 'pushing': 3479, 'justin': 2440, 'expecting': 1578, 'pick': 3265, 'mine': 2853, 'bought': 552, 'cause': 723, 'smart': 4035, 'sucked': 4270, 'attention': 345, 'sheriff': 3929, 'excuse': 1564, 'curtis': 1087, 'forgive': 1795, 'sentimental': 3882, 'behave': 445, 'authority': 360, 'bollywood': 530, 'handful': 2017, 'greatly': 1967, 'needed': 2988, 'heroes': 2089, 'ease': 1404, 'assault': 324, 'avoided': 364, 'bullet': 620, 'beat': 423, 'rambo': 3511, 'ii': 2226, 'mundane': 2938, 'influence': 2286, 'designed': 1203, 'motivations': 2915, 'infamous': 2284, 'bottom': 551, 'massacre': 2754, 'putting': 3482, 'dig': 1250, 'rise': 3702, 'phone': 3255, 'versus': 4722, 'genius': 1887, 'immensely': 2243, 'troubled': 4593, 'talented': 4355, 'taylor': 4372, 'dennis': 1179, 'hopper': 2161, 'fonda': 1777, 'realise': 3548, 'cost': 1003, 'truth': 4599, 'sold': 4052, 'indie': 2276, 'teeth': 4393, 'bus': 631, 'credibility': 1047, 'beats': 426, 'kicks': 2463, 'rocks': 3722, 'civilization': 827, 'instant': 2305, 'ice': 2210, 'sid': 3964, 'matched': 2763, 'quote': 3496, 'continue': 969, 'pack': 3165, 'bears': 421, 'troubles': 4594, 'birds': 485, 'map': 2733, 'remotely': 3623, 'thru': 4483, 'portrait': 3339, 'tortured': 4530, 'ourselves': 3140, 'focuses': 1768, 'strangely': 4212, 'haunted': 2050, 'philip': 3252, 'daughters': 1122, 'jon': 2416, 'aside': 315, 'neat': 2982, 'calling': 653, 'issue': 2364, 'vs': 4767, 'assumed': 329, 'ask': 316, 'hotel': 2175, 'pitt': 3280, 'dracula': 1341, 'vampire': 4711, 'barbara': 397, 'queen': 3485, 'wearing': 4831, 'shirt': 3937, 'francis': 1818, 'native': 2972, 'lowest': 2678, 'form': 1798, 'wit': 4908, 'genuinely': 1892, 'experienced': 1581, 'shelf': 3926, 'theatrical': 4430, 'screening': 3830, 'alike': 185, 'crying': 1074, 'reviews': 3679, 'moved': 2922, 'chose': 804, 'emotionally': 1460, 'allow': 189, 'pre': 3365, 'japan': 2381, 'revolves': 3682, 'held': 2074, 'jail': 2376, 'crimes': 1056, 'against': 147, 'plight': 3308, 'absence': 70, 'occur': 3076, 'unfortunate': 4653, 'worry': 4950, 'innocent': 2294, 'granted': 1957, 'twist': 4617, 'curious': 1083, 'struck': 4232, 'analysis': 224, 'empire': 1464, 'cared': 685, 'closest': 857, 'technically': 4382, 'lacked': 2503, 'aspect': 321, 'wicked': 4879, 'explored': 1595, 'effective': 1429, 'proof': 3434, 'thousand': 4465, 'wet': 4855, 'bin': 483, 'resist': 3648, 'diane': 1238, 'keaton': 2448, 'tonight': 4519, 'switch': 4339, 'sympathy': 4343, 'anymore': 258, 'gone': 1935, 'enjoying': 1487, 'stopped': 4202, 'caring': 691, 'sincere': 3991, 'combined': 885, 'jumping': 2431, 'chair': 742, 'gotten': 1947, 'hated': 2047, 'shocked': 3939, 're': 3535, 'hurt': 2202, 'ride': 3692, 'bone': 533, 'college': 875, 'clues': 865, '24': 39, 'junior': 2435, 'medical': 2790, 'hasnt': 2044, 'appeal': 271, 'smoking': 4040, 'mob': 2879, 'sexually': 3910, 'irony': 2357, 'aids': 161, 'pull': 3461, 'unusual': 4681, 'cute': 1090, 'brenda': 575, 'awfully': 373, 'horrible': 2163, '60s': 54, 'neo': 2998, 'wouldve': 4959, 'dealt': 1138, 'hole': 2132, 'curiosity': 1082, 'eddie': 1416, 'lesser': 2576, 'kidnapped': 2466, 'chosen': 805, 'murphy': 2944, 'suggests': 4282, 'destiny': 1212, 'rescue': 3643, 'suffice': 4279, 'proceedings': 3410, 'sunday': 4293, '12': 3, 'excitement': 1562, 'candy': 668, 'buck': 605, 'imaginative': 2237, 'wars': 4804, 'oz': 3160, 'tape': 4365, 'grinch': 1975, 'carrey': 696, 'molly': 2884, 'ryan': 3765, 'showed': 3956, 'secrets': 3852, 'stronger': 4230, 'alert': 178, 'expression': 1602, 'da': 1094, 'subsequent': 4257, 'holiday': 2134, 'feet': 1688, 'commercials': 903, '2006': 36, 'commercial': 902, 'ladies': 2506, 'appearances': 275, 'neighborhood': 2993, 'la': 2500, 'vampires': 4712, 'loser': 2655, 'represented': 3638, 'sloppy': 4030, 'trailer': 4554, 'melodramatic': 2798, 'soap': 4047, 'carried': 698, 'rated': 3527, 'leaving': 2557, 'victims': 4730, 'douglas': 1334, 'greater': 1965, 'overcome': 3151, 'deaths': 1142, 'safety': 3772, 'beloved': 461, 'steals': 4172, 'idiot': 2218, 'demented': 1176, 'fever': 1699, 'pitch': 3279, 'books': 536, 'returns': 3668, 'nonetheless': 3029, 'frank': 1821, 'print': 3399, 'poverty': 3357, 'motives': 2916, 'frankenstein': 1822, 'formula': 1802, 'tale': 4353, 'arthur': 305, 'lawrence': 2539, 'amazingly': 210, 'via': 4726, 'awe': 370, 'saga': 3773, 'dreams': 1355, 'psycho': 3457, 'fed': 1682, 'macy': 2695, 'decides': 1150, 'sutherland': 4333, 'ritter': 3705, 'panic': 3181, 'weeks': 4839, 'location': 2635, 'settings': 3901, 'marvelous': 2750, 'atmospheric': 334, 'available': 361, 'britain': 588, 'favorites': 1672, 'lucky': 2683, 'create': 1036, 'street': 4216, 'performer': 3231, 'dubbed': 1379, 'dying': 1393, 'society': 4050, 'females': 1694, 'master': 2757, 'slave': 4022, 'opera': 3116, 'unaware': 4632, 'sexuality': 3909, 'packed': 3166, 'steven': 4182, 'seagal': 3839, 'dog': 1310, 'stock': 4193, 'air': 164, 'force': 1786, 'gonna': 1936, 'triumph': 4590, 'amateurish': 207, 'created': 1037, 'bomb': 531, 'translation': 4562, 'comedies': 889, 'foreign': 1790, 'mistake': 2871, 'sympathetic': 4342, 'loose': 2650, 'potentially': 3356, '80s': 59, 'slasher': 4020, 'flicks': 1755, 'deadly': 1133, 'pulled': 3462, 'excited': 1561, 'types': 4622, 'laughable': 2530, 'loses': 2657, 'santa': 3783, 'aka': 168, 'lighting': 2596, 'checking': 778, 'creepy': 1052, 'lovable': 2668, 'shadows': 3913, 'angry': 238, 'forest': 1791, 'national': 2970, 'trust': 4598, 'angels': 234, 'ps': 3453, 'admire': 121, 'tom': 4514, 'savage': 3793, 'ireland': 2352, 'catholic': 720, 'superman': 4301, 'dragon': 1344, 'pacing': 3163, 'cgi': 740, 'costs': 1004, 'guilty': 1995, 'pleasure': 3306, 'flash': 1745, '90s': 61, 'tongue': 4518, 'parody': 3192, 'relies': 3606, 'killings': 2473, 'professor': 3422, 'degree': 1164, 'bodies': 526, 'whoever': 4872, 'roots': 3738, 'property': 3438, 'clichéd': 845, 'situations': 4009, 'hey': 2095, 'private': 3404, 'factor': 1622, 'service': 3896, 'practice': 3363, 'swear': 4334, 'remaining': 3610, 'continues': 971, 'exaggerated': 1552, 'silver': 3977, 'distracting': 1297, 'york': 4985, 'mixed': 2877, 'laid': 2508, 'picks': 3268, 'accent': 78, 'lower': 2677, 'execution': 1566, 'bag': 384, 'drivel': 1364, 'falls': 1640, 'suffered': 4276, 'removed': 3624, 'split': 4120, 'forms': 1801, 'maggie': 2702, 'surprises': 4314, 'drug': 1373, 'balance': 387, 'sharp': 3922, 'conversation': 980, 'racial': 3501, 'differences': 1247, 'shy': 3962, 'connection': 946, 'shines': 3932, 'facial': 1619, 'priceless': 3390, 'richardson': 3688, 'wes': 4851, 'craven': 1034, 'walking': 4779, 'forbidden': 1785, 'intriguing': 2335, 'asian': 314, 'variety': 4714, 'amongst': 218, 'alexander': 180, 'accents': 79, 'introduction': 2339, 'everyday': 1541, 'discovered': 1280, 'prisoner': 3402, 'coffee': 870, 'cowboy': 1025, 'quick': 3490, 'van': 4713, 'understanding': 4645, 'photographer': 3259, 'artist': 307, 'integrity': 2311, 'guarantee': 1987, 'thief': 4448, 'stole': 4194, 'outstanding': 3147, '50s': 52, 'consider': 949, 'choose': 799, 'edge': 1418, 'science': 3816, 'fiction': 1702, '1973': 19, 'reminds': 3620, 'orson': 3132, 'welles': 4844, 'portraying': 3343, 'heroic': 2090, 'cop': 991, 'corrupt': 1001, 'treats': 4575, 'reporter': 3636, 'battles': 415, 'workers': 4943, 'aliens': 184, 'blind': 506, 'landing': 2512, 'site': 4005, 'cheese': 780, 'ugly': 4625, 'model': 2880, 'mario': 2738, 'attacked': 338, 'hospital': 2172, 'scores': 3823, 'weakest': 4825, 'spoiled': 4122, 'rental': 3627, 'yesterday': 4983, 'flop': 1760, 'amitabh': 216, 'impress': 2250, 'proved': 3446, 'generations': 1884, 'actresses': 106, 'passion': 3205, 'lacks': 2505, 'illegal': 2229, 'considered': 951, 'contains': 964, 'warren': 4801, 'cooper': 990, 'root': 3737, 'chilling': 794, 'stunt': 4245, 'olivier': 3103, 'existed': 1570, 'clever': 841, 'outcome': 3142, 'jealous': 2388, 'sends': 3876, 'realizes': 3554, 'solve': 4060, 'twists': 4619, 'tension': 4404, 'whilst': 4869, 'campy': 664, 'sleazy': 4023, 'atrocious': 335, 'werewolf': 4850, 'brown': 601, 'transformation': 4560, 'stinker': 4191, 'content': 966, 'lousy': 2667, 'extra': 1606, 'bucks': 606, 'couldve': 1009, 'imitation': 2241, 'remote': 3622, 'channel': 753, 'deserves': 1201, 'energy': 1478, 'stiller': 4189, 'core': 995, 'chances': 748, 'shine': 3931, 'identity': 2217, 'rage': 3505, 'unlike': 4670, 'desire': 1205, 'belief': 451, 'goodness': 1938, 'comics': 895, 'subplots': 4256, 'illogical': 2231, 'sandler': 3781, '2005': 35, 'festival': 1697, '14': 6, 'rank': 3518, 'initial': 2290, 'swedish': 4335, 'descent': 1193, 'grew': 1972, 'area': 286, 'rural': 3758, 'north': 3036, 'kay': 2447, 'decade': 1144, 'andrews': 229, 'kinds': 2478, 'ford': 1789, 'moody': 2899, 'noir': 3023, 'ahead': 159, 'criminals': 1058, 'involvement': 2347, 'gene': 1879, 'joseph': 2419, 'teens': 4392, 'scheme': 3812, 'cold': 872, 'telling': 4396, 'afterwards': 145, 'sell': 3871, 'warned': 4798, 'crappy': 1032, 'overrated': 3156, 'hype': 2207, 'noticed': 3049, 'luckily': 2682, 'gorgeous': 1942, 'busy': 635, 'nasty': 2968, 'anti': 254, 'causes': 725, 'questions': 3489, 'refuses': 3587, 'cops': 993, 'welcome': 4842, 'tie': 4488, 'warning': 4800, 'graphic': 1958, 'appreciated': 280, 'flat': 1748, 'husband': 2204, 'helping': 2081, 'enterprise': 1495, 'achievement': 94, 'helped': 2080, 'jeffrey': 2391, 'string': 4227, 'sequels': 3886, 'tarzan': 4367, 'collection': 874, 'plenty': 3307, 'display': 1291, 'lion': 2614, 'attacks': 339, '75': 57, 'knock': 2488, 'shape': 3919, 'learning': 2552, 'screaming': 3827, 'neil': 2995, 'robin': 3715, 'kicked': 2461, 'amy': 222, 'adams': 112, 'drag': 1342, 'sarah': 3785, 'sub': 4252, 'prequel': 3372, 'unfunny': 4655, 'teacher': 4375, '16': 8, 'horse': 2170, 'japanese': 2382, 'samurai': 3779, 'enemies': 1476, 'lone': 2642, 'seconds': 3848, 'sheer': 3925, 'choreography': 802, 'raped': 3522, 'utter': 4701, 'matrix': 2767, 'anime': 243, 'machines': 2694, 'prove': 3445, 'ups': 4686, 'larry': 2520, 'noble': 3021, 'received': 3564, 'banned': 395, 'ear': 1397, 'madness': 2698, 'bride': 577, 'eva': 1531, 'directs': 1267, 'photos': 3261, 'repeated': 3631, 'restored': 3659, 'european': 1530, 'usa': 4691, 'likewise': 2603, 'minimal': 2855, 'subtitles': 4259, 'nude': 3058, 'pg': 3250, '13': 4, 'countryside': 1015, 'dancing': 1107, 'jerry': 2396, 'astaire': 330, 'generated': 1882, 'frustrated': 1842, 'alice': 182, 'complicated': 925, 'pool': 3327, 'butler': 637, 'jumps': 2432, 'castle': 712, 'painfully': 3172, 'ginger': 1908, 'rogers': 3725, 'tame': 4363, 'georges': 1894, 'secretary': 3850, 'singers': 3994, 'color': 877, 'spirited': 4114, 'upper': 4685, '1930s': 11, 'building': 615, 'homosexual': 2145, 'door': 1328, 'tiny': 4500, 'originality': 3130, 'ludicrous': 2685, 'sticks': 4186, 'opposed': 3122, 'basis': 408, 'basement': 405, 'farm': 1656, 'allowing': 191, 'explained': 1587, 'frequent': 1831, 'breaks': 571, 'weight': 4840, 'dear': 1140, 'unlikely': 4671, 'promise': 3430, 'marie': 2737, 'prime': 3395, 'outfit': 3144, 'khan': 2459, 'kissing': 2484, 'bedroom': 437, 'critic': 1061, 'hitting': 2126, 'stinks': 4192, 'kiss': 2483, 'properly': 3437, 'believing': 457, 'farce': 1654, 'parent': 3187, 'pseudo': 3454, 'wholly': 4874, 'flesh': 1753, 'invisible': 2344, 'adults': 126, 'afford': 138, 'answers': 252, 'devils': 1229, 'ron': 3734, 'emphasis': 1463, 'nights': 3016, 'tommy': 4516, 'depressing': 1188, 'dancers': 1105, 'erotic': 1515, 'selling': 3873, 'offered': 3088, 'dances': 1106, 'couples': 1017, 'insight': 2298, 'attitudes': 347, 'mexico': 2827, 'boys': 559, 'insult': 2309, 'stooges': 4200, 'redeeming': 3577, 'antics': 255, 'folk': 1770, 'passes': 3203, 'cheating': 776, 'grandmother': 1955, 'homeless': 2143, 'serves': 3895, 'stranger': 4213, 'sacrifice': 3766, 'handled': 2019, 'executive': 1567, 'adapted': 114, 'honestly': 2147, 'naked': 2959, 'dust': 1388, 'bits': 490, 'thrill': 4471, 'landscape': 2513, 'changing': 752, 'floating': 1758, 'mighty': 2836, 'kings': 2481, 'strength': 4219, 'giant': 1905, 'arms': 294, 'creature': 1045, 'share': 3920, 'spending': 4106, 'cg': 739, 'draw': 1349, 'thick': 4447, 'sequences': 3888, 'photo': 3257, 'race': 3499, 'effectively': 1430, 'plant': 3293, 'individual': 2277, 'fortunately': 1805, 'tunes': 4603, 'joey': 2408, 'makeup': 2717, 'tune': 4602, 'crash': 1033, 'evident': 1547, 'reminiscent': 3621, 'nightmares': 3015, 'dated': 1119, 'viewed': 4737, 'gun': 1996, 'bed': 436, 'advanced': 128, 'powers': 3361, 'horrific': 2166, 'scientists': 3819, 'painting': 3175, 'spider': 4109, 'purchased': 3470, 'robot': 3717, 'returned': 3666, 'truck': 4595, 'andy': 230, 'hardy': 2037, 'spring': 4134, 'rights': 3697, 'hanks': 2025, 'elvis': 1451, 'sign': 3970, 'blame': 499, 'funnier': 1850, 'willing': 4889, 'inner': 2292, 'alcohol': 176, 'poetic': 3313, 'fix': 1744, 'orange': 3125, 'lessons': 2578, 'industry': 2280, 'identify': 2216, 'batman': 413, 'remembered': 3617, 'cook': 988, 'expressed': 1601, 'suggested': 4281, 'focus': 1766, 'mothers': 2912, 'displayed': 1292, 'walker': 4778, 'amanda': 205, 'occasional': 3074, 'sleeping': 4025, 'aid': 160, 'agreed': 156, 'extras': 1608, 'arrogant': 303, 'centers': 734, 'touched': 4534, 'sappy': 3784, 'committed': 905, 'suicide': 4283, 'ended': 1470, 'investigation': 2343, 'anna': 245, 'genuine': 1891, 'ideal': 2214, 'aging': 153, 'sally': 3776, 'politically': 3325, 'surrounding': 4319, 'definition': 1163, 'lifestyle': 2593, 'randomly': 3515, 'distance': 1294, 'walls': 4783, 'boyfriend': 558, 'daniel': 1111, 'fields': 1705, 'table': 4346, 'equal': 1509, 'letting': 2583, 'mature': 2773, 'improved': 2255, 'included': 2262, 'scope': 3821, 'innovative': 2295, 'tear': 4379, 'sides': 3967, 'recording': 3575, 'angel': 231, 'radio': 3504, 'calm': 655, 'accompanied': 86, 'wins': 4899, 'cusack': 1088, 'traveling': 4568, 'fifteen': 1706, 'blows': 517, 'disagree': 1269, 'jeremy': 2394, 'pays': 3218, 'jobs': 2406, 'access': 83, 'cable': 644, 'concerned': 932, 'stunning': 4244, 'relate': 3593, 'melodrama': 2797, 'teachers': 4376, 'miserable': 2863, 'belongs': 460, 'references': 3583, 'river': 3707, 'butt': 638, 'karloff': 2445, 'passed': 3202, 'relation': 3595, 'program': 3424, 'tracks': 4545, 'styles': 4250, 'heads': 2059, 'gags': 1862, 'basketball': 409, 'spots': 4132, 'exceptionally': 1559, 'express': 1600, 'tragic': 4552, 'stood': 4199, 'hearts': 2066, 'worried': 4949, 'vegas': 4717, 'ridden': 3691, 'franchise': 1817, 'fired': 1735, 'hop': 2154, 'dimensional': 1253, 'supposedly': 4307, 'ad': 110, 'generous': 1886, 'prisoners': 3403, 'embarrassed': 1453, 'twisted': 4618, 'field': 1704, 'proves': 3447, 'beatty': 427, 'fighter': 1708, 'madonna': 2699, 'pacino': 3164, 'ruthless': 3764, 'hoffman': 2128, 'catherine': 719, 'involves': 2348, 'closer': 856, 'sidney': 3968, 'lumet': 2688, 'garbo': 1871, 'anne': 246, 'stands': 4147, 'artificial': 306, 'dating': 1120, 'survive': 4321, 'captivating': 675, 'uninteresting': 4660, 'misses': 2868, '45': 50, 'plane': 3288, 'rip': 3700, 'dentist': 1180, 'deserve': 1199, 'pile': 3275, 'hurts': 2203, 'planning': 3291, 'stanwyck': 4149, 'increasingly': 2268, 'manipulative': 2727, 'morality': 2903, 'blatant': 502, 'happening': 2028, 'flow': 1762, 'craft': 1028, 'wayne': 4821, 'foul': 1810, 'neither': 2996, 'bore': 540, '1970s': 17, 'demand': 1174, 'clint': 850, 'midnight': 2834, 'garden': 1872, 'hits': 2125, 'baseball': 403, 'americas': 215, 'sport': 4129, 'morris': 2908, '1999': 27, 'belong': 459, 'west': 4852, 'texas': 4418, 'blown': 516, 'st': 4137, 'hopeless': 2158, 'losers': 2656, 'bargain': 400, '35': 45, 'miles': 2843, 'per': 3223, 'michelle': 2830, 'wasting': 4810, 'forgettable': 1794, 'represents': 3639, 'rocky': 3723, 'cuba': 1075, 'florida': 1761, 'tree': 4576, 'possibility': 3349, 'behavior': 446, 'drink': 1361, 'water': 4816, 'disgusting': 1286, 'excessive': 1560, 'appalling': 268, 'bands': 392, 'waited': 4771, 'doors': 1329, 'sun': 4292, 'slowly': 4032, 'hatred': 2049, 'mansion': 2731, 'ocean': 3079, 'mountains': 2918, 'breathtaking': 574, 'exists': 1573, 'bruce': 602, 'dreary': 1356, 'winter': 4900, 'slaughter': 4021, 'widow': 4883, 'husbands': 2205, 'soldier': 4053, 'spiritual': 4116, 'vacation': 4704, 'lately': 2524, 'russian': 3762, 'kudos': 2497, 'alfred': 181, 'code': 869, 'wealth': 4826, 'contained': 963, '1950s': 14, 'began': 441, 'worthless': 4954, 'distant': 1295, 'lily': 2605, 'nurse': 3063, 'rotten': 3740, 'african': 142, 'harris': 2038, 'arrived': 301, 'visually': 4758, 'green': 1971, 'ned': 2986, 'carter': 703, 'margaret': 2735, 'higher': 2101, 'tooth': 4524, 'nail': 2957, 'winds': 4895, 'suit': 4284, 'fare': 1655, 'painted': 3174, 'bugs': 613, 'mirror': 2861, 'voices': 4763, 'errors': 1516, 'stretch': 4221, 'nose': 3037, 'technical': 4381, 'figured': 1712, 'purchase': 3469, 'fitting': 1742, 'punishment': 3467, 'bigger': 479, 'understood': 4647, 'shark': 3921, 'killing': 2472, 'larger': 2519, 'prior': 3400, 'lit': 2621, 'boredom': 542, 'warn': 4797, 'seventies': 3904, 'tedious': 4387, 'gangster': 1868, 'gangsters': 1869, 'shed': 3924, 'models': 2881, 'saves': 3796, 'chief': 788, 'attorney': 348, 'network': 3000, 'lips': 2615, 'bath': 411, 'colors': 879, 'pride': 3391, 'anybody': 257, 'constructed': 959, '1980': 20, 'disappeared': 1271, 'library': 2589, 'misery': 2865, 'lie': 2590, 'metal': 2823, 'spielberg': 4110, 'grab': 1949, 'throat': 4476, 'breasts': 572, 'reviewer': 3677, 'loving': 2675, 'staged': 4140, 'guts': 1999, 'iraq': 2351, 'elsewhere': 1449, 'riding': 3695, 'wore': 4939, 'section': 3853, 'catchy': 717, 'circumstances': 822, 'faced': 1617, 'broadway': 592, 'clumsy': 866, 'hart': 2041, 'jaw': 2384, 'occurs': 3078, 'views': 4742, 'nicely': 3009, 'notably': 3042, 'drew': 1360, 'boom': 537, 'urge': 4689, 'sean': 3840, 'blair': 497, 'disturbed': 1299, 'civil': 826, 'serial': 3889, 'killers': 2471, 'stretched': 4222, 'stops': 4203, 'mission': 2870, 'prepared': 3371, 'pair': 3176, 'morgan': 2905, 'broadcast': 591, 'plans': 3292, 'lucy': 2684, 'drugs': 1374, 'suspects': 4328, 'test': 4416, 'feed': 1683, 'nervous': 2999, 'rushed': 3760, 'unconvincing': 4638, 'disbelief': 1277, 'stargate': 4151, 'cheated': 775, 'competent': 917, 'uninspired': 4657, 'hiding': 2099, 'calls': 654, 'spite': 4117, 'beast': 422, 'thousands': 4466, 'stereotype': 4178, 'mindless': 2851, 'attitude': 346, 'bergman': 466, 'horrendous': 2162, 'web': 4833, 'saturday': 3792, 'offering': 3089, 'separate': 3883, 'established': 1524, 'clark': 832, 'union': 4661, 'prince': 3396, 'splendid': 4119, 'exact': 1550, 'arrival': 299, 'raising': 3509, 'royal': 3746, 'citizen': 824, 'wwii': 4975, 'operation': 3117, 'security': 3854, 'survivors': 4325, 'captured': 677, '18': 10, 'signed': 3971, 'hitler': 2124, 'march': 2734, 'colorful': 878, '40': 48, 'caused': 724, 'tradition': 4549, 'susan': 4326, 'wed': 4835, 'survived': 4322, 'woody': 4936, 'annie': 247, 'conceived': 929, 'walken': 4777, 'fame': 1642, 'suited': 4286, 'efforts': 1433, 'popularity': 3334, 'incompetent': 2266, 'requires': 3642, 'lincoln': 2608, 'todd': 4510, 'persona': 3239, 'guard': 1988, 'suck': 4269, 'summary': 4290, 'damage': 1099, 'childrens': 793, 'eastwood': 1409, 'followed': 1773, 'myers': 2952, 'kim': 2475, 'abusive': 75, 'craig': 1030, 'eve': 1532, 'drives': 1367, 'mall': 2720, 'jerk': 2395, 'driver': 1366, 'chased': 770, 'correct': 1000, 'vote': 4766, 'brazil': 568, 'groups': 1981, 'spread': 4133, 'unsettling': 4679, 'convey': 982, 'spoken': 4126, 'text': 4419, 'noise': 3024, 'paid': 3169, 'bold': 528, 'ann': 244, 'anderson': 227, 'accused': 91, 'elegant': 1441, '60': 53, 'widmark': 4882, 'contest': 967, 'buffs': 612, 'aforementioned': 139, 'grant': 1956, 'someones': 4065, 'phony': 3256, 'doctors': 1305, 'corner': 996, 'hood': 2151, 'instantly': 2306, 'younger': 4990, 'scientific': 3817, 'superior': 4300, 'chaos': 755, 'vengeance': 4719, 'judge': 2424, 'ha': 2002, 'technique': 4383, 'bite': 489, 'learned': 2551, 'mountain': 2917, 'buildings': 616, 'improve': 2254, 'transfer': 4559, 'witches': 4910, 'sole': 4055, 'cave': 727, 'huh': 2187, 'mass': 2753, 'cross': 1066, 'bare': 398, 'eastern': 1408, 'attack': 337, 'rabbit': 3498, 'subjects': 4254, 'australia': 356, 'hilariously': 2107, 'burt': 629, 'convoluted': 987, 'streisand': 4218, 'stuck': 4237, 'factory': 1623, 'judy': 2426, 'bacall': 377, 'chasing': 772, 'mail': 2706, 'essential': 1522, 'odds': 3082, 'heston': 2094, 'chuck': 812, 'tomatoes': 4515, 'deals': 1137, 'rule': 3753, 'introduced': 2337, 'ties': 4490, 'angela': 232, 'returning': 3667, 'rick': 3689, 'creator': 1043, 'aware': 368, 'occasionally': 3075, 'complain': 919, 'send': 3875, '1980s': 21, 'category': 718, 'explains': 1589, 'menace': 2806, 'irrelevant': 2358, 'shower': 3957, 'itll': 2369, 'closet': 858, 'ashley': 313, 'emily': 1456, 'rob': 3710, 'porno': 3337, 'nicholson': 3011, 'credit': 1049, 'mini': 2854, 'freak': 1824, 'questionable': 3488, 'benefit': 465, 'fair': 1630, 'scares': 3806, 'liking': 2604, 'halloween': 2010, 'treat': 4572, 'speaks': 4096, 'melting': 2799, 'glorious': 1921, 'robbins': 3712, 'matthau': 2771, 'delivers': 1172, 'kick': 2460, 'donna': 1323, 'hat': 2045, 'murderous': 2942, 'lesbian': 2573, 'cardboard': 682, '20th': 38, 'sam': 3777, 'superficial': 4298, 'eg': 1434, 'tends': 4402, 'hammer': 2014, 'screams': 3828, 'cube': 1076, 'stereotypical': 4180, 'highest': 2102, 'hunters': 2200, 'arrested': 298, '2000': 30, 'escaped': 1518, 'foot': 1781, 'rat': 3525, 'laughably': 2531, 'curse': 1086, 'rolled': 3729, 'appeared': 276, 'inane': 2258, 'apartment': 265, 'attracted': 349, 'portrays': 3344, 'ruby': 3749, 'draws': 1352, 'strikes': 4225, 'newspaper': 3006, 'darker': 1116, 'bleak': 503, 'charismatic': 763, 'interview': 2329, 'wishing': 4907, 'plots': 3310, 'disjointed': 1287, 'shadow': 3912, 'yelling': 4980, 'bound': 553, 'jake': 2377, 'delivery': 1173, 'toy': 4542, 'freddy': 1826, 'neighbor': 2992, 'court': 1020, 'enters': 1496, 'traditional': 4550, 'toilet': 4512, 'inventive': 2341, 'challenging': 744, 'honesty': 2148, 'ticket': 4487, 'justify': 2439, 'fetched': 1698, 'victor': 4731, 'focusing': 1769, 'desperation': 1210, 'tense': 4403, 'depiction': 1185, 'sports': 4130, 'drags': 1345, 'uneven': 4649, 'motivation': 2914, 'incident': 2260, 'virgin': 4749, 'freeman': 1829, 'reflection': 3585, 'forth': 1804, '1996': 26, 'burning': 627, 'reel': 3581, 'areas': 287, 'mental': 2808, 'personality': 3242, 'hong': 2149, 'kong': 2494, 'dislike': 1288, 'understandable': 4644, 'qualities': 3483, 'godfather': 1927, 'iii': 2227, 'cary': 706, 'loosely': 2651, 'pit': 3278, 'rape': 3521, 'pursuit': 3476, 'reunion': 3669, 'comparing': 913, 'montana': 2895, 'downright': 1337, 'niro': 3019, 'elizabeth': 1445, 'manage': 2722, 'ape': 266, 'inappropriate': 2259, 'creatures': 1046, 'speed': 4103, 'dare': 1113, 'robots': 3718, 'mst3k': 2932, 'preview': 3386, 'cell': 730, 'teaching': 4377, 'terrorists': 4414, 'mentally': 2809, 'julie': 2428, 'roberts': 3714, 'possibilities': 3348, 'gabriel': 1859, 'online': 3109, 'trained': 4557, 'domestic': 1318, 'critical': 1062, 'careful': 688, 'grows': 1985, 'intrigue': 2333, 'progresses': 3426, 'resources': 3651, 'decisions': 1152, 'ears': 1402, 'awkward': 374, 'structure': 4233, 'nyc': 3065, 'vivid': 4760, 'trail': 4553, 'martin': 2748, 'jewish': 2401, 'plastic': 3294, 'doll': 1313, 'presentation': 3375, 'consequences': 947, 'stan': 4142, 'laurel': 2537, 'silence': 3974, 'ship': 3934, 'count': 1010, 'lay': 2542, 'confusion': 943, 'hank': 2024, 'sings': 3997, 'princess': 3397, 'grave': 1962, 'ie': 2221, 'boot': 538, 'tad': 4347, 'ray': 3533, 'logic': 2638, 'credible': 1048, 'branagh': 564, 'pages': 3168, 'movements': 2924, 'bother': 548, 'loss': 2659, 'idiots': 2220, 'helicopter': 2076, 'dubbing': 1380, 'stealing': 4171, 'cannibal': 669, 'balls': 390, 'franco': 1820, 'lengthy': 2570, 'notion': 3050, 'atlantis': 332, 'crack': 1027, 'sons': 4073, 'obsessed': 3069, 'grandfather': 1954, 'notable': 3041, 'spirits': 4115, 'messages': 2820, 'flaw': 1749, 'circle': 821, 'page': 3167, 'headed': 2058, 'teach': 4374, 'hint': 2112, 'grow': 1982, 'trade': 4547, 'matters': 2770, 'defined': 1160, 'unit': 4663, 'awake': 365, 'staring': 4152, 'darkness': 1117, 'sum': 4289, 'guilt': 1994, 'defense': 1159, 'delivered': 1170, 'affected': 137, 'bobby': 525, 'gender': 1878, 'method': 2824, 'ninja': 3018, 'scarecrow': 3804, 'thirty': 4456, 'icon': 2211, 'deaf': 1134, 'con': 928, 'horses': 2171, 'recognition': 3568, 'stanley': 4148, 'masses': 2755, 'cameras': 660, 'equipment': 1511, 'remarkably': 3614, 'junk': 2436, 'drawing': 1350, 'marketing': 2741, 'hide': 2097, 'satisfy': 3790, 'valuable': 4708, 'widely': 4881, 'comparison': 914, 'dawson': 1128, 'intent': 2318, 'fascinated': 1657, '2nd': 41, 'chapter': 757, 'monkey': 2890, 'sits': 4006, 'brutally': 604, 'ghosts': 1903, 'monk': 2889, 'strictly': 4223, 'kung': 2498, 'bird': 484, 'load': 2631, 'buddy': 609, 'alongside': 196, 'holly': 2136, 'daily': 1097, 'earl': 1398, 'jay': 2386, 'shake': 3914, 'dawn': 1127, 'beating': 425, 'legendary': 2565, 'poignant': 3315, 'intended': 2315, 'dreadful': 1353, 'depressed': 1187, 'destroying': 1215, 'asks': 319, 'awards': 367, 'germans': 1897, 'flight': 1757, 'community': 908, 'happiness': 2031, 'receives': 3565, 'productions': 3420, 'maria': 2736, 'featuring': 1681, 'proud': 3444, 'sent': 3880, 'nomination': 3026, 'ass': 323, 'cinematographer': 819, 'dan': 1102, 'titanic': 4503, 'rings': 3699, 'previously': 3388, 'murdered': 2940, 'murderer': 2941, '1940s': 13, 'flaws': 1752, 'prevent': 3385, 'rooms': 3736, 'block': 508, 'judging': 2425, 'lust': 2689, 'kane': 2442, 'womans': 4922, 'catches': 715, 'report': 3635, 'claire': 831, 'waters': 4817, 'swimming': 4338, 'kicking': 2462, 'dub': 1378, 'redemption': 3578, 'inferior': 2285, 'neck': 2985, 'cliff': 847, 'copies': 992, 'moore': 2901, 'frequently': 1832, 'embarrassment': 1455, 'receive': 3563, 'hardcore': 2034, 'sadistic': 3768, 'spanish': 4092, 'bull': 619, 'lawyer': 2541, 'danger': 1109, 'conventional': 979, 'synopsis': 4344, 'berlin': 467, 'testament': 4417, 'nazi': 2977, 'capital': 673, 'ruth': 3763, 'intrigued': 2334, 'pretending': 3382, 'lena': 2568, 'nazis': 2978, 'officers': 3093, 'defeat': 1157, 'familys': 1646, 'relatives': 3601, 'remarks': 3615, 'accomplished': 87, 'courage': 1018, 'channels': 754, 'medium': 2792, 'steps': 4177, 'visits': 4756, 'horrifying': 2167, 'theyd': 4443, 'magical': 2704, 'toys': 4543, 'talked': 4359, 'responsibility': 3655, 'martial': 2747, 'arts': 310, 'convincingly': 986, 'buff': 611, 'teenage': 4389, 'ballet': 389, 'louise': 2666, 'advantage': 129, 'object': 3066, 'pal': 3177, 'unseen': 4678, 'bay': 416, 'mechanical': 2788, 'crush': 1072, 'rocket': 3721, 'wacky': 4769, 'disease': 1285, 'acceptable': 81, 'del': 1165, 'simon': 3982, 'lemmon': 2567, 'devil': 1228, 'purely': 3472, 'superhero': 4299, 'incoherent': 2265, 'arnold': 296, 'futuristic': 1857, 'tales': 4357, 'expressions': 1603, 'reaction': 3541, 'bourne': 554, 'giallo': 1904, 'seek': 3858, 'smoke': 4039, 'videos': 4734, '80': 58, 'ignored': 2225, 'tag': 4348, 'spike': 4111, 'steel': 4173, 'temple': 4398, 'leg': 2562, 'kurt': 2499, 'repeatedly': 3632, 'counter': 1011, 'ratings': 3530, 'pretend': 3381, 'der': 1191, 'philosophy': 3254, 'merits': 2817, 'terrorist': 4413, 'instance': 2304, 'cole': 873, 'willis': 4890, 'twelve': 4611, 'airport': 167, 'terrifying': 4410, 'wealthy': 4827, 'grasp': 1960, 'undoubtedly': 4648, 'chest': 784, 'schools': 3814, 'advertising': 132, 'associated': 327, 'nuclear': 3057, 'sounding': 4083, 'hysterical': 2208, '1990': 24, 'lynch': 2691, 'laws': 2540, 'danes': 1108, 'dignity': 1252, 'wished': 4905, 'witnessed': 4915, 'rendition': 3625, 'los': 2653, 'angeles': 233, 'karen': 2444, 'california': 650, 'naturally': 2974, 'overlooked': 3154, 'unpleasant': 4674, 'snow': 4045, 'commented': 900, 'cities': 823, 'primary': 3394, 'chess': 783, 'corpse': 999, 'department': 1182, 'picking': 3267, 'ignorant': 2223, 'serve': 3893, 'september': 3884, 'wilson': 4891, 'goldberg': 1933, 'blond': 510, 'tiger': 4491, 'bible': 477, 'purple': 3473, 'pot': 3354, 'hudson': 2184, 'dorothy': 1330, 'drunken': 1376, 'heaven': 2068, 'nightmare': 3014, 'gift': 1906, 'cake': 648, 'advice': 133, 'inevitable': 2282, 'che': 773, 'revolutionary': 3681, 'arguably': 289, 'backdrop': 379, 'similarities': 3979, 'vague': 4705, 'unforgettable': 4652, 'revealing': 3672, 'hippie': 2115, 'conservative': 948, 'tons': 4520, 'namely': 2962, 'distribution': 1298, 'carrying': 701, '1st': 28, 'akshay': 169, 'thugs': 4484, 'mysteries': 2954, 'realizing': 3555, 'stale': 4141, 'extent': 1605, 'lyrics': 2692, 'domino': 1319, 'duke': 1383, 'nostalgia': 3038, 'suspend': 4329, 'stayed': 4167, 'pointed': 3317, 'airplane': 166, 'unhappy': 4656, 'claims': 830, 'eager': 1396, 'quit': 3494, 'museum': 2945, 'hundreds': 2196, 'link': 2613, 'beings': 449, 'consistent': 953, 'condition': 937, 'mainstream': 2709, 'methods': 2825, 'restaurant': 3658, 'powell': 3358, 'developing': 1224, 'discussion': 1284, 'describes': 1196, 'iron': 2354, 'jet': 2400, 'blade': 495, 'trek': 4578, 'deliberately': 1166, 'notes': 3046, 'construction': 960, 'carol': 693, 'irritating': 2359, 'snl': 4044, 'unpredictable': 4675, 'rubber': 3747, 'spell': 4104, 'scooby': 3820, 'doo': 1325, 'betty': 474, 'mafia': 2700, 'praise': 3364, 'paulie': 3215, 'imagery': 2234, 'pan': 3180, 'bathroom': 412, 'kennedy': 2454, 'roy': 3745, 'wound': 4960, 'wing': 4896, 'roger': 3724, 'offended': 3085, 'estate': 1525, '2003': 33, 'hints': 2113, 'ought': 3138, 'complexity': 924, 'destruction': 1216, 'satan': 3787, 'bela': 450, 'lugosi': 2686, 'loaded': 2632, 'carradine': 695, 'paltrow': 3178, 'cars': 702, 'ridiculously': 3694, 'daddy': 1096, 'abysmal': 76, 'household': 2179, 'scripted': 3835, 'brosnan': 597, 'polished': 3323, 'documentaries': 1306, 'elm': 1447, 'essence': 1521, 'education': 1424, 'godzilla': 1929, 'homer': 2144, 'reed': 3580, 'fbi': 1675, 'sink': 3999, 'useless': 4695, 'shall': 3916, 'menacing': 2807, 'pushed': 3478, 'performed': 3230, 'ken': 2453, 'dire': 1257, 'improvement': 2256, 'target': 4366, 'polanski': 3321, 'performs': 3234, 'winters': 4901, 'religion': 3607, 'unreal': 4676, 'sentence': 3881, 'agrees': 157, 'command': 897, '1990s': 25, 'everyones': 1543, 'turner': 4607, 'greedy': 1969, 'combine': 884, 'directions': 1262, 'handle': 2018, 'fred': 1825, 'involve': 2345, 'despair': 1207, 'priest': 3392, 'suspenseful': 4331, 'ham': 2011, 'unoriginal': 4673, 'wake': 4774, 'nicholas': 3010, 'sneak': 4043, '1968': 16, 'universe': 4666, 'dean': 1139, 'richards': 3687, 'shelley': 3928, 'warrior': 4802, 'meat': 2787, 'rangers': 3517, 'substance': 4258, 'beach': 419, 'commit': 904, 'host': 2173, 'dave': 1123, 'moronic': 2907, 'sixties': 4011, '1972': 18, 'sandra': 3782, 'cameron': 661, 'centered': 733, 'pig': 3274, 'earned': 1401, 'tiresome': 4502, 'account': 89, 'struggles': 4235, 'bush': 632, 'briefly': 580, 'scottish': 3825, 'edgar': 1417, 'card': 681, 'slightest': 4028, 'waves': 4819, 'voight': 4764, 'ambitious': 211, 'neighbors': 2994, 'equivalent': 1512, 'modesty': 2883, 'leslie': 2574, 'inspiring': 2302, 'kelly': 2452, 'swim': 4337, 'searching': 3842, '2004': 34, 'confidence': 938, 'masterpieces': 2760, 'classical': 836, 'climactic': 848, 'nuts': 3064, 'chicks': 787, 'greed': 1968, 'borrowed': 545, 'businessman': 634, 'abc': 63, 'sue': 4274, 'vice': 4727, '3000': 43, 'mistakes': 2873, 'whereas': 4865, 'phantom': 3251, 'retarded': 3663, 'corruption': 1002, 'narration': 2965, 'topless': 4527, 'juvenile': 2441, 'journalist': 2420, 'soccer': 4048, 'june': 2433, 'trapped': 4564, 'dozens': 1339, 'definite': 1161, 'claimed': 829, 'producing': 3417, 'interpretation': 2328, 'ho': 2127, 'appearing': 277, 'jonathan': 2417, 'seeks': 3860, 'edie': 1419, 'proceeds': 3411, 'overacting': 3149, 'alas': 172, 'concerning': 933, 'legs': 2566, 'shoots': 3944, 'enjoys': 1489, 'legal': 2563, 'purposes': 3475, 'blob': 507, 'falk': 1636, 'parties': 3196, 'spain': 4091, 'fury': 1855, 'snake': 4042, 'narrator': 2967, 'exceptional': 1558, 'pops': 3332, 'resort': 3650, 'succeeded': 4263, 'mile': 2842, 'dinosaur': 1255, 'rex': 3683, '70': 55, 'spooky': 4128, 'wonders': 4931, 'defend': 1158, 'resemblance': 3645, 'exercise': 1568, 'colour': 880, 'devoted': 1231, '2002': 32, 'vicious': 4728, 'seed': 3856, 'empathy': 1462, 'square': 4136, 'soviet': 4089, 'flies': 1756, 'disc': 1278, 'bang': 393, 'suspicious': 4332, 'cinderella': 815, 'showdown': 3955, 'taxi': 4371, 'marty': 2749, 'pants': 3182, 'gray': 1963, 'website': 4834, 'petty': 3249, 'kapoor': 2443, 'wandering': 4785, 'wallace': 4782, 'subtlety': 4261, 'doom': 1326, 'serving': 3897, 'creativity': 1042, 'catching': 716, 'precious': 3366, 'valley': 4707, 'limits': 2607, 'newly': 3004, 'goal': 1925, 'outer': 3143, 'scrooge': 3837, 'dickens': 1240, 'explosion': 1596, 'dolph': 1317, 'uwe': 4703, 'alternate': 200, 'endure': 1475, 'bettie': 473, 'babe': 375, 'brooklyn': 595, 'bat': 410, 'financial': 1725, 'blacks': 494, 'hung': 2197, 'wave': 4818, 'incomprehensible': 2267, 'korean': 2495, 'instinct': 2308, 'designs': 1204, 'crude': 1069, 'intentionally': 2320, 'abraham': 69, 'sinatra': 3989, 'kingdom': 2480, 'broad': 590, 'popcorn': 3331, 'viewings': 4741, 'glover': 1923, 'waitress': 4773, 'clown': 862, 'blah': 496, 'mummy': 2937, 'mistress': 2874, 'surfing': 4311, 'pregnant': 3369, 'mann': 2728, 'staying': 4168, 'depicts': 1186, 'contrary': 974, 'logical': 2639, 'pamela': 3179, 'dinosaurs': 1256, 'screens': 3832, 'crocodile': 1065, 'brady': 561, 'ramones': 3512, 'blake': 498, 'secondly': 3847, 'damon': 1101, 'psychic': 3456, 'gerard': 1895, 'boll': 529, 'heights': 2073, 'mars': 2746, 'adorable': 124, 'riveting': 3708, 'advance': 127, 'enthusiasm': 1501, 'ethan': 1528, 'jenny': 2393, 'columbo': 881, 'wendy': 4846, 'pokemon': 3320, 'miike': 2837, 'stones': 4198, 'desired': 1206, 'rap': 3520, 'communist': 907, 'omen': 3104, 'gandhi': 1866, 'mildred': 2841, 'bo': 521, 'jaws': 2385, 'elvira': 1450, 'kirk': 2482, 'gundam': 1997, 'gadget': 1860, 'streep': 4215}\n"
     ]
    }
   ],
   "source": [
    "print(str(vocabulary))"
   ]
  },
  {
   "cell_type": "markdown",
   "metadata": {},
   "source": [
    "Once you have added the endpoint name to the Lambda function, click on **Save**. Your Lambda function is now up and running. Next we need to create a way for our web app to execute the Lambda function."
   ]
  },
  {
   "cell_type": "markdown",
   "metadata": {},
   "source": [
    "### Setting up API Gateway\n",
    "\n",
    "Now that our Lambda function is set up, it is time to create a new API using API Gateway that will trigger the Lambda function we have just created.\n",
    "\n",
    "Using AWS Console, navigate to **Amazon API Gateway** and then click on **Get started**.\n",
    "\n",
    "On the next page, make sure that **New API** is selected and give the new api a name, for example, `sentiment_analysis_web_app`. Then, click on **Create API**.\n",
    "\n",
    "Now we have created an API, however it doesn't currently do anything. What we want it to do is to trigger the Lambda function that we created earlier.\n",
    "\n",
    "Select the **Actions** dropdown menu and click **Create Method**. A new blank method will be created, select its dropdown menu and select **POST**, then click on the check mark beside it.\n",
    "\n",
    "For the integration point, make sure that **Lambda Function** is selected and click on the **Use Lambda Proxy integration**. This option makes sure that the data that is sent to the API is then sent directly to the Lambda function with no processing. It also means that the return value must be a proper response object as it will also not be processed by API Gateway.\n",
    "\n",
    "Type the name of the Lambda function you created earlier into the **Lambda Function** text entry box and then click on **Save**. Click on **OK** in the pop-up box that then appears, giving permission to API Gateway to invoke the Lambda function you created.\n",
    "\n",
    "The last step in creating the API Gateway is to select the **Actions** dropdown and click on **Deploy API**. You will need to create a new Deployment stage and name it anything you like, for example `prod`.\n",
    "\n",
    "You have now successfully set up a public API to access your SageMaker model. Make sure to copy or write down the URL provided to invoke your newly created public API as this will be needed in the next step. This URL can be found at the top of the page, highlighted in blue next to the text **Invoke URL**."
   ]
  },
  {
   "cell_type": "markdown",
   "metadata": {},
   "source": [
    "## Step 7: Deploying our web app\n",
    "\n",
    "Now that we have a publicly available API, we can start using it in a web app. For our purposes, we have provided a simple static html file which can make use of the public api you created earlier.\n",
    "\n",
    "In the `website` folder there should be a file called `index.html`. Download the file to your computer and open that file up in a text editor of your choice. There should be a line which contains **\\*\\*REPLACE WITH PUBLIC API URL\\*\\***. Replace this string with the url that you wrote down in the last step and then save the file.\n",
    "\n",
    "Now, if you open `index.html` on your local computer, your browser will behave as a local web server and you can use the provided site to interact with your SageMaker model.\n",
    "\n",
    "If you'd like to go further, you can host this html file anywhere you'd like, for example using github or hosting a static site on Amazon's S3. Once you have done this you can share the link with anyone you'd like and have them play with it too!\n",
    "\n",
    "> **Important Note** In order for the web app to communicate with the SageMaker endpoint, the endpoint has to actually be deployed and running. This means that you are paying for it. Make sure that the endpoint is running when you want to use the web app but that you shut it down when you don't need it, otherwise you will end up with a surprisingly large AWS bill."
   ]
  },
  {
   "cell_type": "markdown",
   "metadata": {},
   "source": [
    "### Delete the endpoint\n",
    "\n",
    "Remember to always shut down your endpoint if you are no longer using it. You are charged for the length of time that the endpoint is running so if you forget and leave it on you could end up with an unexpectedly large bill."
   ]
  },
  {
   "cell_type": "code",
   "execution_count": 61,
   "metadata": {},
   "outputs": [],
   "source": [
    "xgb_predictor.delete_endpoint()"
   ]
  },
  {
   "cell_type": "markdown",
   "metadata": {},
   "source": [
    "## Optional: Clean up\n",
    "\n",
    "The default notebook instance on SageMaker doesn't have a lot of excess disk space available. As you continue to complete and execute notebooks you will eventually fill up this disk space, leading to errors which can be difficult to diagnose. Once you are completely finished using a notebook it is a good idea to remove the files that you created along the way. Of course, you can do this from the terminal or from the notebook hub if you would like. The cell below contains some commands to clean up the created files from within the notebook."
   ]
  },
  {
   "cell_type": "code",
   "execution_count": null,
   "metadata": {},
   "outputs": [],
   "source": [
    "# # First we will remove all of the files contained in the data_dir directory\n",
    "# !rm $data_dir/*\n",
    "\n",
    "# # And then we delete the directory itself\n",
    "# !rmdir $data_dir\n",
    "\n",
    "# # Similarly we remove the files in the cache_dir directory and the directory itself\n",
    "# !rm $cache_dir/*\n",
    "# !rmdir $cache_dir"
   ]
  },
  {
   "cell_type": "code",
   "execution_count": null,
   "metadata": {},
   "outputs": [],
   "source": []
  }
 ],
 "metadata": {
  "kernelspec": {
   "display_name": "conda_python3",
   "language": "python",
   "name": "conda_python3"
  },
  "language_info": {
   "codemirror_mode": {
    "name": "ipython",
    "version": 3
   },
   "file_extension": ".py",
   "mimetype": "text/x-python",
   "name": "python",
   "nbconvert_exporter": "python",
   "pygments_lexer": "ipython3",
   "version": "3.6.5"
  }
 },
 "nbformat": 4,
 "nbformat_minor": 2
}
